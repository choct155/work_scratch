{
 "cells": [
  {
   "cell_type": "code",
   "execution_count": 1,
   "metadata": {
    "collapsed": true
   },
   "outputs": [],
   "source": [
    "import numpy as np"
   ]
  },
  {
   "cell_type": "code",
   "execution_count": 16,
   "metadata": {
    "collapsed": false
   },
   "outputs": [
    {
     "name": "stdout",
     "output_type": "stream",
     "text": [
      "Reported Receipt: [1 0 0 0 1 1 1 1 1 0]\n",
      "Record Weights: [20 10 20 10 40 10 20 10 20 30]\n",
      "Nonreporter Index Positions: [1 2 3 9]\n",
      "Weights for Nonreporters: [10 20 10 30]\n",
      "Available Nonreporters: 70\n"
     ]
    }
   ],
   "source": [
    "n=10\n",
    "rec_on=np.random.choice(range(2),size=n)\n",
    "print 'Reported Receipt:',rec_on\n",
    "wt_vec=np.random.choice(range(10,50,10),size=n)\n",
    "print 'Record Weights:',wt_vec\n",
    "nonreporters=np.where(rec_on==0)[0]\n",
    "print 'Nonreporter Index Positions:',nonreporters\n",
    "nonreport_wt_idx=wt_vec[nonreporters]\n",
    "print 'Weights for Nonreporters:',nonreport_wt_idx\n",
    "nonreport_wt_total=nonreport_wt_idx.sum()\n",
    "print 'Available Nonreporters:',nonreport_wt_total"
   ]
  },
  {
   "cell_type": "code",
   "execution_count": 21,
   "metadata": {
    "collapsed": false
   },
   "outputs": [
    {
     "name": "stdout",
     "output_type": "stream",
     "text": [
      "Probabilities: [ 0.78750619  0.02538175  0.90203537  0.98196224  0.13336203  0.87036828\n",
      "  0.68846067  0.78277973  0.30445086  0.30383692]\n"
     ]
    },
    {
     "data": {
      "text/plain": [
       "array([ 1.78750619,  1.02538175,  1.90203537,  1.98196224,  1.13336203,\n",
       "        1.87036828,  1.68846067,  1.78277973,  1.30445086,  1.30383692])"
      ]
     },
     "execution_count": 21,
     "metadata": {},
     "output_type": "execute_result"
    }
   ],
   "source": [
    "prob=np.random.uniform(size=n)\n",
    "print 'Probabilities:',prob\n",
    "prob+=1\n",
    "prob"
   ]
  }
 ],
 "metadata": {
  "kernelspec": {
   "display_name": "Python 2",
   "language": "python",
   "name": "python2"
  },
  "language_info": {
   "codemirror_mode": {
    "name": "ipython",
    "version": 2
   },
   "file_extension": ".py",
   "mimetype": "text/x-python",
   "name": "python",
   "nbconvert_exporter": "python",
   "pygments_lexer": "ipython2",
   "version": "2.7.11"
  }
 },
 "nbformat": 4,
 "nbformat_minor": 0
}
