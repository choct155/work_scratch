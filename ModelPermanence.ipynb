{
 "cells": [
  {
   "cell_type": "markdown",
   "metadata": {},
   "source": [
    "# How Can One Save an Instance of an Estimator?"
   ]
  },
  {
   "cell_type": "markdown",
   "metadata": {},
   "source": [
    "I have a situation in which I want to use an estimator that has been fit in an original Notebook to predict new values given data in a new Notebook.  The question is, can I save a specific model instance to be read in elsewhere?  This Notebook will run a basic regression on simulated data.  We will then attempt to write the model to disk, read back in, and use it to predict outcomes on new data."
   ]
  },
  {
   "cell_type": "code",
   "execution_count": 1,
   "metadata": {
    "collapsed": false
   },
   "outputs": [],
   "source": [
    "#Basic data manipulation\n",
    "import numpy as np\n",
    "import pandas as pd\n",
    "from pandas import Series, DataFrame\n",
    "\n",
    "#Estimating methods\n",
    "import statsmodels.formula.api as smf\n",
    "from statsmodels.api import add_constant\n",
    "\n",
    "#Serialization\n",
    "import pickle"
   ]
  },
  {
   "cell_type": "markdown",
   "metadata": {},
   "source": [
    "## Simulation of Input Data"
   ]
  },
  {
   "cell_type": "markdown",
   "metadata": {},
   "source": [
    "We are going to follow a very basic model:\n",
    "\n",
    "$Y = X_1 + 2X_2 + \\epsilon$"
   ]
  },
  {
   "cell_type": "code",
   "execution_count": 2,
   "metadata": {
    "collapsed": false,
    "scrolled": true
   },
   "outputs": [
    {
     "data": {
      "text/html": [
       "<div>\n",
       "<table border=\"1\" class=\"dataframe\">\n",
       "  <thead>\n",
       "    <tr style=\"text-align: right;\">\n",
       "      <th></th>\n",
       "      <th>x1</th>\n",
       "      <th>x2</th>\n",
       "      <th>y</th>\n",
       "    </tr>\n",
       "  </thead>\n",
       "  <tbody>\n",
       "    <tr>\n",
       "      <th>0</th>\n",
       "      <td>6.426795</td>\n",
       "      <td>18.526146</td>\n",
       "      <td>46.194408</td>\n",
       "    </tr>\n",
       "    <tr>\n",
       "      <th>1</th>\n",
       "      <td>9.970794</td>\n",
       "      <td>4.286937</td>\n",
       "      <td>21.371893</td>\n",
       "    </tr>\n",
       "    <tr>\n",
       "      <th>2</th>\n",
       "      <td>13.526982</td>\n",
       "      <td>16.869215</td>\n",
       "      <td>49.199389</td>\n",
       "    </tr>\n",
       "    <tr>\n",
       "      <th>3</th>\n",
       "      <td>14.124276</td>\n",
       "      <td>3.378121</td>\n",
       "      <td>22.956715</td>\n",
       "    </tr>\n",
       "    <tr>\n",
       "      <th>4</th>\n",
       "      <td>12.372136</td>\n",
       "      <td>4.677349</td>\n",
       "      <td>23.956064</td>\n",
       "    </tr>\n",
       "    <tr>\n",
       "      <th>5</th>\n",
       "      <td>11.513103</td>\n",
       "      <td>18.378873</td>\n",
       "      <td>50.134025</td>\n",
       "    </tr>\n",
       "    <tr>\n",
       "      <th>6</th>\n",
       "      <td>12.725635</td>\n",
       "      <td>17.346911</td>\n",
       "      <td>50.298347</td>\n",
       "    </tr>\n",
       "    <tr>\n",
       "      <th>7</th>\n",
       "      <td>5.826384</td>\n",
       "      <td>19.403542</td>\n",
       "      <td>46.016669</td>\n",
       "    </tr>\n",
       "    <tr>\n",
       "      <th>8</th>\n",
       "      <td>15.655518</td>\n",
       "      <td>4.671959</td>\n",
       "      <td>27.916892</td>\n",
       "    </tr>\n",
       "    <tr>\n",
       "      <th>9</th>\n",
       "      <td>12.905911</td>\n",
       "      <td>4.872422</td>\n",
       "      <td>23.686621</td>\n",
       "    </tr>\n",
       "    <tr>\n",
       "      <th>10</th>\n",
       "      <td>16.411226</td>\n",
       "      <td>18.737968</td>\n",
       "      <td>55.998864</td>\n",
       "    </tr>\n",
       "    <tr>\n",
       "      <th>11</th>\n",
       "      <td>18.570406</td>\n",
       "      <td>12.822803</td>\n",
       "      <td>47.095057</td>\n",
       "    </tr>\n",
       "    <tr>\n",
       "      <th>12</th>\n",
       "      <td>9.652798</td>\n",
       "      <td>11.700612</td>\n",
       "      <td>34.157909</td>\n",
       "    </tr>\n",
       "    <tr>\n",
       "      <th>13</th>\n",
       "      <td>13.288340</td>\n",
       "      <td>13.773164</td>\n",
       "      <td>43.580165</td>\n",
       "    </tr>\n",
       "    <tr>\n",
       "      <th>14</th>\n",
       "      <td>10.554368</td>\n",
       "      <td>6.147947</td>\n",
       "      <td>25.412549</td>\n",
       "    </tr>\n",
       "    <tr>\n",
       "      <th>15</th>\n",
       "      <td>6.934178</td>\n",
       "      <td>12.624231</td>\n",
       "      <td>34.236559</td>\n",
       "    </tr>\n",
       "    <tr>\n",
       "      <th>16</th>\n",
       "      <td>7.882767</td>\n",
       "      <td>5.904922</td>\n",
       "      <td>21.086475</td>\n",
       "    </tr>\n",
       "    <tr>\n",
       "      <th>17</th>\n",
       "      <td>3.340357</td>\n",
       "      <td>2.521869</td>\n",
       "      <td>10.380687</td>\n",
       "    </tr>\n",
       "    <tr>\n",
       "      <th>18</th>\n",
       "      <td>14.693494</td>\n",
       "      <td>11.078815</td>\n",
       "      <td>39.370206</td>\n",
       "    </tr>\n",
       "    <tr>\n",
       "      <th>19</th>\n",
       "      <td>11.839433</td>\n",
       "      <td>8.349782</td>\n",
       "      <td>30.961941</td>\n",
       "    </tr>\n",
       "    <tr>\n",
       "      <th>20</th>\n",
       "      <td>3.953992</td>\n",
       "      <td>16.063389</td>\n",
       "      <td>37.998513</td>\n",
       "    </tr>\n",
       "    <tr>\n",
       "      <th>21</th>\n",
       "      <td>19.289700</td>\n",
       "      <td>9.623195</td>\n",
       "      <td>39.671915</td>\n",
       "    </tr>\n",
       "    <tr>\n",
       "      <th>22</th>\n",
       "      <td>16.657834</td>\n",
       "      <td>13.146199</td>\n",
       "      <td>44.828325</td>\n",
       "    </tr>\n",
       "    <tr>\n",
       "      <th>23</th>\n",
       "      <td>8.063764</td>\n",
       "      <td>18.399531</td>\n",
       "      <td>46.235150</td>\n",
       "    </tr>\n",
       "    <tr>\n",
       "      <th>24</th>\n",
       "      <td>17.485101</td>\n",
       "      <td>14.662168</td>\n",
       "      <td>49.363787</td>\n",
       "    </tr>\n",
       "    <tr>\n",
       "      <th>25</th>\n",
       "      <td>8.691009</td>\n",
       "      <td>11.728096</td>\n",
       "      <td>33.919776</td>\n",
       "    </tr>\n",
       "    <tr>\n",
       "      <th>26</th>\n",
       "      <td>18.944746</td>\n",
       "      <td>19.253046</td>\n",
       "      <td>58.756757</td>\n",
       "    </tr>\n",
       "    <tr>\n",
       "      <th>27</th>\n",
       "      <td>12.850884</td>\n",
       "      <td>16.426181</td>\n",
       "      <td>46.893808</td>\n",
       "    </tr>\n",
       "    <tr>\n",
       "      <th>28</th>\n",
       "      <td>12.499511</td>\n",
       "      <td>15.795492</td>\n",
       "      <td>46.799109</td>\n",
       "    </tr>\n",
       "    <tr>\n",
       "      <th>29</th>\n",
       "      <td>17.631550</td>\n",
       "      <td>14.218182</td>\n",
       "      <td>48.010509</td>\n",
       "    </tr>\n",
       "    <tr>\n",
       "      <th>30</th>\n",
       "      <td>3.513061</td>\n",
       "      <td>16.221370</td>\n",
       "      <td>37.796743</td>\n",
       "    </tr>\n",
       "    <tr>\n",
       "      <th>31</th>\n",
       "      <td>9.682032</td>\n",
       "      <td>1.380033</td>\n",
       "      <td>14.095993</td>\n",
       "    </tr>\n",
       "    <tr>\n",
       "      <th>32</th>\n",
       "      <td>17.901363</td>\n",
       "      <td>3.124427</td>\n",
       "      <td>26.602088</td>\n",
       "    </tr>\n",
       "    <tr>\n",
       "      <th>33</th>\n",
       "      <td>18.549425</td>\n",
       "      <td>17.263591</td>\n",
       "      <td>54.342300</td>\n",
       "    </tr>\n",
       "    <tr>\n",
       "      <th>34</th>\n",
       "      <td>5.302248</td>\n",
       "      <td>14.433008</td>\n",
       "      <td>35.808796</td>\n",
       "    </tr>\n",
       "    <tr>\n",
       "      <th>35</th>\n",
       "      <td>13.137782</td>\n",
       "      <td>12.403774</td>\n",
       "      <td>39.997724</td>\n",
       "    </tr>\n",
       "    <tr>\n",
       "      <th>36</th>\n",
       "      <td>18.144110</td>\n",
       "      <td>4.509511</td>\n",
       "      <td>28.303294</td>\n",
       "    </tr>\n",
       "    <tr>\n",
       "      <th>37</th>\n",
       "      <td>4.512907</td>\n",
       "      <td>5.486361</td>\n",
       "      <td>17.610339</td>\n",
       "    </tr>\n",
       "    <tr>\n",
       "      <th>38</th>\n",
       "      <td>1.503795</td>\n",
       "      <td>3.140594</td>\n",
       "      <td>10.632418</td>\n",
       "    </tr>\n",
       "    <tr>\n",
       "      <th>39</th>\n",
       "      <td>6.148150</td>\n",
       "      <td>10.088093</td>\n",
       "      <td>27.920652</td>\n",
       "    </tr>\n",
       "    <tr>\n",
       "      <th>40</th>\n",
       "      <td>14.247136</td>\n",
       "      <td>7.946875</td>\n",
       "      <td>33.068334</td>\n",
       "    </tr>\n",
       "    <tr>\n",
       "      <th>41</th>\n",
       "      <td>14.405008</td>\n",
       "      <td>15.336260</td>\n",
       "      <td>47.236614</td>\n",
       "    </tr>\n",
       "    <tr>\n",
       "      <th>42</th>\n",
       "      <td>7.448998</td>\n",
       "      <td>18.664673</td>\n",
       "      <td>46.102185</td>\n",
       "    </tr>\n",
       "    <tr>\n",
       "      <th>43</th>\n",
       "      <td>6.215899</td>\n",
       "      <td>18.922888</td>\n",
       "      <td>46.375742</td>\n",
       "    </tr>\n",
       "    <tr>\n",
       "      <th>44</th>\n",
       "      <td>16.047995</td>\n",
       "      <td>8.112911</td>\n",
       "      <td>34.452299</td>\n",
       "    </tr>\n",
       "    <tr>\n",
       "      <th>45</th>\n",
       "      <td>18.711973</td>\n",
       "      <td>16.316401</td>\n",
       "      <td>52.430934</td>\n",
       "    </tr>\n",
       "    <tr>\n",
       "      <th>46</th>\n",
       "      <td>13.386209</td>\n",
       "      <td>8.986719</td>\n",
       "      <td>32.543046</td>\n",
       "    </tr>\n",
       "    <tr>\n",
       "      <th>47</th>\n",
       "      <td>6.127120</td>\n",
       "      <td>1.502137</td>\n",
       "      <td>10.392084</td>\n",
       "    </tr>\n",
       "    <tr>\n",
       "      <th>48</th>\n",
       "      <td>17.130782</td>\n",
       "      <td>19.369714</td>\n",
       "      <td>57.833930</td>\n",
       "    </tr>\n",
       "    <tr>\n",
       "      <th>49</th>\n",
       "      <td>1.861396</td>\n",
       "      <td>1.452410</td>\n",
       "      <td>7.665192</td>\n",
       "    </tr>\n",
       "  </tbody>\n",
       "</table>\n",
       "</div>"
      ],
      "text/plain": [
       "           x1         x2          y\n",
       "0    6.426795  18.526146  46.194408\n",
       "1    9.970794   4.286937  21.371893\n",
       "2   13.526982  16.869215  49.199389\n",
       "3   14.124276   3.378121  22.956715\n",
       "4   12.372136   4.677349  23.956064\n",
       "5   11.513103  18.378873  50.134025\n",
       "6   12.725635  17.346911  50.298347\n",
       "7    5.826384  19.403542  46.016669\n",
       "8   15.655518   4.671959  27.916892\n",
       "9   12.905911   4.872422  23.686621\n",
       "10  16.411226  18.737968  55.998864\n",
       "11  18.570406  12.822803  47.095057\n",
       "12   9.652798  11.700612  34.157909\n",
       "13  13.288340  13.773164  43.580165\n",
       "14  10.554368   6.147947  25.412549\n",
       "15   6.934178  12.624231  34.236559\n",
       "16   7.882767   5.904922  21.086475\n",
       "17   3.340357   2.521869  10.380687\n",
       "18  14.693494  11.078815  39.370206\n",
       "19  11.839433   8.349782  30.961941\n",
       "20   3.953992  16.063389  37.998513\n",
       "21  19.289700   9.623195  39.671915\n",
       "22  16.657834  13.146199  44.828325\n",
       "23   8.063764  18.399531  46.235150\n",
       "24  17.485101  14.662168  49.363787\n",
       "25   8.691009  11.728096  33.919776\n",
       "26  18.944746  19.253046  58.756757\n",
       "27  12.850884  16.426181  46.893808\n",
       "28  12.499511  15.795492  46.799109\n",
       "29  17.631550  14.218182  48.010509\n",
       "30   3.513061  16.221370  37.796743\n",
       "31   9.682032   1.380033  14.095993\n",
       "32  17.901363   3.124427  26.602088\n",
       "33  18.549425  17.263591  54.342300\n",
       "34   5.302248  14.433008  35.808796\n",
       "35  13.137782  12.403774  39.997724\n",
       "36  18.144110   4.509511  28.303294\n",
       "37   4.512907   5.486361  17.610339\n",
       "38   1.503795   3.140594  10.632418\n",
       "39   6.148150  10.088093  27.920652\n",
       "40  14.247136   7.946875  33.068334\n",
       "41  14.405008  15.336260  47.236614\n",
       "42   7.448998  18.664673  46.102185\n",
       "43   6.215899  18.922888  46.375742\n",
       "44  16.047995   8.112911  34.452299\n",
       "45  18.711973  16.316401  52.430934\n",
       "46  13.386209   8.986719  32.543046\n",
       "47   6.127120   1.502137  10.392084\n",
       "48  17.130782  19.369714  57.833930\n",
       "49   1.861396   1.452410   7.665192"
      ]
     },
     "execution_count": 2,
     "metadata": {},
     "output_type": "execute_result"
    }
   ],
   "source": [
    "#Generate random vectors for regressors\n",
    "x1,x2=(np.random.uniform(20,size=50),np.random.uniform(20,size=50))\n",
    "\n",
    "#Generate dependent variable\n",
    "y=x1 + 2*x2 + [np.random.uniform(3) for val in range(len(x1))]\n",
    "\n",
    "#Capture data in DF\n",
    "data=DataFrame({'y':y,\n",
    "                'x1':x1,\n",
    "                'x2':x2})\n",
    "\n",
    "data"
   ]
  },
  {
   "cell_type": "markdown",
   "metadata": {},
   "source": [
    "## Estimation of the Model"
   ]
  },
  {
   "cell_type": "markdown",
   "metadata": {},
   "source": [
    "We are just going to fit a standard OLS estimator..."
   ]
  },
  {
   "cell_type": "code",
   "execution_count": 3,
   "metadata": {
    "collapsed": false
   },
   "outputs": [
    {
     "data": {
      "text/html": [
       "<table class=\"simpletable\">\n",
       "<caption>OLS Regression Results</caption>\n",
       "<tr>\n",
       "  <th>Dep. Variable:</th>            <td>y</td>        <th>  R-squared:         </th> <td>   0.998</td> \n",
       "</tr>\n",
       "<tr>\n",
       "  <th>Model:</th>                   <td>OLS</td>       <th>  Adj. R-squared:    </th> <td>   0.998</td> \n",
       "</tr>\n",
       "<tr>\n",
       "  <th>Method:</th>             <td>Least Squares</td>  <th>  F-statistic:       </th> <td>1.232e+04</td>\n",
       "</tr>\n",
       "<tr>\n",
       "  <th>Date:</th>             <td>Fri, 26 Feb 2016</td> <th>  Prob (F-statistic):</th> <td>1.17e-64</td> \n",
       "</tr>\n",
       "<tr>\n",
       "  <th>Time:</th>                 <td>20:15:31</td>     <th>  Log-Likelihood:    </th> <td> -44.204</td> \n",
       "</tr>\n",
       "<tr>\n",
       "  <th>No. Observations:</th>      <td>    50</td>      <th>  AIC:               </th> <td>   94.41</td> \n",
       "</tr>\n",
       "<tr>\n",
       "  <th>Df Residuals:</th>          <td>    47</td>      <th>  BIC:               </th> <td>   100.1</td> \n",
       "</tr>\n",
       "<tr>\n",
       "  <th>Df Model:</th>              <td>     2</td>      <th>                     </th>     <td> </td>    \n",
       "</tr>\n",
       "<tr>\n",
       "  <th>Covariance Type:</th>      <td>nonrobust</td>    <th>                     </th>     <td> </td>    \n",
       "</tr>\n",
       "</table>\n",
       "<table class=\"simpletable\">\n",
       "<tr>\n",
       "      <td></td>         <th>coef</th>     <th>std err</th>      <th>t</th>      <th>P>|t|</th> <th>[95.0% Conf. Int.]</th> \n",
       "</tr>\n",
       "<tr>\n",
       "  <th>Intercept</th> <td>    2.2185</td> <td>    0.252</td> <td>    8.789</td> <td> 0.000</td> <td>    1.711     2.726</td>\n",
       "</tr>\n",
       "<tr>\n",
       "  <th>x1</th>        <td>    0.9950</td> <td>    0.017</td> <td>   58.379</td> <td> 0.000</td> <td>    0.961     1.029</td>\n",
       "</tr>\n",
       "<tr>\n",
       "  <th>x2</th>        <td>    1.9848</td> <td>    0.015</td> <td>  134.216</td> <td> 0.000</td> <td>    1.955     2.015</td>\n",
       "</tr>\n",
       "</table>\n",
       "<table class=\"simpletable\">\n",
       "<tr>\n",
       "  <th>Omnibus:</th>       <td> 9.250</td> <th>  Durbin-Watson:     </th> <td>   2.216</td>\n",
       "</tr>\n",
       "<tr>\n",
       "  <th>Prob(Omnibus):</th> <td> 0.010</td> <th>  Jarque-Bera (JB):  </th> <td>   2.707</td>\n",
       "</tr>\n",
       "<tr>\n",
       "  <th>Skew:</th>          <td>-0.024</td> <th>  Prob(JB):          </th> <td>   0.258</td>\n",
       "</tr>\n",
       "<tr>\n",
       "  <th>Kurtosis:</th>      <td> 1.861</td> <th>  Cond. No.          </th> <td>    51.2</td>\n",
       "</tr>\n",
       "</table>"
      ],
      "text/plain": [
       "<class 'statsmodels.iolib.summary.Summary'>\n",
       "\"\"\"\n",
       "                            OLS Regression Results                            \n",
       "==============================================================================\n",
       "Dep. Variable:                      y   R-squared:                       0.998\n",
       "Model:                            OLS   Adj. R-squared:                  0.998\n",
       "Method:                 Least Squares   F-statistic:                 1.232e+04\n",
       "Date:                Fri, 26 Feb 2016   Prob (F-statistic):           1.17e-64\n",
       "Time:                        20:15:31   Log-Likelihood:                -44.204\n",
       "No. Observations:                  50   AIC:                             94.41\n",
       "Df Residuals:                      47   BIC:                             100.1\n",
       "Df Model:                           2                                         \n",
       "Covariance Type:            nonrobust                                         \n",
       "==============================================================================\n",
       "                 coef    std err          t      P>|t|      [95.0% Conf. Int.]\n",
       "------------------------------------------------------------------------------\n",
       "Intercept      2.2185      0.252      8.789      0.000         1.711     2.726\n",
       "x1             0.9950      0.017     58.379      0.000         0.961     1.029\n",
       "x2             1.9848      0.015    134.216      0.000         1.955     2.015\n",
       "==============================================================================\n",
       "Omnibus:                        9.250   Durbin-Watson:                   2.216\n",
       "Prob(Omnibus):                  0.010   Jarque-Bera (JB):                2.707\n",
       "Skew:                          -0.024   Prob(JB):                        0.258\n",
       "Kurtosis:                       1.861   Cond. No.                         51.2\n",
       "==============================================================================\n",
       "\n",
       "Warnings:\n",
       "[1] Standard Errors assume that the covariance matrix of the errors is correctly specified.\n",
       "\"\"\""
      ]
     },
     "execution_count": 3,
     "metadata": {},
     "output_type": "execute_result"
    }
   ],
   "source": [
    "#Fit model\n",
    "model=smf.ols(formula='y ~ x1 + x2', data=data).fit()\n",
    "\n",
    "model.summary()"
   ]
  },
  {
   "cell_type": "markdown",
   "metadata": {},
   "source": [
    "To provide a point of comparison, we will use the regressor subset to predict `y`."
   ]
  },
  {
   "cell_type": "code",
   "execution_count": 4,
   "metadata": {
    "collapsed": false
   },
   "outputs": [
    {
     "data": {
      "text/plain": [
       "array([ 45.3830118 ,  20.64783514,  49.15899802,  22.97671632,\n",
       "        23.81201359,  50.15152271,  49.30977897,  46.52703118,\n",
       "        27.06824106,  24.73028715,  55.73780948,  46.14598452,\n",
       "        35.04579904,  42.77663411,  24.92214325,  34.17396757,\n",
       "        21.78158769,  10.54739915,  38.82710887,  30.57087857,\n",
       "        38.03462221,  40.5112197 ,  44.88486214,  46.76047541,\n",
       "        48.71681776,  34.14337941,  59.28093668,  47.6069733 ,\n",
       "        46.00559424,  47.98132577,  37.90945678,  14.59101547,\n",
       "        26.23134675,  54.9390063 ,  36.14020639,  39.90891943,\n",
       "        29.2219375 ,  17.5978753 ,   9.94806419,  28.35825447,\n",
       "        32.16683832,  46.99007463,  46.67503341,  45.96060996,\n",
       "        34.28821209,  53.22079473,  33.37406911,  11.29626885,\n",
       "        57.70762237,   6.95323106])"
      ]
     },
     "execution_count": 4,
     "metadata": {},
     "output_type": "execute_result"
    }
   ],
   "source": [
    "pred_y=model.predict(data[['x1','x2']])\n",
    "\n",
    "pred_y"
   ]
  },
  {
   "cell_type": "markdown",
   "metadata": {
    "collapsed": true
   },
   "source": [
    "## Writing the Model to Disk"
   ]
  },
  {
   "cell_type": "markdown",
   "metadata": {},
   "source": [
    "Now that we have instantiated this model object, let's see if we can write it to disk.  To do this, we are going to use a method called \"pickling\", which serializes an object into a byte stream so that it may be written to disk.  In theory, we can read this same byte stream back elsewhere, and use it to reconstitute the object that had been written to disk.\n",
    "\n",
    "So, what exactly are we writing to disk?  Here is the ASCII version of the byte stream:"
   ]
  },
  {
   "cell_type": "code",
   "execution_count": 5,
   "metadata": {
    "collapsed": false
   },
   "outputs": [
    {
     "data": {
      "text/plain": [
       "'ccopy_reg\\n_reconstructor\\np0\\n(cstatsmodels.regression.linear_model\\nRegressionResultsWrapper\\np1\\nc__builtin__\\nobject\\np2\\nNtp3\\nRp4\\n(dp5\\nS\\'__doc__\\'\\np6\\nS\\'\\\\n    Results class for for an OLS model.\\\\n\\\\n    Most of the methods and attributes are inherited from RegressionResults.\\\\n    The special methods that are only available for OLS are:\\\\n\\\\n    - get_influence\\\\n    - outlier_test\\\\n    - el_test\\\\n    - conf_int_el\\\\n\\\\n    See Also\\\\n    --------\\\\n    RegressionResults\\\\n\\\\n    \\'\\np7\\nsS\\'_results\\'\\np8\\ng0\\n(cstatsmodels.regression.linear_model\\nOLSResults\\np9\\ng2\\nNtp10\\nRp11\\n(dp12\\nS\\'normalized_cov_params\\'\\np13\\ncnumpy.core.multiarray\\n_reconstruct\\np14\\n(cnumpy\\nndarray\\np15\\n(I0\\ntp16\\nS\\'b\\'\\np17\\ntp18\\nRp19\\n(I1\\n(L3L\\nL3L\\ntp20\\ncnumpy\\ndtype\\np21\\n(S\\'f8\\'\\np22\\nI0\\nI1\\ntp23\\nRp24\\n(I3\\nS\\'<\\'\\np25\\nNNNI-1\\nI-1\\nI0\\ntp26\\nbI00\\nS\\'\\\\xd4\\\\xb4\\\\xb9\\\\xb5\\\\xa5W\\\\xc6?8\\\\xddi\\\\x84\\\\xc66\\\\x80\\\\xbf\\\\xd9\\\\xa1\\\\x9a\\\\xad+\\\\xa1v\\\\xbf8\\\\xddi\\\\x84\\\\xc66\\\\x80\\\\xbf\\\\xf4\\\\xe6\\\\xd6(\\\\x1e\\\\x14J?\\\\x02\\\\x7f\\\\xcf\\\\xe0\\\\x10\\\\x99\\\\x1d\\\\xbf\\\\xd9\\\\xa1\\\\x9a\\\\xad+\\\\xa1v\\\\xbf\\\\x02\\\\x7f\\\\xcf\\\\xe0\\\\x10\\\\x99\\\\x1d\\\\xbf\\\\x8cX\\\\x1c6\\\\xcb\\\\xa1C?\\'\\np27\\ntp28\\nbsS\\'use_t\\'\\np29\\nI01\\nsS\\'df_model\\'\\np30\\nF2.0\\nsS\\'diagn\\'\\np31\\n(dp32\\nS\\'omni\\'\\np33\\ncnumpy.core.multiarray\\nscalar\\np34\\n(g24\\nS\\'\\\\xea.\\\\x02\\\\xef\\\\xe1\\\\x7f\"@\\'\\np35\\ntp36\\nRp37\\nsS\\'skew\\'\\np38\\nF-0.023503835668006443\\nsS\\'mineigval\\'\\np39\\ng34\\n(g24\\nS\\'\\\\xe8G\\\\xbd\\\\xdf\\\\x9e\\\\xd8\\\\x16@\\'\\np40\\ntp41\\nRp42\\nsS\\'condno\\'\\np43\\ng34\\n(g24\\nS\\'G\\\\x9a\\\\x89\\\\xf4\\\\xbb\\\\x9aI@\\'\\np44\\ntp45\\nRp46\\nsS\\'jbpv\\'\\np47\\ng34\\n(g24\\nS\\'\\\\xc6\\\\xb2\\\\x9c\\\\xd8:\\\\x89\\\\xd0?\\'\\np48\\ntp49\\nRp50\\nsS\\'omnipv\\'\\np51\\ng34\\n(g24\\nS\\'/\\\\x02 ;\\\\x87\\\\x14\\\\x84?\\'\\np52\\ntp53\\nRp54\\nsS\\'kurtosis\\'\\np55\\nF1.86114238621126\\nsS\\'jb\\'\\np56\\nF2.70667997010212\\nssS\\'df_resid\\'\\np57\\nF47.0\\nsS\\'cov_kwds\\'\\np58\\n(dp59\\nS\\'description\\'\\np60\\nS\\'Standard Errors assume that the covariance matrix of the errors is correctly specified.\\'\\np61\\nssS\\'_wexog_singular_values\\'\\np62\\ng14\\n(g15\\n(I0\\ntp63\\ng17\\ntp64\\nRp65\\n(I1\\n(L3L\\ntp66\\ng24\\nI00\\nS\\'}\\\\x18^\\\\x9d\\\\x86\\\\x98^@\\\\x12\\\\x08\\\\x15#\\\\x9f\\\\xbeA@\\\\x12\\\\xcf#I{\\\\x1e\\\\x03@\\'\\np67\\ntp68\\nbsS\\'cov_type\\'\\np69\\nS\\'nonrobust\\'\\np70\\nsS\\'k_constant\\'\\np71\\nI1\\nsS\\'_cache\\'\\np72\\ng0\\n(cstatsmodels.tools.decorators\\nResettableCache\\np73\\nc__builtin__\\ndict\\np74\\n(dp75\\nS\\'pvalues\\'\\np76\\ng14\\n(g15\\n(I0\\ntp77\\ng17\\ntp78\\nRp79\\n(I1\\n(L3L\\ntp80\\ng24\\nI00\\nS\\'x\\\\xc5\\\\x06\\\\xd9$\\\\x1a\\\\xb3=\\\\xd6\\\\xc3\\\\x12]_d\\\\xa26\\\\xa1\\\\x9d\\\\xe7\\\\x1cAd!3\\'\\np81\\ntp82\\nbsS\\'bic\\'\\np83\\ng34\\n(g24\\nS\\'\\\\x82\\\\xb8\\\\xc4\\\\xfe-\\\\tY@\\'\\np84\\ntp85\\nRp86\\nsS\\'ssr\\'\\np87\\ng34\\n(g24\\nS\"\\\\xb2\\\\xdf!\\\\x0c\\\\xb2\\'1@\"\\np88\\ntp89\\nRp90\\nsS\\'nobs\\'\\np91\\nF50.0\\nsS\\'wresid\\'\\np92\\ng14\\n(g15\\n(I0\\ntp93\\ng17\\ntp94\\nRp95\\n(I1\\n(L50L\\ntp96\\ng24\\nI00\\nS\\'\\\\x00B\\\\xe4q\\\\xf4\\\\xf6\\\\xe9?\\\\xa0\\\\xdd\\\\x86\\\\x17{+\\\\xe7?\\\\x00\\\\x889M \\\\xae\\\\xa4?\\\\x00p0\\\\xa71{\\\\x94\\\\xbf\\\\x80t\\\\x94\\\\xdc;p\\\\xc2?\\\\x00\\\\xc8\\\\xc2\\\\x1d\\\\xd6\\\\xea\\\\x91\\\\xbf\\\\x80\\\\x03\\\\xe0&Z\\\\xa2\\\\xef?@\\\\xd2\\\\xb7}\\\\xe3T\\\\xe0\\\\xbf\\\\x00\\\\xd7\\\\xfe\\\\xa7&(\\\\xeb?\\\\x80\\\\x04\\\\x9f\\\\x07\\\\xdb\\\\xb2\\\\xf0\\\\xbf\\\\x00J\\\\x1e\\\\xb1\\\\x1e\\\\xb5\\\\xd0?\\\\x80\\\\x92v\\\\x9f\\\\xcc^\\\\xee?\\\\x80\\\\x03-\\\\xe8\\\\x97i\\\\xec\\\\xbf\\\\xc0\\\\x89\\\\x8e\\\\x04\\\\x86\\\\xb6\\\\xe9?\\\\x00\\\\xcc\\\\xd0\\\\x1e\\\\xcdb\\\\xdf?\\\\x00\\\\x06\\\\x02\\\\x93\\\\x01\\\\x06\\\\xb0?\\\\x80\\\\x93\\\\xb7\\\\xab\\\\\\\\>\\\\xe6\\\\xbf@Q\\\\xecr\\\\xd6V\\\\xc5\\\\xbf\\\\x00\\\\x8bC-\\\\x0ea\\\\xe1?\\\\xc0\\\\x0fM.)\\\\x07\\\\xd9?\\\\x00\\\\xc4e\\\\xf5\\\\xf2|\\\\xa2\\\\xbf\\\\x00fa\\\\x06\\\\x96\\\\xdb\\\\xea\\\\xbf\\\\x00\\\\xd4Q5_\\\\xf2\\\\xac\\\\xbf\\\\xc0ZKAx\\\\xcf\\\\xe0\\\\xbf\\\\x80\\\\xc8\\\\xe5\\\\x8a\\\\xf9\\\\xb3\\\\xe4?\\\\x00}H\\\\xd6\\\\x06\\\\x9f\\\\xcc\\\\xbf\\\\x00\\\\xde\\\\xf6\\\\xc0\\\\x13\\\\xc6\\\\xe0\\\\xbf\\\\xc0\\\\xfck\\\\xb4?\\\\xd2\\\\xe6\\\\xbf\\\\x00\\\\x80\\\\xa9\\\\xffxd\\\\xe9?\\\\x008\\\\xa0\\\\xcf<\\\\xe2\\\\x9d?\\\\x00\\\\xec\\\\xcfI\\\\xc8\\\\xda\\\\xbc\\\\xbf \\\\x03\\\\x8f\\\\x81r\\\\xae\\\\xdf\\\\xbf\\\\x80+\\\\x9a$;\\\\xba\\\\xd7?\\\\x00x\\\\x12\\\\x837\\\\x18\\\\xe3\\\\xbf\\\\x80\\\\xc7v\\\\xf6\\\\xd35\\\\xd5\\\\xbf\\\\x00|\\\\xa0\\\\n\\\\xe4\\\\xbb\\\\xb6?\\\\xe07\\\\x9d\\\\xcd\\\\x87e\\\\xed\\\\xbf\\\\x00\\\\xc8\\\\x8f>\\\\xab\\\\x86\\\\x89?\\\\x80c\\\\x18(9\\\\xe6\\\\xe5?\\\\x80Cf\\\\xe1\\\\xae\\\\x01\\\\xdc\\\\xbf\\\\x00(\\\\xaa\\\\x0e\\\\x0e\\\\xd9\\\\xec?\\\\x00\\\\xf6:\\\\xea\\\\x99\\\\x8e\\\\xcf?\\\\x00g\\\\xe1\\\\xaf\\\\xc6T\\\\xe2\\\\xbf\\\\x80>~h\\\\x87\\\\x91\\\\xda?\\\\x00\\\\x81\\\\x1e\\\\xf8\\\\xca\\\\x00\\\\xc5?\\\\x80>\\\\xa0\"\\\\x8aF\\\\xe9\\\\xbf\\\\xc0\\\\xf3\\\\x04]\\\\xbe\\\\x97\\\\xea\\\\xbf\\\\x10(Aa\\\\x14\\\\xef\\\\xec\\\\xbf\\\\x00%\\\\x0cW\\\\xd9*\\\\xc0?\\\\x00`e\\\\xa6b\\\\xc8\\\\xe6?\\'\\np97\\ntp98\\nbsS\\'mse_resid\\'\\np99\\ng34\\n(g24\\nS\\'\\\\xfd\\\\xa2\\\\xc6\\\\\\\\.\\\\\\\\\\\\xd7?\\'\\np100\\ntp101\\nRp102\\nsS\\'eigenvals\\'\\np103\\ng14\\n(g15\\n(I0\\ntp104\\ng17\\ntp105\\nRp106\\n(I1\\n(L3L\\ntp107\\ng24\\nI00\\nS\\'\\\\xcd\\\\xb4\\\\x1dh\\\\xd3@\\\\xcd@5\\\\xae<4\\\\xf1\\\\xad\\\\x93@\\\\xe8G\\\\xbd\\\\xdf\\\\x9e\\\\xd8\\\\x16@\\'\\np108\\ntp109\\nbsS\\'bse\\'\\np110\\ng14\\n(g15\\n(I0\\ntp111\\ng17\\ntp112\\nRp113\\n(I1\\n(L3L\\ntp114\\ng24\\nI00\\nS\"\\\\xd6aM\\\\x00}\\'\\\\xd0?|\\\\xb46M\\\\xe8s\\\\x91?W13\\\\x8c\\\\x15I\\\\x8e?\"\\np115\\ntp116\\nbsS\\'mse_model\\'\\np117\\ng34\\n(g24\\nS\\'\\\\x80k\\\\xf4\\\\x1fa\\\\x91\\\\xb1@\\'\\np118\\ntp119\\nRp120\\nsS\\'llf\\'\\np121\\ng34\\n(g24\\nS\\'\\\\xea\\\\x95\\\\x8c=\\\\x12\\\\x1aF\\\\xc0\\'\\np122\\ntp123\\nRp124\\nsS\\'scale\\'\\np125\\ng34\\n(g24\\nS\\'\\\\xfd\\\\xa2\\\\xc6\\\\\\\\.\\\\\\\\\\\\xd7?\\'\\np126\\ntp127\\nRp128\\nsS\\'ess\\'\\np129\\ng34\\n(g24\\nS\\'\\\\x80k\\\\xf4\\\\x1fa\\\\x91\\\\xc1@\\'\\np130\\ntp131\\nRp132\\nsS\\'f_pvalue\\'\\np133\\ng34\\n(g24\\nS\\'\\\\xa5\\\\x7fLIK\\\\xbf\\\\xa82\\'\\np134\\ntp135\\nRp136\\nsS\\'centered_tss\\'\\np137\\ng34\\n(g24\\nS\\'p|\\\\xfa\\\\xf8\\\\xf4\\\\x99\\\\xc1@\\'\\np138\\ntp139\\nRp140\\nsS\\'condition_number\\'\\np141\\ng46\\nsS\\'rsquared_adj\\'\\np142\\ng34\\n(g24\\nS\\'$\\\\xd8\\\\xdc\\\\xfc\\\\xbd\\\\xef\\\\xef?\\'\\np143\\ntp144\\nRp145\\nsS\\'tvalues\\'\\np146\\ng14\\n(g15\\n(I0\\ntp147\\ng17\\ntp148\\nRp149\\n(I1\\n(L3L\\ntp150\\ng24\\nI00\\nS\\'\\\\x08\\\\x1f\\\\x02\\\\xfa\\\\x10\\\\x94!@\\\\xc1\\\\x82\\\\xdbEt0M@\\\\xe8,\\\\xfc,\\\\xe7\\\\xc6`@\\'\\np151\\ntp152\\nbsS\\'rsquared\\'\\np153\\ng34\\n(g24\\nS\\'R\\\\xcf\\\\xa4\\\\xddg\\\\xf0\\\\xef?\\'\\np154\\ntp155\\nRp156\\nsS\\'aic\\'\\np157\\ng34\\n(g24\\nS\\'\\\\xea\\\\x95\\\\x8c=\\\\x12\\\\x9aW@\\'\\np158\\ntp159\\nRp160\\nsS\\'fvalue\\'\\np161\\ng34\\n(g24\\nS\\'T\\\\xb3~\\\\x9e\\\\xc5\\\\x10\\\\xc8@\\'\\np162\\ntp163\\nRp164\\nstp165\\nRp166\\n(dp167\\nS\\'_resetdict\\'\\np168\\n(dp169\\nsbsS\\'params\\'\\np170\\ng14\\n(g15\\n(I0\\ntp171\\ng17\\ntp172\\nRp173\\n(I1\\n(L3L\\ntp174\\ng24\\nI00\\nS\"s)}8s\\\\xbf\\\\x01@\\\\xf4Eb\\\\x99\\\\xef\\\\xd6\\\\xef?R\\\\x92\\'\\\\x8b\\\\x93\\\\xc1\\\\xff?\"\\np175\\ntp176\\nbsS\\'model\\'\\np177\\ng0\\n(cstatsmodels.regression.linear_model\\nOLS\\np178\\ng2\\nNtp179\\nRp180\\n(dp181\\nS\\'_df_resid\\'\\np182\\nF47.0\\nsS\\'_init_keys\\'\\np183\\n(lp184\\nS\\'missing_idx\\'\\np185\\nasS\\'wexog_singular_values\\'\\np186\\ng65\\nsS\\'formula\\'\\np187\\nS\\'y ~ x1 + x2\\'\\np188\\nsS\\'endog\\'\\np189\\ng14\\n(g15\\n(I0\\ntp190\\ng17\\ntp191\\nRp192\\n(I1\\n(L50L\\ntp193\\ng24\\nI00\\nS\\'\\\\x90\\\\xe6\\\\xa6Y\\\\xe2\\\\x18G@\\\\xbf\\\\xa2\\\\xd2^4_5@2\\\\x12&\\\\x94\\\\x85\\\\x99H@P\\\\xf3PH\\\\xeb\\\\xf46@E\\\\x10-\\\\x97\\\\xc0\\\\xf47@4\\\\xa4\\\\xd2\\\\xbd\\\\\\'\\\\x11I@{\\\\x87\\\\xf1>0&I@\\\\xabR\\\\xfb3\"\\\\x02G@\\\\xf2pFt\\\\xb9\\\\xea;@8\\\\xa1\\\\xc1h\\\\xc6\\\\xaf7@\\\\xb8d\\\\xe8\\\\xc7\\\\xda\\\\xffK@6:o\\\\xd1*\\\\x8cG@\\\\xb4j\\\\x90^6\\\\x14A@\\\\xb9\\\\t*\\\\xd7B\\\\xcaE@Tu\\\\xf2\\\\xc8\\\\x9ci9@\\\\xdf;\\\\x93\\\\x92G\\\\x1eA@c\\\\x18\\\\x19<#\\\\x165@\\\\x8f4\\\\x98Y\\\\xe9\\\\xc2$@\\\\xecI\\\\xc8\\\\xecb\\\\xafC@\\\\x95\\\\x1f\\\\xd9\\\\xbdA\\\\xf6>@\\\\xe6\\\\xc9_C\\\\xcf\\\\xffB@\\\\xb3\\\\x9d\\\\x91M\\\\x01\\\\xd6C@xe\\\\xcc\\\\x91\\\\x06jF@\\\\xec\\\\xdd a\\\\x19\\\\x1eG@\\\\x18\\\\x1fc\\\\x95\\\\x90\\\\xaeH@\\\\xa8k\\\\xd2:\\\\xbb\\\\xf5@@\\\\xec\\\\x16\\\\xa2l\\\\xdd`M@/\\\\x15DNhrG@\\\\xc8p\\\\xe73IfG@\\\\xdeY\\\\xc6\\\\\\\\X\\\\x01H@C7D\\\\xb0\\\\xfb\\\\xe5B@\\\\xfa\\\\x08A\\\\x00&1,@\\\\xb6\\\\xfb\\\\xe5v\"\\\\x9a:@\\\\xcf \\\\xb6}\\\\xd0+K@`\\\\xe7{\\\\xa0\\\\x86\\\\xe7A@\\\\xae\\\\x9d\\\\xcej\\\\xb5\\\\xffC@~\\\\x16\\\\xfe\\\\xa6\\\\xa4M<@\\\\xccHw0?\\\\x9c1@\\\\x9c5\\\\xe6=\\\\xccC%@l\\\\xe3*\\\\xd5\\\\xaf\\\\xeb;@\\\\x19\\\\xa7\\\\x84-\\\\xbf\\\\x88@@\\\\x8e\\\\x8f\\\\xe0]I\\\\x9eG@\\\\x02\\\\xe9\\\\xe2c\\\\x14\\\\rG@:\\\\xd20S\\\\x180G@\\\\xd6]?\\\\xed\\\\xe49A@t\\\\x8f\\\\xe9\\\\xd7(7J@g\\\\xb3\\\\xad\\\\x85\\\\x82E@@I$\\\\x0cG\\\\xbf\\\\xc8$@\\\\xad\\\\xde\\\\x038\\\\xbe\\\\xeaL@\\\\x12c\\\\x9d\"(\\\\xa9\\\\x1e@\\'\\np194\\ntp195\\nbsg13\\ng19\\nsS\\'wendog\\'\\np196\\ng192\\nsS\\'_data_attr\\'\\np197\\n(lp198\\nS\\'exog\\'\\np199\\nag189\\naS\\'data.exog\\'\\np200\\naS\\'data.endog\\'\\np201\\naS\\'data.orig_endog\\'\\np202\\naS\\'data.orig_exog\\'\\np203\\naS\\'pinv_wexog\\'\\np204\\nag196\\naS\\'wexog\\'\\np205\\naS\\'weights\\'\\np206\\nasg91\\nF50.0\\nsg71\\nI1\\nsS\\'rank\\'\\np207\\ng34\\n(g21\\n(S\\'i4\\'\\np208\\nI0\\nI1\\ntp209\\nRp210\\n(I3\\nS\\'<\\'\\np211\\nNNNI-1\\nI-1\\nI0\\ntp212\\nbS\\'\\\\x03\\\\x00\\\\x00\\\\x00\\'\\np213\\ntp214\\nRp215\\nsg205\\ng14\\n(g15\\n(I0\\ntp216\\ng17\\ntp217\\nRp218\\n(I1\\n(L50L\\nL3L\\ntp219\\ng24\\nI00\\nS\\'\\\\x00\\\\x00\\\\x00\\\\x00\\\\x00\\\\x00\\\\xf0?\\\\x08\\\\xce\\\\x04\\\\xb5\\\\t\\\\xb5\\\\x19@\\\\xcb\\\\x07\\\\x10\\\\x84\\\\xb1\\\\x862@\\\\x00\\\\x00\\\\x00\\\\x00\\\\x00\\\\x00\\\\xf0?\\\\x13\\\\xa7=\\\\xf1\\\\x0b\\\\xf1#@\\\\x8244\\\\xc3\\\\xd2%\\\\x11@\\\\x00\\\\x00\\\\x00\\\\x00\\\\x00\\\\x00\\\\xf0?\\\\xae\\\\xa3\\\\x8e\\\\xa2\\\\xd0\\\\r+@\\\\x02C5\\\\xe2\\\\x84\\\\xde0@\\\\x00\\\\x00\\\\x00\\\\x00\\\\x00\\\\x00\\\\xf0?jF~&\\\\xa1?,@\\\\xd8\\\\x986fd\\\\x06\\\\x0b@\\\\x00\\\\x00\\\\x00\\\\x00\\\\x00\\\\x00\\\\xf0?\\\\xfa\\\\x19\\\\xeb\\\\x8d\\\\x88\\\\xbe(@\\\\xcc\\\\x1d\\\\xe9\\\\xf5\\\\x9a\\\\xb5\\\\x12@\\\\x00\\\\x00\\\\x00\\\\x00\\\\x00\\\\x00\\\\xf0?\\\\xc4\\\\xd1En\\\\xb5\\\\x06\\\\\\'@P>0\\\\xd9\\\\xfd`2@\\\\x00\\\\x00\\\\x00\\\\x00\\\\x00\\\\x00\\\\xf0?\\\\xca/\\\\xe3k\\\\x86s)@\\\\x81p,(\\\\xcfX1@\\\\x00\\\\x00\\\\x00\\\\x00\\\\x00\\\\x00\\\\xf0?\\\\x88y\\\\x95\\\\x817N\\\\x17@\\\\xacv\\\\x0e\\\\x8fNg3@\\\\x00\\\\x00\\\\x00\\\\x00\\\\x00\\\\x00\\\\xf0?\\\\xd0\\\\xb7\\\\xcd\\\\x1e\\\\xa0O/@\\\\xfa\\\\xa4\\\\xec#\\\\x16\\\\xb0\\\\x12@\\\\x00\\\\x00\\\\x00\\\\x00\\\\x00\\\\x00\\\\xf0?\\\\xd4\\\\xbf,\\\\x8d\\\\xd3\\\\xcf)@Zw\\\\xf8I\\\\\\\\}\\\\x13@\\\\x00\\\\x00\\\\x00\\\\x00\\\\x00\\\\x00\\\\xf0?\\\\xc2lP\\\\x1eFi0@YY\\\\xa1w\\\\xeb\\\\xbc2@\\\\x00\\\\x00\\\\x00\\\\x00\\\\x00\\\\x00\\\\xf0?08\\\\x96 \\\\x06\\\\x922@Q\\\\xe6\\\\x9evF\\\\xa5)@\\\\x00\\\\x00\\\\x00\\\\x00\\\\x00\\\\x00\\\\xf0?\\\\xc1l\\\\x87\\\\x96;N#@r`\\\\xc8\\\\xac\\\\xb6f\\\\\\'@\\\\x00\\\\x00\\\\x00\\\\x00\\\\x00\\\\x00\\\\xf0?\\\\xba\\\\xa8\\\\xe5B\\\\xa1\\\\x93*@\\\\xf8\\\\xff\\\\xb9/\\\\xdc\\\\x8b+@\\\\x00\\\\x00\\\\x00\\\\x00\\\\x00\\\\x00\\\\xf0?v\\\\x0b7+\\\\xd6\\\\x1b%@\\\\xd0,\\\\xd4\\\\x8b\\\\x7f\\\\x97\\\\x18@\\\\x00\\\\x00\\\\x00\\\\x00\\\\x00\\\\x00\\\\xf0?0\\\\x9f\\\\x1b\\\\x19\\\\x99\\\\xbc\\\\x1b@Jy\\\\xb9<\\\\x9b?)@\\\\x00\\\\x00\\\\x00\\\\x00\\\\x00\\\\x00\\\\xf0?\\\\xb8]#!\\\\xf4\\\\x87\\\\x1f@\\\\x88\\\\xf1\\\\x8e\\\\xfc\\\\xa3\\\\x9e\\\\x17@\\\\x00\\\\x00\\\\x00\\\\x00\\\\x00\\\\x00\\\\xf0?p~\\\\t\\\\xdd\\\\x0c\\\\xb9\\\\n@\\\\x00\\\\x8bf\\\\xe9\\\\xc9,\\\\x04@\\\\x00\\\\x00\\\\x00\\\\x00\\\\x00\\\\x00\\\\xf0?i\\\\x87\\\\xfe\\\\xb2\\\\x11c-@z\\\\xa3!oZ(&@\\\\x00\\\\x00\\\\x00\\\\x00\\\\x00\\\\x00\\\\xf0?@y\\\\x83/\\\\xca\\\\xad\\\\\\'@`\\\\xa5h\\\\x96\\\\x16\\\\xb3 @\\\\x00\\\\x00\\\\x00\\\\x00\\\\x00\\\\x00\\\\xf0?@\\\\xe1s\\\\x93\\\\xc6\\\\xa1\\\\x0f@\\\\xa0\\\\x19m=:\\\\x100@\\\\x00\\\\x00\\\\x00\\\\x00\\\\x00\\\\x00\\\\xf0?r7{\\\\xcf)J3@\\\\xa3[\\\\x1bn\\\\x13?#@\\\\x00\\\\x00\\\\x00\\\\x00\\\\x00\\\\x00\\\\xf0?\\\\xb8?\\\\x03\\\\xd4g\\\\xa80@r\\\\xc3\\\\xd6\\\\x8a\\\\xdaJ*@\\\\x00\\\\x00\\\\x00\\\\x00\\\\x00\\\\x00\\\\xf0?\\\\xed\\\\xa5\\\\x1b\\\\xba\\\\xa5  @\\\\xea\\\\xafp\\\\xadGf2@\\\\x00\\\\x00\\\\x00\\\\x00\\\\x00\\\\x00\\\\xf0?\\\\x8a\\\\x00\\\\x0f\\\\x90/|1@@\\\\xda\\\\xb5\\\\xbc\\\\x07S-@\\\\x00\\\\x00\\\\x00\\\\x00\\\\x00\\\\x00\\\\xf0?\\\\x8d 5\\\\xe6\\\\xcba!@\\\\xaf\\\\x0eg\\\\t\\\\xc9t\\\\\\'@\\\\x00\\\\x00\\\\x00\\\\x00\\\\x00\\\\x00\\\\xf0?\\\\xfa\\\\xc3\\\\xef\\\\xe2\\\\xda\\\\xf12@<\\\\xebu\\\\xa5\\\\xc7@3@\\\\x00\\\\x00\\\\x00\\\\x00\\\\x00\\\\x00\\\\xf0?\\\\x9aL\\\\x1d\\\\x1d\\\\xa7\\\\xb3)@\\\\xc6\\\\xfb\\\\xdc7\\\\x1am0@\\\\x00\\\\x00\\\\x00\\\\x00\\\\x00\\\\x00\\\\xf0?^\\\\x02M\\\\xf8\\\\xbf\\\\xff(@\\\\xb7{C\\\\xaeJ\\\\x97/@\\\\x00\\\\x00\\\\x00\\\\x00\\\\x00\\\\x00\\\\xf0?\\\\xc4XX?\\\\xad\\\\xa11@\\\\x00$\\\\xd4\\\\x83\\\\xb5o,@\\\\x00\\\\x00\\\\x00\\\\x00\\\\x00\\\\x00\\\\xf0?\\\\xf8v[\\\\x86\\\\xbf\\\\x1a\\\\x0c@\\\\x13\\\\xe6\\\\x81\\\\xba\\\\xab80@\\\\x00\\\\x00\\\\x00\\\\x00\\\\x00\\\\x00\\\\xf0?y\"\\\\xf2P3]#@\\\\x00\\\\x9e\\\\xfb\\\\xf6\\\\x9d\\\\x14\\\\xf6?\\\\x00\\\\x00\\\\x00\\\\x00\\\\x00\\\\x00\\\\xf0?M\\\\xd3\\\\xfd\\\\xb8\\\\xbf\\\\xe61@\\\\x90D\\\\xaac\\\\xd3\\\\xfe\\\\x08@\\\\x00\\\\x00\\\\x00\\\\x00\\\\x00\\\\x00\\\\xf0?\\\\x94]C\\\\x1c\\\\xa7\\\\x8c2@\\\\x07\\\\xfb\\\\x97\\\\xb6zC1@\\\\x00\\\\x00\\\\x00\\\\x00\\\\x00\\\\x00\\\\xf0?\\\\xb206\\\\x86\\\\x805\\\\x15@\\\\xec\\\\x05\\\\x08D\\\\xb3\\\\xdd,@\\\\x00\\\\x00\\\\x00\\\\x00\\\\x00\\\\x00\\\\xf0?\\\\x80\\\\xed{\\\\\\\\\\\\x8bF*@o\\\\xdc\\\\xb8h\\\\xbb\\\\xce(@\\\\x00\\\\x00\\\\x00\\\\x00\\\\x00\\\\x00\\\\xf0?nN\\\\xeda\\\\xe4$2@j\\\\x04\\\\xfa\\\\\\\\\\\\xbd\\\\t\\\\x12@\\\\x00\\\\x00\\\\x00\\\\x00\\\\x00\\\\x00\\\\xf0?\\\\xc8\\\\xd3\\\\xa3\\\\x9e7\\\\r\\\\x12@(D\\\\t\\\\x82\\\\x08\\\\xf2\\\\x15@\\\\x00\\\\x00\\\\x00\\\\x00\\\\x00\\\\x00\\\\xf0?P\\\\xb8f\\\\xcf\\\\x8b\\\\x0f\\\\xf8?\\\\x00[\\\\xfc\\\\xde\\\\xef\\\\x1f\\\\t@\\\\x00\\\\x00\\\\x00\\\\x00\\\\x00\\\\x00\\\\xf0?h\\\\x12\\\\xc1\\\\xad\\\\xb4\\\\x97\\\\x18@$M\\\\xff\\\\x81\\\\x1a-$@\\\\x00\\\\x00\\\\x00\\\\x00\\\\x00\\\\x00\\\\xf0?f>\\\\x9c\\\\x90\\\\x88~,@\\\\xf2@\\\\xf5\\\\x85\\\\x99\\\\xc9\\\\x1f@\\\\x00\\\\x00\\\\x00\\\\x00\\\\x00\\\\x00\\\\xf0?\\\\xc0\\\\xab00]\\\\xcf,@\\\\n\\\\xfd|I*\\\\xac.@\\\\x00\\\\x00\\\\x00\\\\x00\\\\x00\\\\x00\\\\xf0?2\\\\x8d\\\\x82#\\\\xc6\\\\xcb\\\\x1d@\\\\xea\\\\xe8\\\\x05\\\\x02(\\\\xaa2@\\\\x00\\\\x00\\\\x00\\\\x00\\\\x00\\\\x00\\\\xf0?@\\\\x15\\\\xd7\\\\xa6\\\\x14\\\\xdd\\\\x18@\\\\xdfP%_B\\\\xec2@\\\\x00\\\\x00\\\\x00\\\\x00\\\\x00\\\\x00\\\\xf0?\\\\x8aN\\\\xddkI\\\\x0c0@z~\\\\x86i\\\\xcf9 @\\\\x00\\\\x00\\\\x00\\\\x00\\\\x00\\\\x00\\\\xf0?]\\\\xbd\\\\xf0\\\\xdbC\\\\xb62@\\\\xc7\\\\x1fK\\\\xaa\\\\xffP0@\\\\x00\\\\x00\\\\x00\\\\x00\\\\x00\\\\x00\\\\xf0?:3\\\\x1e.\\\\xbd\\\\xc5*@]\\\\xbe\\\\xbbG3\\\\xf9!@\\\\x00\\\\x00\\\\x00\\\\x00\\\\x00\\\\x00\\\\xf0?*/\\\\xa4\\\\xcc+\\\\x82\\\\x18@P9\\\\x90|\\\\xc0\\\\x08\\\\xf8?\\\\x00\\\\x00\\\\x00\\\\x00\\\\x00\\\\x00\\\\xf0?x,3\\\\xf0z!1@\\\\xb8\\\\x9b\\\\x94\\\\x90\\\\xa5^3@\\\\x00\\\\x00\\\\x00\\\\x00\\\\x00\\\\x00\\\\xf0?\\\\x00(_\\\\xaeF\\\\xc8\\\\xfd?\\\\x80,\\\\x07\\\\x11\\\\x12=\\\\xf7?\\'\\np220\\ntp221\\nbsg206\\ng14\\n(g15\\n(I0\\ntp222\\ng17\\ntp223\\nRp224\\n(I1\\n(L50L\\ntp225\\ng24\\nI00\\nS\\'\\\\x00\\\\x00\\\\x00\\\\x00\\\\x00\\\\x00\\\\xf0?\\\\x00\\\\x00\\\\x00\\\\x00\\\\x00\\\\x00\\\\xf0?\\\\x00\\\\x00\\\\x00\\\\x00\\\\x00\\\\x00\\\\xf0?\\\\x00\\\\x00\\\\x00\\\\x00\\\\x00\\\\x00\\\\xf0?\\\\x00\\\\x00\\\\x00\\\\x00\\\\x00\\\\x00\\\\xf0?\\\\x00\\\\x00\\\\x00\\\\x00\\\\x00\\\\x00\\\\xf0?\\\\x00\\\\x00\\\\x00\\\\x00\\\\x00\\\\x00\\\\xf0?\\\\x00\\\\x00\\\\x00\\\\x00\\\\x00\\\\x00\\\\xf0?\\\\x00\\\\x00\\\\x00\\\\x00\\\\x00\\\\x00\\\\xf0?\\\\x00\\\\x00\\\\x00\\\\x00\\\\x00\\\\x00\\\\xf0?\\\\x00\\\\x00\\\\x00\\\\x00\\\\x00\\\\x00\\\\xf0?\\\\x00\\\\x00\\\\x00\\\\x00\\\\x00\\\\x00\\\\xf0?\\\\x00\\\\x00\\\\x00\\\\x00\\\\x00\\\\x00\\\\xf0?\\\\x00\\\\x00\\\\x00\\\\x00\\\\x00\\\\x00\\\\xf0?\\\\x00\\\\x00\\\\x00\\\\x00\\\\x00\\\\x00\\\\xf0?\\\\x00\\\\x00\\\\x00\\\\x00\\\\x00\\\\x00\\\\xf0?\\\\x00\\\\x00\\\\x00\\\\x00\\\\x00\\\\x00\\\\xf0?\\\\x00\\\\x00\\\\x00\\\\x00\\\\x00\\\\x00\\\\xf0?\\\\x00\\\\x00\\\\x00\\\\x00\\\\x00\\\\x00\\\\xf0?\\\\x00\\\\x00\\\\x00\\\\x00\\\\x00\\\\x00\\\\xf0?\\\\x00\\\\x00\\\\x00\\\\x00\\\\x00\\\\x00\\\\xf0?\\\\x00\\\\x00\\\\x00\\\\x00\\\\x00\\\\x00\\\\xf0?\\\\x00\\\\x00\\\\x00\\\\x00\\\\x00\\\\x00\\\\xf0?\\\\x00\\\\x00\\\\x00\\\\x00\\\\x00\\\\x00\\\\xf0?\\\\x00\\\\x00\\\\x00\\\\x00\\\\x00\\\\x00\\\\xf0?\\\\x00\\\\x00\\\\x00\\\\x00\\\\x00\\\\x00\\\\xf0?\\\\x00\\\\x00\\\\x00\\\\x00\\\\x00\\\\x00\\\\xf0?\\\\x00\\\\x00\\\\x00\\\\x00\\\\x00\\\\x00\\\\xf0?\\\\x00\\\\x00\\\\x00\\\\x00\\\\x00\\\\x00\\\\xf0?\\\\x00\\\\x00\\\\x00\\\\x00\\\\x00\\\\x00\\\\xf0?\\\\x00\\\\x00\\\\x00\\\\x00\\\\x00\\\\x00\\\\xf0?\\\\x00\\\\x00\\\\x00\\\\x00\\\\x00\\\\x00\\\\xf0?\\\\x00\\\\x00\\\\x00\\\\x00\\\\x00\\\\x00\\\\xf0?\\\\x00\\\\x00\\\\x00\\\\x00\\\\x00\\\\x00\\\\xf0?\\\\x00\\\\x00\\\\x00\\\\x00\\\\x00\\\\x00\\\\xf0?\\\\x00\\\\x00\\\\x00\\\\x00\\\\x00\\\\x00\\\\xf0?\\\\x00\\\\x00\\\\x00\\\\x00\\\\x00\\\\x00\\\\xf0?\\\\x00\\\\x00\\\\x00\\\\x00\\\\x00\\\\x00\\\\xf0?\\\\x00\\\\x00\\\\x00\\\\x00\\\\x00\\\\x00\\\\xf0?\\\\x00\\\\x00\\\\x00\\\\x00\\\\x00\\\\x00\\\\xf0?\\\\x00\\\\x00\\\\x00\\\\x00\\\\x00\\\\x00\\\\xf0?\\\\x00\\\\x00\\\\x00\\\\x00\\\\x00\\\\x00\\\\xf0?\\\\x00\\\\x00\\\\x00\\\\x00\\\\x00\\\\x00\\\\xf0?\\\\x00\\\\x00\\\\x00\\\\x00\\\\x00\\\\x00\\\\xf0?\\\\x00\\\\x00\\\\x00\\\\x00\\\\x00\\\\x00\\\\xf0?\\\\x00\\\\x00\\\\x00\\\\x00\\\\x00\\\\x00\\\\xf0?\\\\x00\\\\x00\\\\x00\\\\x00\\\\x00\\\\x00\\\\xf0?\\\\x00\\\\x00\\\\x00\\\\x00\\\\x00\\\\x00\\\\xf0?\\\\x00\\\\x00\\\\x00\\\\x00\\\\x00\\\\x00\\\\xf0?\\\\x00\\\\x00\\\\x00\\\\x00\\\\x00\\\\x00\\\\xf0?\\'\\np226\\ntp227\\nbsg204\\ng14\\n(g15\\n(I0\\ntp228\\ng17\\ntp229\\nRp230\\n(I1\\n(L3L\\nL50L\\ntp231\\ng24\\nI00\\nS\\'\\\\x01\\\\xf2\\\\xb0L\\\\xce\\\\xd3\\\\x95?n\\\\xec\\\\xb08\\\\xcbi\\\\xb2?\\\\xf4(Y}\\\\x1d\\\\\\\\\\\\x9a\\\\xbf}Xt\\\\x06\\\\xa9\\\\x8f\\\\xa6?\\\\xa8\\\\xc3\\\\xd1\\\\xd5\\\\x03\\\\xfd\\\\xa9?_Z/\\\\\\'\\\\xf6\\\\x92\\\\x92\\\\xbf\\\\xf2K\\\\x0b\\\\x14\\\\xda\\\\x90\\\\x96\\\\xbf\\\\x9f\\\\x0b\\\\xdfT*\\\\xbb\\\\x95?\\\\xbb\\\\xbb\\\\xd1\\\\xfa\\\\x8ac\\\\x99?\\\\x17\\\\xe3F\\\\xa0\\\\xdbE\\\\xa7?\\\\xa1\\\\xd6\\\\x1b)E(\\\\xae\\\\xbfI\\\\xeb\\\\xab\\\\x9bd-\\\\xa6\\\\xbfv\\\\xf4 \\\\xea\\\\xfb$\\\\xa1?\\\\xa2v(\\\\xc9g\\\\xa3{\\\\xbf1\\\\x13\\\\xa7Q_2\\\\xad?\\\\x84e-\\\\xab>\\\\x8d\\\\xa9?\\\\xea\\\\x959\\\\xc1T[\\\\xb4?\\\\x0fx\\\\x87\\\\xa0\\\\x87,\\\\xc1?\\\\xb6\\\\x8e`I\\\\x16wh\\\\xbf\\\\x13TN\\\\x15k\\\\xc2\\\\xa1?\\\\x0b\\\\xb9d\\\\xe1O\\\\xe7\\\\xab?\\\\xa4^\\\\\\\\\\\\xe6\\\\xd0\\\\n\\\\xa0\\\\xbf@}\\\\x8aM\\\\xd4\\\\xad\\\\x9e\\\\xbf\\\\xbfzAr\\\\xab\\\\x8b\\\\x82?V!\\\\x18\\\\xe0%\\\\xfb\\\\xa6\\\\xbf\\\\xddw\\\\xc6\\\\xf9\\\\x1f\\\\xf7\\\\xa4?\\\\xdc\\\\xd2\\\\xd4\\\\xe6#\\\\xf1\\\\xb4\\\\xbfx\\\\xeb\\\\x9c\\\\x96N_\\\\x92\\\\xbf\\\\xab[%6L\\\\xe9\\\\x87\\\\xbf;(\\\\x80\\\\x1c\\\\x9bQ\\\\xa6\\\\xbf\\\\xe77-Ev>\\\\xad?\"D\\\\xb2\\\\xfc \\\\x1c\\\\xb7?\\\\xcd\\\\x86\\\\xdb\\\\x8b\\\\xa6\\\\xdf\\\\x8f?3\\\\xe4\\\\xc8_\\\\xb3S\\\\xb1\\\\xbfG\\\\xfa\\\\xe1r\\\\xde\\\\x0c\\\\xab?*\\\\xb1\\\\xf2\\\\\\\\$w`?\\\\xe8r\\\\x18\\\\xcd\\\\x17\\\\x88x?\\\\x1f\\\\x1d\\\\x8c\\\\x8dR\\\\xc7\\\\xbb?\\\\xc9va\\\\x0c\\\\xf7\\\\x98\\\\xc2?\\\\xd1\\\\x0bn\\\\xd2\\\\xb7\\\\xf4\\\\xb1?k\\\\xf6Y\\\\x99rG\\\\x92?#\\\\xd2W\\\\xe30\\\\xce\\\\x98\\\\xbf:\\\\x16\\\\\\'\\\\xd0k\\\\x83\\\\x89?+?\\\\x9f\\\\xfd\\\\xe5J\\\\x95?r\\\\xb3l\\\\x13\\\\xfa\\\\xebe?A\\\\xa1\\\\xc2\\\\x0c\\\\x16Q\\\\xb0\\\\xbf\\\\xdd\\\\xf7Kz4`\\\\x93?yr\\\\xd7\\\\xaa_$\\\\xbe?f\\\\xd2Ht6n\\\\xb1\\\\xbf\\\\xa5\\\\xe40}\\\\xd1m\\\\xc3?\\\\x86~\\\\x1d\\\\x18\\\\xa3\\\\x0bt\\\\xbf`+Nx\\\\x05\\\\x85>\\\\xbf\\\\xfe\\\\xb7% \\\\xed\\\\xedN?\\\\x97kmC\\\\xd9\\\\x1ah?\\\\x9e3\\\\x91f\\\\xad\\\\xf5V?\\\\xcfb\\\\x8eL\\\\xd1,K\\\\xbf\\\\xbc\\\\x81?x0\\\\x870?\\\\xce\\\\xa3c\\\\xc4\\\\x90hv\\\\xbf\\\\x05\\\\x06\\\\xe1\\\\xbb\\\\x16rp?\\\\x86\\\\n_\\\\x0c\\\\x12\\\\x8f]?~S\\\\xbfB\\\\xe1\\\\xceh?\\\\xd2\\\\x7f\\\\xfc\\\\x0b\\\\x9d-v?\\\\x95X\\\\xd5\\\\x14\\\\x9d}Y\\\\xbf\\\\xd5y\\\\xed\\\\xd0\\\\x8b\\\\x14R?\\\\x00\\\\xeft>\\\\x81\\\\xb4+\\\\xbf\\\\xa5\\\\x97HP\\\\xf6Ro\\\\xbf\\\\x81\\\\x1c\\\\xcc\\\\xdf\\\\xb7\\\\xecb\\\\xbf\\\\x00\\\\x04\\\\x88\\\\xdf\\\\x8a\\\\xb4v\\\\xbfu\\\\xc8a\\\\x9f~\\\\xb1d?:\\\\x05\\\\xf1\\\\x04\\\\xb0pB?]\\\\xe2eR\\\\xa8\\\\xf7z\\\\xbfRc\\\\xbd\\\\xa4\\\\xae\\\\x00z?\\\\x8aY@\\\\x88\\\\x83\\\\x96o?S\\\\xe0\\\\x04\\\\xba$Mm\\\\xbfJ\\\\x96W\\\\x0f%\\\\xcaq?\\\\xe3\\\\xf8\\\\xb6\\\\xd8\\\\x91\\\\nc\\\\xbf\\\\x8b\\\\xcf\\\\x85\\\\xff\\\\xb7lt?\"\\\\xb5\\\\xc9\\\\r\\\\xa8\\\\xdf=?\\\\xee\\\\xb7\\\\x1f\\\\xcd\\\\xbc60?\\\\xd4\\\\x89\\\\xb7G\\\\xecxr?\\\\xe8Q\\\\x1e2Sz|\\\\xbf\\\\x10\\\\x0c\\\\xc0\\\\xff0\\\\x128\\\\xbfk\\\\x9e$z~{x?\\\\xe0\\\\xe0U)Z\\\\x0et?\\\\xf6ST\\\\x9a~\\\\xd1u\\\\xbf\\\\x84pe/y\\\\xa6R?E\\\\xc34a\\\\x16\\\\xa2x?up\\\\xf4\\\\xa1\\\\x00At\\\\xbfY\\\\x83\\\\xdf~n\\\\xfa|\\\\xbfDDT\\\\xd1,\\\\rq\\\\xbf,\\\\xe0\\\\xd0\\\\x92\\\\x19\\\\xaed?\\\\xa2\\\\xf5\\\\xe4\\\\xf6\\\\xd1\\\\xbf]?\\\\xf0v\\\\xbco\\\\xfe\\\\xc6p\\\\xbf6:\\\\xaf\\\\x84\\\\x9a\\\\xeat\\\\xbfy\\\\x08\\\\xbb\\\\x91<\"p?\\\\xf2\\\\x84\\\\xb7\\\\xec#\\\\x06u?e\\\\xe0\\\\xae\\\\xa5\\\\xf05\\\\\\\\?\\\\xee\\\\x18#KpLj\\\\xbf7\\\\x83N\\\\xce@\\\\xeal?\\\\xee\\\\xd8\\\\xe8b$\\\\x08{\\\\xbf\\\\xee\\\\xe7\\\\x819\\\\x86\\\\xdcs?\\\\xb3ss\\\\xcex\\\\xb8p\\\\xbf\\\\x02\\\\x87\\\\xfa\\\\x89\\\\xfe\\\\x05i?\\\\xacb{F&\\\\xdft\\\\xbfko\\\\xe8\\\\x1a\\\\x81\\\\xdfp\\\\xbf\\\\x9a\\\\xb4B\\\\xdb\\\\xd3%q?\\\\x1a\\\\x8e\\\\xe4\\\\xae\\\\xf0\\\\x1bl?+\\\\x0e\\\\x99A\\\\xcfJv?\\\\xad\\\\xc5\\\\x8c\\\\x81\\\\x9dgr\\\\xbf\\\\xcd\\\\x8aO%&\\\\xa4p\\\\xbf\\\\x137\\\\x19\\\\x89\\\\x0b\\\\x87o?\\\\xa0\\\\x9d\\\\x10g\\\\x04\\\\xec\\\\x0f?l\\\\xba\\\\xb7P\\\\x07\\\\xea9?\\\\xaed%\\\\xf5\\\\xf1\\\\x18T?\\\\xd0\\\\xd2\\\\x1cE\\\\xdc\\\\xd8h\\\\xbf]\\\\xb2\\\\xf1\\\\xf5\\\\xe9\\\\x92T?g|=J\\\\x9e\\\\x91g\\\\xbfh(\\\\xa3iW\\\\xfcq\\\\xbf\\\\x80\\\\x83s\\\\xf38\\\\xe6A\\\\xbf \\\\xa42cMu^\\\\xbf\\\\xda\\\\x16L==\\\\xecm?Zi\\\\xf4(\\\\x8b\\\\xbd_\\\\xbf\\\\xce\\\\xc1;A\\\\x0f\\\\xd7>?\\\\x8c+\\\\xf7\\\\x9d-\\\\xcbr?\\\\xe4\\\\x90\\\\x10\\\\x96y\\\\x0fU?\\\\x96\\\\xa55\\\\xd7\\\\x15\\\\x0eA?\\\\x8e\\\\x0eJ\\\\xbcQ\\\\xb6o?&\\\\xfe\\\\xaf\\\\x10oyg?\\\\x7f\\\\x95!;4\\\\xb4d?Jx\\\\xc1\\\\xc6mnP?A\\\\x188\\\\xe9#\\\\x1bo?\\\\xe2\\\\x08\\\\x8f\\\\xd3x\\\\xb8w\\\\xbfJ\\\\xa2\\\\x8f\\\\xbd\\\\xb3=w\\\\xbffu.\\\\xe4FPf?\\\\x8d\\\\xc4\\\\x01}\\\\x81\\\\xacd?s\\\\xcc\\\\xdf-m\\\\xbc;?\\\\x86c\\\\xaf(L\\\\xf4s\\\\xbf:,\\\\xf2\\\\xd9\\\\x97\\\\x81f\\\\xbf\\\\xb9js\\\\x8ek<o\\\\xbf\\\\xc0e88;\\\\xef&\\\\xbf\\\\xfdm\\\\xbb\\\\x9d\\\\xfcnc\\\\xbf\\\\xae\\\\xa0\\\\xdax\\\\x03\\\\xb0`?\\\\x9d(\\\\xfa\\\\xa5\\\\x87\\\\xbas?X\\\\xd0E;\\\\xbc\\\\xeet?Sij\\\\xe9\\\\xc8Hd\\\\xbf\\\\x1d AY\\\\xb1\\\\x83a?\\\\xfc\\\\xaa\\\\xdd\\\\xb8>\\\\x11[\\\\xbf\\\\xa4\\\\xaa\\\\xfaP\\\\xe4\\\\xc6u\\\\xbf\\\\x91\\\\xd3\\\\\\'\\\\x0f6\\\\xfbp?\\\\xe0HW\\\\xf4\\\\x1a\\\\xeds\\\\xbf\\'\\np232\\ntp233\\nbsS\\'data\\'\\np234\\ng0\\n(cstatsmodels.base.data\\nPandasData\\np235\\ng2\\nNtp236\\nRp237\\n(dp238\\nS\\'const_idx\\'\\np239\\ng14\\n(g15\\n(I0\\ntp240\\ng17\\ntp241\\nRp242\\n(I1\\n(tg21\\n(S\\'i8\\'\\np243\\nI0\\nI1\\ntp244\\nRp245\\n(I3\\nS\\'<\\'\\np246\\nNNNI-1\\nI-1\\nI0\\ntp247\\nbI00\\nS\\'\\\\x00\\\\x00\\\\x00\\\\x00\\\\x00\\\\x00\\\\x00\\\\x00\\'\\np248\\ntp249\\nbsS\\'frame\\'\\np250\\ng0\\n(cpandas.core.frame\\nDataFrame\\np251\\ng2\\nNtp252\\nRp253\\n(dp254\\nS\\'_metadata\\'\\np255\\n(lp256\\nsS\\'_typ\\'\\np257\\nS\\'dataframe\\'\\np258\\nsS\\'_data\\'\\np259\\ng0\\n(cpandas.core.internals\\nBlockManager\\np260\\ng2\\nNtp261\\nRp262\\n((lp263\\ncpandas.core.index\\n_new_Index\\np264\\n(cpandas.core.index\\nIndex\\np265\\n(dp266\\ng234\\ng14\\n(g15\\n(I0\\ntp267\\ng17\\ntp268\\nRp269\\n(I1\\n(L3L\\ntp270\\ng21\\n(S\\'O8\\'\\np271\\nI0\\nI1\\ntp272\\nRp273\\n(I3\\nS\\'|\\'\\np274\\nNNNI-1\\nI-1\\nI63\\ntp275\\nbI00\\n(lp276\\nS\\'x1\\'\\np277\\naS\\'x2\\'\\np278\\naS\\'y\\'\\np279\\natp280\\nbsS\\'name\\'\\np281\\nNstp282\\nRp283\\nag264\\n(cpandas.core.index\\nInt64Index\\np284\\n(dp285\\ng234\\ng14\\n(g15\\n(I0\\ntp286\\ng17\\ntp287\\nRp288\\n(I1\\n(L50L\\ntp289\\ng245\\nI00\\nS\\'\\\\x00\\\\x00\\\\x00\\\\x00\\\\x00\\\\x00\\\\x00\\\\x00\\\\x01\\\\x00\\\\x00\\\\x00\\\\x00\\\\x00\\\\x00\\\\x00\\\\x02\\\\x00\\\\x00\\\\x00\\\\x00\\\\x00\\\\x00\\\\x00\\\\x03\\\\x00\\\\x00\\\\x00\\\\x00\\\\x00\\\\x00\\\\x00\\\\x04\\\\x00\\\\x00\\\\x00\\\\x00\\\\x00\\\\x00\\\\x00\\\\x05\\\\x00\\\\x00\\\\x00\\\\x00\\\\x00\\\\x00\\\\x00\\\\x06\\\\x00\\\\x00\\\\x00\\\\x00\\\\x00\\\\x00\\\\x00\\\\x07\\\\x00\\\\x00\\\\x00\\\\x00\\\\x00\\\\x00\\\\x00\\\\x08\\\\x00\\\\x00\\\\x00\\\\x00\\\\x00\\\\x00\\\\x00\\\\t\\\\x00\\\\x00\\\\x00\\\\x00\\\\x00\\\\x00\\\\x00\\\\n\\\\x00\\\\x00\\\\x00\\\\x00\\\\x00\\\\x00\\\\x00\\\\x0b\\\\x00\\\\x00\\\\x00\\\\x00\\\\x00\\\\x00\\\\x00\\\\x0c\\\\x00\\\\x00\\\\x00\\\\x00\\\\x00\\\\x00\\\\x00\\\\r\\\\x00\\\\x00\\\\x00\\\\x00\\\\x00\\\\x00\\\\x00\\\\x0e\\\\x00\\\\x00\\\\x00\\\\x00\\\\x00\\\\x00\\\\x00\\\\x0f\\\\x00\\\\x00\\\\x00\\\\x00\\\\x00\\\\x00\\\\x00\\\\x10\\\\x00\\\\x00\\\\x00\\\\x00\\\\x00\\\\x00\\\\x00\\\\x11\\\\x00\\\\x00\\\\x00\\\\x00\\\\x00\\\\x00\\\\x00\\\\x12\\\\x00\\\\x00\\\\x00\\\\x00\\\\x00\\\\x00\\\\x00\\\\x13\\\\x00\\\\x00\\\\x00\\\\x00\\\\x00\\\\x00\\\\x00\\\\x14\\\\x00\\\\x00\\\\x00\\\\x00\\\\x00\\\\x00\\\\x00\\\\x15\\\\x00\\\\x00\\\\x00\\\\x00\\\\x00\\\\x00\\\\x00\\\\x16\\\\x00\\\\x00\\\\x00\\\\x00\\\\x00\\\\x00\\\\x00\\\\x17\\\\x00\\\\x00\\\\x00\\\\x00\\\\x00\\\\x00\\\\x00\\\\x18\\\\x00\\\\x00\\\\x00\\\\x00\\\\x00\\\\x00\\\\x00\\\\x19\\\\x00\\\\x00\\\\x00\\\\x00\\\\x00\\\\x00\\\\x00\\\\x1a\\\\x00\\\\x00\\\\x00\\\\x00\\\\x00\\\\x00\\\\x00\\\\x1b\\\\x00\\\\x00\\\\x00\\\\x00\\\\x00\\\\x00\\\\x00\\\\x1c\\\\x00\\\\x00\\\\x00\\\\x00\\\\x00\\\\x00\\\\x00\\\\x1d\\\\x00\\\\x00\\\\x00\\\\x00\\\\x00\\\\x00\\\\x00\\\\x1e\\\\x00\\\\x00\\\\x00\\\\x00\\\\x00\\\\x00\\\\x00\\\\x1f\\\\x00\\\\x00\\\\x00\\\\x00\\\\x00\\\\x00\\\\x00 \\\\x00\\\\x00\\\\x00\\\\x00\\\\x00\\\\x00\\\\x00!\\\\x00\\\\x00\\\\x00\\\\x00\\\\x00\\\\x00\\\\x00\"\\\\x00\\\\x00\\\\x00\\\\x00\\\\x00\\\\x00\\\\x00#\\\\x00\\\\x00\\\\x00\\\\x00\\\\x00\\\\x00\\\\x00$\\\\x00\\\\x00\\\\x00\\\\x00\\\\x00\\\\x00\\\\x00%\\\\x00\\\\x00\\\\x00\\\\x00\\\\x00\\\\x00\\\\x00&\\\\x00\\\\x00\\\\x00\\\\x00\\\\x00\\\\x00\\\\x00\\\\\\'\\\\x00\\\\x00\\\\x00\\\\x00\\\\x00\\\\x00\\\\x00(\\\\x00\\\\x00\\\\x00\\\\x00\\\\x00\\\\x00\\\\x00)\\\\x00\\\\x00\\\\x00\\\\x00\\\\x00\\\\x00\\\\x00*\\\\x00\\\\x00\\\\x00\\\\x00\\\\x00\\\\x00\\\\x00+\\\\x00\\\\x00\\\\x00\\\\x00\\\\x00\\\\x00\\\\x00,\\\\x00\\\\x00\\\\x00\\\\x00\\\\x00\\\\x00\\\\x00-\\\\x00\\\\x00\\\\x00\\\\x00\\\\x00\\\\x00\\\\x00.\\\\x00\\\\x00\\\\x00\\\\x00\\\\x00\\\\x00\\\\x00/\\\\x00\\\\x00\\\\x00\\\\x00\\\\x00\\\\x00\\\\x000\\\\x00\\\\x00\\\\x00\\\\x00\\\\x00\\\\x00\\\\x001\\\\x00\\\\x00\\\\x00\\\\x00\\\\x00\\\\x00\\\\x00\\'\\np290\\ntp291\\nbsg281\\nNstp292\\nRp293\\na(lp294\\ng14\\n(g15\\n(I0\\ntp295\\ng17\\ntp296\\nRp297\\n(I1\\n(L3L\\nL50L\\ntp298\\ng24\\nI00\\nS\\'\\\\x08\\\\xce\\\\x04\\\\xb5\\\\t\\\\xb5\\\\x19@\\\\x13\\\\xa7=\\\\xf1\\\\x0b\\\\xf1#@\\\\xae\\\\xa3\\\\x8e\\\\xa2\\\\xd0\\\\r+@jF~&\\\\xa1?,@\\\\xfa\\\\x19\\\\xeb\\\\x8d\\\\x88\\\\xbe(@\\\\xc4\\\\xd1En\\\\xb5\\\\x06\\\\\\'@\\\\xca/\\\\xe3k\\\\x86s)@\\\\x88y\\\\x95\\\\x817N\\\\x17@\\\\xd0\\\\xb7\\\\xcd\\\\x1e\\\\xa0O/@\\\\xd4\\\\xbf,\\\\x8d\\\\xd3\\\\xcf)@\\\\xc2lP\\\\x1eFi0@08\\\\x96 \\\\x06\\\\x922@\\\\xc1l\\\\x87\\\\x96;N#@\\\\xba\\\\xa8\\\\xe5B\\\\xa1\\\\x93*@v\\\\x0b7+\\\\xd6\\\\x1b%@0\\\\x9f\\\\x1b\\\\x19\\\\x99\\\\xbc\\\\x1b@\\\\xb8]#!\\\\xf4\\\\x87\\\\x1f@p~\\\\t\\\\xdd\\\\x0c\\\\xb9\\\\n@i\\\\x87\\\\xfe\\\\xb2\\\\x11c-@@y\\\\x83/\\\\xca\\\\xad\\\\\\'@@\\\\xe1s\\\\x93\\\\xc6\\\\xa1\\\\x0f@r7{\\\\xcf)J3@\\\\xb8?\\\\x03\\\\xd4g\\\\xa80@\\\\xed\\\\xa5\\\\x1b\\\\xba\\\\xa5  @\\\\x8a\\\\x00\\\\x0f\\\\x90/|1@\\\\x8d 5\\\\xe6\\\\xcba!@\\\\xfa\\\\xc3\\\\xef\\\\xe2\\\\xda\\\\xf12@\\\\x9aL\\\\x1d\\\\x1d\\\\xa7\\\\xb3)@^\\\\x02M\\\\xf8\\\\xbf\\\\xff(@\\\\xc4XX?\\\\xad\\\\xa11@\\\\xf8v[\\\\x86\\\\xbf\\\\x1a\\\\x0c@y\"\\\\xf2P3]#@M\\\\xd3\\\\xfd\\\\xb8\\\\xbf\\\\xe61@\\\\x94]C\\\\x1c\\\\xa7\\\\x8c2@\\\\xb206\\\\x86\\\\x805\\\\x15@\\\\x80\\\\xed{\\\\\\\\\\\\x8bF*@nN\\\\xeda\\\\xe4$2@\\\\xc8\\\\xd3\\\\xa3\\\\x9e7\\\\r\\\\x12@P\\\\xb8f\\\\xcf\\\\x8b\\\\x0f\\\\xf8?h\\\\x12\\\\xc1\\\\xad\\\\xb4\\\\x97\\\\x18@f>\\\\x9c\\\\x90\\\\x88~,@\\\\xc0\\\\xab00]\\\\xcf,@2\\\\x8d\\\\x82#\\\\xc6\\\\xcb\\\\x1d@@\\\\x15\\\\xd7\\\\xa6\\\\x14\\\\xdd\\\\x18@\\\\x8aN\\\\xddkI\\\\x0c0@]\\\\xbd\\\\xf0\\\\xdbC\\\\xb62@:3\\\\x1e.\\\\xbd\\\\xc5*@*/\\\\xa4\\\\xcc+\\\\x82\\\\x18@x,3\\\\xf0z!1@\\\\x00(_\\\\xaeF\\\\xc8\\\\xfd?\\\\xcb\\\\x07\\\\x10\\\\x84\\\\xb1\\\\x862@\\\\x8244\\\\xc3\\\\xd2%\\\\x11@\\\\x02C5\\\\xe2\\\\x84\\\\xde0@\\\\xd8\\\\x986fd\\\\x06\\\\x0b@\\\\xcc\\\\x1d\\\\xe9\\\\xf5\\\\x9a\\\\xb5\\\\x12@P>0\\\\xd9\\\\xfd`2@\\\\x81p,(\\\\xcfX1@\\\\xacv\\\\x0e\\\\x8fNg3@\\\\xfa\\\\xa4\\\\xec#\\\\x16\\\\xb0\\\\x12@Zw\\\\xf8I\\\\\\\\}\\\\x13@YY\\\\xa1w\\\\xeb\\\\xbc2@Q\\\\xe6\\\\x9evF\\\\xa5)@r`\\\\xc8\\\\xac\\\\xb6f\\\\\\'@\\\\xf8\\\\xff\\\\xb9/\\\\xdc\\\\x8b+@\\\\xd0,\\\\xd4\\\\x8b\\\\x7f\\\\x97\\\\x18@Jy\\\\xb9<\\\\x9b?)@\\\\x88\\\\xf1\\\\x8e\\\\xfc\\\\xa3\\\\x9e\\\\x17@\\\\x00\\\\x8bf\\\\xe9\\\\xc9,\\\\x04@z\\\\xa3!oZ(&@`\\\\xa5h\\\\x96\\\\x16\\\\xb3 @\\\\xa0\\\\x19m=:\\\\x100@\\\\xa3[\\\\x1bn\\\\x13?#@r\\\\xc3\\\\xd6\\\\x8a\\\\xdaJ*@\\\\xea\\\\xafp\\\\xadGf2@@\\\\xda\\\\xb5\\\\xbc\\\\x07S-@\\\\xaf\\\\x0eg\\\\t\\\\xc9t\\\\\\'@<\\\\xebu\\\\xa5\\\\xc7@3@\\\\xc6\\\\xfb\\\\xdc7\\\\x1am0@\\\\xb7{C\\\\xaeJ\\\\x97/@\\\\x00$\\\\xd4\\\\x83\\\\xb5o,@\\\\x13\\\\xe6\\\\x81\\\\xba\\\\xab80@\\\\x00\\\\x9e\\\\xfb\\\\xf6\\\\x9d\\\\x14\\\\xf6?\\\\x90D\\\\xaac\\\\xd3\\\\xfe\\\\x08@\\\\x07\\\\xfb\\\\x97\\\\xb6zC1@\\\\xec\\\\x05\\\\x08D\\\\xb3\\\\xdd,@o\\\\xdc\\\\xb8h\\\\xbb\\\\xce(@j\\\\x04\\\\xfa\\\\\\\\\\\\xbd\\\\t\\\\x12@(D\\\\t\\\\x82\\\\x08\\\\xf2\\\\x15@\\\\x00[\\\\xfc\\\\xde\\\\xef\\\\x1f\\\\t@$M\\\\xff\\\\x81\\\\x1a-$@\\\\xf2@\\\\xf5\\\\x85\\\\x99\\\\xc9\\\\x1f@\\\\n\\\\xfd|I*\\\\xac.@\\\\xea\\\\xe8\\\\x05\\\\x02(\\\\xaa2@\\\\xdfP%_B\\\\xec2@z~\\\\x86i\\\\xcf9 @\\\\xc7\\\\x1fK\\\\xaa\\\\xffP0@]\\\\xbe\\\\xbbG3\\\\xf9!@P9\\\\x90|\\\\xc0\\\\x08\\\\xf8?\\\\xb8\\\\x9b\\\\x94\\\\x90\\\\xa5^3@\\\\x80,\\\\x07\\\\x11\\\\x12=\\\\xf7?\\\\x90\\\\xe6\\\\xa6Y\\\\xe2\\\\x18G@\\\\xbf\\\\xa2\\\\xd2^4_5@2\\\\x12&\\\\x94\\\\x85\\\\x99H@P\\\\xf3PH\\\\xeb\\\\xf46@E\\\\x10-\\\\x97\\\\xc0\\\\xf47@4\\\\xa4\\\\xd2\\\\xbd\\\\\\'\\\\x11I@{\\\\x87\\\\xf1>0&I@\\\\xabR\\\\xfb3\"\\\\x02G@\\\\xf2pFt\\\\xb9\\\\xea;@8\\\\xa1\\\\xc1h\\\\xc6\\\\xaf7@\\\\xb8d\\\\xe8\\\\xc7\\\\xda\\\\xffK@6:o\\\\xd1*\\\\x8cG@\\\\xb4j\\\\x90^6\\\\x14A@\\\\xb9\\\\t*\\\\xd7B\\\\xcaE@Tu\\\\xf2\\\\xc8\\\\x9ci9@\\\\xdf;\\\\x93\\\\x92G\\\\x1eA@c\\\\x18\\\\x19<#\\\\x165@\\\\x8f4\\\\x98Y\\\\xe9\\\\xc2$@\\\\xecI\\\\xc8\\\\xecb\\\\xafC@\\\\x95\\\\x1f\\\\xd9\\\\xbdA\\\\xf6>@\\\\xe6\\\\xc9_C\\\\xcf\\\\xffB@\\\\xb3\\\\x9d\\\\x91M\\\\x01\\\\xd6C@xe\\\\xcc\\\\x91\\\\x06jF@\\\\xec\\\\xdd a\\\\x19\\\\x1eG@\\\\x18\\\\x1fc\\\\x95\\\\x90\\\\xaeH@\\\\xa8k\\\\xd2:\\\\xbb\\\\xf5@@\\\\xec\\\\x16\\\\xa2l\\\\xdd`M@/\\\\x15DNhrG@\\\\xc8p\\\\xe73IfG@\\\\xdeY\\\\xc6\\\\\\\\X\\\\x01H@C7D\\\\xb0\\\\xfb\\\\xe5B@\\\\xfa\\\\x08A\\\\x00&1,@\\\\xb6\\\\xfb\\\\xe5v\"\\\\x9a:@\\\\xcf \\\\xb6}\\\\xd0+K@`\\\\xe7{\\\\xa0\\\\x86\\\\xe7A@\\\\xae\\\\x9d\\\\xcej\\\\xb5\\\\xffC@~\\\\x16\\\\xfe\\\\xa6\\\\xa4M<@\\\\xccHw0?\\\\x9c1@\\\\x9c5\\\\xe6=\\\\xccC%@l\\\\xe3*\\\\xd5\\\\xaf\\\\xeb;@\\\\x19\\\\xa7\\\\x84-\\\\xbf\\\\x88@@\\\\x8e\\\\x8f\\\\xe0]I\\\\x9eG@\\\\x02\\\\xe9\\\\xe2c\\\\x14\\\\rG@:\\\\xd20S\\\\x180G@\\\\xd6]?\\\\xed\\\\xe49A@t\\\\x8f\\\\xe9\\\\xd7(7J@g\\\\xb3\\\\xad\\\\x85\\\\x82E@@I$\\\\x0cG\\\\xbf\\\\xc8$@\\\\xad\\\\xde\\\\x038\\\\xbe\\\\xeaL@\\\\x12c\\\\x9d\"(\\\\xa9\\\\x1e@\\'\\np299\\ntp300\\nba(lp301\\ng264\\n(g265\\n(dp302\\ng234\\ng14\\n(g15\\n(I0\\ntp303\\ng17\\ntp304\\nRp305\\n(I1\\n(L3L\\ntp306\\ng273\\nI00\\n(lp307\\ng277\\nag278\\nag279\\natp308\\nbsg281\\nNstp309\\nRp310\\na(dp311\\nS\\'0.14.1\\'\\np312\\n(dp313\\nS\\'axes\\'\\np314\\ng263\\nsS\\'blocks\\'\\np315\\n(lp316\\n(dp317\\nS\\'mgr_locs\\'\\np318\\nc__builtin__\\nslice\\np319\\n(I0\\nI3\\nL1L\\ntp320\\nRp321\\nsS\\'values\\'\\np322\\ng297\\nsasstp323\\nbsbsg189\\ng192\\nsS\\'missing_row_idx\\'\\np324\\n(lp325\\nsg72\\ng0\\n(g73\\ng74\\n(dp326\\nS\\'ynames\\'\\np327\\ng279\\nsS\\'xnames\\'\\np328\\n(lp329\\nS\\'Intercept\\'\\np330\\naS\\'x1\\'\\np331\\naS\\'x2\\'\\np332\\nastp333\\nRp334\\n(dp335\\ng168\\n(dp336\\nsbsg71\\nI1\\nsg199\\ng218\\nsS\\'orig_exog\\'\\np337\\ng0\\n(g251\\ng2\\nNtp338\\nRp339\\n(dp340\\ng255\\ng256\\nsg257\\ng258\\nsg259\\ng0\\n(g260\\ng2\\nNtp341\\nRp342\\n((lp343\\ng264\\n(g265\\n(dp344\\ng234\\ng14\\n(g15\\n(I0\\ntp345\\ng17\\ntp346\\nRp347\\n(I1\\n(L3L\\ntp348\\ng273\\nI00\\n(lp349\\ng330\\nag331\\nag332\\natp350\\nbsg281\\nNstp351\\nRp352\\nag264\\n(g284\\n(dp353\\ng234\\ng14\\n(g15\\n(I0\\ntp354\\ng17\\ntp355\\nRp356\\n(I1\\n(L50L\\ntp357\\ng245\\nI00\\nS\\'\\\\x00\\\\x00\\\\x00\\\\x00\\\\x00\\\\x00\\\\x00\\\\x00\\\\x01\\\\x00\\\\x00\\\\x00\\\\x00\\\\x00\\\\x00\\\\x00\\\\x02\\\\x00\\\\x00\\\\x00\\\\x00\\\\x00\\\\x00\\\\x00\\\\x03\\\\x00\\\\x00\\\\x00\\\\x00\\\\x00\\\\x00\\\\x00\\\\x04\\\\x00\\\\x00\\\\x00\\\\x00\\\\x00\\\\x00\\\\x00\\\\x05\\\\x00\\\\x00\\\\x00\\\\x00\\\\x00\\\\x00\\\\x00\\\\x06\\\\x00\\\\x00\\\\x00\\\\x00\\\\x00\\\\x00\\\\x00\\\\x07\\\\x00\\\\x00\\\\x00\\\\x00\\\\x00\\\\x00\\\\x00\\\\x08\\\\x00\\\\x00\\\\x00\\\\x00\\\\x00\\\\x00\\\\x00\\\\t\\\\x00\\\\x00\\\\x00\\\\x00\\\\x00\\\\x00\\\\x00\\\\n\\\\x00\\\\x00\\\\x00\\\\x00\\\\x00\\\\x00\\\\x00\\\\x0b\\\\x00\\\\x00\\\\x00\\\\x00\\\\x00\\\\x00\\\\x00\\\\x0c\\\\x00\\\\x00\\\\x00\\\\x00\\\\x00\\\\x00\\\\x00\\\\r\\\\x00\\\\x00\\\\x00\\\\x00\\\\x00\\\\x00\\\\x00\\\\x0e\\\\x00\\\\x00\\\\x00\\\\x00\\\\x00\\\\x00\\\\x00\\\\x0f\\\\x00\\\\x00\\\\x00\\\\x00\\\\x00\\\\x00\\\\x00\\\\x10\\\\x00\\\\x00\\\\x00\\\\x00\\\\x00\\\\x00\\\\x00\\\\x11\\\\x00\\\\x00\\\\x00\\\\x00\\\\x00\\\\x00\\\\x00\\\\x12\\\\x00\\\\x00\\\\x00\\\\x00\\\\x00\\\\x00\\\\x00\\\\x13\\\\x00\\\\x00\\\\x00\\\\x00\\\\x00\\\\x00\\\\x00\\\\x14\\\\x00\\\\x00\\\\x00\\\\x00\\\\x00\\\\x00\\\\x00\\\\x15\\\\x00\\\\x00\\\\x00\\\\x00\\\\x00\\\\x00\\\\x00\\\\x16\\\\x00\\\\x00\\\\x00\\\\x00\\\\x00\\\\x00\\\\x00\\\\x17\\\\x00\\\\x00\\\\x00\\\\x00\\\\x00\\\\x00\\\\x00\\\\x18\\\\x00\\\\x00\\\\x00\\\\x00\\\\x00\\\\x00\\\\x00\\\\x19\\\\x00\\\\x00\\\\x00\\\\x00\\\\x00\\\\x00\\\\x00\\\\x1a\\\\x00\\\\x00\\\\x00\\\\x00\\\\x00\\\\x00\\\\x00\\\\x1b\\\\x00\\\\x00\\\\x00\\\\x00\\\\x00\\\\x00\\\\x00\\\\x1c\\\\x00\\\\x00\\\\x00\\\\x00\\\\x00\\\\x00\\\\x00\\\\x1d\\\\x00\\\\x00\\\\x00\\\\x00\\\\x00\\\\x00\\\\x00\\\\x1e\\\\x00\\\\x00\\\\x00\\\\x00\\\\x00\\\\x00\\\\x00\\\\x1f\\\\x00\\\\x00\\\\x00\\\\x00\\\\x00\\\\x00\\\\x00 \\\\x00\\\\x00\\\\x00\\\\x00\\\\x00\\\\x00\\\\x00!\\\\x00\\\\x00\\\\x00\\\\x00\\\\x00\\\\x00\\\\x00\"\\\\x00\\\\x00\\\\x00\\\\x00\\\\x00\\\\x00\\\\x00#\\\\x00\\\\x00\\\\x00\\\\x00\\\\x00\\\\x00\\\\x00$\\\\x00\\\\x00\\\\x00\\\\x00\\\\x00\\\\x00\\\\x00%\\\\x00\\\\x00\\\\x00\\\\x00\\\\x00\\\\x00\\\\x00&\\\\x00\\\\x00\\\\x00\\\\x00\\\\x00\\\\x00\\\\x00\\\\\\'\\\\x00\\\\x00\\\\x00\\\\x00\\\\x00\\\\x00\\\\x00(\\\\x00\\\\x00\\\\x00\\\\x00\\\\x00\\\\x00\\\\x00)\\\\x00\\\\x00\\\\x00\\\\x00\\\\x00\\\\x00\\\\x00*\\\\x00\\\\x00\\\\x00\\\\x00\\\\x00\\\\x00\\\\x00+\\\\x00\\\\x00\\\\x00\\\\x00\\\\x00\\\\x00\\\\x00,\\\\x00\\\\x00\\\\x00\\\\x00\\\\x00\\\\x00\\\\x00-\\\\x00\\\\x00\\\\x00\\\\x00\\\\x00\\\\x00\\\\x00.\\\\x00\\\\x00\\\\x00\\\\x00\\\\x00\\\\x00\\\\x00/\\\\x00\\\\x00\\\\x00\\\\x00\\\\x00\\\\x00\\\\x000\\\\x00\\\\x00\\\\x00\\\\x00\\\\x00\\\\x00\\\\x001\\\\x00\\\\x00\\\\x00\\\\x00\\\\x00\\\\x00\\\\x00\\'\\np358\\ntp359\\nbsg281\\nNstp360\\nRp361\\na(lp362\\ng14\\n(g15\\n(I0\\ntp363\\ng17\\ntp364\\nRp365\\n(I1\\n(L3L\\nL50L\\ntp366\\ng24\\nI01\\nS\\'\\\\x00\\\\x00\\\\x00\\\\x00\\\\x00\\\\x00\\\\xf0?\\\\x08\\\\xce\\\\x04\\\\xb5\\\\t\\\\xb5\\\\x19@\\\\xcb\\\\x07\\\\x10\\\\x84\\\\xb1\\\\x862@\\\\x00\\\\x00\\\\x00\\\\x00\\\\x00\\\\x00\\\\xf0?\\\\x13\\\\xa7=\\\\xf1\\\\x0b\\\\xf1#@\\\\x8244\\\\xc3\\\\xd2%\\\\x11@\\\\x00\\\\x00\\\\x00\\\\x00\\\\x00\\\\x00\\\\xf0?\\\\xae\\\\xa3\\\\x8e\\\\xa2\\\\xd0\\\\r+@\\\\x02C5\\\\xe2\\\\x84\\\\xde0@\\\\x00\\\\x00\\\\x00\\\\x00\\\\x00\\\\x00\\\\xf0?jF~&\\\\xa1?,@\\\\xd8\\\\x986fd\\\\x06\\\\x0b@\\\\x00\\\\x00\\\\x00\\\\x00\\\\x00\\\\x00\\\\xf0?\\\\xfa\\\\x19\\\\xeb\\\\x8d\\\\x88\\\\xbe(@\\\\xcc\\\\x1d\\\\xe9\\\\xf5\\\\x9a\\\\xb5\\\\x12@\\\\x00\\\\x00\\\\x00\\\\x00\\\\x00\\\\x00\\\\xf0?\\\\xc4\\\\xd1En\\\\xb5\\\\x06\\\\\\'@P>0\\\\xd9\\\\xfd`2@\\\\x00\\\\x00\\\\x00\\\\x00\\\\x00\\\\x00\\\\xf0?\\\\xca/\\\\xe3k\\\\x86s)@\\\\x81p,(\\\\xcfX1@\\\\x00\\\\x00\\\\x00\\\\x00\\\\x00\\\\x00\\\\xf0?\\\\x88y\\\\x95\\\\x817N\\\\x17@\\\\xacv\\\\x0e\\\\x8fNg3@\\\\x00\\\\x00\\\\x00\\\\x00\\\\x00\\\\x00\\\\xf0?\\\\xd0\\\\xb7\\\\xcd\\\\x1e\\\\xa0O/@\\\\xfa\\\\xa4\\\\xec#\\\\x16\\\\xb0\\\\x12@\\\\x00\\\\x00\\\\x00\\\\x00\\\\x00\\\\x00\\\\xf0?\\\\xd4\\\\xbf,\\\\x8d\\\\xd3\\\\xcf)@Zw\\\\xf8I\\\\\\\\}\\\\x13@\\\\x00\\\\x00\\\\x00\\\\x00\\\\x00\\\\x00\\\\xf0?\\\\xc2lP\\\\x1eFi0@YY\\\\xa1w\\\\xeb\\\\xbc2@\\\\x00\\\\x00\\\\x00\\\\x00\\\\x00\\\\x00\\\\xf0?08\\\\x96 \\\\x06\\\\x922@Q\\\\xe6\\\\x9evF\\\\xa5)@\\\\x00\\\\x00\\\\x00\\\\x00\\\\x00\\\\x00\\\\xf0?\\\\xc1l\\\\x87\\\\x96;N#@r`\\\\xc8\\\\xac\\\\xb6f\\\\\\'@\\\\x00\\\\x00\\\\x00\\\\x00\\\\x00\\\\x00\\\\xf0?\\\\xba\\\\xa8\\\\xe5B\\\\xa1\\\\x93*@\\\\xf8\\\\xff\\\\xb9/\\\\xdc\\\\x8b+@\\\\x00\\\\x00\\\\x00\\\\x00\\\\x00\\\\x00\\\\xf0?v\\\\x0b7+\\\\xd6\\\\x1b%@\\\\xd0,\\\\xd4\\\\x8b\\\\x7f\\\\x97\\\\x18@\\\\x00\\\\x00\\\\x00\\\\x00\\\\x00\\\\x00\\\\xf0?0\\\\x9f\\\\x1b\\\\x19\\\\x99\\\\xbc\\\\x1b@Jy\\\\xb9<\\\\x9b?)@\\\\x00\\\\x00\\\\x00\\\\x00\\\\x00\\\\x00\\\\xf0?\\\\xb8]#!\\\\xf4\\\\x87\\\\x1f@\\\\x88\\\\xf1\\\\x8e\\\\xfc\\\\xa3\\\\x9e\\\\x17@\\\\x00\\\\x00\\\\x00\\\\x00\\\\x00\\\\x00\\\\xf0?p~\\\\t\\\\xdd\\\\x0c\\\\xb9\\\\n@\\\\x00\\\\x8bf\\\\xe9\\\\xc9,\\\\x04@\\\\x00\\\\x00\\\\x00\\\\x00\\\\x00\\\\x00\\\\xf0?i\\\\x87\\\\xfe\\\\xb2\\\\x11c-@z\\\\xa3!oZ(&@\\\\x00\\\\x00\\\\x00\\\\x00\\\\x00\\\\x00\\\\xf0?@y\\\\x83/\\\\xca\\\\xad\\\\\\'@`\\\\xa5h\\\\x96\\\\x16\\\\xb3 @\\\\x00\\\\x00\\\\x00\\\\x00\\\\x00\\\\x00\\\\xf0?@\\\\xe1s\\\\x93\\\\xc6\\\\xa1\\\\x0f@\\\\xa0\\\\x19m=:\\\\x100@\\\\x00\\\\x00\\\\x00\\\\x00\\\\x00\\\\x00\\\\xf0?r7{\\\\xcf)J3@\\\\xa3[\\\\x1bn\\\\x13?#@\\\\x00\\\\x00\\\\x00\\\\x00\\\\x00\\\\x00\\\\xf0?\\\\xb8?\\\\x03\\\\xd4g\\\\xa80@r\\\\xc3\\\\xd6\\\\x8a\\\\xdaJ*@\\\\x00\\\\x00\\\\x00\\\\x00\\\\x00\\\\x00\\\\xf0?\\\\xed\\\\xa5\\\\x1b\\\\xba\\\\xa5  @\\\\xea\\\\xafp\\\\xadGf2@\\\\x00\\\\x00\\\\x00\\\\x00\\\\x00\\\\x00\\\\xf0?\\\\x8a\\\\x00\\\\x0f\\\\x90/|1@@\\\\xda\\\\xb5\\\\xbc\\\\x07S-@\\\\x00\\\\x00\\\\x00\\\\x00\\\\x00\\\\x00\\\\xf0?\\\\x8d 5\\\\xe6\\\\xcba!@\\\\xaf\\\\x0eg\\\\t\\\\xc9t\\\\\\'@\\\\x00\\\\x00\\\\x00\\\\x00\\\\x00\\\\x00\\\\xf0?\\\\xfa\\\\xc3\\\\xef\\\\xe2\\\\xda\\\\xf12@<\\\\xebu\\\\xa5\\\\xc7@3@\\\\x00\\\\x00\\\\x00\\\\x00\\\\x00\\\\x00\\\\xf0?\\\\x9aL\\\\x1d\\\\x1d\\\\xa7\\\\xb3)@\\\\xc6\\\\xfb\\\\xdc7\\\\x1am0@\\\\x00\\\\x00\\\\x00\\\\x00\\\\x00\\\\x00\\\\xf0?^\\\\x02M\\\\xf8\\\\xbf\\\\xff(@\\\\xb7{C\\\\xaeJ\\\\x97/@\\\\x00\\\\x00\\\\x00\\\\x00\\\\x00\\\\x00\\\\xf0?\\\\xc4XX?\\\\xad\\\\xa11@\\\\x00$\\\\xd4\\\\x83\\\\xb5o,@\\\\x00\\\\x00\\\\x00\\\\x00\\\\x00\\\\x00\\\\xf0?\\\\xf8v[\\\\x86\\\\xbf\\\\x1a\\\\x0c@\\\\x13\\\\xe6\\\\x81\\\\xba\\\\xab80@\\\\x00\\\\x00\\\\x00\\\\x00\\\\x00\\\\x00\\\\xf0?y\"\\\\xf2P3]#@\\\\x00\\\\x9e\\\\xfb\\\\xf6\\\\x9d\\\\x14\\\\xf6?\\\\x00\\\\x00\\\\x00\\\\x00\\\\x00\\\\x00\\\\xf0?M\\\\xd3\\\\xfd\\\\xb8\\\\xbf\\\\xe61@\\\\x90D\\\\xaac\\\\xd3\\\\xfe\\\\x08@\\\\x00\\\\x00\\\\x00\\\\x00\\\\x00\\\\x00\\\\xf0?\\\\x94]C\\\\x1c\\\\xa7\\\\x8c2@\\\\x07\\\\xfb\\\\x97\\\\xb6zC1@\\\\x00\\\\x00\\\\x00\\\\x00\\\\x00\\\\x00\\\\xf0?\\\\xb206\\\\x86\\\\x805\\\\x15@\\\\xec\\\\x05\\\\x08D\\\\xb3\\\\xdd,@\\\\x00\\\\x00\\\\x00\\\\x00\\\\x00\\\\x00\\\\xf0?\\\\x80\\\\xed{\\\\\\\\\\\\x8bF*@o\\\\xdc\\\\xb8h\\\\xbb\\\\xce(@\\\\x00\\\\x00\\\\x00\\\\x00\\\\x00\\\\x00\\\\xf0?nN\\\\xeda\\\\xe4$2@j\\\\x04\\\\xfa\\\\\\\\\\\\xbd\\\\t\\\\x12@\\\\x00\\\\x00\\\\x00\\\\x00\\\\x00\\\\x00\\\\xf0?\\\\xc8\\\\xd3\\\\xa3\\\\x9e7\\\\r\\\\x12@(D\\\\t\\\\x82\\\\x08\\\\xf2\\\\x15@\\\\x00\\\\x00\\\\x00\\\\x00\\\\x00\\\\x00\\\\xf0?P\\\\xb8f\\\\xcf\\\\x8b\\\\x0f\\\\xf8?\\\\x00[\\\\xfc\\\\xde\\\\xef\\\\x1f\\\\t@\\\\x00\\\\x00\\\\x00\\\\x00\\\\x00\\\\x00\\\\xf0?h\\\\x12\\\\xc1\\\\xad\\\\xb4\\\\x97\\\\x18@$M\\\\xff\\\\x81\\\\x1a-$@\\\\x00\\\\x00\\\\x00\\\\x00\\\\x00\\\\x00\\\\xf0?f>\\\\x9c\\\\x90\\\\x88~,@\\\\xf2@\\\\xf5\\\\x85\\\\x99\\\\xc9\\\\x1f@\\\\x00\\\\x00\\\\x00\\\\x00\\\\x00\\\\x00\\\\xf0?\\\\xc0\\\\xab00]\\\\xcf,@\\\\n\\\\xfd|I*\\\\xac.@\\\\x00\\\\x00\\\\x00\\\\x00\\\\x00\\\\x00\\\\xf0?2\\\\x8d\\\\x82#\\\\xc6\\\\xcb\\\\x1d@\\\\xea\\\\xe8\\\\x05\\\\x02(\\\\xaa2@\\\\x00\\\\x00\\\\x00\\\\x00\\\\x00\\\\x00\\\\xf0?@\\\\x15\\\\xd7\\\\xa6\\\\x14\\\\xdd\\\\x18@\\\\xdfP%_B\\\\xec2@\\\\x00\\\\x00\\\\x00\\\\x00\\\\x00\\\\x00\\\\xf0?\\\\x8aN\\\\xddkI\\\\x0c0@z~\\\\x86i\\\\xcf9 @\\\\x00\\\\x00\\\\x00\\\\x00\\\\x00\\\\x00\\\\xf0?]\\\\xbd\\\\xf0\\\\xdbC\\\\xb62@\\\\xc7\\\\x1fK\\\\xaa\\\\xffP0@\\\\x00\\\\x00\\\\x00\\\\x00\\\\x00\\\\x00\\\\xf0?:3\\\\x1e.\\\\xbd\\\\xc5*@]\\\\xbe\\\\xbbG3\\\\xf9!@\\\\x00\\\\x00\\\\x00\\\\x00\\\\x00\\\\x00\\\\xf0?*/\\\\xa4\\\\xcc+\\\\x82\\\\x18@P9\\\\x90|\\\\xc0\\\\x08\\\\xf8?\\\\x00\\\\x00\\\\x00\\\\x00\\\\x00\\\\x00\\\\xf0?x,3\\\\xf0z!1@\\\\xb8\\\\x9b\\\\x94\\\\x90\\\\xa5^3@\\\\x00\\\\x00\\\\x00\\\\x00\\\\x00\\\\x00\\\\xf0?\\\\x00(_\\\\xaeF\\\\xc8\\\\xfd?\\\\x80,\\\\x07\\\\x11\\\\x12=\\\\xf7?\\'\\np367\\ntp368\\nba(lp369\\ng264\\n(g265\\n(dp370\\ng234\\ng14\\n(g15\\n(I0\\ntp371\\ng17\\ntp372\\nRp373\\n(I1\\n(L3L\\ntp374\\ng273\\nI00\\n(lp375\\ng330\\nag331\\nag332\\natp376\\nbsg281\\nNstp377\\nRp378\\na(dp379\\ng312\\n(dp380\\ng314\\ng343\\nsg315\\n(lp381\\n(dp382\\ng318\\ng319\\n(I0\\nI3\\nI1\\ntp383\\nRp384\\nsg322\\ng365\\nsasstp385\\nbsbsS\\'orig_endog\\'\\np386\\ng0\\n(g251\\ng2\\nNtp387\\nRp388\\n(dp389\\ng255\\ng256\\nsg257\\ng258\\nsg259\\ng0\\n(g260\\ng2\\nNtp390\\nRp391\\n((lp392\\ng264\\n(g265\\n(dp393\\ng234\\ng14\\n(g15\\n(I0\\ntp394\\ng17\\ntp395\\nRp396\\n(I1\\n(L1L\\ntp397\\ng273\\nI00\\n(lp398\\ng279\\natp399\\nbsg281\\nNstp400\\nRp401\\nag361\\na(lp402\\ng14\\n(g15\\n(I0\\ntp403\\ng17\\ntp404\\nRp405\\n(I1\\n(L1L\\nL50L\\ntp406\\ng24\\nI01\\nS\\'\\\\x90\\\\xe6\\\\xa6Y\\\\xe2\\\\x18G@\\\\xbf\\\\xa2\\\\xd2^4_5@2\\\\x12&\\\\x94\\\\x85\\\\x99H@P\\\\xf3PH\\\\xeb\\\\xf46@E\\\\x10-\\\\x97\\\\xc0\\\\xf47@4\\\\xa4\\\\xd2\\\\xbd\\\\\\'\\\\x11I@{\\\\x87\\\\xf1>0&I@\\\\xabR\\\\xfb3\"\\\\x02G@\\\\xf2pFt\\\\xb9\\\\xea;@8\\\\xa1\\\\xc1h\\\\xc6\\\\xaf7@\\\\xb8d\\\\xe8\\\\xc7\\\\xda\\\\xffK@6:o\\\\xd1*\\\\x8cG@\\\\xb4j\\\\x90^6\\\\x14A@\\\\xb9\\\\t*\\\\xd7B\\\\xcaE@Tu\\\\xf2\\\\xc8\\\\x9ci9@\\\\xdf;\\\\x93\\\\x92G\\\\x1eA@c\\\\x18\\\\x19<#\\\\x165@\\\\x8f4\\\\x98Y\\\\xe9\\\\xc2$@\\\\xecI\\\\xc8\\\\xecb\\\\xafC@\\\\x95\\\\x1f\\\\xd9\\\\xbdA\\\\xf6>@\\\\xe6\\\\xc9_C\\\\xcf\\\\xffB@\\\\xb3\\\\x9d\\\\x91M\\\\x01\\\\xd6C@xe\\\\xcc\\\\x91\\\\x06jF@\\\\xec\\\\xdd a\\\\x19\\\\x1eG@\\\\x18\\\\x1fc\\\\x95\\\\x90\\\\xaeH@\\\\xa8k\\\\xd2:\\\\xbb\\\\xf5@@\\\\xec\\\\x16\\\\xa2l\\\\xdd`M@/\\\\x15DNhrG@\\\\xc8p\\\\xe73IfG@\\\\xdeY\\\\xc6\\\\\\\\X\\\\x01H@C7D\\\\xb0\\\\xfb\\\\xe5B@\\\\xfa\\\\x08A\\\\x00&1,@\\\\xb6\\\\xfb\\\\xe5v\"\\\\x9a:@\\\\xcf \\\\xb6}\\\\xd0+K@`\\\\xe7{\\\\xa0\\\\x86\\\\xe7A@\\\\xae\\\\x9d\\\\xcej\\\\xb5\\\\xffC@~\\\\x16\\\\xfe\\\\xa6\\\\xa4M<@\\\\xccHw0?\\\\x9c1@\\\\x9c5\\\\xe6=\\\\xccC%@l\\\\xe3*\\\\xd5\\\\xaf\\\\xeb;@\\\\x19\\\\xa7\\\\x84-\\\\xbf\\\\x88@@\\\\x8e\\\\x8f\\\\xe0]I\\\\x9eG@\\\\x02\\\\xe9\\\\xe2c\\\\x14\\\\rG@:\\\\xd20S\\\\x180G@\\\\xd6]?\\\\xed\\\\xe49A@t\\\\x8f\\\\xe9\\\\xd7(7J@g\\\\xb3\\\\xad\\\\x85\\\\x82E@@I$\\\\x0cG\\\\xbf\\\\xc8$@\\\\xad\\\\xde\\\\x038\\\\xbe\\\\xeaL@\\\\x12c\\\\x9d\"(\\\\xa9\\\\x1e@\\'\\np407\\ntp408\\nba(lp409\\ng264\\n(g265\\n(dp410\\ng234\\ng14\\n(g15\\n(I0\\ntp411\\ng17\\ntp412\\nRp413\\n(I1\\n(L1L\\ntp414\\ng273\\nI00\\n(lp415\\ng279\\natp416\\nbsg281\\nNstp417\\nRp418\\na(dp419\\ng312\\n(dp420\\ng314\\ng392\\nsg315\\n(lp421\\n(dp422\\ng318\\ng319\\n(I0\\nI1\\nI1\\ntp423\\nRp424\\nsg322\\ng405\\nsasstp425\\nbsbsbsg199\\ng218\\nsS\\'_df_model\\'\\np426\\nF2.0\\nsbsg197\\n(lp427\\nsbsb.'"
      ]
     },
     "execution_count": 5,
     "metadata": {},
     "output_type": "execute_result"
    }
   ],
   "source": [
    "pickle.dumps(model)"
   ]
  },
  {
   "cell_type": "markdown",
   "metadata": {},
   "source": [
    "I guess I am just trusting that this is correct.  Let's write that nonsense to disk."
   ]
  },
  {
   "cell_type": "code",
   "execution_count": 6,
   "metadata": {
    "collapsed": false
   },
   "outputs": [],
   "source": [
    "with open('model_dump','w') as f:\n",
    "    pickle.dump(model,f)"
   ]
  },
  {
   "cell_type": "markdown",
   "metadata": {},
   "source": [
    "Now we can read the model object back in, save it as a new instance, and use it to predict based upon the original regressor data.  This result can be compared to the original prediction above."
   ]
  },
  {
   "cell_type": "code",
   "execution_count": 7,
   "metadata": {
    "collapsed": false
   },
   "outputs": [
    {
     "name": "stdout",
     "output_type": "stream",
     "text": [
      "                            OLS Regression Results                            \n",
      "==============================================================================\n",
      "Dep. Variable:                      y   R-squared:                       0.998\n",
      "Model:                            OLS   Adj. R-squared:                  0.998\n",
      "Method:                 Least Squares   F-statistic:                 1.232e+04\n",
      "Date:                Fri, 26 Feb 2016   Prob (F-statistic):           1.17e-64\n",
      "Time:                        20:15:31   Log-Likelihood:                -44.204\n",
      "No. Observations:                  50   AIC:                             94.41\n",
      "Df Residuals:                      47   BIC:                             100.1\n",
      "Df Model:                           2                                         \n",
      "Covariance Type:            nonrobust                                         \n",
      "==============================================================================\n",
      "                 coef    std err          t      P>|t|      [95.0% Conf. Int.]\n",
      "------------------------------------------------------------------------------\n",
      "Intercept      2.2185      0.252      8.789      0.000         1.711     2.726\n",
      "x1             0.9950      0.017     58.379      0.000         0.961     1.029\n",
      "x2             1.9848      0.015    134.216      0.000         1.955     2.015\n",
      "==============================================================================\n",
      "Omnibus:                        9.250   Durbin-Watson:                   2.216\n",
      "Prob(Omnibus):                  0.010   Jarque-Bera (JB):                2.707\n",
      "Skew:                          -0.024   Prob(JB):                        0.258\n",
      "Kurtosis:                       1.861   Cond. No.                         51.2\n",
      "==============================================================================\n",
      "\n",
      "Warnings:\n",
      "[1] Standard Errors assume that the covariance matrix of the errors is correctly specified.\n"
     ]
    }
   ],
   "source": [
    "#Capture model object from disk\n",
    "with open('model_dump','r') as f:\n",
    "    model2=pickle.load(f)\n",
    "\n",
    "#Show model summary\n",
    "print model2.summary()\n",
    "\n",
    "#Predict new values of y\n",
    "# pred_y2=model2.predict(data[['x1','x2']])"
   ]
  },
  {
   "cell_type": "markdown",
   "metadata": {},
   "source": [
    "    ---------------------------------------------------------------------------\n",
    "    AttributeError                            Traceback (most recent call last)\n",
    "    <ipython-input-16-f7a79b10e2b5> in <module>()\n",
    "          7 \n",
    "          8 #Predict new values of y\n",
    "    ----> 9 pred_y2=model2.predict(data[['x1','x2']])\n",
    "\n",
    "    C:\\Users\\marvinw\\AppData\\Local\\Continuum\\Anaconda\\lib\\site-packages\\statsmodels\\base\\model.pyc in predict(self, exog, transform, *args, **kwargs)\n",
    "        876         if transform and hasattr(self.model, 'formula') and exog is not None:\n",
    "        877             from patsy import dmatrix\n",
    "    --> 878             exog = dmatrix(self.model.data.orig_exog.design_info.builder,\n",
    "        879                     exog)\n",
    "        880         return self.model.predict(self.params, exog, *args, **kwargs)\n",
    "\n",
    "    C:\\Users\\marvinw\\AppData\\Local\\Continuum\\Anaconda\\lib\\site-packages\\pandas\\core\\generic.pyc in __getattr__(self, name)\n",
    "       1976                 return self[name]\n",
    "       1977             raise AttributeError(\"'%s' object has no attribute '%s'\" %\n",
    "    -> 1978                                  (type(self).__name__, name))\n",
    "       1979 \n",
    "       1980     def __setattr__(self, name, value):\n",
    "\n",
    "    AttributeError: 'DataFrame' object has no attribute 'design_info'"
   ]
  },
  {
   "cell_type": "markdown",
   "metadata": {},
   "source": [
    "Hmmmm.  While it does appear that we have reconstituted the object, clearly something was lost in translation.  This helpful [SO post](http://stackoverflow.com/questions/20724919/pandas-dataframe-attributeerror-dataframe-object-has-no-attribute-design-inf) reveals that user additions to the model can get lost.  In this case, `design_info` is referring to the formula used to fit the model: `'y ~ x1 + x2'`.  The post suggests either building a design matrix explicitly with **`patsy`**, or just making sure we add a constant to our input data for the unpickled version of the model."
   ]
  },
  {
   "cell_type": "code",
   "execution_count": 8,
   "metadata": {
    "collapsed": false
   },
   "outputs": [
    {
     "data": {
      "text/plain": [
       "array([  0.00000000e+00,   0.00000000e+00,   0.00000000e+00,\n",
       "         0.00000000e+00,   0.00000000e+00,   0.00000000e+00,\n",
       "         0.00000000e+00,   0.00000000e+00,   0.00000000e+00,\n",
       "         0.00000000e+00,   0.00000000e+00,   0.00000000e+00,\n",
       "         0.00000000e+00,   0.00000000e+00,   0.00000000e+00,\n",
       "         0.00000000e+00,   3.55271368e-15,   0.00000000e+00,\n",
       "         0.00000000e+00,   0.00000000e+00,   7.10542736e-15,\n",
       "         0.00000000e+00,   0.00000000e+00,   0.00000000e+00,\n",
       "         0.00000000e+00,   0.00000000e+00,   0.00000000e+00,\n",
       "         0.00000000e+00,   0.00000000e+00,   0.00000000e+00,\n",
       "         0.00000000e+00,   0.00000000e+00,   0.00000000e+00,\n",
       "         0.00000000e+00,  -7.10542736e-15,   0.00000000e+00,\n",
       "         3.55271368e-15,   3.55271368e-15,   0.00000000e+00,\n",
       "         0.00000000e+00,   0.00000000e+00,   0.00000000e+00,\n",
       "         0.00000000e+00,  -7.10542736e-15,   0.00000000e+00,\n",
       "         0.00000000e+00,   0.00000000e+00,  -1.77635684e-15,\n",
       "         0.00000000e+00,   8.88178420e-16])"
      ]
     },
     "execution_count": 8,
     "metadata": {},
     "output_type": "execute_result"
    }
   ],
   "source": [
    "#Predict new values of y\n",
    "pred_y2=model2.predict(add_constant(data[['x1','x2']]),transform=False)\n",
    "\n",
    "pred_y-pred_y2"
   ]
  },
  {
   "cell_type": "markdown",
   "metadata": {},
   "source": [
    "I think that I can handle those small deviations.  Looks like this works as expected."
   ]
  },
  {
   "cell_type": "code",
   "execution_count": 14,
   "metadata": {
    "collapsed": false
   },
   "outputs": [
    {
     "data": {
      "text/plain": [
       "array([0, 0, 1, 0, 0, 0, 0, 0, 1, 0])"
      ]
     },
     "execution_count": 14,
     "metadata": {},
     "output_type": "execute_result"
    }
   ],
   "source": [
    "np.random.choice(range(0,2),size=10)"
   ]
  },
  {
   "cell_type": "code",
   "execution_count": 15,
   "metadata": {
    "collapsed": false
   },
   "outputs": [
    {
     "name": "stdout",
     "output_type": "stream",
     "text": [
      "Optimization terminated successfully.\n",
      "         Current function value: 0.687744\n",
      "         Iterations 4\n"
     ]
    },
    {
     "data": {
      "text/plain": [
       "<statsmodels.discrete.discrete_model.BinaryResultsWrapper at 0x15776fd0>"
      ]
     },
     "execution_count": 15,
     "metadata": {},
     "output_type": "execute_result"
    }
   ],
   "source": [
    "import statsmodels.api as sm\n",
    "X=data[['x1','x2']].values\n",
    "y=np.random.choice(range(0,2),size=len(data))\n",
    "p=sm.Probit(y,X).fit(maxiter=1000)\n",
    "p"
   ]
  },
  {
   "cell_type": "code",
   "execution_count": 62,
   "metadata": {
    "collapsed": false
   },
   "outputs": [
    {
     "data": {
      "text/plain": [
       "True"
      ]
     },
     "execution_count": 62,
     "metadata": {},
     "output_type": "execute_result"
    }
   ],
   "source": [
    "summary_string=p.summary().as_csv().split(',')\n",
    "ll_text_idx=[i for i,content in enumerate(summary_string) if 'Log-Likelihood:' in content][0]\n",
    "ll_rep_value=summary_string[conv_text_idx+1].strip().split('\\n')[0]\n",
    "ll_max_found=ll_rep_value != 'nan'\n",
    "ll_max_found"
   ]
  },
  {
   "cell_type": "code",
   "execution_count": 40,
   "metadata": {
    "collapsed": false
   },
   "outputs": [
    {
     "data": {
      "text/plain": [
       "['                  Probit Regression Results                   \\nDep. Variable:',\n",
       " 'y               ',\n",
       " '  No. Observations:  ',\n",
       " '    50  \\nModel:        ',\n",
       " 'Probit          ',\n",
       " '  Df Residuals:      ',\n",
       " '    48  \\nMethod:       ',\n",
       " 'MLE             ',\n",
       " '  Df Model:          ',\n",
       " '     1  \\nDate:         ',\n",
       " 'Mon',\n",
       " ' 29 Feb 2016',\n",
       " '  Pseudo R-squ.:     ',\n",
       " '-0.02189\\nTime:         ',\n",
       " '16:09:48        ',\n",
       " '  Log-Likelihood:    ',\n",
       " ' -34.387\\nconverged:    ',\n",
       " 'True            ',\n",
       " '  LL-Null:           ',\n",
       " ' -33.651\\n              ',\n",
       " '                ',\n",
       " '  LLR p-value:       ',\n",
       " ' 1.000  \\n  ',\n",
       " '   coef   ',\n",
       " ' std err ',\n",
       " '    z    ',\n",
       " 'P>|z| ',\n",
       " ' [95.0% Conf. Int.]\\nx1',\n",
       " '   -0.0166',\n",
       " '    0.027',\n",
       " '   -0.625',\n",
       " ' 0.532',\n",
       " '   -0.069     0.035\\nx2',\n",
       " '    0.0085',\n",
       " '    0.026',\n",
       " '    0.327',\n",
       " ' 0.743',\n",
       " '   -0.042     0.059']"
      ]
     },
     "execution_count": 40,
     "metadata": {},
     "output_type": "execute_result"
    }
   ],
   "source": [
    "p.summary().as_csv().split(',')"
   ]
  },
  {
   "cell_type": "code",
   "execution_count": 42,
   "metadata": {
    "collapsed": false
   },
   "outputs": [
    {
     "name": "stdout",
     "output_type": "stream",
     "text": [
      "                          Probit Regression Results                           \n",
      "==============================================================================\n",
      "Dep. Variable:                      y   No. Observations:                   50\n",
      "Model:                         Probit   Df Residuals:                       48\n",
      "Method:                           MLE   Df Model:                            1\n",
      "Date:                Mon, 29 Feb 2016   Pseudo R-squ.:                -0.02189\n",
      "Time:                        16:11:05   Log-Likelihood:                -34.387\n",
      "converged:                       True   LL-Null:                       -33.651\n",
      "                                        LLR p-value:                     1.000\n",
      "==============================================================================\n"
     ]
    }
   ],
   "source": [
    "print p.summary().tables[0]"
   ]
  },
  {
   "cell_type": "code",
   "execution_count": 31,
   "metadata": {
    "collapsed": false
   },
   "outputs": [
    {
     "data": {
      "text/plain": [
       "['_Cell',\n",
       " '_Row',\n",
       " '__add__',\n",
       " '__class__',\n",
       " '__contains__',\n",
       " '__delattr__',\n",
       " '__delitem__',\n",
       " '__delslice__',\n",
       " '__dict__',\n",
       " '__doc__',\n",
       " '__eq__',\n",
       " '__format__',\n",
       " '__ge__',\n",
       " '__getattribute__',\n",
       " '__getitem__',\n",
       " '__getslice__',\n",
       " '__gt__',\n",
       " '__hash__',\n",
       " '__iadd__',\n",
       " '__imul__',\n",
       " '__init__',\n",
       " '__iter__',\n",
       " '__le__',\n",
       " '__len__',\n",
       " '__lt__',\n",
       " '__module__',\n",
       " '__mul__',\n",
       " '__ne__',\n",
       " '__new__',\n",
       " '__reduce__',\n",
       " '__reduce_ex__',\n",
       " '__repr__',\n",
       " '__reversed__',\n",
       " '__rmul__',\n",
       " '__setattr__',\n",
       " '__setitem__',\n",
       " '__setslice__',\n",
       " '__sizeof__',\n",
       " '__str__',\n",
       " '__subclasshook__',\n",
       " '__weakref__',\n",
       " '_add_headers_stubs',\n",
       " '_colwidths',\n",
       " '_csv_fmt',\n",
       " '_data2rows',\n",
       " '_datatypes',\n",
       " '_get_colwidths',\n",
       " '_get_fmt',\n",
       " '_html_fmt',\n",
       " '_latex_fmt',\n",
       " '_repr_html_',\n",
       " '_txt_fmt',\n",
       " 'append',\n",
       " 'as_csv',\n",
       " 'as_html',\n",
       " 'as_latex_tabular',\n",
       " 'as_text',\n",
       " 'count',\n",
       " 'data',\n",
       " 'extend',\n",
       " 'extend_right',\n",
       " 'get_colwidths',\n",
       " 'index',\n",
       " 'insert',\n",
       " 'insert_header_row',\n",
       " 'insert_stubs',\n",
       " 'label_cells',\n",
       " 'output_formats',\n",
       " 'pad',\n",
       " 'pop',\n",
       " 'remove',\n",
       " 'reverse',\n",
       " 'sort',\n",
       " 'title']"
      ]
     },
     "execution_count": 31,
     "metadata": {},
     "output_type": "execute_result"
    }
   ],
   "source": [
    "dir(p.summary().tables[0])"
   ]
  }
 ],
 "metadata": {
  "kernelspec": {
   "display_name": "Python 2",
   "language": "python",
   "name": "python2"
  },
  "language_info": {
   "codemirror_mode": {
    "name": "ipython",
    "version": 2
   },
   "file_extension": ".py",
   "mimetype": "text/x-python",
   "name": "python",
   "nbconvert_exporter": "python",
   "pygments_lexer": "ipython2",
   "version": "2.7.11"
  }
 },
 "nbformat": 4,
 "nbformat_minor": 0
}
