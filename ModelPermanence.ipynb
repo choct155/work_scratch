{
 "cells": [
  {
   "cell_type": "markdown",
   "metadata": {},
   "source": [
    "# How Can One Save an Instance of an Estimator?"
   ]
  },
  {
   "cell_type": "markdown",
   "metadata": {},
   "source": [
    "I have a situation in which I want to use an estimator that has been fit in an original Notebook to predict new values given data in a new Notebook.  The question is, can I save a specific model instance to be read in elsewhere?  This Notebook will run a basic regression on simulated data.  We will then attempt to write the model to disk, read back in, and use it to predict outcomes on new data."
   ]
  },
  {
   "cell_type": "code",
   "execution_count": 1,
   "metadata": {
    "collapsed": true
   },
   "outputs": [],
   "source": [
    "#Basic data manipulation\n",
    "import numpy as np\n",
    "import pandas as pd\n",
    "from pandas import Series, DataFrame\n",
    "\n",
    "#Estimating methods\n",
    "import statsmodels.formula.api as smf\n",
    "from statsmodels.api import add_constant\n",
    "\n",
    "#Serialization\n",
    "import pickle"
   ]
  },
  {
   "cell_type": "markdown",
   "metadata": {},
   "source": [
    "## Simulation of Input Data"
   ]
  },
  {
   "cell_type": "markdown",
   "metadata": {},
   "source": [
    "We are going to follow a very basic model:\n",
    "\n",
    "$Y = X_1 + 2X_2 + \\epsilon$"
   ]
  },
  {
   "cell_type": "code",
   "execution_count": 2,
   "metadata": {
    "collapsed": false,
    "scrolled": true
   },
   "outputs": [
    {
     "data": {
      "text/html": [
       "<div style=\"max-height:1000px;max-width:1500px;overflow:auto;\">\n",
       "<table border=\"1\" class=\"dataframe\">\n",
       "  <thead>\n",
       "    <tr style=\"text-align: right;\">\n",
       "      <th></th>\n",
       "      <th>x1</th>\n",
       "      <th>x2</th>\n",
       "      <th>y</th>\n",
       "    </tr>\n",
       "  </thead>\n",
       "  <tbody>\n",
       "    <tr>\n",
       "      <th>0</th>\n",
       "      <td>11.162996</td>\n",
       "      <td>7.858211</td>\n",
       "      <td>31.053511</td>\n",
       "    </tr>\n",
       "    <tr>\n",
       "      <th>1</th>\n",
       "      <td>9.121698</td>\n",
       "      <td>18.031641</td>\n",
       "      <td>49.359073</td>\n",
       "    </tr>\n",
       "    <tr>\n",
       "      <th>2</th>\n",
       "      <td>7.122839</td>\n",
       "      <td>8.880319</td>\n",
       "      <td>29.057570</td>\n",
       "    </tr>\n",
       "    <tr>\n",
       "      <th>3</th>\n",
       "      <td>18.998183</td>\n",
       "      <td>9.209179</td>\n",
       "      <td>41.590634</td>\n",
       "    </tr>\n",
       "    <tr>\n",
       "      <th>4</th>\n",
       "      <td>13.442536</td>\n",
       "      <td>3.774621</td>\n",
       "      <td>25.165871</td>\n",
       "    </tr>\n",
       "    <tr>\n",
       "      <th>5</th>\n",
       "      <td>7.841275</td>\n",
       "      <td>16.859139</td>\n",
       "      <td>45.733645</td>\n",
       "    </tr>\n",
       "    <tr>\n",
       "      <th>6</th>\n",
       "      <td>1.375523</td>\n",
       "      <td>6.666460</td>\n",
       "      <td>18.882535</td>\n",
       "    </tr>\n",
       "    <tr>\n",
       "      <th>7</th>\n",
       "      <td>11.596553</td>\n",
       "      <td>9.659084</td>\n",
       "      <td>35.088813</td>\n",
       "    </tr>\n",
       "    <tr>\n",
       "      <th>8</th>\n",
       "      <td>11.342886</td>\n",
       "      <td>14.571422</td>\n",
       "      <td>44.659823</td>\n",
       "    </tr>\n",
       "    <tr>\n",
       "      <th>9</th>\n",
       "      <td>4.419872</td>\n",
       "      <td>9.915029</td>\n",
       "      <td>28.424023</td>\n",
       "    </tr>\n",
       "    <tr>\n",
       "      <th>10</th>\n",
       "      <td>16.044191</td>\n",
       "      <td>19.528261</td>\n",
       "      <td>59.274805</td>\n",
       "    </tr>\n",
       "    <tr>\n",
       "      <th>11</th>\n",
       "      <td>11.277125</td>\n",
       "      <td>14.867238</td>\n",
       "      <td>45.185694</td>\n",
       "    </tr>\n",
       "    <tr>\n",
       "      <th>12</th>\n",
       "      <td>18.183212</td>\n",
       "      <td>16.444912</td>\n",
       "      <td>55.247129</td>\n",
       "    </tr>\n",
       "    <tr>\n",
       "      <th>13</th>\n",
       "      <td>14.844973</td>\n",
       "      <td>4.775931</td>\n",
       "      <td>28.570927</td>\n",
       "    </tr>\n",
       "    <tr>\n",
       "      <th>14</th>\n",
       "      <td>19.511267</td>\n",
       "      <td>12.334933</td>\n",
       "      <td>48.355226</td>\n",
       "    </tr>\n",
       "    <tr>\n",
       "      <th>15</th>\n",
       "      <td>1.521608</td>\n",
       "      <td>2.058354</td>\n",
       "      <td>9.812408</td>\n",
       "    </tr>\n",
       "    <tr>\n",
       "      <th>16</th>\n",
       "      <td>3.087237</td>\n",
       "      <td>2.943950</td>\n",
       "      <td>13.149230</td>\n",
       "    </tr>\n",
       "    <tr>\n",
       "      <th>17</th>\n",
       "      <td>11.606573</td>\n",
       "      <td>19.912931</td>\n",
       "      <td>55.606529</td>\n",
       "    </tr>\n",
       "    <tr>\n",
       "      <th>18</th>\n",
       "      <td>15.942939</td>\n",
       "      <td>19.213071</td>\n",
       "      <td>58.543172</td>\n",
       "    </tr>\n",
       "    <tr>\n",
       "      <th>19</th>\n",
       "      <td>6.064595</td>\n",
       "      <td>1.198041</td>\n",
       "      <td>12.634770</td>\n",
       "    </tr>\n",
       "    <tr>\n",
       "      <th>20</th>\n",
       "      <td>12.030787</td>\n",
       "      <td>10.635095</td>\n",
       "      <td>37.475070</td>\n",
       "    </tr>\n",
       "    <tr>\n",
       "      <th>21</th>\n",
       "      <td>18.061219</td>\n",
       "      <td>3.821684</td>\n",
       "      <td>29.878681</td>\n",
       "    </tr>\n",
       "    <tr>\n",
       "      <th>22</th>\n",
       "      <td>9.493578</td>\n",
       "      <td>15.582094</td>\n",
       "      <td>44.831857</td>\n",
       "    </tr>\n",
       "    <tr>\n",
       "      <th>23</th>\n",
       "      <td>17.707438</td>\n",
       "      <td>2.164737</td>\n",
       "      <td>26.211004</td>\n",
       "    </tr>\n",
       "    <tr>\n",
       "      <th>24</th>\n",
       "      <td>7.115612</td>\n",
       "      <td>15.185641</td>\n",
       "      <td>41.660986</td>\n",
       "    </tr>\n",
       "    <tr>\n",
       "      <th>25</th>\n",
       "      <td>1.586221</td>\n",
       "      <td>18.456439</td>\n",
       "      <td>42.673191</td>\n",
       "    </tr>\n",
       "    <tr>\n",
       "      <th>26</th>\n",
       "      <td>16.070204</td>\n",
       "      <td>10.648515</td>\n",
       "      <td>41.541327</td>\n",
       "    </tr>\n",
       "    <tr>\n",
       "      <th>27</th>\n",
       "      <td>6.246822</td>\n",
       "      <td>2.673682</td>\n",
       "      <td>15.768278</td>\n",
       "    </tr>\n",
       "    <tr>\n",
       "      <th>28</th>\n",
       "      <td>2.760892</td>\n",
       "      <td>1.529451</td>\n",
       "      <td>9.993886</td>\n",
       "    </tr>\n",
       "    <tr>\n",
       "      <th>29</th>\n",
       "      <td>1.030730</td>\n",
       "      <td>15.693883</td>\n",
       "      <td>36.592588</td>\n",
       "    </tr>\n",
       "    <tr>\n",
       "      <th>30</th>\n",
       "      <td>17.693196</td>\n",
       "      <td>17.679717</td>\n",
       "      <td>57.226723</td>\n",
       "    </tr>\n",
       "    <tr>\n",
       "      <th>31</th>\n",
       "      <td>16.921745</td>\n",
       "      <td>10.267013</td>\n",
       "      <td>41.629863</td>\n",
       "    </tr>\n",
       "    <tr>\n",
       "      <th>32</th>\n",
       "      <td>2.223179</td>\n",
       "      <td>4.555917</td>\n",
       "      <td>15.509106</td>\n",
       "    </tr>\n",
       "    <tr>\n",
       "      <th>33</th>\n",
       "      <td>7.512885</td>\n",
       "      <td>18.313943</td>\n",
       "      <td>48.314865</td>\n",
       "    </tr>\n",
       "    <tr>\n",
       "      <th>34</th>\n",
       "      <td>11.810512</td>\n",
       "      <td>6.414950</td>\n",
       "      <td>28.814504</td>\n",
       "    </tr>\n",
       "    <tr>\n",
       "      <th>35</th>\n",
       "      <td>7.946115</td>\n",
       "      <td>16.415628</td>\n",
       "      <td>44.951463</td>\n",
       "    </tr>\n",
       "    <tr>\n",
       "      <th>36</th>\n",
       "      <td>9.495352</td>\n",
       "      <td>11.524306</td>\n",
       "      <td>36.718056</td>\n",
       "    </tr>\n",
       "    <tr>\n",
       "      <th>37</th>\n",
       "      <td>10.896447</td>\n",
       "      <td>18.076716</td>\n",
       "      <td>51.223971</td>\n",
       "    </tr>\n",
       "    <tr>\n",
       "      <th>38</th>\n",
       "      <td>15.787329</td>\n",
       "      <td>4.018218</td>\n",
       "      <td>27.997857</td>\n",
       "    </tr>\n",
       "    <tr>\n",
       "      <th>39</th>\n",
       "      <td>6.534206</td>\n",
       "      <td>2.007579</td>\n",
       "      <td>14.723456</td>\n",
       "    </tr>\n",
       "    <tr>\n",
       "      <th>40</th>\n",
       "      <td>1.393952</td>\n",
       "      <td>6.448507</td>\n",
       "      <td>18.465059</td>\n",
       "    </tr>\n",
       "    <tr>\n",
       "      <th>41</th>\n",
       "      <td>3.641470</td>\n",
       "      <td>3.598036</td>\n",
       "      <td>15.011633</td>\n",
       "    </tr>\n",
       "    <tr>\n",
       "      <th>42</th>\n",
       "      <td>19.771436</td>\n",
       "      <td>4.507501</td>\n",
       "      <td>32.960530</td>\n",
       "    </tr>\n",
       "    <tr>\n",
       "      <th>43</th>\n",
       "      <td>6.058560</td>\n",
       "      <td>11.321455</td>\n",
       "      <td>32.875563</td>\n",
       "    </tr>\n",
       "    <tr>\n",
       "      <th>44</th>\n",
       "      <td>10.667976</td>\n",
       "      <td>8.933041</td>\n",
       "      <td>32.708151</td>\n",
       "    </tr>\n",
       "    <tr>\n",
       "      <th>45</th>\n",
       "      <td>4.022474</td>\n",
       "      <td>3.144177</td>\n",
       "      <td>14.484921</td>\n",
       "    </tr>\n",
       "    <tr>\n",
       "      <th>46</th>\n",
       "      <td>19.344640</td>\n",
       "      <td>17.334338</td>\n",
       "      <td>58.187408</td>\n",
       "    </tr>\n",
       "    <tr>\n",
       "      <th>47</th>\n",
       "      <td>15.164432</td>\n",
       "      <td>7.364313</td>\n",
       "      <td>34.067149</td>\n",
       "    </tr>\n",
       "    <tr>\n",
       "      <th>48</th>\n",
       "      <td>13.719471</td>\n",
       "      <td>8.483970</td>\n",
       "      <td>34.861502</td>\n",
       "    </tr>\n",
       "    <tr>\n",
       "      <th>49</th>\n",
       "      <td>2.593272</td>\n",
       "      <td>14.351214</td>\n",
       "      <td>35.469792</td>\n",
       "    </tr>\n",
       "  </tbody>\n",
       "</table>\n",
       "</div>"
      ],
      "text/plain": [
       "           x1         x2          y\n",
       "0   11.162996   7.858211  31.053511\n",
       "1    9.121698  18.031641  49.359073\n",
       "2    7.122839   8.880319  29.057570\n",
       "3   18.998183   9.209179  41.590634\n",
       "4   13.442536   3.774621  25.165871\n",
       "5    7.841275  16.859139  45.733645\n",
       "6    1.375523   6.666460  18.882535\n",
       "7   11.596553   9.659084  35.088813\n",
       "8   11.342886  14.571422  44.659823\n",
       "9    4.419872   9.915029  28.424023\n",
       "10  16.044191  19.528261  59.274805\n",
       "11  11.277125  14.867238  45.185694\n",
       "12  18.183212  16.444912  55.247129\n",
       "13  14.844973   4.775931  28.570927\n",
       "14  19.511267  12.334933  48.355226\n",
       "15   1.521608   2.058354   9.812408\n",
       "16   3.087237   2.943950  13.149230\n",
       "17  11.606573  19.912931  55.606529\n",
       "18  15.942939  19.213071  58.543172\n",
       "19   6.064595   1.198041  12.634770\n",
       "20  12.030787  10.635095  37.475070\n",
       "21  18.061219   3.821684  29.878681\n",
       "22   9.493578  15.582094  44.831857\n",
       "23  17.707438   2.164737  26.211004\n",
       "24   7.115612  15.185641  41.660986\n",
       "25   1.586221  18.456439  42.673191\n",
       "26  16.070204  10.648515  41.541327\n",
       "27   6.246822   2.673682  15.768278\n",
       "28   2.760892   1.529451   9.993886\n",
       "29   1.030730  15.693883  36.592588\n",
       "30  17.693196  17.679717  57.226723\n",
       "31  16.921745  10.267013  41.629863\n",
       "32   2.223179   4.555917  15.509106\n",
       "33   7.512885  18.313943  48.314865\n",
       "34  11.810512   6.414950  28.814504\n",
       "35   7.946115  16.415628  44.951463\n",
       "36   9.495352  11.524306  36.718056\n",
       "37  10.896447  18.076716  51.223971\n",
       "38  15.787329   4.018218  27.997857\n",
       "39   6.534206   2.007579  14.723456\n",
       "40   1.393952   6.448507  18.465059\n",
       "41   3.641470   3.598036  15.011633\n",
       "42  19.771436   4.507501  32.960530\n",
       "43   6.058560  11.321455  32.875563\n",
       "44  10.667976   8.933041  32.708151\n",
       "45   4.022474   3.144177  14.484921\n",
       "46  19.344640  17.334338  58.187408\n",
       "47  15.164432   7.364313  34.067149\n",
       "48  13.719471   8.483970  34.861502\n",
       "49   2.593272  14.351214  35.469792"
      ]
     },
     "execution_count": 2,
     "metadata": {},
     "output_type": "execute_result"
    }
   ],
   "source": [
    "#Generate random vectors for regressors\n",
    "x1,x2=(np.random.uniform(20,size=50),np.random.uniform(20,size=50))\n",
    "\n",
    "#Generate dependent variable\n",
    "y=x1 + 2*x2 + np.random.uniform(5)\n",
    "\n",
    "#Capture data in DF\n",
    "data=DataFrame({'y':y,\n",
    "                'x1':x1,\n",
    "                'x2':x2})\n",
    "\n",
    "data"
   ]
  },
  {
   "cell_type": "markdown",
   "metadata": {},
   "source": [
    "## Estimation of the Model"
   ]
  },
  {
   "cell_type": "markdown",
   "metadata": {},
   "source": [
    "We are just going to fit a standard OLS estimator..."
   ]
  },
  {
   "cell_type": "code",
   "execution_count": 3,
   "metadata": {
    "collapsed": false
   },
   "outputs": [
    {
     "data": {
      "text/html": [
       "<table class=\"simpletable\">\n",
       "<caption>OLS Regression Results</caption>\n",
       "<tr>\n",
       "  <th>Dep. Variable:</th>            <td>y</td>        <th>  R-squared:         </th> <td>   1.000</td> \n",
       "</tr>\n",
       "<tr>\n",
       "  <th>Model:</th>                   <td>OLS</td>       <th>  Adj. R-squared:    </th> <td>   1.000</td> \n",
       "</tr>\n",
       "<tr>\n",
       "  <th>Method:</th>             <td>Least Squares</td>  <th>  F-statistic:       </th> <td>4.346e+31</td>\n",
       "</tr>\n",
       "<tr>\n",
       "  <th>Date:</th>             <td>Fri, 17 Jul 2015</td> <th>  Prob (F-statistic):</th>  <td>  0.00</td>  \n",
       "</tr>\n",
       "<tr>\n",
       "  <th>Time:</th>                 <td>16:46:55</td>     <th>  Log-Likelihood:    </th> <td>  1539.5</td> \n",
       "</tr>\n",
       "<tr>\n",
       "  <th>No. Observations:</th>      <td>    50</td>      <th>  AIC:               </th> <td>  -3073.</td> \n",
       "</tr>\n",
       "<tr>\n",
       "  <th>Df Residuals:</th>          <td>    47</td>      <th>  BIC:               </th> <td>  -3067.</td> \n",
       "</tr>\n",
       "<tr>\n",
       "  <th>Df Model:</th>              <td>     2</td>      <th>                     </th>     <td> </td>    \n",
       "</tr>\n",
       "</table>\n",
       "<table class=\"simpletable\">\n",
       "<tr>\n",
       "      <td></td>         <th>coef</th>     <th>std err</th>      <th>t</th>      <th>P>|t|</th> <th>[95.0% Conf. Int.]</th> \n",
       "</tr>\n",
       "<tr>\n",
       "  <th>Intercept</th> <td>    4.1741</td> <td> 3.74e-15</td> <td> 1.12e+15</td> <td> 0.000</td> <td>    4.174     4.174</td>\n",
       "</tr>\n",
       "<tr>\n",
       "  <th>x1</th>        <td>    1.0000</td> <td> 2.63e-16</td> <td>  3.8e+15</td> <td> 0.000</td> <td>    1.000     1.000</td>\n",
       "</tr>\n",
       "<tr>\n",
       "  <th>x2</th>        <td>    2.0000</td> <td> 2.59e-16</td> <td> 7.73e+15</td> <td> 0.000</td> <td>    2.000     2.000</td>\n",
       "</tr>\n",
       "</table>\n",
       "<table class=\"simpletable\">\n",
       "<tr>\n",
       "  <th>Omnibus:</th>       <td> 0.199</td> <th>  Durbin-Watson:     </th> <td>   1.802</td>\n",
       "</tr>\n",
       "<tr>\n",
       "  <th>Prob(Omnibus):</th> <td> 0.905</td> <th>  Jarque-Bera (JB):  </th> <td>   0.365</td>\n",
       "</tr>\n",
       "<tr>\n",
       "  <th>Skew:</th>          <td> 0.119</td> <th>  Prob(JB):          </th> <td>   0.833</td>\n",
       "</tr>\n",
       "<tr>\n",
       "  <th>Kurtosis:</th>      <td> 2.656</td> <th>  Cond. No.          </th> <td>    39.4</td>\n",
       "</tr>\n",
       "</table>"
      ],
      "text/plain": [
       "<class 'statsmodels.iolib.summary.Summary'>\n",
       "\"\"\"\n",
       "                            OLS Regression Results                            \n",
       "==============================================================================\n",
       "Dep. Variable:                      y   R-squared:                       1.000\n",
       "Model:                            OLS   Adj. R-squared:                  1.000\n",
       "Method:                 Least Squares   F-statistic:                 4.346e+31\n",
       "Date:                Fri, 17 Jul 2015   Prob (F-statistic):               0.00\n",
       "Time:                        16:46:55   Log-Likelihood:                 1539.5\n",
       "No. Observations:                  50   AIC:                            -3073.\n",
       "Df Residuals:                      47   BIC:                            -3067.\n",
       "Df Model:                           2                                         \n",
       "==============================================================================\n",
       "                 coef    std err          t      P>|t|      [95.0% Conf. Int.]\n",
       "------------------------------------------------------------------------------\n",
       "Intercept      4.1741   3.74e-15   1.12e+15      0.000         4.174     4.174\n",
       "x1             1.0000   2.63e-16    3.8e+15      0.000         1.000     1.000\n",
       "x2             2.0000   2.59e-16   7.73e+15      0.000         2.000     2.000\n",
       "==============================================================================\n",
       "Omnibus:                        0.199   Durbin-Watson:                   1.802\n",
       "Prob(Omnibus):                  0.905   Jarque-Bera (JB):                0.365\n",
       "Skew:                           0.119   Prob(JB):                        0.833\n",
       "Kurtosis:                       2.656   Cond. No.                         39.4\n",
       "==============================================================================\n",
       "\"\"\""
      ]
     },
     "execution_count": 3,
     "metadata": {},
     "output_type": "execute_result"
    }
   ],
   "source": [
    "#Fit model\n",
    "model=smf.ols(formula='y ~ x1 + x2', data=data).fit()\n",
    "\n",
    "model.summary()"
   ]
  },
  {
   "cell_type": "markdown",
   "metadata": {},
   "source": [
    "To provide a point of comparison, we will use the regressor subset to predict `y`."
   ]
  },
  {
   "cell_type": "code",
   "execution_count": 4,
   "metadata": {
    "collapsed": false
   },
   "outputs": [
    {
     "data": {
      "text/plain": [
       "array([ 31.05351114,  49.35907263,  29.05757006,  41.59063421,\n",
       "        25.16587066,  45.73364484,  18.88253471,  35.08881256,\n",
       "        44.65982315,  28.4240229 ,  59.27480489,  45.18569398,\n",
       "        55.2471291 ,  28.57092686,  48.35522603,   9.81240764,\n",
       "        13.14922989,  55.60652878,  58.54317206,  12.63476969,\n",
       "        37.47506987,  29.87868074,  44.83185737,  26.21100409,\n",
       "        41.66098556,  42.67319132,  41.54132717,  15.76827766,\n",
       "         9.99388603,  36.59258824,  57.22672297,  41.62986308,\n",
       "        15.50910592,  48.31486452,  28.81450385,  44.95146298,\n",
       "        36.71805582,  51.22397146,  27.99785729,  14.72345638,\n",
       "        18.46505934,  15.01163319,  32.96052968,  32.87556324,\n",
       "        32.70815089,  14.4849211 ,  58.18740798,  34.06714916,\n",
       "        34.86150229,  35.46979198])"
      ]
     },
     "execution_count": 4,
     "metadata": {},
     "output_type": "execute_result"
    }
   ],
   "source": [
    "pred_y=model.predict(data[['x1','x2']])\n",
    "\n",
    "pred_y"
   ]
  },
  {
   "cell_type": "markdown",
   "metadata": {
    "collapsed": true
   },
   "source": [
    "## Writing the Model to Disk"
   ]
  },
  {
   "cell_type": "markdown",
   "metadata": {},
   "source": [
    "Now that we have instantiated this model object, let's see if we can write it to disk.  To do this, we are going to use a method called \"pickling\", which serializes an object into a byte stream so that it may be written to disk.  In theory, we can read this same byte stream back elsewhere, and use it to reconstitute the object that had been written to disk.\n",
    "\n",
    "So, what exactly are we writing to disk?  Here is the ASCII version of the byte stream:"
   ]
  },
  {
   "cell_type": "code",
   "execution_count": 5,
   "metadata": {
    "collapsed": false
   },
   "outputs": [
    {
     "data": {
      "text/plain": [
       "'ccopy_reg\\n_reconstructor\\np0\\n(cstatsmodels.regression.linear_model\\nRegressionResultsWrapper\\np1\\nc__builtin__\\nobject\\np2\\nNtp3\\nRp4\\n(dp5\\nS\\'__doc__\\'\\np6\\nS\\'\\\\n    Results class for for an OLS model.\\\\n\\\\n    Most of the methods and attributes are inherited from RegressionResults.\\\\n    The special methods that are only available for OLS are:\\\\n\\\\n    - get_influence\\\\n    - outlier_test\\\\n    - el_test\\\\n    - conf_int_el\\\\n\\\\n    See Also\\\\n    --------\\\\n    RegressionResults\\\\n\\\\n    \\'\\np7\\nsS\\'_results\\'\\np8\\ng0\\n(cstatsmodels.regression.linear_model\\nOLSResults\\np9\\ng2\\nNtp10\\nRp11\\n(dp12\\nS\\'normalized_cov_params\\'\\np13\\ncnumpy.core.multiarray\\n_reconstruct\\np14\\n(cnumpy\\nndarray\\np15\\n(I0\\ntp16\\nS\\'b\\'\\np17\\ntp18\\nRp19\\n(I1\\n(L3L\\nL3L\\ntp20\\ncnumpy\\ndtype\\np21\\n(S\\'f8\\'\\np22\\nI0\\nI1\\ntp23\\nRp24\\n(I3\\nS\\'<\\'\\np25\\nNNNI-1\\nI-1\\nI0\\ntp26\\nbI00\\nS\\'{\\\\x15N\\\\x08\\\\xed\\\\xcc\\\\xbf?Q\\\\xdf\\\\xd8\\\\x94b`u\\\\xbf\\\\xa1\\\\xda\\\\xa8;2}t\\\\xbfQ\\\\xdf\\\\xd8\\\\x94b`u\\\\xbfP\\\\xb1=/94D?\\\\x9a\\\\x9b\\\\x04\\\\xa8\\\\xdcs\\\\x1b\\\\xbf\\\\xa1\\\\xda\\\\xa8;2}t\\\\xbf\\\\x9a\\\\x9b\\\\x04\\\\xa8\\\\xdcs\\\\x1b\\\\xbf\\\\x17\\\\xa7\\\\x1c\\\\xc3u\\\\x81C?\\'\\np27\\ntp28\\nbsS\\'diagn\\'\\np29\\n(dp30\\nS\\'omni\\'\\np31\\ncnumpy.core.multiarray\\nscalar\\np32\\n(g24\\nS\\'B`\\\\xc3\\\\x1bTs\\\\xc9?\\'\\np33\\ntp34\\nRp35\\nsS\\'skew\\'\\np36\\nF0.11906628785626805\\nsS\\'mineigval\\'\\np37\\ng32\\n(g24\\nS\\'\\\\x82l\\\\xe7\\\\xcd\\\\xc6\\\\x0b @\\'\\np38\\ntp39\\nRp40\\nsS\\'condno\\'\\np41\\ng32\\n(g24\\nS\\'id\\\\xaai?\\\\xafC@\\'\\np42\\ntp43\\nRp44\\nsS\\'jbpv\\'\\np45\\ng32\\n(g24\\nS\\'y\\\\xcb\\\\xcf\\\\x83\\\\xee\\\\xa9\\\\xea?\\'\\np46\\ntp47\\nRp48\\nsS\\'omnipv\\'\\np49\\ng32\\n(g24\\nS\\'\\\\r[\\\\x10\\\\x11\\\\xc2\\\\xf8\\\\xec?\\'\\np50\\ntp51\\nRp52\\nsS\\'kurtosis\\'\\np53\\nF2.655870763623809\\nsS\\'jb\\'\\np54\\nF0.3648584478007234\\nssS\\'k_constant\\'\\np55\\nI1\\nsS\\'_cache\\'\\np56\\ng0\\n(cstatsmodels.tools.decorators\\nResettableCache\\np57\\nc__builtin__\\ndict\\np58\\n(dp59\\nS\\'pvalues\\'\\np60\\ng14\\n(g15\\n(I0\\ntp61\\ng17\\ntp62\\nRp63\\n(I1\\n(L3L\\ntp64\\ng24\\nI00\\nS\\'\\\\x00\\\\x00\\\\x00\\\\x00\\\\x00\\\\x00\\\\x00\\\\x00\\\\x00\\\\x00\\\\x00\\\\x00\\\\x00\\\\x00\\\\x00\\\\x00\\\\x00\\\\x00\\\\x00\\\\x00\\\\x00\\\\x00\\\\x00\\\\x00\\'\\np65\\ntp66\\nbsS\\'bic\\'\\np67\\ng32\\n(g24\\nS\\'Y\\\\x85(\\\\x90m\\\\xf6\\\\xa7\\\\xc0\\'\\np68\\ntp69\\nRp70\\nsS\\'ssr\\'\\np71\\ng32\\n(g24\\nS\\'\\\\x00\\\\x00\\\\x00\\\\x00\\\\x00,z:\\'\\np72\\ntp73\\nRp74\\nsS\\'nobs\\'\\np75\\nF50.0\\nsS\\'wresid\\'\\np76\\ng14\\n(g15\\n(I0\\ntp77\\ng17\\ntp78\\nRp79\\n(I1\\n(L50L\\ntp80\\ng24\\nI00\\nS\\'\\\\x00\\\\x00\\\\x00\\\\x00\\\\x00\\\\x00\\\\x00\\\\x00\\\\x00\\\\x00\\\\x00\\\\x00\\\\x00\\\\x00\\\\x10=\\\\x00\\\\x00\\\\x00\\\\x00\\\\x00\\\\x00\\\\x00=\\\\x00\\\\x00\\\\x00\\\\x00\\\\x00\\\\x00\\\\x00\\\\xbd\\\\x00\\\\x00\\\\x00\\\\x00\\\\x00\\\\x00\\\\x00\\\\xbd\\\\x00\\\\x00\\\\x00\\\\x00\\\\x00\\\\x00\\\\x10=\\\\x00\\\\x00\\\\x00\\\\x00\\\\x00\\\\x00\\\\x08=\\\\x00\\\\x00\\\\x00\\\\x00\\\\x00\\\\x00\\\\x00\\\\xbd\\\\x00\\\\x00\\\\x00\\\\x00\\\\x00\\\\x00\\\\x00=\\\\x00\\\\x00\\\\x00\\\\x00\\\\x00\\\\x00\\\\x10=\\\\x00\\\\x00\\\\x00\\\\x00\\\\x00\\\\x00\\\\x00\\\\x00\\\\x00\\\\x00\\\\x00\\\\x00\\\\x00\\\\x00\\\\x00\\\\x00\\\\x00\\\\x00\\\\x00\\\\x00\\\\x00\\\\x00\\\\x00\\\\xbd\\\\x00\\\\x00\\\\x00\\\\x00\\\\x00\\\\x00\\\\x08\\\\xbd\\\\x00\\\\x00\\\\x00\\\\x00\\\\x00\\\\x00\\\\x00\\\\xbd\\\\x00\\\\x00\\\\x00\\\\x00\\\\x00\\\\x00\\\\x08=\\\\x00\\\\x00\\\\x00\\\\x00\\\\x00\\\\x00\\\\x00=\\\\x00\\\\x00\\\\x00\\\\x00\\\\x00\\\\x00\\\\x00=\\\\x00\\\\x00\\\\x00\\\\x00\\\\x00\\\\x00\\\\x00\\\\x00\\\\x00\\\\x00\\\\x00\\\\x00\\\\x00\\\\x00\\\\xe0<\\\\x00\\\\x00\\\\x00\\\\x00\\\\x00\\\\x00\\\\x00\\\\x00\\\\x00\\\\x00\\\\x00\\\\x00\\\\x00\\\\x00\\\\x10\\\\xbd\\\\x00\\\\x00\\\\x00\\\\x00\\\\x00\\\\x00\\\\x00=\\\\x00\\\\x00\\\\x00\\\\x00\\\\x00\\\\x00\\\\x10\\\\xbd\\\\x00\\\\x00\\\\x00\\\\x00\\\\x00\\\\x00\\\\x10=\\\\x00\\\\x00\\\\x00\\\\x00\\\\x00\\\\x00 =\\\\x00\\\\x00\\\\x00\\\\x00\\\\x00\\\\x00\\\\x00\\\\xbd\\\\x00\\\\x00\\\\x00\\\\x00\\\\x00\\\\x00\\\\xe0<\\\\x00\\\\x00\\\\x00\\\\x00\\\\x00\\\\x00\\\\x00=\\\\x00\\\\x00\\\\x00\\\\x00\\\\x00\\\\x00\\\\x18=\\\\x00\\\\x00\\\\x00\\\\x00\\\\x00\\\\x00\\\\x00=\\\\x00\\\\x00\\\\x00\\\\x00\\\\x00\\\\x00\\\\x00\\\\x00\\\\x00\\\\x00\\\\x00\\\\x00\\\\x00\\\\x00\\\\x08=\\\\x00\\\\x00\\\\x00\\\\x00\\\\x00\\\\x00\\\\x18=\\\\x00\\\\x00\\\\x00\\\\x00\\\\x00\\\\x00\\\\xf0\\\\xbc\\\\x00\\\\x00\\\\x00\\\\x00\\\\x00\\\\x00\\\\x10=\\\\x00\\\\x00\\\\x00\\\\x00\\\\x00\\\\x00\\\\x00=\\\\x00\\\\x00\\\\x00\\\\x00\\\\x00\\\\x00\\\\x10=\\\\x00\\\\x00\\\\x00\\\\x00\\\\x00\\\\x00\\\\x08\\\\xbd\\\\x00\\\\x00\\\\x00\\\\x00\\\\x00\\\\x00\\\\xe0<\\\\x00\\\\x00\\\\x00\\\\x00\\\\x00\\\\x00\\\\x00=\\\\x00\\\\x00\\\\x00\\\\x00\\\\x00\\\\x00\\\\x00=\\\\x00\\\\x00\\\\x00\\\\x00\\\\x00\\\\x00\\\\x10\\\\xbd\\\\x00\\\\x00\\\\x00\\\\x00\\\\x00\\\\x00\\\\x00=\\\\x00\\\\x00\\\\x00\\\\x00\\\\x00\\\\x00\\\\x00\\\\x00\\\\x00\\\\x00\\\\x00\\\\x00\\\\x00\\\\x00\\\\x00=\\\\x00\\\\x00\\\\x00\\\\x00\\\\x00\\\\x00\\\\x00\\\\x00\\\\x00\\\\x00\\\\x00\\\\x00\\\\x00\\\\x00\\\\x00\\\\xbd\\\\x00\\\\x00\\\\x00\\\\x00\\\\x00\\\\x00\\\\x00\\\\x00\\\\x00\\\\x00\\\\x00\\\\x00\\\\x00\\\\x00\\\\x10=\\'\\np81\\ntp82\\nbsS\\'mse_resid\\'\\np83\\ng32\\n(g24\\nS\\'}g\\\\xa3\\\\xbe\\\\xb3\\\\xd1!:\\'\\np84\\ntp85\\nRp86\\nsS\\'bse\\'\\np87\\ng14\\n(g15\\n(I0\\ntp88\\ng17\\ntp89\\nRp90\\n(I1\\n(L3L\\ntp91\\ng24\\nI00\\nS\\'\\\\x19U \\\\x88\\\\x16\\\\xd5\\\\xf0<>3\\\\xa1Ta\\\\xf9\\\\xb2<\\\\xfaw\\\\x97\\\\x84\\\\xb3\\\\xa4\\\\xb2<\\'\\np92\\ntp93\\nbsS\\'mse_model\\'\\np94\\ng32\\n(g24\\nS\\'<\\\\xb6\\\\xc7Jv\\\\x17\\\\xb3@\\'\\np95\\ntp96\\nRp97\\nsS\\'llf\\'\\np98\\ng32\\n(g24\\nS\\'nF2n\\\\xe6\\\\r\\\\x98@\\'\\np99\\ntp100\\nRp101\\nsS\\'df_resid\\'\\np102\\nF47.0\\nsS\\'scale\\'\\np103\\ng32\\n(g24\\nS\\'}g\\\\xa3\\\\xbe\\\\xb3\\\\xd1!:\\'\\np104\\ntp105\\nRp106\\nsS\\'ess\\'\\np107\\ng32\\n(g24\\nS\\'<\\\\xb6\\\\xc7Jv\\\\x17\\\\xc3@\\'\\np108\\ntp109\\nRp110\\nsS\\'f_pvalue\\'\\np111\\ng32\\n(g24\\nS\\'\\\\x00\\\\x00\\\\x00\\\\x00\\\\x00\\\\x00\\\\x00\\\\x00\\'\\np112\\ntp113\\nRp114\\nsS\\'centered_tss\\'\\np115\\ng32\\n(g24\\nS\\'<\\\\xb6\\\\xc7Jv\\\\x17\\\\xc3@\\'\\np116\\ntp117\\nRp118\\nsS\\'df_model\\'\\np119\\nF2.0\\nsS\\'rsquared_adj\\'\\np120\\ng32\\n(g24\\nS\\'\\\\x00\\\\x00\\\\x00\\\\x00\\\\x00\\\\x00\\\\xf0?\\'\\np121\\ntp122\\nRp123\\nsS\\'tvalues\\'\\np124\\ng14\\n(g15\\n(I0\\ntp125\\ng17\\ntp126\\nRp127\\n(I1\\n(L3L\\ntp128\\ng24\\nI00\\nS\\'\\\\xe5^B\\\\x15\\\\xcf\\\\xbd\\\\x0fC\\\\x80\\\\xc7Q\\\\x88\\\\xed\\\\xfb*C\\\\xd9\\\\xe4\\\\xb2\\\\xa2}v;C\\'\\np129\\ntp130\\nbsS\\'rsquared\\'\\np131\\ng32\\n(g24\\nS\\'\\\\x00\\\\x00\\\\x00\\\\x00\\\\x00\\\\x00\\\\xf0?\\'\\np132\\ntp133\\nRp134\\nsS\\'aic\\'\\np135\\ng32\\n(g24\\nS\\'nF2n\\\\xe6\\\\x01\\\\xa8\\\\xc0\\'\\np136\\ntp137\\nRp138\\nsS\\'fvalue\\'\\np139\\ng32\\n(g24\\nS\\'.E\\\\xde\\\\xd5\\\\x80$\\\\x81F\\'\\np140\\ntp141\\nRp142\\nstp143\\nRp144\\n(dp145\\nS\\'_resetdict\\'\\np146\\n(dp147\\nsbsS\\'params\\'\\np148\\ng14\\n(g15\\n(I0\\ntp149\\ng17\\ntp150\\nRp151\\n(I1\\n(L3L\\ntp152\\ng24\\nI00\\nS\\'*\\\\xd2\\\\x8bNE\\\\xb2\\\\x10@\\\\x07\\\\x00\\\\x00\\\\x00\\\\x00\\\\x00\\\\xf0?\\\\xfd\\\\xff\\\\xff\\\\xff\\\\xff\\\\xff\\\\xff?\\'\\np153\\ntp154\\nbsS\\'model\\'\\np155\\ng0\\n(cstatsmodels.regression.linear_model\\nOLS\\np156\\ng2\\nNtp157\\nRp158\\n(dp159\\ng102\\nF47.0\\nsg119\\nF2.0\\nsS\\'formula\\'\\np160\\nS\\'y ~ x1 + x2\\'\\np161\\nsS\\'endog\\'\\np162\\ng14\\n(g15\\n(I0\\ntp163\\ng17\\ntp164\\nRp165\\n(I1\\n(L50L\\ntp166\\ng24\\nI00\\nS\\'j\\\\x9d\\\\xf1\\\\xe7\\\\xb2\\\\r?@\\\\xc9\\\\x95\\\\x90\\\\x17\\\\xf6\\\\xadH@VEC\\\\xe9\\\\xbc\\\\x0e=@\\\\xfd\\\\x12\\\\xe5\\\\xe6\\\\x99\\\\xcbD@\\\\x1e`\\\\xd2\\\\x7fv*9@\\\\xff8\\\\xf2\\\\x12\\\\xe8\\\\xddF@\\\\x94a|\\\\xcb\\\\xed\\\\xe12@9:\\\\xc95^\\\\x8bA@\\\\xf0\\\\xde\\\\xb7\\\\x15uTF@$_\\\\xcc\\\\xc3\\\\x8cl<@\\\\x10\\\\x15y\\\\xce,\\\\xa3M@\\\\xc4S\\\\x00\\\\xd2\\\\xc4\\\\x97F@+//\\\\xed\\\\xa1\\\\x9fK@\\\\x8c\\\\xa6,C(\\\\x92<@#v\\\\xf3\\\\x0bx-H@\\\\xd7\\\\xdd\\\\xe2\\\\xe4\\\\xf3\\\\x9f#@\\\\xa9\\\\xe1E\\\\xdcgL*@\\\\xfc\\\\xf46\\\\xbc\\\\xa2\\\\xcdK@\\\\xc6\\\\xdav\\\\xa9\\\\x86EM@~\\\\x15J\\\\x88\\\\x00E)@;h\\\\xe3\\\\x16\\\\xcf\\\\xbcB@\\\\xd8\\\\xc7\\\\x808\\\\xf1\\\\xe0=@\\\\xf5xjMzjF@\\\\x8a\\\\x94B]\\\\x046:@\\\\x19\\\\x8e\\\\xc7,\\\\x9b\\\\xd4D@\\\\xe4\\\\x97\\\\x15\"+VE@\\\\\\'\\\\xccs5J\\\\xc5D@\\\\xc9EX\\\\xb0[\\\\x89/@u\\\\xd6;\\\\xa1\\\\xde\\\\xfc#@]\\\\xcfk\\\\xee\\\\xd9KB@\\\\x99\\\\x1e\\\\x19B\\\\x05\\\\x9dL@QlrZ\\\\x9f\\\\xd0D@\\\\xb5\"\\\\xec\\\\x87\\\\xa9\\\\x04/@\\\\xa0\\\\xe8\\\\x01{M(H@FF\\\\tS\\\\x83\\\\xd0<@c<\\\\xf4\\\\x89\\\\xc9yF@\\\\xccm\\\\xcb@\\\\xe9[B@12\\\\xc0\\\\x18\\\\xab\\\\x9cI@\\\\x10KM\\\\x93s\\\\xff;@m&\\\\xd0\\\\xdfhr-@\\\\x88\\\\x08\\\\xf5 \\\\x0ew2@\\\\xd5\\\\x1d \\\\xc9\\\\xf4\\\\x05.@\\\\x9b\\\\xc0\\\\xed\\\\xa2\\\\xf2z@@\\\\x14\\\\x82\\\\xd1t\\\\x12p@@\\\\x02\\\\xcd;\\\\xb0\\\\xa4Z@@Z\\\\xb4\\\\xea\\\\x93G\\\\xf8,@\\\\xc0\\\\xa9\\\\x16\\\\xfc\\\\xfc\\\\x17M@\\\\x03\\\\xc3\\\\xfcW\\\\x98\\\\x08A@\\\\xa2\\\\xf5\\\\xfc\\\\xb4EnA@\\\\x12\\\\xf9\\\\xbb$\"\\\\xbcA@\\'\\np167\\ntp168\\nbsg13\\ng19\\nsS\\'wendog\\'\\np169\\ng165\\nsS\\'exog\\'\\np170\\ng14\\n(g15\\n(I0\\ntp171\\ng17\\ntp172\\nRp173\\n(I1\\n(L50L\\nL3L\\ntp174\\ng24\\nI00\\nS\\'\\\\x00\\\\x00\\\\x00\\\\x00\\\\x00\\\\x00\\\\xf0?\\\\xfb\\\\xaa\\\\xa5FtS&@\\\\xbc\\\\xa6\\\\xf7\\\\xe1\\\\xcen\\\\x1f@\\\\x00\\\\x00\\\\x00\\\\x00\\\\x00\\\\x00\\\\xf0?\\\\t4ACO>\"@\\\\x80\\\\xce\\\\xee\\\\x9c\\\\x19\\\\x082@\\\\x00\\\\x00\\\\x00\\\\x00\\\\x00\\\\x00\\\\xf0?Z\\\\xaf\\\\xaf\\\\x9f\\\\xc9}\\\\x1c@\\\\xf2d\\\\xb4-\\\\xb9\\\\xc2!@\\\\x00\\\\x00\\\\x00\\\\x00\\\\x00\\\\x00\\\\xf0?\\\\xd2\\\\x8b\\\\xbd\\\\xf3\\\\x88\\\\xff2@\\\\x9a\\\\xa5i\\\\x86\\\\x19k\"@\\\\x00\\\\x00\\\\x00\\\\x00\\\\x00\\\\x00\\\\xf0?\\\\xc4\\\\xc1,\\\\t\\\\x94\\\\xe2*@\\\\xb8*d\\\\x9el2\\\\x0e@\\\\x00\\\\x00\\\\x00\\\\x00\\\\x00\\\\x00\\\\xf0?\\\\xd0)\\\\x93 w]\\\\x1f@~Y\\\\x0e\\\\x85\\\\xf0\\\\xdb0@\\\\x00\\\\x00\\\\x00\\\\x00\\\\x00\\\\x00\\\\xf0?@t}\\\\x85$\\\\x02\\\\xf6?\\\\x86+\\\\x03_t\\\\xaa\\\\x1a@\\\\x00\\\\x00\\\\x00\\\\x00\\\\x00\\\\x00\\\\xf0?x\\\\x83<Zo1\\\\\\'@)>\\\\xd1jsQ#@\\\\x00\\\\x00\\\\x00\\\\x00\\\\x00\\\\x00\\\\xf0?6\\\\xbf5\\\\xc5\\\\x8e\\\\xaf&@\\\\xb7\\\\xe91u\\\\x91$-@\\\\x00\\\\x00\\\\x00\\\\x00\\\\x00\\\\x00\\\\xf0?\\\\x90L\\\\x9b\\\\xdc\\\\xf2\\\\xad\\\\x11@r\\\\x97\\\\x02\\\\xb9~\\\\xd4#@\\\\x00\\\\x00\\\\x00\\\\x00\\\\x00\\\\x00\\\\xf0?\\\\xc2\\\\xa6\\\\xff\\\\x14P\\\\x0b0@h\\\\xc7\\\\\\'\\\\x1a<\\\\x873@\\\\x00\\\\x00\\\\x00\\\\x00\\\\x00\\\\x00\\\\xf0?\\\\x85Z`R\\\\xe3\\\\x8d&@\\\\xb8\\\\x85-\\\\xa7\\\\x06\\\\xbc-@\\\\x00\\\\x00\\\\x00\\\\x00\\\\x00\\\\x00\\\\xf0?E\\\\xf4\\\\xeb\\\\x00\\\\xe7.2@\\\\xc2\\\\xba\\\\xe7\\\\xc2\\\\xe5q0@\\\\x00\\\\x00\\\\x00\\\\x00\\\\x00\\\\x00\\\\xf0?r\\\\xd7\\\\xfc@\\\\xa0\\\\xb0-@\\\\x8c\\\\x8c\\\\x16\\\\x9e\\\\x8d\\\\x1a\\\\x13@\\\\x00\\\\x00\\\\x00\\\\x00\\\\x00\\\\x00\\\\xf0?*\\\\xc3\\\\x1ag\\\\xe2\\\\x823@\\\\x8d4)]|\\\\xab(@\\\\x00\\\\x00\\\\x00\\\\x00\\\\x00\\\\x00\\\\xf0?\\\\x00\\\\x85\\\\xaf3\\\\x81X\\\\xf8?8\\\\x08N.\\\\x82w\\\\x00@\\\\x00\\\\x00\\\\x00\\\\x00\\\\x00\\\\x00\\\\xf0?\\\\xd8O2[\\\\xa9\\\\xb2\\\\x08@0\\\\xc9f\\\\xbc5\\\\x8d\\\\x07@\\\\x00\\\\x00\\\\x00\\\\x00\\\\x00\\\\x00\\\\xf0?!l\\\\xe7\\\\xc6\\\\x906\\\\\\'@\\\\xad\\\\x9f\\\\xab\\\\xe0\\\\xb5\\\\xe93@\\\\x00\\\\x00\\\\x00\\\\x00\\\\x00\\\\x00\\\\xf0?\\\\x04\\\\x1fJ\\\\xd6\\\\xc8\\\\xe2/@\\\\xbe\\\\xd8\\\\x12\\\\xca\\\\x8b63@\\\\x00\\\\x00\\\\x00\\\\x00\\\\x00\\\\x00\\\\xf0?\\\\x16Nt\\\\x1d%B\\\\x18@`\\\\x15(I-+\\\\xf3?\\\\x00\\\\x00\\\\x00\\\\x00\\\\x00\\\\x00\\\\xf0?\\\\x82\\\\xf1\\\\x8f[\\\\xc3\\\\x0f(@\\\\\\'\\\\xe3[,+E%@\\\\x00\\\\x00\\\\x00\\\\x00\\\\x00\\\\x00\\\\xf0?0\\\\xa5\\\\xa1\\\\x11\\\\xac\\\\x0f2@h\\\\xb8\\\\xf0L\\\\xcf\\\\x92\\\\x0e@\\\\x00\\\\x00\\\\x00\\\\x00\\\\x00\\\\x00\\\\xf0?\\\\x1cq+9\\\\xb6\\\\xfc\"@\\\\xcfD\\\\x9c*\\\\x08*/@\\\\x00\\\\x00\\\\x00\\\\x00\\\\x00\\\\x00\\\\xf0?HE\\\\x8d\\\\xa3\\\\x1a\\\\xb51@\\\\xd0jI\\\\x98aQ\\\\x01@\\\\x00\\\\x00\\\\x00\\\\x00\\\\x00\\\\x00\\\\xf0?\\\\xdet)\\\\xe8bv\\\\x1c@l\\\\xca\\\\xe1K\\\\x0c_.@\\\\x00\\\\x00\\\\x00\\\\x00\\\\x00\\\\x00\\\\xf0?`\\\\xc2\\\\xbe\\\\xed(a\\\\xf9?\\\\x8a\\\\\\'\\\\xd60\\\\xd9t2@\\\\x00\\\\x00\\\\x00\\\\x00\\\\x00\\\\x00\\\\xf0?J\\\\x08\\\\xf4\\\\xe9\\\\xf8\\\\x110@u\\\\x9bP-\\\\nL%@\\\\x00\\\\x00\\\\x00\\\\x00\\\\x00\\\\x00\\\\xf0?\\\\xbcF\\\\xd5\\\\xe8\\\\xbe\\\\xfc\\\\x18@\\\\xa0rO)\\\\xb3c\\\\x05@\\\\x00\\\\x00\\\\x00\\\\x00\\\\x00\\\\x00\\\\xf0?\\\\xc8\\\\x99<tN\\\\x16\\\\x06@\\\\xa0\\\\x1b\\\\x9bs\\\\xa1x\\\\xf8?\\\\x00\\\\x00\\\\x00\\\\x00\\\\x00\\\\x00\\\\xf0?P\\\\xc3\\\\xc5\\\\xc5\\\\xde}\\\\xf0?\\\\xf6M\\\\xd8\\\\x9cDc/@\\\\x00\\\\x00\\\\x00\\\\x00\\\\x00\\\\x00\\\\xf0?\\\\x1bl\\\\x05Hu\\\\xb11@D\\\\xeeD\\\\xf4\\\\x01\\\\xae1@\\\\x00\\\\x00\\\\x00\\\\x00\\\\x00\\\\x00\\\\xf0?a(\\\\xb9\\\\x80\\\\xf7\\\\xeb0@\\\\xb2\\\\xbb\\\\x88\\\\xe0\\\\xb5\\\\x88$@\\\\x00\\\\x00\\\\x00\\\\x00\\\\x00\\\\x00\\\\xf0?\\\\x08O\\\\x10\\\\xf5\\\\x11\\\\xc9\\\\x01@\\\\xd8%bcB9\\\\x12@\\\\x00\\\\x00\\\\x00\\\\x00\\\\x00\\\\x00\\\\xf0?F5\\\\xea\\\\xcf1\\\\r\\\\x1e@\\\\xb0\\\\\\'3\\\\x97^P2@\\\\x00\\\\x00\\\\x00\\\\x00\\\\x00\\\\x00\\\\xf0?\\\\xd4\\\\xf1\\\\x9dw\\\\xfb\\\\x9e\\\\\\'@\\\\x9c\\\\xb1.\\\\x87\\\\xe8\\\\xa8\\\\x19@\\\\x00\\\\x00\\\\x00\\\\x00\\\\x00\\\\x00\\\\xf0?\\\\xfcjp}\\\\xd2\\\\xc8\\\\x1f@\\\\xbd\\\\xb4t\\\\x90fj0@\\\\x00\\\\x00\\\\x00\\\\x00\\\\x00\\\\x00\\\\xf0?\\\\xd1\\\\xe0\\\\xa6\\\\xb8\\\\x9e\\\\xfd\"@\\\\xa2v\\\\xa0\\\\xd1q\\\\x0c\\\\\\'@\\\\x00\\\\x00\\\\x00\\\\x00\\\\x00\\\\x00\\\\xf0?\\\\xb6\\\\xadD)\\\\xfb\\\\xca%@|\\\\x8c\\\\x9d\\\\xa4\\\\xa3\\\\x132@\\\\x00\\\\x00\\\\x00\\\\x00\\\\x00\\\\x00\\\\xf0?\\\\xbb\\\\xbb\\\\xdc\\\\xc7\\\\x1c\\\\x93/@J\\\\xf1w\\\\xb7\\\\xa7\\\\x12\\\\x10@\\\\x00\\\\x00\\\\x00\\\\x00\\\\x00\\\\x00\\\\xf0?\\\\xd4\\\\x1a%\\\\xd6\\\\x06#\\\\x1a@\\\\xd0_\\\\xef\\\\x9a\\\\x85\\\\x0f\\\\x00@\\\\x00\\\\x00\\\\x00\\\\x00\\\\x00\\\\x00\\\\xf0?0\\\\x9bs\\\\xe5\\\\xa0M\\\\xf6?\\\\x90\\\\xb4\\\\xf5}E\\\\xcb\\\\x19@\\\\x00\\\\x00\\\\x00\\\\x00\\\\x00\\\\x00\\\\xf0?\\\\xb8%5\\\\xca\\\\xba!\\\\r@\\\\x98\\\\xd6\\\\x99\\\\xde\\\\xc6\\\\xc8\\\\x0c@\\\\x00\\\\x00\\\\x00\\\\x00\\\\x00\\\\x00\\\\xf0?\\\\xd3Y\\\\xec\\\\xd2|\\\\xc53@\\\\xaae\\\\x98>\\\\xae\\\\x07\\\\x12@\\\\x00\\\\x00\\\\x00\\\\x00\\\\x00\\\\x00\\\\xf0?0\\\\xe7H&\\\\xf7;\\\\x18@\\\\xcf\\\\xd5m\\\\xcc\\\\x95\\\\xa4&@\\\\x00\\\\x00\\\\x00\\\\x00\\\\x00\\\\x00\\\\xf0?\\\\xdd\\\\xd1\\\\xef\\\\xe6\\\\x00V%@\\\\x88\\\\xbc\\\\\\\\\\\\x99\\\\xb7\\\\xdd!@\\\\x00\\\\x00\\\\x00\\\\x00\\\\x00\\\\x00\\\\xf0?\\\\xf6\\\\xe3\\\\xc0h\\\\x03\\\\x17\\\\x10@\\\\x88\\\\xb2\\\\x88pF\\\\\\'\\\\t@\\\\x00\\\\x00\\\\x00\\\\x00\\\\x00\\\\x00\\\\xf0?\\\\x94u\\\\xddP:X3@\\\\xaft\\\\xd6)\\\\x97U1@\\\\x00\\\\x00\\\\x00\\\\x00\\\\x00\\\\x00\\\\xf0?\\\\x94\\\\xdf\\\\x81_0T.@\\\\\\\\C+Y\\\\x0eu\\\\x1d@\\\\x00\\\\x00\\\\x00\\\\x00\\\\x00\\\\x00\\\\xf0?\\\\x04\\\\xff\\\\x16t^p+@4wK\\\\xdc\\\\xca\\\\xf7 @\\\\x00\\\\x00\\\\x00\\\\x00\\\\x00\\\\x00\\\\xf0? \\\\xcb\\\\x91z\\\\x05\\\\xbf\\\\x04@3\\\\xc4\\\\x82F\\\\xd2\\\\xb3,@\\'\\np175\\ntp176\\nbsg75\\nF50.0\\nsg55\\nI1\\nsS\\'rank\\'\\np177\\nI3\\nsS\\'wexog\\'\\np178\\ng173\\nsS\\'weights\\'\\np179\\ng14\\n(g15\\n(I0\\ntp180\\ng17\\ntp181\\nRp182\\n(I1\\n(L50L\\ntp183\\ng24\\nI00\\nS\\'\\\\x00\\\\x00\\\\x00\\\\x00\\\\x00\\\\x00\\\\xf0?\\\\x00\\\\x00\\\\x00\\\\x00\\\\x00\\\\x00\\\\xf0?\\\\x00\\\\x00\\\\x00\\\\x00\\\\x00\\\\x00\\\\xf0?\\\\x00\\\\x00\\\\x00\\\\x00\\\\x00\\\\x00\\\\xf0?\\\\x00\\\\x00\\\\x00\\\\x00\\\\x00\\\\x00\\\\xf0?\\\\x00\\\\x00\\\\x00\\\\x00\\\\x00\\\\x00\\\\xf0?\\\\x00\\\\x00\\\\x00\\\\x00\\\\x00\\\\x00\\\\xf0?\\\\x00\\\\x00\\\\x00\\\\x00\\\\x00\\\\x00\\\\xf0?\\\\x00\\\\x00\\\\x00\\\\x00\\\\x00\\\\x00\\\\xf0?\\\\x00\\\\x00\\\\x00\\\\x00\\\\x00\\\\x00\\\\xf0?\\\\x00\\\\x00\\\\x00\\\\x00\\\\x00\\\\x00\\\\xf0?\\\\x00\\\\x00\\\\x00\\\\x00\\\\x00\\\\x00\\\\xf0?\\\\x00\\\\x00\\\\x00\\\\x00\\\\x00\\\\x00\\\\xf0?\\\\x00\\\\x00\\\\x00\\\\x00\\\\x00\\\\x00\\\\xf0?\\\\x00\\\\x00\\\\x00\\\\x00\\\\x00\\\\x00\\\\xf0?\\\\x00\\\\x00\\\\x00\\\\x00\\\\x00\\\\x00\\\\xf0?\\\\x00\\\\x00\\\\x00\\\\x00\\\\x00\\\\x00\\\\xf0?\\\\x00\\\\x00\\\\x00\\\\x00\\\\x00\\\\x00\\\\xf0?\\\\x00\\\\x00\\\\x00\\\\x00\\\\x00\\\\x00\\\\xf0?\\\\x00\\\\x00\\\\x00\\\\x00\\\\x00\\\\x00\\\\xf0?\\\\x00\\\\x00\\\\x00\\\\x00\\\\x00\\\\x00\\\\xf0?\\\\x00\\\\x00\\\\x00\\\\x00\\\\x00\\\\x00\\\\xf0?\\\\x00\\\\x00\\\\x00\\\\x00\\\\x00\\\\x00\\\\xf0?\\\\x00\\\\x00\\\\x00\\\\x00\\\\x00\\\\x00\\\\xf0?\\\\x00\\\\x00\\\\x00\\\\x00\\\\x00\\\\x00\\\\xf0?\\\\x00\\\\x00\\\\x00\\\\x00\\\\x00\\\\x00\\\\xf0?\\\\x00\\\\x00\\\\x00\\\\x00\\\\x00\\\\x00\\\\xf0?\\\\x00\\\\x00\\\\x00\\\\x00\\\\x00\\\\x00\\\\xf0?\\\\x00\\\\x00\\\\x00\\\\x00\\\\x00\\\\x00\\\\xf0?\\\\x00\\\\x00\\\\x00\\\\x00\\\\x00\\\\x00\\\\xf0?\\\\x00\\\\x00\\\\x00\\\\x00\\\\x00\\\\x00\\\\xf0?\\\\x00\\\\x00\\\\x00\\\\x00\\\\x00\\\\x00\\\\xf0?\\\\x00\\\\x00\\\\x00\\\\x00\\\\x00\\\\x00\\\\xf0?\\\\x00\\\\x00\\\\x00\\\\x00\\\\x00\\\\x00\\\\xf0?\\\\x00\\\\x00\\\\x00\\\\x00\\\\x00\\\\x00\\\\xf0?\\\\x00\\\\x00\\\\x00\\\\x00\\\\x00\\\\x00\\\\xf0?\\\\x00\\\\x00\\\\x00\\\\x00\\\\x00\\\\x00\\\\xf0?\\\\x00\\\\x00\\\\x00\\\\x00\\\\x00\\\\x00\\\\xf0?\\\\x00\\\\x00\\\\x00\\\\x00\\\\x00\\\\x00\\\\xf0?\\\\x00\\\\x00\\\\x00\\\\x00\\\\x00\\\\x00\\\\xf0?\\\\x00\\\\x00\\\\x00\\\\x00\\\\x00\\\\x00\\\\xf0?\\\\x00\\\\x00\\\\x00\\\\x00\\\\x00\\\\x00\\\\xf0?\\\\x00\\\\x00\\\\x00\\\\x00\\\\x00\\\\x00\\\\xf0?\\\\x00\\\\x00\\\\x00\\\\x00\\\\x00\\\\x00\\\\xf0?\\\\x00\\\\x00\\\\x00\\\\x00\\\\x00\\\\x00\\\\xf0?\\\\x00\\\\x00\\\\x00\\\\x00\\\\x00\\\\x00\\\\xf0?\\\\x00\\\\x00\\\\x00\\\\x00\\\\x00\\\\x00\\\\xf0?\\\\x00\\\\x00\\\\x00\\\\x00\\\\x00\\\\x00\\\\xf0?\\\\x00\\\\x00\\\\x00\\\\x00\\\\x00\\\\x00\\\\xf0?\\\\x00\\\\x00\\\\x00\\\\x00\\\\x00\\\\x00\\\\xf0?\\'\\np184\\ntp185\\nbsS\\'pinv_wexog\\'\\np186\\ng14\\n(g15\\n(I0\\ntp187\\ng17\\ntp188\\nRp189\\n(I1\\n(L3L\\nL50L\\ntp190\\ng24\\nI00\\nS\\'\\\\xd0f\\\\x8a\\\\\\\\/K\\\\x9b?\\\\xc5F\\\\xee0\\\\x10\\\\xd1\\\\x8b\\\\xbf\\\\xea\\\\xc2\\\\x9e\\\\x1a\\\\x1c\\\\xd3\\\\xa5?\\\\x1a-k\\\\xd2\\\\xa0\\\\x7f\\\\x95\\\\xbf)\\\\xb8C\\\\x85\\\\xae\\\\x03\\\\xa2?\\\\xf3iz,\\\\x9b\\\\xf4P\\\\xbf\\\\xd7\\\\xe6\\\\t\\\\x8b\\\\x08m\\\\xb5? \\\\xba\\\\xe2\\\\x96\\\\x1c\\\\x81\\\\x8f?7\\\\xc2\\\\t\\\\xcc\\\\xe5\\\\x1b\\\\x80\\\\xbfK\\\\xd9\\\\x06\\\\x99\\\\xa9e\\\\xaa?\\\\to\\\\xed\\\\x87\\\\xd7H\\\\xad\\\\xbfh\\\\xf7\\\\xe7\\\\xd6\\\\xc4o\\\\x82\\\\xbf\\\\x10\\\\x82\\\\x80\\\\x86p\\\\x1a\\\\xab\\\\xbf\\\\xea\\\\xe3K\\\\xa5\\\\xadg\\\\x97?\\\\x80\\\\xbb\\\\\\'\\\\xed/ \\\\xa4\\\\xbf\\\\xce\\\\xfa\\\\xda[\\\\xb8!\\\\xbb?\\\\xb1&\\\\xc4\\\\xb0\\\\xea\\\\xe7\\\\xb7?\\\\x0cP\\\\xfb\\\\xd3\\\\x81i\\\\xa2\\\\xbf\"\\\\xf0\\\\xf0\\\\x18\\\\xed4\\\\xac\\\\xbf\\\\xebs\\\\x89\\\\xe3\\\\xf0)\\\\xb6?\\\\x1d\\\\xf5\\\\xc5\\\\xceF\\\\xdd\\\\x80?\\\\xed\\\\xa8e\\\\xf5\\\\xb05\\\\x86?\\\\xa4\\\\xfc\\\\x08\\\\x8e\\\\xac\\\\xc9j\\\\xbf\\\\xe5-iK\\\\x9b{\\\\x95?\\\\xe9\\\\x8c\\\\x92\\\\x1d\\\\xe4\\\\xc7\\\\x86?^X\\\\xbd\\\\x9e\\\\xb0/\\\\x98?\\\\xe2\\\\xb1S\\\\xb3\\\\x8ar\\\\x8a\\\\xbf\\\\x8cv\\\\x14\\\\x08\\\\xdd\\\\x07\\\\xb4?,\\\\xa4\\\\x80\\\\x1a>\\\\\\'\\\\xba?\\\\xb9\\\\xe81\\\\x92\\\\x18\\\\xa7\\\\xa4?7Z{\\\\x17\\\\xd8\\\\xf4\\\\xac\\\\xbf\\\\x0cm\\\\x83x\\\\xfe\\\\xa3\\\\x8f\\\\xbf\\\\xa1\\\\xba\\\\x8f\\\\xb3\\\\x00\\\\xff\\\\xb6?1\\\\xef\\\\x9aB\\\\xd0\\\\x06{\\\\xbf\\\\x9e\\\\x8fyY\\\\xde9\\\\x9f?:\\\\xb3\\\\x085c\\\\xdbD?s \\\\x85OVm\\\\x91?(\\\\x19\\\\x10q\\\\xaa\\\\x9f\\\\x97\\\\xbf9\\\\xa8\\\\xc2K\\\\x08@\\\\x96?@k!\\\\xa7\\\\xef\\\\x7f\\\\xb4?\\\\x19\\\\xa8\\\\x85(.\\\\xae\\\\xb5?\\\\xd5\\\\xb7\\\\x806\\\\xeeS\\\\xb6?\\\\xd8\\\\xf1gmI\\\\xc3X\\\\xbf9\\\\x9c\\\\x12)\\\\x99j\\\\xa2?\\\\xac,\\\\x8fJ\\\\xffn\\\\x98?\\\\xeb\\\\xa4\\\\xb8`gf\\\\xb6?d\"s\\\\x1d\\\\x08>\\\\xb0\\\\xbfP\\\\x05vv\\\\xf8\\\\xe0\\\\x80?~\\\\xd3\\\\xa5`@\\\\xda\\\\x84?A\\\\x9d\\\\x8a\\\\xf7\\\\x8f\\\\xea\\\\xa3?\\\\x1e\\\\xa0\\\\xac\\\\xbf \\\\x8fK?\\\\xef\\\\x85\\\\xf9J\\\\rLX\\\\xbf\\\\x9br)}\\\\xaf\\\\xc9\\\\\\\\\\\\xbf\\\\xf4\\\\xb6\\\\x0685\\\\xa7v?KQ\\\\xf4\\\\xb91\\\\xe8e??\\\\x00y\\\\xfd-\\\\x9ca\\\\xbf\\\\xbb\\\\xbe[\\\\x00\\\\x1e\\\\xc3t\\\\xbfM\\\\\\\\\\\\xda\\\\xb6\\\\x8a#N?\\\\x9c\\\\x9f\\\\x02\\\\xf9;P0?v\\\\xae\\\\x02\\\\xb9,\\\\xefl\\\\xbf\\\\x18|\\\\xb9Pt\\\\x88e?\\\\xa2|y1w@\\\\\\'?\\\\x06\\\\xba\\\\xc2z\\\\xbf}q?D}\\\\xe9\\\\x1a\\\\xb7!l?\\\\xec\\\\xa2\\\\xca\\\\xcf\\\\xb0\\\\x9bv?a\\\\x7f\\\\xd2\\\\xdd\\\\xa6jr\\\\xbfr)\\\\x9cAZ\\\\xafm\\\\xbf\\\\xc0\\\\xacz\\\\x80\\\\xd4a#\\\\xbfZ]\\\\xd9~\\\\xc0Je?F\\\\xd8\\\\xb7\\\\xe3\\\\x0cLZ\\\\xbf%\\\\xbf\\\\x12\\\\xb3\\\\x0b\\\\xc8Q?c1\\\\xc3z\\\\t\\\\x99v?\\\\xf9w&YcVP\\\\xbf`\\\\\\\\\\\\x83\\\\xe0Ajv?x\\\\x19\\\\xd3\\\\xbc\\\\xf7\\\\xd6c\\\\xbf\\\\xc5\\\\x18m\\\\x99\\\\x8eIy\\\\xbf\\\\xccN&oDHm?h\\\\x83$\\\\xd5\\\\xf3\\\\xfcZ\\\\xbf,7\\\\xf1\\\\x90\\\\xae\\\\x1en\\\\xbfq%\\\\xda\\\\tW\\\\x81y\\\\xbf*e\\\\x8d>\\\\xb0ro?a\\\\xa29T\\\\x92\\\\xf4p?\\\\x06\\\\xd1\\\\xf0#S\\\\xb7q\\\\xbf\\\\x10\\\\x99b\\\\x88O\\\\x84d\\\\xbf&\\\\xddee\\\\r\\\\xccV?#\\\\xe9\\\\xb2\\\\xe35\\\\xb3`\\\\xbf@\\\\x9e\\\\xbb\\\\xb5\\\\xe7\\\\xb6B\\\\xbfl\\\\xdc\\\\xb7?\\\\x9b\\\\xc89\\\\xbf\\\\xf2H\\\\x8foR\\\\xc5p?\\\\x98\\\\x03)\\\\x8c*\\\\xf1V\\\\xbf\\\\x15\\\\xc5\\\\xf2\\\\xd0D\\\\x9ft\\\\xbf\\\\x9d\\\\xeb\\\\xf0\\\\x86Yrk\\\\xbf\\\\\\\\\\\\xc9[\\\\x1bn\\\\x9fz?\\\\x00f\\\\n\\\\xba#\\\\xdde\\\\xbf$\\\\x1d\\\\xf0d\\\\x19\\\\xbd;?\\\\x9a \\\\xf4Z\\\\x03\"i\\\\xbf\\\\xac7:\\\\xa2\\\\xf9\\\\nt?\\\\xb0J\\\\xe2\\\\xd0T\\\\x86k?\\\\x02cZ+\\\\x04Dc?9\\\\xf5/\\\\x85\\\\xac\\\\xfbt\\\\xbf\\\\xec\\\\xbf>\\\\x134xX\\\\xbf\\\\xb4\\\\x9d\\\\xdc}.\\\\x90s?\\\\xd0\\\\xf3\\\\x99\\\\xc1\\\\xafF>\\\\xbfC\\\\x8e\\\\xae>\\\\xbd\\\\xbcX\\\\xbf\\\\x93\\\\x9b\\\\x1e\\\\xedE\\\\rq\\\\xbf\\\\xa1U\\\\xaa\\\\x1c\\\\xee@q?\\\\x12\\\\xef\\\\x04:\\\\x9fLS\\\\xbf\\\\x9em\\\\r\\\\xd9b\\\\x99>\\\\xbf\\\\xce^S\\\\xbf\\\\xedXd?\\\\xf8\\\\x91\\\\x92/\\\\xe7\\\\xa3<?D\\\\xf1\\\\xec3/>t?\\\\xbf\\\\xe9\\\\xe8U\\\\xa8\\\\xd8e?\\\\xbd\\\\x1d\\\\x10es\\\\x9dg?$\\\\t#\\\\xf3\\\\x8cln\\\\xbf\\\\xcc}o\\\\x90:x3?h\\\\xb0x\\\\xfe~\\\\x1fp\\\\xbf\\\\xf6\\\\xa1`\\\\x0bJEm\\\\xbfz\\\\xba\\\\x18\\\\xda\\\\x95\\\\x15w?\\\\n\\\\xfch\\\\x0f\\\\x91\\\\x84s?\\\\xac\\\\xf3\\\\x04\\\\xe6Z+t\\\\xbfxx/1\\\\x1a\\\\xfc\\\\x11?\\\\xb5#L\\\\x8b\\\\x13\\\\xebr\\\\xbf\\\\xad\\\\xeb?\\\\x02\\\\xc3\\\\xdcj?\\\\xfa\\\\xb3\\\\x0f\\\\x12w\\\\xcev\\\\xbf\\\\xdb\\\\xd1O+\\\\x18\\\\xf8j?n\\\\x9f\\\\xea\\\\x7f\\\\xce\\\\xd4w?\\\\x0c\\\\xd1\\\\xbc\\\\x9f\\\\x10\\\\xb46\\\\xbfc\\\\x96\\\\xb8\\\\xf0K\\\\xa6p\\\\xbf\\\\x8a\\\\x06\\\\xce\\\\xd8\\\\xb6\\\\xf1q\\\\xbf\\\\xaf\\\\x135LwUq?s(\\\\xea\\\\\\\\\\\\x8e\\\\x0en?}\\\\xd7 9\\\\x1d\\\\xb7E\\\\xbf\\\\xa0q}e3\\\\xabd\\\\xbf\\\\x9a\\\\x9dh\\\\xe1\\\\r\\\\xf1t?]|\\\\xd0\\\\xda\\\\x06\\\\xd4c\\\\xbfI\\\\x87\\\\x83\\\\xe6\\\\x95 p?\\\\xc6\\\\xc3\\\\xec\\\\x94\\\\x16KL?U\\\\x08NHn\\\\xe9r?\\\\xf8\\\\x8e\\\\xb8\\\\xf8\\\\xb4vq\\\\xbf\\\\x1c6\\\\xf0\\\\xb6\\\\x9fer\\\\xbfH3\\\\xd1\\\\x81\\\\xe2tU\\\\xbfgA4\\\\ny\\\\x8ej\\\\xbf\\\\x1f\\\\xa0\\\\x19&\\\\xcd\\\\xfaq\\\\xbf\\\\xe5/\\\\xfe\\\\x87\\\\xa9\\\\x10R?\\\\xf6.\\\\x96\\\\xdbjFJ\\\\xbf\\\\xfa\\\\xefh\\\\xe1\\\\xba\\\\x18m\\\\xbf\\\\x1a\\\\x17\\\\x8c\\\\x85\\\\xb4\\\\xf4j?\\\\x14\\\\xfb\\\\xca\\\\x1aw\\\\x13b\\\\xbfr5e8\\\\xc3\\\\xc0V\\\\xbfx2\\\\x95\\\\xcb\\\\x9f\\\\xc7j?\\'\\np191\\ntp192\\nbsS\\'data\\'\\np193\\ng0\\n(cstatsmodels.base.data\\nPandasData\\np194\\ng2\\nNtp195\\nRp196\\n(dp197\\nS\\'const_idx\\'\\np198\\ng14\\n(g15\\n(I0\\ntp199\\ng17\\ntp200\\nRp201\\n(I1\\n(tg21\\n(S\\'i8\\'\\np202\\nI0\\nI1\\ntp203\\nRp204\\n(I3\\nS\\'<\\'\\np205\\nNNNI-1\\nI-1\\nI0\\ntp206\\nbI00\\nS\\'\\\\x00\\\\x00\\\\x00\\\\x00\\\\x00\\\\x00\\\\x00\\\\x00\\'\\np207\\ntp208\\nbsS\\'frame\\'\\np209\\ng0\\n(cpandas.core.frame\\nDataFrame\\np210\\ng2\\nNtp211\\nRp212\\ng0\\n(cpandas.core.internals\\nBlockManager\\np213\\ng2\\nNtp214\\nRp215\\n((lp216\\ncpandas.core.index\\n_new_Index\\np217\\n(cpandas.core.index\\nIndex\\np218\\n(dp219\\ng193\\ng14\\n(g15\\n(I0\\ntp220\\ng17\\ntp221\\nRp222\\n(I1\\n(L3L\\ntp223\\ng21\\n(S\\'O8\\'\\np224\\nI0\\nI1\\ntp225\\nRp226\\n(I3\\nS\\'|\\'\\np227\\nNNNI-1\\nI-1\\nI63\\ntp228\\nbI00\\n(lp229\\nS\\'x1\\'\\np230\\naS\\'x2\\'\\np231\\naS\\'y\\'\\np232\\natp233\\nbsS\\'name\\'\\np234\\nNstp235\\nRp236\\nag217\\n(cpandas.core.index\\nInt64Index\\np237\\n(dp238\\ng193\\ng14\\n(g15\\n(I0\\ntp239\\ng17\\ntp240\\nRp241\\n(I1\\n(L50L\\ntp242\\ng204\\nI00\\nS\\'\\\\x00\\\\x00\\\\x00\\\\x00\\\\x00\\\\x00\\\\x00\\\\x00\\\\x01\\\\x00\\\\x00\\\\x00\\\\x00\\\\x00\\\\x00\\\\x00\\\\x02\\\\x00\\\\x00\\\\x00\\\\x00\\\\x00\\\\x00\\\\x00\\\\x03\\\\x00\\\\x00\\\\x00\\\\x00\\\\x00\\\\x00\\\\x00\\\\x04\\\\x00\\\\x00\\\\x00\\\\x00\\\\x00\\\\x00\\\\x00\\\\x05\\\\x00\\\\x00\\\\x00\\\\x00\\\\x00\\\\x00\\\\x00\\\\x06\\\\x00\\\\x00\\\\x00\\\\x00\\\\x00\\\\x00\\\\x00\\\\x07\\\\x00\\\\x00\\\\x00\\\\x00\\\\x00\\\\x00\\\\x00\\\\x08\\\\x00\\\\x00\\\\x00\\\\x00\\\\x00\\\\x00\\\\x00\\\\t\\\\x00\\\\x00\\\\x00\\\\x00\\\\x00\\\\x00\\\\x00\\\\n\\\\x00\\\\x00\\\\x00\\\\x00\\\\x00\\\\x00\\\\x00\\\\x0b\\\\x00\\\\x00\\\\x00\\\\x00\\\\x00\\\\x00\\\\x00\\\\x0c\\\\x00\\\\x00\\\\x00\\\\x00\\\\x00\\\\x00\\\\x00\\\\r\\\\x00\\\\x00\\\\x00\\\\x00\\\\x00\\\\x00\\\\x00\\\\x0e\\\\x00\\\\x00\\\\x00\\\\x00\\\\x00\\\\x00\\\\x00\\\\x0f\\\\x00\\\\x00\\\\x00\\\\x00\\\\x00\\\\x00\\\\x00\\\\x10\\\\x00\\\\x00\\\\x00\\\\x00\\\\x00\\\\x00\\\\x00\\\\x11\\\\x00\\\\x00\\\\x00\\\\x00\\\\x00\\\\x00\\\\x00\\\\x12\\\\x00\\\\x00\\\\x00\\\\x00\\\\x00\\\\x00\\\\x00\\\\x13\\\\x00\\\\x00\\\\x00\\\\x00\\\\x00\\\\x00\\\\x00\\\\x14\\\\x00\\\\x00\\\\x00\\\\x00\\\\x00\\\\x00\\\\x00\\\\x15\\\\x00\\\\x00\\\\x00\\\\x00\\\\x00\\\\x00\\\\x00\\\\x16\\\\x00\\\\x00\\\\x00\\\\x00\\\\x00\\\\x00\\\\x00\\\\x17\\\\x00\\\\x00\\\\x00\\\\x00\\\\x00\\\\x00\\\\x00\\\\x18\\\\x00\\\\x00\\\\x00\\\\x00\\\\x00\\\\x00\\\\x00\\\\x19\\\\x00\\\\x00\\\\x00\\\\x00\\\\x00\\\\x00\\\\x00\\\\x1a\\\\x00\\\\x00\\\\x00\\\\x00\\\\x00\\\\x00\\\\x00\\\\x1b\\\\x00\\\\x00\\\\x00\\\\x00\\\\x00\\\\x00\\\\x00\\\\x1c\\\\x00\\\\x00\\\\x00\\\\x00\\\\x00\\\\x00\\\\x00\\\\x1d\\\\x00\\\\x00\\\\x00\\\\x00\\\\x00\\\\x00\\\\x00\\\\x1e\\\\x00\\\\x00\\\\x00\\\\x00\\\\x00\\\\x00\\\\x00\\\\x1f\\\\x00\\\\x00\\\\x00\\\\x00\\\\x00\\\\x00\\\\x00 \\\\x00\\\\x00\\\\x00\\\\x00\\\\x00\\\\x00\\\\x00!\\\\x00\\\\x00\\\\x00\\\\x00\\\\x00\\\\x00\\\\x00\"\\\\x00\\\\x00\\\\x00\\\\x00\\\\x00\\\\x00\\\\x00#\\\\x00\\\\x00\\\\x00\\\\x00\\\\x00\\\\x00\\\\x00$\\\\x00\\\\x00\\\\x00\\\\x00\\\\x00\\\\x00\\\\x00%\\\\x00\\\\x00\\\\x00\\\\x00\\\\x00\\\\x00\\\\x00&\\\\x00\\\\x00\\\\x00\\\\x00\\\\x00\\\\x00\\\\x00\\\\\\'\\\\x00\\\\x00\\\\x00\\\\x00\\\\x00\\\\x00\\\\x00(\\\\x00\\\\x00\\\\x00\\\\x00\\\\x00\\\\x00\\\\x00)\\\\x00\\\\x00\\\\x00\\\\x00\\\\x00\\\\x00\\\\x00*\\\\x00\\\\x00\\\\x00\\\\x00\\\\x00\\\\x00\\\\x00+\\\\x00\\\\x00\\\\x00\\\\x00\\\\x00\\\\x00\\\\x00,\\\\x00\\\\x00\\\\x00\\\\x00\\\\x00\\\\x00\\\\x00-\\\\x00\\\\x00\\\\x00\\\\x00\\\\x00\\\\x00\\\\x00.\\\\x00\\\\x00\\\\x00\\\\x00\\\\x00\\\\x00\\\\x00/\\\\x00\\\\x00\\\\x00\\\\x00\\\\x00\\\\x00\\\\x000\\\\x00\\\\x00\\\\x00\\\\x00\\\\x00\\\\x00\\\\x001\\\\x00\\\\x00\\\\x00\\\\x00\\\\x00\\\\x00\\\\x00\\'\\np243\\ntp244\\nbsg234\\nNstp245\\nRp246\\na(lp247\\ng14\\n(g15\\n(I0\\ntp248\\ng17\\ntp249\\nRp250\\n(I1\\n(L3L\\nL50L\\ntp251\\ng24\\nI00\\nS\\'\\\\xfb\\\\xaa\\\\xa5FtS&@\\\\t4ACO>\"@Z\\\\xaf\\\\xaf\\\\x9f\\\\xc9}\\\\x1c@\\\\xd2\\\\x8b\\\\xbd\\\\xf3\\\\x88\\\\xff2@\\\\xc4\\\\xc1,\\\\t\\\\x94\\\\xe2*@\\\\xd0)\\\\x93 w]\\\\x1f@@t}\\\\x85$\\\\x02\\\\xf6?x\\\\x83<Zo1\\\\\\'@6\\\\xbf5\\\\xc5\\\\x8e\\\\xaf&@\\\\x90L\\\\x9b\\\\xdc\\\\xf2\\\\xad\\\\x11@\\\\xc2\\\\xa6\\\\xff\\\\x14P\\\\x0b0@\\\\x85Z`R\\\\xe3\\\\x8d&@E\\\\xf4\\\\xeb\\\\x00\\\\xe7.2@r\\\\xd7\\\\xfc@\\\\xa0\\\\xb0-@*\\\\xc3\\\\x1ag\\\\xe2\\\\x823@\\\\x00\\\\x85\\\\xaf3\\\\x81X\\\\xf8?\\\\xd8O2[\\\\xa9\\\\xb2\\\\x08@!l\\\\xe7\\\\xc6\\\\x906\\\\\\'@\\\\x04\\\\x1fJ\\\\xd6\\\\xc8\\\\xe2/@\\\\x16Nt\\\\x1d%B\\\\x18@\\\\x82\\\\xf1\\\\x8f[\\\\xc3\\\\x0f(@0\\\\xa5\\\\xa1\\\\x11\\\\xac\\\\x0f2@\\\\x1cq+9\\\\xb6\\\\xfc\"@HE\\\\x8d\\\\xa3\\\\x1a\\\\xb51@\\\\xdet)\\\\xe8bv\\\\x1c@`\\\\xc2\\\\xbe\\\\xed(a\\\\xf9?J\\\\x08\\\\xf4\\\\xe9\\\\xf8\\\\x110@\\\\xbcF\\\\xd5\\\\xe8\\\\xbe\\\\xfc\\\\x18@\\\\xc8\\\\x99<tN\\\\x16\\\\x06@P\\\\xc3\\\\xc5\\\\xc5\\\\xde}\\\\xf0?\\\\x1bl\\\\x05Hu\\\\xb11@a(\\\\xb9\\\\x80\\\\xf7\\\\xeb0@\\\\x08O\\\\x10\\\\xf5\\\\x11\\\\xc9\\\\x01@F5\\\\xea\\\\xcf1\\\\r\\\\x1e@\\\\xd4\\\\xf1\\\\x9dw\\\\xfb\\\\x9e\\\\\\'@\\\\xfcjp}\\\\xd2\\\\xc8\\\\x1f@\\\\xd1\\\\xe0\\\\xa6\\\\xb8\\\\x9e\\\\xfd\"@\\\\xb6\\\\xadD)\\\\xfb\\\\xca%@\\\\xbb\\\\xbb\\\\xdc\\\\xc7\\\\x1c\\\\x93/@\\\\xd4\\\\x1a%\\\\xd6\\\\x06#\\\\x1a@0\\\\x9bs\\\\xe5\\\\xa0M\\\\xf6?\\\\xb8%5\\\\xca\\\\xba!\\\\r@\\\\xd3Y\\\\xec\\\\xd2|\\\\xc53@0\\\\xe7H&\\\\xf7;\\\\x18@\\\\xdd\\\\xd1\\\\xef\\\\xe6\\\\x00V%@\\\\xf6\\\\xe3\\\\xc0h\\\\x03\\\\x17\\\\x10@\\\\x94u\\\\xddP:X3@\\\\x94\\\\xdf\\\\x81_0T.@\\\\x04\\\\xff\\\\x16t^p+@ \\\\xcb\\\\x91z\\\\x05\\\\xbf\\\\x04@\\\\xbc\\\\xa6\\\\xf7\\\\xe1\\\\xcen\\\\x1f@\\\\x80\\\\xce\\\\xee\\\\x9c\\\\x19\\\\x082@\\\\xf2d\\\\xb4-\\\\xb9\\\\xc2!@\\\\x9a\\\\xa5i\\\\x86\\\\x19k\"@\\\\xb8*d\\\\x9el2\\\\x0e@~Y\\\\x0e\\\\x85\\\\xf0\\\\xdb0@\\\\x86+\\\\x03_t\\\\xaa\\\\x1a@)>\\\\xd1jsQ#@\\\\xb7\\\\xe91u\\\\x91$-@r\\\\x97\\\\x02\\\\xb9~\\\\xd4#@h\\\\xc7\\\\\\'\\\\x1a<\\\\x873@\\\\xb8\\\\x85-\\\\xa7\\\\x06\\\\xbc-@\\\\xc2\\\\xba\\\\xe7\\\\xc2\\\\xe5q0@\\\\x8c\\\\x8c\\\\x16\\\\x9e\\\\x8d\\\\x1a\\\\x13@\\\\x8d4)]|\\\\xab(@8\\\\x08N.\\\\x82w\\\\x00@0\\\\xc9f\\\\xbc5\\\\x8d\\\\x07@\\\\xad\\\\x9f\\\\xab\\\\xe0\\\\xb5\\\\xe93@\\\\xbe\\\\xd8\\\\x12\\\\xca\\\\x8b63@`\\\\x15(I-+\\\\xf3?\\\\\\'\\\\xe3[,+E%@h\\\\xb8\\\\xf0L\\\\xcf\\\\x92\\\\x0e@\\\\xcfD\\\\x9c*\\\\x08*/@\\\\xd0jI\\\\x98aQ\\\\x01@l\\\\xca\\\\xe1K\\\\x0c_.@\\\\x8a\\\\\\'\\\\xd60\\\\xd9t2@u\\\\x9bP-\\\\nL%@\\\\xa0rO)\\\\xb3c\\\\x05@\\\\xa0\\\\x1b\\\\x9bs\\\\xa1x\\\\xf8?\\\\xf6M\\\\xd8\\\\x9cDc/@D\\\\xeeD\\\\xf4\\\\x01\\\\xae1@\\\\xb2\\\\xbb\\\\x88\\\\xe0\\\\xb5\\\\x88$@\\\\xd8%bcB9\\\\x12@\\\\xb0\\\\\\'3\\\\x97^P2@\\\\x9c\\\\xb1.\\\\x87\\\\xe8\\\\xa8\\\\x19@\\\\xbd\\\\xb4t\\\\x90fj0@\\\\xa2v\\\\xa0\\\\xd1q\\\\x0c\\\\\\'@|\\\\x8c\\\\x9d\\\\xa4\\\\xa3\\\\x132@J\\\\xf1w\\\\xb7\\\\xa7\\\\x12\\\\x10@\\\\xd0_\\\\xef\\\\x9a\\\\x85\\\\x0f\\\\x00@\\\\x90\\\\xb4\\\\xf5}E\\\\xcb\\\\x19@\\\\x98\\\\xd6\\\\x99\\\\xde\\\\xc6\\\\xc8\\\\x0c@\\\\xaae\\\\x98>\\\\xae\\\\x07\\\\x12@\\\\xcf\\\\xd5m\\\\xcc\\\\x95\\\\xa4&@\\\\x88\\\\xbc\\\\\\\\\\\\x99\\\\xb7\\\\xdd!@\\\\x88\\\\xb2\\\\x88pF\\\\\\'\\\\t@\\\\xaft\\\\xd6)\\\\x97U1@\\\\\\\\C+Y\\\\x0eu\\\\x1d@4wK\\\\xdc\\\\xca\\\\xf7 @3\\\\xc4\\\\x82F\\\\xd2\\\\xb3,@j\\\\x9d\\\\xf1\\\\xe7\\\\xb2\\\\r?@\\\\xc9\\\\x95\\\\x90\\\\x17\\\\xf6\\\\xadH@VEC\\\\xe9\\\\xbc\\\\x0e=@\\\\xfd\\\\x12\\\\xe5\\\\xe6\\\\x99\\\\xcbD@\\\\x1e`\\\\xd2\\\\x7fv*9@\\\\xff8\\\\xf2\\\\x12\\\\xe8\\\\xddF@\\\\x94a|\\\\xcb\\\\xed\\\\xe12@9:\\\\xc95^\\\\x8bA@\\\\xf0\\\\xde\\\\xb7\\\\x15uTF@$_\\\\xcc\\\\xc3\\\\x8cl<@\\\\x10\\\\x15y\\\\xce,\\\\xa3M@\\\\xc4S\\\\x00\\\\xd2\\\\xc4\\\\x97F@+//\\\\xed\\\\xa1\\\\x9fK@\\\\x8c\\\\xa6,C(\\\\x92<@#v\\\\xf3\\\\x0bx-H@\\\\xd7\\\\xdd\\\\xe2\\\\xe4\\\\xf3\\\\x9f#@\\\\xa9\\\\xe1E\\\\xdcgL*@\\\\xfc\\\\xf46\\\\xbc\\\\xa2\\\\xcdK@\\\\xc6\\\\xdav\\\\xa9\\\\x86EM@~\\\\x15J\\\\x88\\\\x00E)@;h\\\\xe3\\\\x16\\\\xcf\\\\xbcB@\\\\xd8\\\\xc7\\\\x808\\\\xf1\\\\xe0=@\\\\xf5xjMzjF@\\\\x8a\\\\x94B]\\\\x046:@\\\\x19\\\\x8e\\\\xc7,\\\\x9b\\\\xd4D@\\\\xe4\\\\x97\\\\x15\"+VE@\\\\\\'\\\\xccs5J\\\\xc5D@\\\\xc9EX\\\\xb0[\\\\x89/@u\\\\xd6;\\\\xa1\\\\xde\\\\xfc#@]\\\\xcfk\\\\xee\\\\xd9KB@\\\\x99\\\\x1e\\\\x19B\\\\x05\\\\x9dL@QlrZ\\\\x9f\\\\xd0D@\\\\xb5\"\\\\xec\\\\x87\\\\xa9\\\\x04/@\\\\xa0\\\\xe8\\\\x01{M(H@FF\\\\tS\\\\x83\\\\xd0<@c<\\\\xf4\\\\x89\\\\xc9yF@\\\\xccm\\\\xcb@\\\\xe9[B@12\\\\xc0\\\\x18\\\\xab\\\\x9cI@\\\\x10KM\\\\x93s\\\\xff;@m&\\\\xd0\\\\xdfhr-@\\\\x88\\\\x08\\\\xf5 \\\\x0ew2@\\\\xd5\\\\x1d \\\\xc9\\\\xf4\\\\x05.@\\\\x9b\\\\xc0\\\\xed\\\\xa2\\\\xf2z@@\\\\x14\\\\x82\\\\xd1t\\\\x12p@@\\\\x02\\\\xcd;\\\\xb0\\\\xa4Z@@Z\\\\xb4\\\\xea\\\\x93G\\\\xf8,@\\\\xc0\\\\xa9\\\\x16\\\\xfc\\\\xfc\\\\x17M@\\\\x03\\\\xc3\\\\xfcW\\\\x98\\\\x08A@\\\\xa2\\\\xf5\\\\xfc\\\\xb4EnA@\\\\x12\\\\xf9\\\\xbb$\"\\\\xbcA@\\'\\np252\\ntp253\\nba(lp254\\ng217\\n(g218\\n(dp255\\ng193\\ng14\\n(g15\\n(I0\\ntp256\\ng17\\ntp257\\nRp258\\n(I1\\n(L3L\\ntp259\\ng226\\nI00\\n(lp260\\ng230\\nag231\\nag232\\natp261\\nbsg234\\nNstp262\\nRp263\\na(dp264\\nS\\'0.14.1\\'\\np265\\n(dp266\\nS\\'axes\\'\\np267\\ng216\\nsS\\'blocks\\'\\np268\\n(lp269\\n(dp270\\nS\\'mgr_locs\\'\\np271\\nc__builtin__\\nslice\\np272\\n(I0\\nI3\\nL1L\\ntp273\\nRp274\\nsS\\'values\\'\\np275\\ng250\\nsasstp276\\nbbsg162\\ng165\\nsg55\\nI1\\nsS\\'orig_endog\\'\\np277\\ng0\\n(g210\\ng2\\nNtp278\\nRp279\\ng0\\n(g213\\ng2\\nNtp280\\nRp281\\n((lp282\\ng217\\n(g218\\n(dp283\\ng193\\ng14\\n(g15\\n(I0\\ntp284\\ng17\\ntp285\\nRp286\\n(I1\\n(L1L\\ntp287\\ng226\\nI00\\n(lp288\\ng232\\natp289\\nbsg234\\nNstp290\\nRp291\\nag217\\n(g237\\n(dp292\\ng193\\ng14\\n(g15\\n(I0\\ntp293\\ng17\\ntp294\\nRp295\\n(I1\\n(L50L\\ntp296\\ng204\\nI00\\nS\\'\\\\x00\\\\x00\\\\x00\\\\x00\\\\x00\\\\x00\\\\x00\\\\x00\\\\x01\\\\x00\\\\x00\\\\x00\\\\x00\\\\x00\\\\x00\\\\x00\\\\x02\\\\x00\\\\x00\\\\x00\\\\x00\\\\x00\\\\x00\\\\x00\\\\x03\\\\x00\\\\x00\\\\x00\\\\x00\\\\x00\\\\x00\\\\x00\\\\x04\\\\x00\\\\x00\\\\x00\\\\x00\\\\x00\\\\x00\\\\x00\\\\x05\\\\x00\\\\x00\\\\x00\\\\x00\\\\x00\\\\x00\\\\x00\\\\x06\\\\x00\\\\x00\\\\x00\\\\x00\\\\x00\\\\x00\\\\x00\\\\x07\\\\x00\\\\x00\\\\x00\\\\x00\\\\x00\\\\x00\\\\x00\\\\x08\\\\x00\\\\x00\\\\x00\\\\x00\\\\x00\\\\x00\\\\x00\\\\t\\\\x00\\\\x00\\\\x00\\\\x00\\\\x00\\\\x00\\\\x00\\\\n\\\\x00\\\\x00\\\\x00\\\\x00\\\\x00\\\\x00\\\\x00\\\\x0b\\\\x00\\\\x00\\\\x00\\\\x00\\\\x00\\\\x00\\\\x00\\\\x0c\\\\x00\\\\x00\\\\x00\\\\x00\\\\x00\\\\x00\\\\x00\\\\r\\\\x00\\\\x00\\\\x00\\\\x00\\\\x00\\\\x00\\\\x00\\\\x0e\\\\x00\\\\x00\\\\x00\\\\x00\\\\x00\\\\x00\\\\x00\\\\x0f\\\\x00\\\\x00\\\\x00\\\\x00\\\\x00\\\\x00\\\\x00\\\\x10\\\\x00\\\\x00\\\\x00\\\\x00\\\\x00\\\\x00\\\\x00\\\\x11\\\\x00\\\\x00\\\\x00\\\\x00\\\\x00\\\\x00\\\\x00\\\\x12\\\\x00\\\\x00\\\\x00\\\\x00\\\\x00\\\\x00\\\\x00\\\\x13\\\\x00\\\\x00\\\\x00\\\\x00\\\\x00\\\\x00\\\\x00\\\\x14\\\\x00\\\\x00\\\\x00\\\\x00\\\\x00\\\\x00\\\\x00\\\\x15\\\\x00\\\\x00\\\\x00\\\\x00\\\\x00\\\\x00\\\\x00\\\\x16\\\\x00\\\\x00\\\\x00\\\\x00\\\\x00\\\\x00\\\\x00\\\\x17\\\\x00\\\\x00\\\\x00\\\\x00\\\\x00\\\\x00\\\\x00\\\\x18\\\\x00\\\\x00\\\\x00\\\\x00\\\\x00\\\\x00\\\\x00\\\\x19\\\\x00\\\\x00\\\\x00\\\\x00\\\\x00\\\\x00\\\\x00\\\\x1a\\\\x00\\\\x00\\\\x00\\\\x00\\\\x00\\\\x00\\\\x00\\\\x1b\\\\x00\\\\x00\\\\x00\\\\x00\\\\x00\\\\x00\\\\x00\\\\x1c\\\\x00\\\\x00\\\\x00\\\\x00\\\\x00\\\\x00\\\\x00\\\\x1d\\\\x00\\\\x00\\\\x00\\\\x00\\\\x00\\\\x00\\\\x00\\\\x1e\\\\x00\\\\x00\\\\x00\\\\x00\\\\x00\\\\x00\\\\x00\\\\x1f\\\\x00\\\\x00\\\\x00\\\\x00\\\\x00\\\\x00\\\\x00 \\\\x00\\\\x00\\\\x00\\\\x00\\\\x00\\\\x00\\\\x00!\\\\x00\\\\x00\\\\x00\\\\x00\\\\x00\\\\x00\\\\x00\"\\\\x00\\\\x00\\\\x00\\\\x00\\\\x00\\\\x00\\\\x00#\\\\x00\\\\x00\\\\x00\\\\x00\\\\x00\\\\x00\\\\x00$\\\\x00\\\\x00\\\\x00\\\\x00\\\\x00\\\\x00\\\\x00%\\\\x00\\\\x00\\\\x00\\\\x00\\\\x00\\\\x00\\\\x00&\\\\x00\\\\x00\\\\x00\\\\x00\\\\x00\\\\x00\\\\x00\\\\\\'\\\\x00\\\\x00\\\\x00\\\\x00\\\\x00\\\\x00\\\\x00(\\\\x00\\\\x00\\\\x00\\\\x00\\\\x00\\\\x00\\\\x00)\\\\x00\\\\x00\\\\x00\\\\x00\\\\x00\\\\x00\\\\x00*\\\\x00\\\\x00\\\\x00\\\\x00\\\\x00\\\\x00\\\\x00+\\\\x00\\\\x00\\\\x00\\\\x00\\\\x00\\\\x00\\\\x00,\\\\x00\\\\x00\\\\x00\\\\x00\\\\x00\\\\x00\\\\x00-\\\\x00\\\\x00\\\\x00\\\\x00\\\\x00\\\\x00\\\\x00.\\\\x00\\\\x00\\\\x00\\\\x00\\\\x00\\\\x00\\\\x00/\\\\x00\\\\x00\\\\x00\\\\x00\\\\x00\\\\x00\\\\x000\\\\x00\\\\x00\\\\x00\\\\x00\\\\x00\\\\x00\\\\x001\\\\x00\\\\x00\\\\x00\\\\x00\\\\x00\\\\x00\\\\x00\\'\\np297\\ntp298\\nbsg234\\nNstp299\\nRp300\\na(lp301\\ng14\\n(g15\\n(I0\\ntp302\\ng17\\ntp303\\nRp304\\n(I1\\n(L1L\\nL50L\\ntp305\\ng24\\nI01\\nS\\'j\\\\x9d\\\\xf1\\\\xe7\\\\xb2\\\\r?@\\\\xc9\\\\x95\\\\x90\\\\x17\\\\xf6\\\\xadH@VEC\\\\xe9\\\\xbc\\\\x0e=@\\\\xfd\\\\x12\\\\xe5\\\\xe6\\\\x99\\\\xcbD@\\\\x1e`\\\\xd2\\\\x7fv*9@\\\\xff8\\\\xf2\\\\x12\\\\xe8\\\\xddF@\\\\x94a|\\\\xcb\\\\xed\\\\xe12@9:\\\\xc95^\\\\x8bA@\\\\xf0\\\\xde\\\\xb7\\\\x15uTF@$_\\\\xcc\\\\xc3\\\\x8cl<@\\\\x10\\\\x15y\\\\xce,\\\\xa3M@\\\\xc4S\\\\x00\\\\xd2\\\\xc4\\\\x97F@+//\\\\xed\\\\xa1\\\\x9fK@\\\\x8c\\\\xa6,C(\\\\x92<@#v\\\\xf3\\\\x0bx-H@\\\\xd7\\\\xdd\\\\xe2\\\\xe4\\\\xf3\\\\x9f#@\\\\xa9\\\\xe1E\\\\xdcgL*@\\\\xfc\\\\xf46\\\\xbc\\\\xa2\\\\xcdK@\\\\xc6\\\\xdav\\\\xa9\\\\x86EM@~\\\\x15J\\\\x88\\\\x00E)@;h\\\\xe3\\\\x16\\\\xcf\\\\xbcB@\\\\xd8\\\\xc7\\\\x808\\\\xf1\\\\xe0=@\\\\xf5xjMzjF@\\\\x8a\\\\x94B]\\\\x046:@\\\\x19\\\\x8e\\\\xc7,\\\\x9b\\\\xd4D@\\\\xe4\\\\x97\\\\x15\"+VE@\\\\\\'\\\\xccs5J\\\\xc5D@\\\\xc9EX\\\\xb0[\\\\x89/@u\\\\xd6;\\\\xa1\\\\xde\\\\xfc#@]\\\\xcfk\\\\xee\\\\xd9KB@\\\\x99\\\\x1e\\\\x19B\\\\x05\\\\x9dL@QlrZ\\\\x9f\\\\xd0D@\\\\xb5\"\\\\xec\\\\x87\\\\xa9\\\\x04/@\\\\xa0\\\\xe8\\\\x01{M(H@FF\\\\tS\\\\x83\\\\xd0<@c<\\\\xf4\\\\x89\\\\xc9yF@\\\\xccm\\\\xcb@\\\\xe9[B@12\\\\xc0\\\\x18\\\\xab\\\\x9cI@\\\\x10KM\\\\x93s\\\\xff;@m&\\\\xd0\\\\xdfhr-@\\\\x88\\\\x08\\\\xf5 \\\\x0ew2@\\\\xd5\\\\x1d \\\\xc9\\\\xf4\\\\x05.@\\\\x9b\\\\xc0\\\\xed\\\\xa2\\\\xf2z@@\\\\x14\\\\x82\\\\xd1t\\\\x12p@@\\\\x02\\\\xcd;\\\\xb0\\\\xa4Z@@Z\\\\xb4\\\\xea\\\\x93G\\\\xf8,@\\\\xc0\\\\xa9\\\\x16\\\\xfc\\\\xfc\\\\x17M@\\\\x03\\\\xc3\\\\xfcW\\\\x98\\\\x08A@\\\\xa2\\\\xf5\\\\xfc\\\\xb4EnA@\\\\x12\\\\xf9\\\\xbb$\"\\\\xbcA@\\'\\np306\\ntp307\\nba(lp308\\ng217\\n(g218\\n(dp309\\ng193\\ng14\\n(g15\\n(I0\\ntp310\\ng17\\ntp311\\nRp312\\n(I1\\n(L1L\\ntp313\\ng226\\nI00\\n(lp314\\ng232\\natp315\\nbsg234\\nNstp316\\nRp317\\na(dp318\\ng265\\n(dp319\\ng267\\ng282\\nsg268\\n(lp320\\n(dp321\\ng271\\ng272\\n(I0\\nI1\\nI1\\ntp322\\nRp323\\nsg275\\ng304\\nsasstp324\\nbbsg56\\ng0\\n(g57\\ng58\\n(dp325\\nS\\'ynames\\'\\np326\\ng232\\nsS\\'xnames\\'\\np327\\n(lp328\\nS\\'Intercept\\'\\np329\\naS\\'x1\\'\\np330\\naS\\'x2\\'\\np331\\nastp332\\nRp333\\n(dp334\\ng146\\n(dp335\\nsbsg170\\ng173\\nsS\\'orig_exog\\'\\np336\\ng0\\n(g210\\ng2\\nNtp337\\nRp338\\ng0\\n(g213\\ng2\\nNtp339\\nRp340\\n((lp341\\ng217\\n(g218\\n(dp342\\ng193\\ng14\\n(g15\\n(I0\\ntp343\\ng17\\ntp344\\nRp345\\n(I1\\n(L3L\\ntp346\\ng226\\nI00\\n(lp347\\ng329\\nag330\\nag331\\natp348\\nbsg234\\nNstp349\\nRp350\\nag300\\na(lp351\\ng14\\n(g15\\n(I0\\ntp352\\ng17\\ntp353\\nRp354\\n(I1\\n(L3L\\nL50L\\ntp355\\ng24\\nI01\\nS\\'\\\\x00\\\\x00\\\\x00\\\\x00\\\\x00\\\\x00\\\\xf0?\\\\xfb\\\\xaa\\\\xa5FtS&@\\\\xbc\\\\xa6\\\\xf7\\\\xe1\\\\xcen\\\\x1f@\\\\x00\\\\x00\\\\x00\\\\x00\\\\x00\\\\x00\\\\xf0?\\\\t4ACO>\"@\\\\x80\\\\xce\\\\xee\\\\x9c\\\\x19\\\\x082@\\\\x00\\\\x00\\\\x00\\\\x00\\\\x00\\\\x00\\\\xf0?Z\\\\xaf\\\\xaf\\\\x9f\\\\xc9}\\\\x1c@\\\\xf2d\\\\xb4-\\\\xb9\\\\xc2!@\\\\x00\\\\x00\\\\x00\\\\x00\\\\x00\\\\x00\\\\xf0?\\\\xd2\\\\x8b\\\\xbd\\\\xf3\\\\x88\\\\xff2@\\\\x9a\\\\xa5i\\\\x86\\\\x19k\"@\\\\x00\\\\x00\\\\x00\\\\x00\\\\x00\\\\x00\\\\xf0?\\\\xc4\\\\xc1,\\\\t\\\\x94\\\\xe2*@\\\\xb8*d\\\\x9el2\\\\x0e@\\\\x00\\\\x00\\\\x00\\\\x00\\\\x00\\\\x00\\\\xf0?\\\\xd0)\\\\x93 w]\\\\x1f@~Y\\\\x0e\\\\x85\\\\xf0\\\\xdb0@\\\\x00\\\\x00\\\\x00\\\\x00\\\\x00\\\\x00\\\\xf0?@t}\\\\x85$\\\\x02\\\\xf6?\\\\x86+\\\\x03_t\\\\xaa\\\\x1a@\\\\x00\\\\x00\\\\x00\\\\x00\\\\x00\\\\x00\\\\xf0?x\\\\x83<Zo1\\\\\\'@)>\\\\xd1jsQ#@\\\\x00\\\\x00\\\\x00\\\\x00\\\\x00\\\\x00\\\\xf0?6\\\\xbf5\\\\xc5\\\\x8e\\\\xaf&@\\\\xb7\\\\xe91u\\\\x91$-@\\\\x00\\\\x00\\\\x00\\\\x00\\\\x00\\\\x00\\\\xf0?\\\\x90L\\\\x9b\\\\xdc\\\\xf2\\\\xad\\\\x11@r\\\\x97\\\\x02\\\\xb9~\\\\xd4#@\\\\x00\\\\x00\\\\x00\\\\x00\\\\x00\\\\x00\\\\xf0?\\\\xc2\\\\xa6\\\\xff\\\\x14P\\\\x0b0@h\\\\xc7\\\\\\'\\\\x1a<\\\\x873@\\\\x00\\\\x00\\\\x00\\\\x00\\\\x00\\\\x00\\\\xf0?\\\\x85Z`R\\\\xe3\\\\x8d&@\\\\xb8\\\\x85-\\\\xa7\\\\x06\\\\xbc-@\\\\x00\\\\x00\\\\x00\\\\x00\\\\x00\\\\x00\\\\xf0?E\\\\xf4\\\\xeb\\\\x00\\\\xe7.2@\\\\xc2\\\\xba\\\\xe7\\\\xc2\\\\xe5q0@\\\\x00\\\\x00\\\\x00\\\\x00\\\\x00\\\\x00\\\\xf0?r\\\\xd7\\\\xfc@\\\\xa0\\\\xb0-@\\\\x8c\\\\x8c\\\\x16\\\\x9e\\\\x8d\\\\x1a\\\\x13@\\\\x00\\\\x00\\\\x00\\\\x00\\\\x00\\\\x00\\\\xf0?*\\\\xc3\\\\x1ag\\\\xe2\\\\x823@\\\\x8d4)]|\\\\xab(@\\\\x00\\\\x00\\\\x00\\\\x00\\\\x00\\\\x00\\\\xf0?\\\\x00\\\\x85\\\\xaf3\\\\x81X\\\\xf8?8\\\\x08N.\\\\x82w\\\\x00@\\\\x00\\\\x00\\\\x00\\\\x00\\\\x00\\\\x00\\\\xf0?\\\\xd8O2[\\\\xa9\\\\xb2\\\\x08@0\\\\xc9f\\\\xbc5\\\\x8d\\\\x07@\\\\x00\\\\x00\\\\x00\\\\x00\\\\x00\\\\x00\\\\xf0?!l\\\\xe7\\\\xc6\\\\x906\\\\\\'@\\\\xad\\\\x9f\\\\xab\\\\xe0\\\\xb5\\\\xe93@\\\\x00\\\\x00\\\\x00\\\\x00\\\\x00\\\\x00\\\\xf0?\\\\x04\\\\x1fJ\\\\xd6\\\\xc8\\\\xe2/@\\\\xbe\\\\xd8\\\\x12\\\\xca\\\\x8b63@\\\\x00\\\\x00\\\\x00\\\\x00\\\\x00\\\\x00\\\\xf0?\\\\x16Nt\\\\x1d%B\\\\x18@`\\\\x15(I-+\\\\xf3?\\\\x00\\\\x00\\\\x00\\\\x00\\\\x00\\\\x00\\\\xf0?\\\\x82\\\\xf1\\\\x8f[\\\\xc3\\\\x0f(@\\\\\\'\\\\xe3[,+E%@\\\\x00\\\\x00\\\\x00\\\\x00\\\\x00\\\\x00\\\\xf0?0\\\\xa5\\\\xa1\\\\x11\\\\xac\\\\x0f2@h\\\\xb8\\\\xf0L\\\\xcf\\\\x92\\\\x0e@\\\\x00\\\\x00\\\\x00\\\\x00\\\\x00\\\\x00\\\\xf0?\\\\x1cq+9\\\\xb6\\\\xfc\"@\\\\xcfD\\\\x9c*\\\\x08*/@\\\\x00\\\\x00\\\\x00\\\\x00\\\\x00\\\\x00\\\\xf0?HE\\\\x8d\\\\xa3\\\\x1a\\\\xb51@\\\\xd0jI\\\\x98aQ\\\\x01@\\\\x00\\\\x00\\\\x00\\\\x00\\\\x00\\\\x00\\\\xf0?\\\\xdet)\\\\xe8bv\\\\x1c@l\\\\xca\\\\xe1K\\\\x0c_.@\\\\x00\\\\x00\\\\x00\\\\x00\\\\x00\\\\x00\\\\xf0?`\\\\xc2\\\\xbe\\\\xed(a\\\\xf9?\\\\x8a\\\\\\'\\\\xd60\\\\xd9t2@\\\\x00\\\\x00\\\\x00\\\\x00\\\\x00\\\\x00\\\\xf0?J\\\\x08\\\\xf4\\\\xe9\\\\xf8\\\\x110@u\\\\x9bP-\\\\nL%@\\\\x00\\\\x00\\\\x00\\\\x00\\\\x00\\\\x00\\\\xf0?\\\\xbcF\\\\xd5\\\\xe8\\\\xbe\\\\xfc\\\\x18@\\\\xa0rO)\\\\xb3c\\\\x05@\\\\x00\\\\x00\\\\x00\\\\x00\\\\x00\\\\x00\\\\xf0?\\\\xc8\\\\x99<tN\\\\x16\\\\x06@\\\\xa0\\\\x1b\\\\x9bs\\\\xa1x\\\\xf8?\\\\x00\\\\x00\\\\x00\\\\x00\\\\x00\\\\x00\\\\xf0?P\\\\xc3\\\\xc5\\\\xc5\\\\xde}\\\\xf0?\\\\xf6M\\\\xd8\\\\x9cDc/@\\\\x00\\\\x00\\\\x00\\\\x00\\\\x00\\\\x00\\\\xf0?\\\\x1bl\\\\x05Hu\\\\xb11@D\\\\xeeD\\\\xf4\\\\x01\\\\xae1@\\\\x00\\\\x00\\\\x00\\\\x00\\\\x00\\\\x00\\\\xf0?a(\\\\xb9\\\\x80\\\\xf7\\\\xeb0@\\\\xb2\\\\xbb\\\\x88\\\\xe0\\\\xb5\\\\x88$@\\\\x00\\\\x00\\\\x00\\\\x00\\\\x00\\\\x00\\\\xf0?\\\\x08O\\\\x10\\\\xf5\\\\x11\\\\xc9\\\\x01@\\\\xd8%bcB9\\\\x12@\\\\x00\\\\x00\\\\x00\\\\x00\\\\x00\\\\x00\\\\xf0?F5\\\\xea\\\\xcf1\\\\r\\\\x1e@\\\\xb0\\\\\\'3\\\\x97^P2@\\\\x00\\\\x00\\\\x00\\\\x00\\\\x00\\\\x00\\\\xf0?\\\\xd4\\\\xf1\\\\x9dw\\\\xfb\\\\x9e\\\\\\'@\\\\x9c\\\\xb1.\\\\x87\\\\xe8\\\\xa8\\\\x19@\\\\x00\\\\x00\\\\x00\\\\x00\\\\x00\\\\x00\\\\xf0?\\\\xfcjp}\\\\xd2\\\\xc8\\\\x1f@\\\\xbd\\\\xb4t\\\\x90fj0@\\\\x00\\\\x00\\\\x00\\\\x00\\\\x00\\\\x00\\\\xf0?\\\\xd1\\\\xe0\\\\xa6\\\\xb8\\\\x9e\\\\xfd\"@\\\\xa2v\\\\xa0\\\\xd1q\\\\x0c\\\\\\'@\\\\x00\\\\x00\\\\x00\\\\x00\\\\x00\\\\x00\\\\xf0?\\\\xb6\\\\xadD)\\\\xfb\\\\xca%@|\\\\x8c\\\\x9d\\\\xa4\\\\xa3\\\\x132@\\\\x00\\\\x00\\\\x00\\\\x00\\\\x00\\\\x00\\\\xf0?\\\\xbb\\\\xbb\\\\xdc\\\\xc7\\\\x1c\\\\x93/@J\\\\xf1w\\\\xb7\\\\xa7\\\\x12\\\\x10@\\\\x00\\\\x00\\\\x00\\\\x00\\\\x00\\\\x00\\\\xf0?\\\\xd4\\\\x1a%\\\\xd6\\\\x06#\\\\x1a@\\\\xd0_\\\\xef\\\\x9a\\\\x85\\\\x0f\\\\x00@\\\\x00\\\\x00\\\\x00\\\\x00\\\\x00\\\\x00\\\\xf0?0\\\\x9bs\\\\xe5\\\\xa0M\\\\xf6?\\\\x90\\\\xb4\\\\xf5}E\\\\xcb\\\\x19@\\\\x00\\\\x00\\\\x00\\\\x00\\\\x00\\\\x00\\\\xf0?\\\\xb8%5\\\\xca\\\\xba!\\\\r@\\\\x98\\\\xd6\\\\x99\\\\xde\\\\xc6\\\\xc8\\\\x0c@\\\\x00\\\\x00\\\\x00\\\\x00\\\\x00\\\\x00\\\\xf0?\\\\xd3Y\\\\xec\\\\xd2|\\\\xc53@\\\\xaae\\\\x98>\\\\xae\\\\x07\\\\x12@\\\\x00\\\\x00\\\\x00\\\\x00\\\\x00\\\\x00\\\\xf0?0\\\\xe7H&\\\\xf7;\\\\x18@\\\\xcf\\\\xd5m\\\\xcc\\\\x95\\\\xa4&@\\\\x00\\\\x00\\\\x00\\\\x00\\\\x00\\\\x00\\\\xf0?\\\\xdd\\\\xd1\\\\xef\\\\xe6\\\\x00V%@\\\\x88\\\\xbc\\\\\\\\\\\\x99\\\\xb7\\\\xdd!@\\\\x00\\\\x00\\\\x00\\\\x00\\\\x00\\\\x00\\\\xf0?\\\\xf6\\\\xe3\\\\xc0h\\\\x03\\\\x17\\\\x10@\\\\x88\\\\xb2\\\\x88pF\\\\\\'\\\\t@\\\\x00\\\\x00\\\\x00\\\\x00\\\\x00\\\\x00\\\\xf0?\\\\x94u\\\\xddP:X3@\\\\xaft\\\\xd6)\\\\x97U1@\\\\x00\\\\x00\\\\x00\\\\x00\\\\x00\\\\x00\\\\xf0?\\\\x94\\\\xdf\\\\x81_0T.@\\\\\\\\C+Y\\\\x0eu\\\\x1d@\\\\x00\\\\x00\\\\x00\\\\x00\\\\x00\\\\x00\\\\xf0?\\\\x04\\\\xff\\\\x16t^p+@4wK\\\\xdc\\\\xca\\\\xf7 @\\\\x00\\\\x00\\\\x00\\\\x00\\\\x00\\\\x00\\\\xf0? \\\\xcb\\\\x91z\\\\x05\\\\xbf\\\\x04@3\\\\xc4\\\\x82F\\\\xd2\\\\xb3,@\\'\\np356\\ntp357\\nba(lp358\\ng217\\n(g218\\n(dp359\\ng193\\ng14\\n(g15\\n(I0\\ntp360\\ng17\\ntp361\\nRp362\\n(I1\\n(L3L\\ntp363\\ng226\\nI00\\n(lp364\\ng329\\nag330\\nag331\\natp365\\nbsg234\\nNstp366\\nRp367\\na(dp368\\ng265\\n(dp369\\ng267\\ng341\\nsg268\\n(lp370\\n(dp371\\ng271\\ng272\\n(I0\\nI3\\nI1\\ntp372\\nRp373\\nsg275\\ng354\\nsasstp374\\nbbsbsS\\'_data_attr\\'\\np375\\n(lp376\\ng170\\nag162\\naS\\'data.exog\\'\\np377\\naS\\'data.endog\\'\\np378\\naS\\'data.orig_endog\\'\\np379\\naS\\'data.orig_exog\\'\\np380\\nag186\\nag169\\nag178\\nag179\\nasbsg375\\n(lp381\\nsbsb.'"
      ]
     },
     "execution_count": 5,
     "metadata": {},
     "output_type": "execute_result"
    }
   ],
   "source": [
    "pickle.dumps(model)"
   ]
  },
  {
   "cell_type": "markdown",
   "metadata": {},
   "source": [
    "I guess I am just trusting that this is correct.  Let's write that nonsense to disk."
   ]
  },
  {
   "cell_type": "code",
   "execution_count": 6,
   "metadata": {
    "collapsed": false
   },
   "outputs": [],
   "source": [
    "with open('model_dump','w') as f:\n",
    "    pickle.dump(model,f)"
   ]
  },
  {
   "cell_type": "markdown",
   "metadata": {},
   "source": [
    "Now we can read the model object back in, save it as a new instance, and use it to predict based upon the original regressor data.  This result can be compared to the original prediction above."
   ]
  },
  {
   "cell_type": "code",
   "execution_count": 7,
   "metadata": {
    "collapsed": false
   },
   "outputs": [
    {
     "name": "stdout",
     "output_type": "stream",
     "text": [
      "                            OLS Regression Results                            \n",
      "==============================================================================\n",
      "Dep. Variable:                      y   R-squared:                       1.000\n",
      "Model:                            OLS   Adj. R-squared:                  1.000\n",
      "Method:                 Least Squares   F-statistic:                 4.346e+31\n",
      "Date:                Fri, 17 Jul 2015   Prob (F-statistic):               0.00\n",
      "Time:                        16:46:55   Log-Likelihood:                 1539.5\n",
      "No. Observations:                  50   AIC:                            -3073.\n",
      "Df Residuals:                      47   BIC:                            -3067.\n",
      "Df Model:                           2                                         \n",
      "==============================================================================\n",
      "                 coef    std err          t      P>|t|      [95.0% Conf. Int.]\n",
      "------------------------------------------------------------------------------\n",
      "Intercept      4.1741   3.74e-15   1.12e+15      0.000         4.174     4.174\n",
      "x1             1.0000   2.63e-16    3.8e+15      0.000         1.000     1.000\n",
      "x2             2.0000   2.59e-16   7.73e+15      0.000         2.000     2.000\n",
      "==============================================================================\n",
      "Omnibus:                        0.199   Durbin-Watson:                   1.802\n",
      "Prob(Omnibus):                  0.905   Jarque-Bera (JB):                0.365\n",
      "Skew:                           0.119   Prob(JB):                        0.833\n",
      "Kurtosis:                       2.656   Cond. No.                         39.4\n",
      "==============================================================================\n"
     ]
    }
   ],
   "source": [
    "#Capture model object from disk\n",
    "with open('model_dump','r') as f:\n",
    "    model2=pickle.load(f)\n",
    "\n",
    "#Show model summary\n",
    "print model2.summary()\n",
    "\n",
    "#Predict new values of y\n",
    "# pred_y2=model2.predict(data[['x1','x2']])"
   ]
  },
  {
   "cell_type": "markdown",
   "metadata": {},
   "source": [
    "    ---------------------------------------------------------------------------\n",
    "    AttributeError                            Traceback (most recent call last)\n",
    "    <ipython-input-16-f7a79b10e2b5> in <module>()\n",
    "          7 \n",
    "          8 #Predict new values of y\n",
    "    ----> 9 pred_y2=model2.predict(data[['x1','x2']])\n",
    "\n",
    "    C:\\Users\\marvinw\\AppData\\Local\\Continuum\\Anaconda\\lib\\site-packages\\statsmodels\\base\\model.pyc in predict(self, exog, transform, *args, **kwargs)\n",
    "        876         if transform and hasattr(self.model, 'formula') and exog is not None:\n",
    "        877             from patsy import dmatrix\n",
    "    --> 878             exog = dmatrix(self.model.data.orig_exog.design_info.builder,\n",
    "        879                     exog)\n",
    "        880         return self.model.predict(self.params, exog, *args, **kwargs)\n",
    "\n",
    "    C:\\Users\\marvinw\\AppData\\Local\\Continuum\\Anaconda\\lib\\site-packages\\pandas\\core\\generic.pyc in __getattr__(self, name)\n",
    "       1976                 return self[name]\n",
    "       1977             raise AttributeError(\"'%s' object has no attribute '%s'\" %\n",
    "    -> 1978                                  (type(self).__name__, name))\n",
    "       1979 \n",
    "       1980     def __setattr__(self, name, value):\n",
    "\n",
    "    AttributeError: 'DataFrame' object has no attribute 'design_info'"
   ]
  },
  {
   "cell_type": "markdown",
   "metadata": {},
   "source": [
    "Hmmmm.  While it does appear that we have reconstituted the object, clearly something was lost in translation.  This helpful [SO post](http://stackoverflow.com/questions/20724919/pandas-dataframe-attributeerror-dataframe-object-has-no-attribute-design-inf) reveals that user additions to the model can get lost.  In this case, `design_info` is referring to the formula used to fit the model: `'y ~ x1 + x2'`.  The post suggests either building a design matrix explicitly with **`patsy`**, or just making sure we add a constant to our input data for the unpickled version of the model."
   ]
  },
  {
   "cell_type": "code",
   "execution_count": 8,
   "metadata": {
    "collapsed": false
   },
   "outputs": [
    {
     "data": {
      "text/plain": [
       "array([  0.00000000e+00,  -7.10542736e-15,   0.00000000e+00,\n",
       "         0.00000000e+00,   3.55271368e-15,   0.00000000e+00,\n",
       "         0.00000000e+00,   7.10542736e-15,   0.00000000e+00,\n",
       "         0.00000000e+00,   0.00000000e+00,   0.00000000e+00,\n",
       "         0.00000000e+00,   0.00000000e+00,   0.00000000e+00,\n",
       "        -1.77635684e-15,   0.00000000e+00,   0.00000000e+00,\n",
       "         0.00000000e+00,  -1.77635684e-15,   0.00000000e+00,\n",
       "         3.55271368e-15,   0.00000000e+00,   0.00000000e+00,\n",
       "         0.00000000e+00,  -7.10542736e-15,   0.00000000e+00,\n",
       "         1.77635684e-15,   0.00000000e+00,   0.00000000e+00,\n",
       "        -7.10542736e-15,   0.00000000e+00,   0.00000000e+00,\n",
       "        -7.10542736e-15,   3.55271368e-15,  -7.10542736e-15,\n",
       "        -7.10542736e-15,   0.00000000e+00,   0.00000000e+00,\n",
       "         1.77635684e-15,   3.55271368e-15,   1.77635684e-15,\n",
       "         0.00000000e+00,   0.00000000e+00,   0.00000000e+00,\n",
       "        -1.77635684e-15,   0.00000000e+00,   0.00000000e+00,\n",
       "         0.00000000e+00,   0.00000000e+00])"
      ]
     },
     "execution_count": 8,
     "metadata": {},
     "output_type": "execute_result"
    }
   ],
   "source": [
    "#Predict new values of y\n",
    "pred_y2=model2.predict(add_constant(data[['x1','x2']]),transform=False)\n",
    "\n",
    "pred_y-pred_y2"
   ]
  },
  {
   "cell_type": "markdown",
   "metadata": {},
   "source": [
    "I think that I can handle those small deviations.  Looks like this works as expected."
   ]
  }
 ],
 "metadata": {
  "kernelspec": {
   "display_name": "Python 2",
   "language": "python",
   "name": "python2"
  },
  "language_info": {
   "codemirror_mode": {
    "name": "ipython",
    "version": 2
   },
   "file_extension": ".py",
   "mimetype": "text/x-python",
   "name": "python",
   "nbconvert_exporter": "python",
   "pygments_lexer": "ipython2",
   "version": "2.7.6"
  }
 },
 "nbformat": 4,
 "nbformat_minor": 0
}
