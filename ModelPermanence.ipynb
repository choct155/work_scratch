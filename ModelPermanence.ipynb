{
 "cells": [
  {
   "cell_type": "markdown",
   "metadata": {},
   "source": [
    "# How Can One Save an Instance of an Estimator?"
   ]
  },
  {
   "cell_type": "markdown",
   "metadata": {},
   "source": [
    "I have a situation in which I want to use an estimator that has been fit in an original Notebook to predict new values given data in a new Notebook.  The question is, can I save a specific model instance to be read in elsewhere?  This Notebook will run a basic regression on simulated data.  We will then attempt to write the model to disk, read back in, and use it to predict outcomes on new data."
   ]
  },
  {
   "cell_type": "code",
   "execution_count": 1,
   "metadata": {
    "collapsed": false
   },
   "outputs": [],
   "source": [
    "#Basic data manipulation\n",
    "import numpy as np\n",
    "import pandas as pd\n",
    "from pandas import Series, DataFrame\n",
    "\n",
    "#Estimating methods\n",
    "import statsmodels.formula.api as smf\n",
    "from statsmodels.api import add_constant\n",
    "\n",
    "#Serialization\n",
    "import pickle"
   ]
  },
  {
   "cell_type": "markdown",
   "metadata": {},
   "source": [
    "## Simulation of Input Data"
   ]
  },
  {
   "cell_type": "markdown",
   "metadata": {},
   "source": [
    "We are going to follow a very basic model:\n",
    "\n",
    "$Y = X_1 + 2X_2 + \\epsilon$"
   ]
  },
  {
   "cell_type": "code",
   "execution_count": 2,
   "metadata": {
    "collapsed": false,
    "scrolled": true
   },
   "outputs": [
    {
     "data": {
      "text/html": [
       "<div>\n",
       "<table border=\"1\" class=\"dataframe\">\n",
       "  <thead>\n",
       "    <tr style=\"text-align: right;\">\n",
       "      <th></th>\n",
       "      <th>x1</th>\n",
       "      <th>x2</th>\n",
       "      <th>y</th>\n",
       "    </tr>\n",
       "  </thead>\n",
       "  <tbody>\n",
       "    <tr>\n",
       "      <th>0</th>\n",
       "      <td>12.617356</td>\n",
       "      <td>17.612900</td>\n",
       "      <td>49.682436</td>\n",
       "    </tr>\n",
       "    <tr>\n",
       "      <th>1</th>\n",
       "      <td>11.901858</td>\n",
       "      <td>18.435362</td>\n",
       "      <td>50.100384</td>\n",
       "    </tr>\n",
       "    <tr>\n",
       "      <th>2</th>\n",
       "      <td>12.525232</td>\n",
       "      <td>11.761927</td>\n",
       "      <td>38.199787</td>\n",
       "    </tr>\n",
       "    <tr>\n",
       "      <th>3</th>\n",
       "      <td>5.028415</td>\n",
       "      <td>10.622601</td>\n",
       "      <td>27.959130</td>\n",
       "    </tr>\n",
       "    <tr>\n",
       "      <th>4</th>\n",
       "      <td>3.967293</td>\n",
       "      <td>14.911156</td>\n",
       "      <td>36.131878</td>\n",
       "    </tr>\n",
       "    <tr>\n",
       "      <th>5</th>\n",
       "      <td>16.681216</td>\n",
       "      <td>18.785751</td>\n",
       "      <td>56.441159</td>\n",
       "    </tr>\n",
       "    <tr>\n",
       "      <th>6</th>\n",
       "      <td>3.940214</td>\n",
       "      <td>17.560113</td>\n",
       "      <td>40.547529</td>\n",
       "    </tr>\n",
       "    <tr>\n",
       "      <th>7</th>\n",
       "      <td>2.666995</td>\n",
       "      <td>5.879624</td>\n",
       "      <td>16.052696</td>\n",
       "    </tr>\n",
       "    <tr>\n",
       "      <th>8</th>\n",
       "      <td>15.868034</td>\n",
       "      <td>19.910271</td>\n",
       "      <td>58.411995</td>\n",
       "    </tr>\n",
       "    <tr>\n",
       "      <th>9</th>\n",
       "      <td>10.825121</td>\n",
       "      <td>8.960415</td>\n",
       "      <td>30.628391</td>\n",
       "    </tr>\n",
       "    <tr>\n",
       "      <th>10</th>\n",
       "      <td>12.717183</td>\n",
       "      <td>8.157763</td>\n",
       "      <td>32.025457</td>\n",
       "    </tr>\n",
       "    <tr>\n",
       "      <th>11</th>\n",
       "      <td>11.612396</td>\n",
       "      <td>7.663827</td>\n",
       "      <td>28.756953</td>\n",
       "    </tr>\n",
       "    <tr>\n",
       "      <th>12</th>\n",
       "      <td>6.593318</td>\n",
       "      <td>11.042140</td>\n",
       "      <td>30.324768</td>\n",
       "    </tr>\n",
       "    <tr>\n",
       "      <th>13</th>\n",
       "      <td>1.825361</td>\n",
       "      <td>5.563734</td>\n",
       "      <td>15.204076</td>\n",
       "    </tr>\n",
       "    <tr>\n",
       "      <th>14</th>\n",
       "      <td>3.398030</td>\n",
       "      <td>13.651575</td>\n",
       "      <td>32.047938</td>\n",
       "    </tr>\n",
       "    <tr>\n",
       "      <th>15</th>\n",
       "      <td>15.969160</td>\n",
       "      <td>17.546474</td>\n",
       "      <td>53.387375</td>\n",
       "    </tr>\n",
       "    <tr>\n",
       "      <th>16</th>\n",
       "      <td>3.849347</td>\n",
       "      <td>17.360287</td>\n",
       "      <td>40.205436</td>\n",
       "    </tr>\n",
       "    <tr>\n",
       "      <th>17</th>\n",
       "      <td>17.814644</td>\n",
       "      <td>9.299710</td>\n",
       "      <td>38.608168</td>\n",
       "    </tr>\n",
       "    <tr>\n",
       "      <th>18</th>\n",
       "      <td>12.291884</td>\n",
       "      <td>12.891620</td>\n",
       "      <td>39.809675</td>\n",
       "    </tr>\n",
       "    <tr>\n",
       "      <th>19</th>\n",
       "      <td>14.740775</td>\n",
       "      <td>14.615304</td>\n",
       "      <td>45.268984</td>\n",
       "    </tr>\n",
       "    <tr>\n",
       "      <th>20</th>\n",
       "      <td>4.346265</td>\n",
       "      <td>9.669618</td>\n",
       "      <td>26.654142</td>\n",
       "    </tr>\n",
       "    <tr>\n",
       "      <th>21</th>\n",
       "      <td>4.338108</td>\n",
       "      <td>16.498637</td>\n",
       "      <td>39.161283</td>\n",
       "    </tr>\n",
       "    <tr>\n",
       "      <th>22</th>\n",
       "      <td>4.507986</td>\n",
       "      <td>16.785915</td>\n",
       "      <td>40.878499</td>\n",
       "    </tr>\n",
       "    <tr>\n",
       "      <th>23</th>\n",
       "      <td>14.441770</td>\n",
       "      <td>4.474389</td>\n",
       "      <td>24.941023</td>\n",
       "    </tr>\n",
       "    <tr>\n",
       "      <th>24</th>\n",
       "      <td>17.226389</td>\n",
       "      <td>3.284185</td>\n",
       "      <td>26.462038</td>\n",
       "    </tr>\n",
       "    <tr>\n",
       "      <th>25</th>\n",
       "      <td>11.143412</td>\n",
       "      <td>1.704729</td>\n",
       "      <td>17.031580</td>\n",
       "    </tr>\n",
       "    <tr>\n",
       "      <th>26</th>\n",
       "      <td>7.390075</td>\n",
       "      <td>5.848983</td>\n",
       "      <td>20.608085</td>\n",
       "    </tr>\n",
       "    <tr>\n",
       "      <th>27</th>\n",
       "      <td>10.459515</td>\n",
       "      <td>8.067628</td>\n",
       "      <td>28.887338</td>\n",
       "    </tr>\n",
       "    <tr>\n",
       "      <th>28</th>\n",
       "      <td>17.114020</td>\n",
       "      <td>6.390844</td>\n",
       "      <td>31.476980</td>\n",
       "    </tr>\n",
       "    <tr>\n",
       "      <th>29</th>\n",
       "      <td>17.057640</td>\n",
       "      <td>4.084473</td>\n",
       "      <td>27.387074</td>\n",
       "    </tr>\n",
       "    <tr>\n",
       "      <th>30</th>\n",
       "      <td>14.004370</td>\n",
       "      <td>7.890007</td>\n",
       "      <td>32.234944</td>\n",
       "    </tr>\n",
       "    <tr>\n",
       "      <th>31</th>\n",
       "      <td>1.419631</td>\n",
       "      <td>8.610397</td>\n",
       "      <td>20.362392</td>\n",
       "    </tr>\n",
       "    <tr>\n",
       "      <th>32</th>\n",
       "      <td>5.381706</td>\n",
       "      <td>2.528520</td>\n",
       "      <td>13.052514</td>\n",
       "    </tr>\n",
       "    <tr>\n",
       "      <th>33</th>\n",
       "      <td>7.367688</td>\n",
       "      <td>4.153522</td>\n",
       "      <td>18.598278</td>\n",
       "    </tr>\n",
       "    <tr>\n",
       "      <th>34</th>\n",
       "      <td>16.555471</td>\n",
       "      <td>1.080446</td>\n",
       "      <td>20.421315</td>\n",
       "    </tr>\n",
       "    <tr>\n",
       "      <th>35</th>\n",
       "      <td>17.492627</td>\n",
       "      <td>1.704496</td>\n",
       "      <td>23.853665</td>\n",
       "    </tr>\n",
       "    <tr>\n",
       "      <th>36</th>\n",
       "      <td>1.029175</td>\n",
       "      <td>1.120066</td>\n",
       "      <td>6.236333</td>\n",
       "    </tr>\n",
       "    <tr>\n",
       "      <th>37</th>\n",
       "      <td>8.820203</td>\n",
       "      <td>4.156956</td>\n",
       "      <td>18.353163</td>\n",
       "    </tr>\n",
       "    <tr>\n",
       "      <th>38</th>\n",
       "      <td>18.562684</td>\n",
       "      <td>12.338289</td>\n",
       "      <td>45.708304</td>\n",
       "    </tr>\n",
       "    <tr>\n",
       "      <th>39</th>\n",
       "      <td>15.396948</td>\n",
       "      <td>2.405210</td>\n",
       "      <td>21.214855</td>\n",
       "    </tr>\n",
       "    <tr>\n",
       "      <th>40</th>\n",
       "      <td>16.403239</td>\n",
       "      <td>4.092687</td>\n",
       "      <td>27.056642</td>\n",
       "    </tr>\n",
       "    <tr>\n",
       "      <th>41</th>\n",
       "      <td>8.353198</td>\n",
       "      <td>11.152809</td>\n",
       "      <td>32.213722</td>\n",
       "    </tr>\n",
       "    <tr>\n",
       "      <th>42</th>\n",
       "      <td>8.135377</td>\n",
       "      <td>16.350559</td>\n",
       "      <td>42.774887</td>\n",
       "    </tr>\n",
       "    <tr>\n",
       "      <th>43</th>\n",
       "      <td>19.614411</td>\n",
       "      <td>1.919316</td>\n",
       "      <td>25.298033</td>\n",
       "    </tr>\n",
       "    <tr>\n",
       "      <th>44</th>\n",
       "      <td>15.674070</td>\n",
       "      <td>9.945229</td>\n",
       "      <td>36.731123</td>\n",
       "    </tr>\n",
       "    <tr>\n",
       "      <th>45</th>\n",
       "      <td>11.219993</td>\n",
       "      <td>4.566067</td>\n",
       "      <td>23.294854</td>\n",
       "    </tr>\n",
       "    <tr>\n",
       "      <th>46</th>\n",
       "      <td>17.897421</td>\n",
       "      <td>16.365009</td>\n",
       "      <td>51.966865</td>\n",
       "    </tr>\n",
       "    <tr>\n",
       "      <th>47</th>\n",
       "      <td>8.056061</td>\n",
       "      <td>13.651081</td>\n",
       "      <td>36.687608</td>\n",
       "    </tr>\n",
       "    <tr>\n",
       "      <th>48</th>\n",
       "      <td>3.293099</td>\n",
       "      <td>2.179397</td>\n",
       "      <td>9.901306</td>\n",
       "    </tr>\n",
       "    <tr>\n",
       "      <th>49</th>\n",
       "      <td>3.583077</td>\n",
       "      <td>8.040536</td>\n",
       "      <td>22.563687</td>\n",
       "    </tr>\n",
       "  </tbody>\n",
       "</table>\n",
       "</div>"
      ],
      "text/plain": [
       "           x1         x2          y\n",
       "0   12.617356  17.612900  49.682436\n",
       "1   11.901858  18.435362  50.100384\n",
       "2   12.525232  11.761927  38.199787\n",
       "3    5.028415  10.622601  27.959130\n",
       "4    3.967293  14.911156  36.131878\n",
       "5   16.681216  18.785751  56.441159\n",
       "6    3.940214  17.560113  40.547529\n",
       "7    2.666995   5.879624  16.052696\n",
       "8   15.868034  19.910271  58.411995\n",
       "9   10.825121   8.960415  30.628391\n",
       "10  12.717183   8.157763  32.025457\n",
       "11  11.612396   7.663827  28.756953\n",
       "12   6.593318  11.042140  30.324768\n",
       "13   1.825361   5.563734  15.204076\n",
       "14   3.398030  13.651575  32.047938\n",
       "15  15.969160  17.546474  53.387375\n",
       "16   3.849347  17.360287  40.205436\n",
       "17  17.814644   9.299710  38.608168\n",
       "18  12.291884  12.891620  39.809675\n",
       "19  14.740775  14.615304  45.268984\n",
       "20   4.346265   9.669618  26.654142\n",
       "21   4.338108  16.498637  39.161283\n",
       "22   4.507986  16.785915  40.878499\n",
       "23  14.441770   4.474389  24.941023\n",
       "24  17.226389   3.284185  26.462038\n",
       "25  11.143412   1.704729  17.031580\n",
       "26   7.390075   5.848983  20.608085\n",
       "27  10.459515   8.067628  28.887338\n",
       "28  17.114020   6.390844  31.476980\n",
       "29  17.057640   4.084473  27.387074\n",
       "30  14.004370   7.890007  32.234944\n",
       "31   1.419631   8.610397  20.362392\n",
       "32   5.381706   2.528520  13.052514\n",
       "33   7.367688   4.153522  18.598278\n",
       "34  16.555471   1.080446  20.421315\n",
       "35  17.492627   1.704496  23.853665\n",
       "36   1.029175   1.120066   6.236333\n",
       "37   8.820203   4.156956  18.353163\n",
       "38  18.562684  12.338289  45.708304\n",
       "39  15.396948   2.405210  21.214855\n",
       "40  16.403239   4.092687  27.056642\n",
       "41   8.353198  11.152809  32.213722\n",
       "42   8.135377  16.350559  42.774887\n",
       "43  19.614411   1.919316  25.298033\n",
       "44  15.674070   9.945229  36.731123\n",
       "45  11.219993   4.566067  23.294854\n",
       "46  17.897421  16.365009  51.966865\n",
       "47   8.056061  13.651081  36.687608\n",
       "48   3.293099   2.179397   9.901306\n",
       "49   3.583077   8.040536  22.563687"
      ]
     },
     "execution_count": 2,
     "metadata": {},
     "output_type": "execute_result"
    }
   ],
   "source": [
    "#Generate random vectors for regressors\n",
    "x1,x2=(np.random.uniform(20,size=50),np.random.uniform(20,size=50))\n",
    "\n",
    "#Generate dependent variable\n",
    "y=x1 + 2*x2 + [np.random.uniform(3) for val in range(len(x1))]\n",
    "\n",
    "#Capture data in DF\n",
    "data=DataFrame({'y':y,\n",
    "                'x1':x1,\n",
    "                'x2':x2})\n",
    "\n",
    "data"
   ]
  },
  {
   "cell_type": "markdown",
   "metadata": {},
   "source": [
    "## Estimation of the Model"
   ]
  },
  {
   "cell_type": "markdown",
   "metadata": {},
   "source": [
    "We are just going to fit a standard OLS estimator..."
   ]
  },
  {
   "cell_type": "code",
   "execution_count": 3,
   "metadata": {
    "collapsed": false
   },
   "outputs": [
    {
     "data": {
      "text/html": [
       "<table class=\"simpletable\">\n",
       "<caption>OLS Regression Results</caption>\n",
       "<tr>\n",
       "  <th>Dep. Variable:</th>            <td>y</td>        <th>  R-squared:         </th> <td>   0.998</td> \n",
       "</tr>\n",
       "<tr>\n",
       "  <th>Model:</th>                   <td>OLS</td>       <th>  Adj. R-squared:    </th> <td>   0.998</td> \n",
       "</tr>\n",
       "<tr>\n",
       "  <th>Method:</th>             <td>Least Squares</td>  <th>  F-statistic:       </th> <td>1.132e+04</td>\n",
       "</tr>\n",
       "<tr>\n",
       "  <th>Date:</th>             <td>Thu, 07 Apr 2016</td> <th>  Prob (F-statistic):</th> <td>8.51e-64</td> \n",
       "</tr>\n",
       "<tr>\n",
       "  <th>Time:</th>                 <td>16:45:14</td>     <th>  Log-Likelihood:    </th> <td> -41.235</td> \n",
       "</tr>\n",
       "<tr>\n",
       "  <th>No. Observations:</th>      <td>    50</td>      <th>  AIC:               </th> <td>   88.47</td> \n",
       "</tr>\n",
       "<tr>\n",
       "  <th>Df Residuals:</th>          <td>    47</td>      <th>  BIC:               </th> <td>   94.21</td> \n",
       "</tr>\n",
       "<tr>\n",
       "  <th>Df Model:</th>              <td>     2</td>      <th>                     </th>     <td> </td>    \n",
       "</tr>\n",
       "<tr>\n",
       "  <th>Covariance Type:</th>      <td>nonrobust</td>    <th>                     </th>     <td> </td>    \n",
       "</tr>\n",
       "</table>\n",
       "<table class=\"simpletable\">\n",
       "<tr>\n",
       "      <td></td>         <th>coef</th>     <th>std err</th>      <th>t</th>      <th>P>|t|</th> <th>[95.0% Conf. Int.]</th> \n",
       "</tr>\n",
       "<tr>\n",
       "  <th>Intercept</th> <td>    2.3271</td> <td>    0.225</td> <td>   10.339</td> <td> 0.000</td> <td>    1.874     2.780</td>\n",
       "</tr>\n",
       "<tr>\n",
       "  <th>x1</th>        <td>    0.9937</td> <td>    0.015</td> <td>   68.213</td> <td> 0.000</td> <td>    0.964     1.023</td>\n",
       "</tr>\n",
       "<tr>\n",
       "  <th>x2</th>        <td>    1.9769</td> <td>    0.014</td> <td>  138.193</td> <td> 0.000</td> <td>    1.948     2.006</td>\n",
       "</tr>\n",
       "</table>\n",
       "<table class=\"simpletable\">\n",
       "<tr>\n",
       "  <th>Omnibus:</th>       <td> 5.728</td> <th>  Durbin-Watson:     </th> <td>   2.808</td>\n",
       "</tr>\n",
       "<tr>\n",
       "  <th>Prob(Omnibus):</th> <td> 0.057</td> <th>  Jarque-Bera (JB):  </th> <td>   2.211</td>\n",
       "</tr>\n",
       "<tr>\n",
       "  <th>Skew:</th>          <td> 0.087</td> <th>  Prob(JB):          </th> <td>   0.331</td>\n",
       "</tr>\n",
       "<tr>\n",
       "  <th>Kurtosis:</th>      <td> 1.985</td> <th>  Cond. No.          </th> <td>    42.4</td>\n",
       "</tr>\n",
       "</table>"
      ],
      "text/plain": [
       "<class 'statsmodels.iolib.summary.Summary'>\n",
       "\"\"\"\n",
       "                            OLS Regression Results                            \n",
       "==============================================================================\n",
       "Dep. Variable:                      y   R-squared:                       0.998\n",
       "Model:                            OLS   Adj. R-squared:                  0.998\n",
       "Method:                 Least Squares   F-statistic:                 1.132e+04\n",
       "Date:                Thu, 07 Apr 2016   Prob (F-statistic):           8.51e-64\n",
       "Time:                        16:45:14   Log-Likelihood:                -41.235\n",
       "No. Observations:                  50   AIC:                             88.47\n",
       "Df Residuals:                      47   BIC:                             94.21\n",
       "Df Model:                           2                                         \n",
       "Covariance Type:            nonrobust                                         \n",
       "==============================================================================\n",
       "                 coef    std err          t      P>|t|      [95.0% Conf. Int.]\n",
       "------------------------------------------------------------------------------\n",
       "Intercept      2.3271      0.225     10.339      0.000         1.874     2.780\n",
       "x1             0.9937      0.015     68.213      0.000         0.964     1.023\n",
       "x2             1.9769      0.014    138.193      0.000         1.948     2.006\n",
       "==============================================================================\n",
       "Omnibus:                        5.728   Durbin-Watson:                   2.808\n",
       "Prob(Omnibus):                  0.057   Jarque-Bera (JB):                2.211\n",
       "Skew:                           0.087   Prob(JB):                        0.331\n",
       "Kurtosis:                       1.985   Cond. No.                         42.4\n",
       "==============================================================================\n",
       "\n",
       "Warnings:\n",
       "[1] Standard Errors assume that the covariance matrix of the errors is correctly specified.\n",
       "\"\"\""
      ]
     },
     "execution_count": 3,
     "metadata": {},
     "output_type": "execute_result"
    }
   ],
   "source": [
    "#Fit model\n",
    "model=smf.ols(formula='y ~ x1 + x2', data=data).fit()\n",
    "\n",
    "model.summary()"
   ]
  },
  {
   "cell_type": "markdown",
   "metadata": {},
   "source": [
    "To provide a point of comparison, we will use the regressor subset to predict `y`."
   ]
  },
  {
   "cell_type": "code",
   "execution_count": 4,
   "metadata": {
    "collapsed": false
   },
   "outputs": [
    {
     "data": {
      "text/plain": [
       "array([ 49.68324849,  50.59819518,  38.02499531,  28.32334071,\n",
       "        35.74692776,  56.0399629 ,  40.95670828,  16.60054664,\n",
       "        57.45497993,  30.79737997,  31.09070682,  29.01646067,\n",
       "        30.70771374,  15.13976515,  32.69122126,  52.88250679,\n",
       "        40.47138326,  38.41338352,  40.02640176,  45.86731056,\n",
       "        25.7615701 ,  39.2536628 ,  39.9903827 ,  25.52275544,\n",
       "        25.93684064,  16.76998397,  21.2331405 ,  28.66915131,\n",
       "        31.96669684,  27.3512382 ,  31.84041738,  20.75951161,\n",
       "        12.67331004,  17.85915957,  20.91362819,  23.0785252 ,\n",
       "         5.56399047,  19.30926417,  45.16361241,  22.38135163,\n",
       "        26.71722121,  32.6752277 ,  42.73414915,  25.61154646,\n",
       "        37.56248332,  22.50262251,  52.46293217,  37.31877264,\n",
       "         9.90775458,  21.78270546])"
      ]
     },
     "execution_count": 4,
     "metadata": {},
     "output_type": "execute_result"
    }
   ],
   "source": [
    "pred_y=model.predict(data[['x1','x2']])\n",
    "\n",
    "pred_y"
   ]
  },
  {
   "cell_type": "markdown",
   "metadata": {
    "collapsed": true
   },
   "source": [
    "## Writing the Model to Disk"
   ]
  },
  {
   "cell_type": "markdown",
   "metadata": {},
   "source": [
    "Now that we have instantiated this model object, let's see if we can write it to disk.  To do this, we are going to use a method called \"pickling\", which serializes an object into a byte stream so that it may be written to disk.  In theory, we can read this same byte stream back elsewhere, and use it to reconstitute the object that had been written to disk.\n",
    "\n",
    "So, what exactly are we writing to disk?  Here is the ASCII version of the byte stream:"
   ]
  },
  {
   "cell_type": "code",
   "execution_count": 5,
   "metadata": {
    "collapsed": false
   },
   "outputs": [
    {
     "data": {
      "text/plain": [
       "'ccopy_reg\\n_reconstructor\\np0\\n(cstatsmodels.regression.linear_model\\nRegressionResultsWrapper\\np1\\nc__builtin__\\nobject\\np2\\nNtp3\\nRp4\\n(dp5\\nS\\'__doc__\\'\\np6\\nS\\'\\\\n    Results class for for an OLS model.\\\\n\\\\n    Most of the methods and attributes are inherited from RegressionResults.\\\\n    The special methods that are only available for OLS are:\\\\n\\\\n    - get_influence\\\\n    - outlier_test\\\\n    - el_test\\\\n    - conf_int_el\\\\n\\\\n    See Also\\\\n    --------\\\\n    RegressionResults\\\\n\\\\n    \\'\\np7\\nsS\\'_results\\'\\np8\\ng0\\n(cstatsmodels.regression.linear_model\\nOLSResults\\np9\\ng2\\nNtp10\\nRp11\\n(dp12\\nS\\'normalized_cov_params\\'\\np13\\ncnumpy.core.multiarray\\n_reconstruct\\np14\\n(cnumpy\\nndarray\\np15\\n(I0\\ntp16\\nS\\'b\\'\\np17\\ntp18\\nRp19\\n(I1\\n(L3L\\nL3L\\ntp20\\ncnumpy\\ndtype\\np21\\n(S\\'f8\\'\\np22\\nI0\\nI1\\ntp23\\nRp24\\n(I3\\nS\\'<\\'\\np25\\nNNNI-1\\nI-1\\nI0\\ntp26\\nbI00\\nS\\'\\\\xf6\\\\x03\\\\x7fQW\\\\x01\\\\xc4?z\\\\xe0\\\\x18P\\\\xfd\\\\xa1}\\\\xbf\\\\xe2>*(\\\\xf48z\\\\xbfz\\\\xe0\\\\x18P\\\\xfd\\\\xa1}\\\\xbf^\\\\xc7\\\\xc0\\\\xf9\\\\xd1sE?\\\\x07\\\\xea\\\\xcf\\\\xef9T\\\\x05?\\\\xe2>*(\\\\xf48z\\\\xbf\\\\x07\\\\xea\\\\xcf\\\\xef9T\\\\x05?\\\\x90\\\\nKJ7\\\\xb0D?\\'\\np27\\ntp28\\nbsS\\'use_t\\'\\np29\\nI01\\nsS\\'df_model\\'\\np30\\nF2.0\\nsS\\'diagn\\'\\np31\\n(dp32\\nS\\'omni\\'\\np33\\ncnumpy.core.multiarray\\nscalar\\np34\\n(g24\\nS\\'\\\\xd5J\\\\x1cQ\\\\xfa\\\\xe8\\\\x16@\\'\\np35\\ntp36\\nRp37\\nsS\\'skew\\'\\np38\\nF0.08715490035627373\\nsS\\'mineigval\\'\\np39\\ng34\\n(g24\\nS\\'\\\\xd2\\\\x11Y\\\\xf3\\\\xee~\\\\x19@\\'\\np40\\ntp41\\nRp42\\nsS\\'condno\\'\\np43\\ng34\\n(g24\\nS\\'0\\\\x13\\\\x1c\\\\xe5\\\\xe92E@\\'\\np44\\ntp45\\nRp46\\nsS\\'jbpv\\'\\np47\\ng34\\n(g24\\nS\\'\\\\x80\\\\xa0g\\\\xc7\\\\xb9.\\\\xd5?\\'\\np48\\ntp49\\nRp50\\nsS\\'omnipv\\'\\np51\\ng34\\n(g24\\nS\\'\\\\xbc$\\\\xee\\\\x7f+6\\\\xad?\\'\\np52\\ntp53\\nRp54\\nsS\\'kurtosis\\'\\np55\\nF1.9845717700511742\\nsS\\'jb\\'\\np56\\nF2.2114133266696947\\nssS\\'df_resid\\'\\np57\\nF47.0\\nsS\\'cov_kwds\\'\\np58\\n(dp59\\nS\\'description\\'\\np60\\nS\\'Standard Errors assume that the covariance matrix of the errors is correctly specified.\\'\\np61\\nssS\\'_wexog_singular_values\\'\\np62\\ng14\\n(g15\\n(I0\\ntp63\\ng17\\ntp64\\nRp65\\n(I1\\n(L3L\\ntp66\\ng24\\nI00\\nS\\'\\\\x06\\\\xbc\\\\x0e;\\\\x95\\\\xc2Z@N\\\\xcf\\\\x8f\\\\xaa\\\\xe8cD@\\\\x13\\\\x00\\\\xc6)\\\\x862\\\\x04@\\'\\np67\\ntp68\\nbsS\\'cov_type\\'\\np69\\nS\\'nonrobust\\'\\np70\\nsS\\'k_constant\\'\\np71\\nI1\\nsS\\'_cache\\'\\np72\\ng0\\n(cstatsmodels.tools.decorators\\nResettableCache\\np73\\nc__builtin__\\ndict\\np74\\n(dp75\\nS\\'pvalues\\'\\np76\\ng14\\n(g15\\n(I0\\ntp77\\ng17\\ntp78\\nRp79\\n(I1\\n(L3L\\ntp80\\ng24\\nI00\\nS\"/\\\\x8a\\\\x8dH\\\\xce`>=\\\\xdb%!\\\\xa6\\\\xed1\\\\xfb5\\\\x10\\'\\\\xffj\\\\xb4\\\\xb1\\\\x013\"\\np81\\ntp82\\nbsS\\'bic\\'\\np83\\ng34\\n(g24\\nS\\'\\\\x94\\\\xc4\\\\xe4\\\\x87%\\\\x8dW@\\'\\np84\\ntp85\\nRp86\\nsS\\'ssr\\'\\np87\\ng34\\n(g24\\nS\\'0S\\\\x18\\\\n\\\\xd5w.@\\'\\np88\\ntp89\\nRp90\\nsS\\'nobs\\'\\np91\\nF50.0\\nsS\\'wresid\\'\\np92\\ng14\\n(g15\\n(I0\\ntp93\\ng17\\ntp94\\nRp95\\n(I1\\n(L50L\\ntp96\\ng24\\nI00\\nS\\'\\\\x00\\\\x009&\\\\x8b\\\\xa1J\\\\xbf\\\\x80X\\\\x1e?$\\\\xdc\\\\xdf\\\\xbf\\\\x00t\\\\xf9\\\\x1d\\\\x94_\\\\xc6?@[H4;O\\\\xd7\\\\xbf\\\\x80\\\\x96\\\\xf8\\\\xbe\\\\x07\\\\xa3\\\\xd8?\\\\x00B\\\\xa3[2\\\\xad\\\\xd9?\\\\x80\\\\xca\\\\xe5\\\\x02\\\\xff/\\\\xda\\\\xbf@\\\\xcdI\\\\xa6\\\\xfe\\\\x87\\\\xe1\\\\xbf\\\\x00\\\\xf4\\\\x97\\\\xab\\\\xdd\\\\x9f\\\\xee?\\\\x00i\\\\xf2\\\\x1fn\\\\xa1\\\\xc5\\\\xbf@\\\\xd3wTy\\\\xe9\\\\xed?\\\\xc0\\\\xe7\\\\xc9L\\\\xc5\\\\x9b\\\\xd0\\\\xbf\\\\xc0\\\\\\'OZ/\\\\x82\\\\xd8\\\\xbf\\\\x00\\\\xa1\\\\x8f\\\\x86\\\\xa9v\\\\xb0?\\\\x80\\\\xf9z\\\\xa8\\\\xc6\\\\x95\\\\xe4\\\\xbf\\\\x00c\\\\x14\\\\xa1\\\\xe1\\\\\\'\\\\xe0?\\\\x80u\\\\xa4\\\\x80I\\\\x05\\\\xd1\\\\xbf\\\\x00\\\\x94\\\\xb0\\\\x9c\\\\xb6\\\\xee\\\\xc8?\\\\x00KG\\\\xae\\\\xb4\\\\xbd\\\\xcb\\\\xbf@\\\\x92\\\\xa0\\\\xc0~%\\\\xe3\\\\xbf\\\\xc0\\\\xfb\\\\x9b\\\\x10\\\\xf3\\\\x8f\\\\xec?\\\\x00\\\\xd8\\\\x80\\\\xc30\\\\xa6\\\\xb7\\\\xbf\\\\x00\\\\x84\\\\xd3\\\\xddrk\\\\xec? +\\\\x93\\\\x8a\\\\x8d\\\\x9d\\\\xe2\\\\xbf\\\\x00\\\\xb3\\\\xdd\\\\xadi\\\\xce\\\\xe0?@ \\\\xa9\"\\\\xff\\\\xbd\\\\xd0?\\\\xe0\\\\xa7,\\\\ru\\\\x00\\\\xe4\\\\xbf\\\\x80\\\\xe4{s\\\\x8b\\\\xed\\\\xcb?@\\\\xd4\\\\xff\\\\xb6\\\\x85W\\\\xdf\\\\xbf\\\\x00\\\\xa8v\\\\xfc\\\\rY\\\\xa2?@\\\\xb1a\\\\xbd\\\\xed?\\\\xd9?@&\\\\xfb\\\\xd6gj\\\\xd9\\\\xbf\\\\xe0\\\\x139\\\\x1a\\\\xe2D\\\\xd8?\\\\xc0uw\\\\xc2\\\\xda\\\\xa6\\\\xe7?\\\\x00+\\\\xf0R\\\\r\\\\x82\\\\xdf\\\\xbf`\\\\xc7\\\\xcd\\\\x99\\\\xf2\\\\xcd\\\\xe8?\\\\x00\\\\xd6Fh\\\\xd4\\\\x83\\\\xe5?`\\\\xb2\\\\n\\\\xa8a\\\\x98\\\\xee\\\\xbf\\\\x80\\\\x1cDm\\\\x1dn\\\\xe1?\\\\xf0\\\\xa5\\\\x1e\\\\xbd\\\\xf8\\\\xa9\\\\xf2\\\\xbf\\\\x00\\\\x82y\\\\xb9\\\\x12\\\\xb9\\\\xd5?\\\\x80\\\\xb3\\\\xc5\\\\x9fN\\\\x89\\\\xdd\\\\xbf\\\\x00\\\\\\\\X\\\\x96\\\\x9f\\\\xdb\\\\xa4?\\\\xc0e\\\\x06\\\\xd5\\\\x9c\\\\x10\\\\xd4\\\\xbf\\\\x80\\\\x80\\\\xcd\\\\x9f\\\\x80\\\\x9a\\\\xea\\\\xbf -z\\\\xe5\\\\xf6Y\\\\xe9?\\\\x00\\\\x99\\\\x0ci\\\\x91\\\\xbf\\\\xdf\\\\xbf@\\\\xfeo\\\\xc9\\\\x7f2\\\\xe4\\\\xbf\\\\x00\\\\xd0\\\\xfe\\\\xf6\\\\x0ejz\\\\xbf \\\\xdfV\\\\xdc\\\\xcd\\\\xfd\\\\xe8?\\'\\np97\\ntp98\\nbsS\\'mse_resid\\'\\np99\\ng34\\n(g24\\nS\"\\\\x99\\\\xd6\\\\x8d\\'\\\\x86\\\\xbe\\\\xd4?\"\\np100\\ntp101\\nRp102\\nsS\\'eigenvals\\'\\np103\\ng14\\n(g15\\n(I0\\ntp104\\ng17\\ntp105\\nRp106\\n(I1\\n(L3L\\ntp107\\ng24\\nI00\\nS\\'\\\\x98\\\\xf2\\\\x1b\\\\xb4\\\\xd1`\\\\xc6@M\\\\x93\\\\xdd\\\\x865\\\\xfc\\\\x99@\\\\xd2\\\\x11Y\\\\xf3\\\\xee~\\\\x19@\\'\\np108\\ntp109\\nbsS\\'bse\\'\\np110\\ng14\\n(g15\\n(I0\\ntp111\\ng17\\ntp112\\nRp113\\n(I1\\n(L3L\\ntp114\\ng24\\nI00\\nS\\'\\\\xb2\\\\x97l\\\\xbf:\\\\xcf\\\\xcc?\\\\xf5(}\\\\xc5U\\\\xd5\\\\x8d?\\\\xde\\\\xc7\\\\xc4I\\\\x17L\\\\x8d?\\'\\np115\\ntp116\\nbsS\\'mse_model\\'\\np117\\ng34\\n(g24\\nS\\'\\\\xdd\\\\xdf\\\\xe2>\\\\xdc\\\\xac\\\\xac@\\'\\np118\\ntp119\\nRp120\\nsS\\'llf\\'\\np121\\ng34\\n(g24\\nS\\'\\\\xfc\\\\xa1\\\\xac\\\\xc6\\\\t\\\\x9eD\\\\xc0\\'\\np122\\ntp123\\nRp124\\nsS\\'scale\\'\\np125\\ng34\\n(g24\\nS\"\\\\x99\\\\xd6\\\\x8d\\'\\\\x86\\\\xbe\\\\xd4?\"\\np126\\ntp127\\nRp128\\nsS\\'ess\\'\\np129\\ng34\\n(g24\\nS\\'\\\\xdd\\\\xdf\\\\xe2>\\\\xdc\\\\xac\\\\xbc@\\'\\np130\\ntp131\\nRp132\\nsS\\'f_pvalue\\'\\np133\\ng34\\n(g24\\nS\\'\\\\xe8z\\\\xbaI\\\\xf9g\\\\xd62\\'\\np134\\ntp135\\nRp136\\nsS\\'centered_tss\\'\\np137\\ng34\\n(g24\\nS\\'\\\\x07\\\\xecg)\\\\x18\\\\xbc\\\\xbc@\\'\\np138\\ntp139\\nRp140\\nsS\\'condition_number\\'\\np141\\ng46\\nsS\\'rsquared_adj\\'\\np142\\ng34\\n(g24\\nS\\'9zq\\\\x1bP\\\\xee\\\\xef?\\'\\np143\\ntp144\\nRp145\\nsS\\'tvalues\\'\\np146\\ng14\\n(g15\\n(I0\\ntp147\\ng17\\ntp148\\nRp149\\n(I1\\n(L3L\\ntp150\\ng24\\nI00\\nS\\'wrGW\\\\xae\\\\xad$@\\\\xe7\\\\xa5\\\\xdb\\\\xed\\\\xa5\\\\rQ@\\\\xec r\\\\xe5*Fa@\\'\\np151\\ntp152\\nbsS\\'rsquared\\'\\np153\\ng34\\n(g24\\nS\\'\\\\xaf\\\\x7fM\\\\xeb\\\\x08\\\\xef\\\\xef?\\'\\np154\\ntp155\\nRp156\\nsS\\'aic\\'\\np157\\ng34\\n(g24\\nS\\'\\\\xfc\\\\xa1\\\\xac\\\\xc6\\\\t\\\\x1eV@\\'\\np158\\ntp159\\nRp160\\nsS\\'fvalue\\'\\np161\\ng34\\n(g24\\nS\\'\\\\xae.\\\\xd1\\\\xe1\\\\xfe\\\\x1d\\\\xc6@\\'\\np162\\ntp163\\nRp164\\nstp165\\nRp166\\n(dp167\\nS\\'_resetdict\\'\\np168\\n(dp169\\nsbsS\\'params\\'\\np170\\ng14\\n(g15\\n(I0\\ntp171\\ng17\\ntp172\\nRp173\\n(I1\\n(L3L\\ntp174\\ng24\\nI00\\nS\\'R\\\\xed\\\\xa1\\\\x02\\\\xe2\\\\x9d\\\\x02@\\\\xab\\\\x89\\\\x0b\\\\xdb\\\\x1d\\\\xcc\\\\xef?\\\\xa8\\\\xfa\"0T\\\\xa1\\\\xff?\\'\\np175\\ntp176\\nbsS\\'model\\'\\np177\\ng0\\n(cstatsmodels.regression.linear_model\\nOLS\\np178\\ng2\\nNtp179\\nRp180\\n(dp181\\nS\\'_df_resid\\'\\np182\\nF47.0\\nsS\\'_init_keys\\'\\np183\\n(lp184\\nS\\'missing_idx\\'\\np185\\nasS\\'wexog_singular_values\\'\\np186\\ng65\\nsS\\'formula\\'\\np187\\nS\\'y ~ x1 + x2\\'\\np188\\nsS\\'endog\\'\\np189\\ng14\\n(g15\\n(I0\\ntp190\\ng17\\ntp191\\nRp192\\n(I1\\n(L50L\\ntp193\\ng24\\nI00\\nS\\'\\\\x95\\\\xdf5\\\\x0eZ\\\\xd7H@\\\\x8fu\\\\\\\\`\\\\xd9\\\\x0cI@#\\\\xcf\\\\xff\\\\x9f\\\\x92\\\\x19C@\\\\xf4\\\\x9e1\\\\x88\\\\x89\\\\xf5;@\\\\xdf\\\\x11\\\\xa8c\\\\xe1\\\\x10B@$i\\\\xc7\\\\xe5w8L@$\\\\xb6\\\\xb1l\\\\x15FD@h\\\\xce\\\\x8aw}\\\\r0@Z\\\\xbe\\\\xff>\\\\xbc4M@u\\\\x83\\\\xb8;\\\\xde\\\\xa0>@a\\\\x1eM-B\\\\x03@@\\\\xf7\\\\xaf\\\\xf7\\\\xae\\\\xc7\\\\xc1<@,\\\\xa3\\\\xd1\\\\xfc#S>@\\\\xce\\\\xa49\\\\x9f|h.@\\\\x93\\\\xc0\\\\x92\\\\xd5\"\\\\x06@@O\"\\\\x01\\\\x82\\\\x95\\\\xb1J@{\\\\xf9X\\\\xb6K\\\\x1aD@@g\\\\xf0v\\\\xd8MC@\\\\xc8\\\\xce^m\\\\xa3\\\\xe7C@\\\\xd7\\\\xb8N\\\\rn\\\\xa2F@\\\\xf0W\\\\x93\\\\xdau\\\\xa7:@)\\\\xc5h\\\\xed\\\\xa4\\\\x94C@\\\\xb2W\\\\xad\\\\xa7rpD@\\\\x15\\\\xa3\\\\x8e\\\\xe0\\\\xe6\\\\xf08@\\\\x9c\\\\xd6:\\\\x17Hv:@\\\\xd1\\\\xb1\\\\xfe\\\\xa7\\\\x15\\\\x081@]\\\\xb5&p\\\\xab\\\\x9b4@\\\\xd5J\\\\xeb\\\\x96(\\\\xe3<@\\\\xaf\\\\xe2\\\\xc5Z\\\\x1bz?@\\\\x0c\\\\x16-F\\\\x17c;@\\\\xf0\\\\x8dt\\\\xa7\\\\x12\\\\x1e@@\\\\xecy\\\\x06\\\\xbb\\\\xc5\\\\\\\\4@f\\\\xec\\\\xb3(\\\\xe3\\\\x1a*@\\\\x8e\\\\xe5\\\\xcf\\\\xb7(\\\\x992@`J\\\\x1dT\\\\xdbk4@\\\\x9d\\\\x84\\\\x15\\\\xcf\\\\x89\\\\xda7@\\\\x18\\\\xda\\\\xb9D\\\\x01\\\\xf2\\\\x18@a\\\\xb7\\\\x8d\\\\xe2hZ2@xp\\\\x1d\\\\xb6\\\\xa9\\\\xdaF@\\\\xe4\\\\x1e\\\\xee\\\\xb6\\\\x0075@-,\\\\x1c\\\\x1a\\\\x80\\\\x0e;@\\\\xeb\\\\x81E?[\\\\x1b@@\\\\xb9\\\\xf6R\\\\x81/cE@\\\\xa0(\\\\xb2\\\\xdbKL9@<\\\\xf4\\\\x97q\\\\x95]B@\\\\x87L\\\\x8a\\\\x95{K7@\\\\xf8\\\\xf4\\\\xa69\\\\xc2\\\\xfbI@\\\\x16p\\\\x93\\\\x8b\\\\x03XB@\\\\xd2\\\\xf7\\\\x92\\\\xf3w\\\\xcd#@\\\\xf4\\\\xf9m\\\\xd1M\\\\x906@\\'\\np194\\ntp195\\nbsg13\\ng19\\nsS\\'wendog\\'\\np196\\ng192\\nsS\\'_data_attr\\'\\np197\\n(lp198\\nS\\'exog\\'\\np199\\nag189\\naS\\'data.exog\\'\\np200\\naS\\'data.endog\\'\\np201\\naS\\'data.orig_endog\\'\\np202\\naS\\'data.orig_exog\\'\\np203\\naS\\'pinv_wexog\\'\\np204\\nag196\\naS\\'wexog\\'\\np205\\naS\\'weights\\'\\np206\\nasg91\\nF50.0\\nsg71\\nI1\\nsS\\'rank\\'\\np207\\ng34\\n(g21\\n(S\\'i4\\'\\np208\\nI0\\nI1\\ntp209\\nRp210\\n(I3\\nS\\'<\\'\\np211\\nNNNI-1\\nI-1\\nI0\\ntp212\\nbS\\'\\\\x03\\\\x00\\\\x00\\\\x00\\'\\np213\\ntp214\\nRp215\\nsg205\\ng14\\n(g15\\n(I0\\ntp216\\ng17\\ntp217\\nRp218\\n(I1\\n(L50L\\nL3L\\ntp219\\ng24\\nI00\\nS\\'\\\\x00\\\\x00\\\\x00\\\\x00\\\\x00\\\\x00\\\\xf0?\\\\xe9\\\\xb9\\\\xa0\\\\x1a\\\\x16<)@F\\\\x06\\\\x9c\\\\x06\\\\xe7\\\\x9c1@\\\\x00\\\\x00\\\\x00\\\\x00\\\\x00\\\\x00\\\\xf0?\\\\x07\\\\xdd]D\\\\xc0\\\\xcd\\\\\\'@\\\\xc2\\\\xd7\\\\x10\\\\xe0so2@\\\\x00\\\\x00\\\\x00\\\\x00\\\\x00\\\\x00\\\\xf0?\\\\x04\\\\xe2\\\\x89,\\\\xeb\\\\x0c)@\\\\xecKMN\\\\x1b\\\\x86\\\\\\'@\\\\x00\\\\x00\\\\x00\\\\x00\\\\x00\\\\x00\\\\xf0?\\\\x94\\\\xd9\\\\x91\\\\xeb\\\\x18\\\\x1d\\\\x14@\\\\xd7\\\\x0e\\\\xb0\\\\x90\\\\xc5>%@\\\\x00\\\\x00\\\\x00\\\\x00\\\\x00\\\\x00\\\\xf0?8X\\\\x0c\\\\xf6\\\\x03\\\\xbd\\\\x0f@\\\\xd5?<\\\\x1a\\\\x83\\\\xd2-@\\\\x00\\\\x00\\\\x00\\\\x00\\\\x00\\\\x00\\\\xf0?\\\\x0e\\\\x10\\\\x8b\\\\\\'d\\\\xae0@_\\\\x91\\\\xc4\\\\xf5&\\\\xc92@\\\\x00\\\\x00\\\\x00\\\\x00\\\\x00\\\\x00\\\\xf0?p\\\\xb6x\\\\xf5\\\\x8e\\\\x85\\\\x0f@\\\\xc7\\\\x86\\\\xf7\\\\x91c\\\\x8f1@\\\\x00\\\\x00\\\\x00\\\\x00\\\\x00\\\\x00\\\\xf0?\\\\xd0\\\\xb1.\\\\xb3\\\\x01V\\\\x05@\\\\xc2\\\\x14<\\\\x11\\\\xbc\\\\x84\\\\x17@\\\\x00\\\\x00\\\\x00\\\\x00\\\\x00\\\\x00\\\\xf0?<\\\\xfb@\\\\xf3n\\\\xbc/@\\\\n\\\\x86\\\\x00~\\\\x07\\\\xe93@\\\\x00\\\\x00\\\\x00\\\\x00\\\\x00\\\\x00\\\\xf0?v\\\\x06P8v\\\\xa6%@l\\\\x05\\\\x18\\\\x91\\\\xbb\\\\xeb!@\\\\x00\\\\x00\\\\x00\\\\x00\\\\x00\\\\x00\\\\xf0?Z][\\\\x9d2o)@\\\\xe3\\\\xa8\\\\xf4\\\\\\\\\\\\xc6P @\\\\x00\\\\x00\\\\x00\\\\x00\\\\x00\\\\x00\\\\xf0?,^\\\\xd1\\\\xf1\\\\x8b9\\\\\\'@\\\\xa6\\\\x9a\\\\x87P\\\\xc2\\\\xa7\\\\x1e@\\\\x00\\\\x00\\\\x00\\\\x00\\\\x00\\\\x00\\\\xf0?\\\\xe8\\\\x91\\\\xc9\\\\xc0\\\\x8e_\\\\x1a@\\\\xca\\\\xa8\\\\xadh\\\\x93\\\\x15&@\\\\x00\\\\x00\\\\x00\\\\x00\\\\x00\\\\x00\\\\xf0?p$V\\\\xc0\\\\xad4\\\\xfd?\\\\xc2\\\\xf4\\\\x9e\\\\x92CA\\\\x16@\\\\x00\\\\x00\\\\x00\\\\x00\\\\x00\\\\x00\\\\xf0?X\\\\x13K\\\\x95*/\\\\x0b@\\\\xd6\\\\x8c\\\\xa7F\\\\x9bM+@\\\\x00\\\\x00\\\\x00\\\\x00\\\\x00\\\\x00\\\\xf0?\\\\xa5\\\\xd3\\\\x96\\\\xb15\\\\xf0/@\\\\xeaW\\\\t\\\\xba\\\\xe5\\\\x8b1@\\\\x00\\\\x00\\\\x00\\\\x00\\\\x00\\\\x00\\\\xf0?\\\\x10\\\\t\\\\xfbcv\\\\xcb\\\\x0e@\\\\x8d\\\\xb8~\\\\xc6;\\\\\\\\1@\\\\x00\\\\x00\\\\x00\\\\x00\\\\x00\\\\x00\\\\xf0?#L!\\\\x82\\\\x8c\\\\xd01@Zp\\\\x19\\\\xa4s\\\\x99\"@\\\\x00\\\\x00\\\\x00\\\\x00\\\\x00\\\\x00\\\\xf0?\\\\xfa\\\\xfbg\\\\xd8q\\\\x95(@^nrz\\\\x82\\\\xc8)@\\\\x00\\\\x00\\\\x00\\\\x00\\\\x00\\\\x00\\\\xf0?p\\\\xf0\\\\xaa\\\\xe0F{-@\\\\xda_\\\\x01%\\\\t;-@\\\\x00\\\\x00\\\\x00\\\\x00\\\\x00\\\\x00\\\\xf0?*\\\\xf5\\\\rM\\\\x93b\\\\x11@\\\\n\\\\x16\\\\xbf\\\\x1c\\\\xd8V#@\\\\x00\\\\x00\\\\x00\\\\x00\\\\x00\\\\x00\\\\xf0?Jj!\\\\xe68Z\\\\x11@c\\\\xf8,\\\\xa5\\\\xa6\\\\x7f0@\\\\x00\\\\x00\\\\x00\\\\x00\\\\x00\\\\x00\\\\xf0?\\\\xcab#i-\\\\x08\\\\x12@Li\\\\x15\\\\xc01\\\\xc90@\\\\x00\\\\x00\\\\x00\\\\x00\\\\x00\\\\x00\\\\xf0?\\\\xb3lH\\\\xa7/\\\\xe2,@R\\\\x9e\\\\x9e\\\\x1a\\\\xc6\\\\xe5\\\\x11@\\\\x00\\\\x00\\\\x00\\\\x00\\\\x00\\\\x00\\\\xf0?X\\\\xb9\\\\x99\\\\xa4\\\\xf491@p\\\\xd3\\\\xaa\\\\xb8\\\\x02F\\\\n@\\\\x00\\\\x00\\\\x00\\\\x00\\\\x00\\\\x00\\\\xf0?;\\\\xb6\\\\x80SmI&@@A\\\\n\\\\xe4\\\\x91F\\\\xfb?\\\\x00\\\\x00\\\\x00\\\\x00\\\\x00\\\\x00\\\\xf0?xwm\\\\xd8o\\\\x8f\\\\x1d@*\\\\x95u\\\\xe0[e\\\\x17@\\\\x00\\\\x00\\\\x00\\\\x00\\\\x00\\\\x00\\\\xf0?\\\\xc4\\\\x8ec\\\\x97E\\\\xeb$@\\\\x86\\\\x84\\\\xc12\\\\xa0\" @\\\\x00\\\\x00\\\\x00\\\\x00\\\\x00\\\\x00\\\\xf0?/l\\\\x05d0\\\\x1d1@\\\\xbc\\\\xaf!r9\\\\x90\\\\x19@\\\\x00\\\\x00\\\\x00\\\\x00\\\\x00\\\\x00\\\\xf0?n\\\\xc3&{\\\\xc1\\\\x0e1@\\\\xc0\\\\\\\\8\\\\xf8\\\\x7fV\\\\x10@\\\\x00\\\\x00\\\\x00\\\\x00\\\\x00\\\\x00\\\\xf0?j\\\\xcc>\\\\xc6<\\\\x02,@\\\\xa2\\\\x00E\\\\x01^\\\\x8f\\\\x1f@\\\\x00\\\\x00\\\\x00\\\\x00\\\\x00\\\\x00\\\\xf0?\\\\x00\\\\xb0!\\\\xbf\\\\xce\\\\xb6\\\\xf6?f\\\\x8aT\\\\xeb\\\\x858!@\\\\x00\\\\x00\\\\x00\\\\x00\\\\x00\\\\x00\\\\xf0?8\\\\x01k\\\\xdc\\\\xdd\\\\x86\\\\x15@\\\\x90\\\\xe4\\\\xb0\\\\x93h:\\\\x04@\\\\x00\\\\x00\\\\x00\\\\x00\\\\x00\\\\x00\\\\xf0?tW\\\\xf54\\\\x83x\\\\x1d@\\\\xd4\\\\xb7\\\\x9f\\\\xd24\\\\x9d\\\\x10@\\\\x00\\\\x00\\\\x00\\\\x00\\\\x00\\\\x00\\\\xf0?\\\\xa6\\\\x9e\\\\x10U3\\\\x8e0@P,\\\\x1bg\\\\x81I\\\\xf1?\\\\x00\\\\x00\\\\x00\\\\x00\\\\x00\\\\x00\\\\xf0?\\\\xf1\\\\xbf\\\\xd8\\\\xc6\\\\x1c~1@`\\\\xff=j\\\\x9dE\\\\xfb?\\\\x00\\\\x00\\\\x00\\\\x00\\\\x00\\\\x00\\\\xf0?\\\\xc0\\\\xb1(\\\\xbb\\\\x7fw\\\\xf0?\\\\xa0\\\\x82\\\\xb1\\\\xd1\\\\xc9\\\\xeb\\\\xf1?\\\\x00\\\\x00\\\\x00\\\\x00\\\\x00\\\\x00\\\\xf0?\\\\x04\\\\xe3\\\\xea\\\\x9d\\\\xf1\\\\xa3!@\\\\xf0\\\\xe5\\\\xf4\\\\x1a\\\\xb9\\\\xa0\\\\x10@\\\\x00\\\\x00\\\\x00\\\\x00\\\\x00\\\\x00\\\\xf0?\\\\xd5\\\\x8f\\\\xa7\\\\x11\\\\x0c\\\\x902@\\\\xcf\\\\xd1\\\\x1484\\\\xad(@\\\\x00\\\\x00\\\\x00\\\\x00\\\\x00\\\\x00\\\\xf0?N\\\\x0e\\\\xf4\\\\xd3<\\\\xcb.@\\\\xd8\\\\xe8\\\\xb3~\\\\xde=\\\\x03@\\\\x00\\\\x00\\\\x00\\\\x00\\\\x00\\\\x00\\\\xf0?\\\\xc7\\\\x8f\\\\xa4\\\\xb3:g0@t\\\\xd5mL\\\\xe9^\\\\x10@\\\\x00\\\\x00\\\\x00\\\\x00\\\\x00\\\\x00\\\\xf0?\\\\x99\\\\xb8tg\\\\xd6\\\\xb4 @\\\\xefm5\\\\xfe<N&@\\\\x00\\\\x00\\\\x00\\\\x00\\\\x00\\\\x00\\\\xf0?\\\\x13[\\\\xac PE @\\\\xc6\\\\x98\\\\x9f6\\\\xbeY0@\\\\x00\\\\x00\\\\x00\\\\x00\\\\x00\\\\x00\\\\xf0?\\\\xf1\\\\xd9\\\\xc4\\\\x0bJ\\\\x9d3@\\\\xb0MZ\\\\x8a\\\\x84\\\\xb5\\\\xfe?\\\\x00\\\\x00\\\\x00\\\\x00\\\\x00\\\\x00\\\\xf0?;\\\\xabH\\\\xaf\\\\x1fY/@\\\\xe2K`\\\\x05\\\\xf5\\\\xe3#@\\\\x00\\\\x00\\\\x00\\\\x00\\\\x00\\\\x00\\\\xf0?\\\\xb8\\\\xea\\\\xb5\\\\xf0\\\\xa2p&@\\\\xe6\\\\x83\\\\xbc/\\\\xa7C\\\\x12@\\\\x00\\\\x00\\\\x00\\\\x00\\\\x00\\\\x00\\\\xf0?\\\\xe4\\\\xe2$]\\\\xbd\\\\xe51@\\\\x94Zu8q]0@\\\\x00\\\\x00\\\\x00\\\\x00\\\\x00\\\\x00\\\\xf0?l\\\\x8eC\\\\x0c\\\\xb4\\\\x1c @*RumZM+@\\\\x00\\\\x00\\\\x00\\\\x00\\\\x00\\\\x00\\\\xf0?\\\\xa8WW.DX\\\\n@\\\\xd8\\\\xb0\\\\x91\\\\x9cgo\\\\x01@\\\\x00\\\\x00\\\\x00\\\\x00\\\\x00\\\\x00\\\\xf0?x\\\\xff\\\\xa4]$\\\\xaa\\\\x0c@\\\\xdf\\\\x1b\\\\xba\\\\x1c\\\\xc1\\\\x14 @\\'\\np220\\ntp221\\nbsg206\\ng14\\n(g15\\n(I0\\ntp222\\ng17\\ntp223\\nRp224\\n(I1\\n(L50L\\ntp225\\ng24\\nI00\\nS\\'\\\\x00\\\\x00\\\\x00\\\\x00\\\\x00\\\\x00\\\\xf0?\\\\x00\\\\x00\\\\x00\\\\x00\\\\x00\\\\x00\\\\xf0?\\\\x00\\\\x00\\\\x00\\\\x00\\\\x00\\\\x00\\\\xf0?\\\\x00\\\\x00\\\\x00\\\\x00\\\\x00\\\\x00\\\\xf0?\\\\x00\\\\x00\\\\x00\\\\x00\\\\x00\\\\x00\\\\xf0?\\\\x00\\\\x00\\\\x00\\\\x00\\\\x00\\\\x00\\\\xf0?\\\\x00\\\\x00\\\\x00\\\\x00\\\\x00\\\\x00\\\\xf0?\\\\x00\\\\x00\\\\x00\\\\x00\\\\x00\\\\x00\\\\xf0?\\\\x00\\\\x00\\\\x00\\\\x00\\\\x00\\\\x00\\\\xf0?\\\\x00\\\\x00\\\\x00\\\\x00\\\\x00\\\\x00\\\\xf0?\\\\x00\\\\x00\\\\x00\\\\x00\\\\x00\\\\x00\\\\xf0?\\\\x00\\\\x00\\\\x00\\\\x00\\\\x00\\\\x00\\\\xf0?\\\\x00\\\\x00\\\\x00\\\\x00\\\\x00\\\\x00\\\\xf0?\\\\x00\\\\x00\\\\x00\\\\x00\\\\x00\\\\x00\\\\xf0?\\\\x00\\\\x00\\\\x00\\\\x00\\\\x00\\\\x00\\\\xf0?\\\\x00\\\\x00\\\\x00\\\\x00\\\\x00\\\\x00\\\\xf0?\\\\x00\\\\x00\\\\x00\\\\x00\\\\x00\\\\x00\\\\xf0?\\\\x00\\\\x00\\\\x00\\\\x00\\\\x00\\\\x00\\\\xf0?\\\\x00\\\\x00\\\\x00\\\\x00\\\\x00\\\\x00\\\\xf0?\\\\x00\\\\x00\\\\x00\\\\x00\\\\x00\\\\x00\\\\xf0?\\\\x00\\\\x00\\\\x00\\\\x00\\\\x00\\\\x00\\\\xf0?\\\\x00\\\\x00\\\\x00\\\\x00\\\\x00\\\\x00\\\\xf0?\\\\x00\\\\x00\\\\x00\\\\x00\\\\x00\\\\x00\\\\xf0?\\\\x00\\\\x00\\\\x00\\\\x00\\\\x00\\\\x00\\\\xf0?\\\\x00\\\\x00\\\\x00\\\\x00\\\\x00\\\\x00\\\\xf0?\\\\x00\\\\x00\\\\x00\\\\x00\\\\x00\\\\x00\\\\xf0?\\\\x00\\\\x00\\\\x00\\\\x00\\\\x00\\\\x00\\\\xf0?\\\\x00\\\\x00\\\\x00\\\\x00\\\\x00\\\\x00\\\\xf0?\\\\x00\\\\x00\\\\x00\\\\x00\\\\x00\\\\x00\\\\xf0?\\\\x00\\\\x00\\\\x00\\\\x00\\\\x00\\\\x00\\\\xf0?\\\\x00\\\\x00\\\\x00\\\\x00\\\\x00\\\\x00\\\\xf0?\\\\x00\\\\x00\\\\x00\\\\x00\\\\x00\\\\x00\\\\xf0?\\\\x00\\\\x00\\\\x00\\\\x00\\\\x00\\\\x00\\\\xf0?\\\\x00\\\\x00\\\\x00\\\\x00\\\\x00\\\\x00\\\\xf0?\\\\x00\\\\x00\\\\x00\\\\x00\\\\x00\\\\x00\\\\xf0?\\\\x00\\\\x00\\\\x00\\\\x00\\\\x00\\\\x00\\\\xf0?\\\\x00\\\\x00\\\\x00\\\\x00\\\\x00\\\\x00\\\\xf0?\\\\x00\\\\x00\\\\x00\\\\x00\\\\x00\\\\x00\\\\xf0?\\\\x00\\\\x00\\\\x00\\\\x00\\\\x00\\\\x00\\\\xf0?\\\\x00\\\\x00\\\\x00\\\\x00\\\\x00\\\\x00\\\\xf0?\\\\x00\\\\x00\\\\x00\\\\x00\\\\x00\\\\x00\\\\xf0?\\\\x00\\\\x00\\\\x00\\\\x00\\\\x00\\\\x00\\\\xf0?\\\\x00\\\\x00\\\\x00\\\\x00\\\\x00\\\\x00\\\\xf0?\\\\x00\\\\x00\\\\x00\\\\x00\\\\x00\\\\x00\\\\xf0?\\\\x00\\\\x00\\\\x00\\\\x00\\\\x00\\\\x00\\\\xf0?\\\\x00\\\\x00\\\\x00\\\\x00\\\\x00\\\\x00\\\\xf0?\\\\x00\\\\x00\\\\x00\\\\x00\\\\x00\\\\x00\\\\xf0?\\\\x00\\\\x00\\\\x00\\\\x00\\\\x00\\\\x00\\\\xf0?\\\\x00\\\\x00\\\\x00\\\\x00\\\\x00\\\\x00\\\\xf0?\\\\x00\\\\x00\\\\x00\\\\x00\\\\x00\\\\x00\\\\xf0?\\'\\np226\\ntp227\\nbsg204\\ng14\\n(g15\\n(I0\\ntp228\\ng17\\ntp229\\nRp230\\n(I1\\n(L3L\\nL50L\\ntp231\\ng24\\nI00\\nS\\'\\\\x9a\\\\x89\\\\xc1\\\\x9dYr\\\\xa8\\\\xbf\\\\xbe\\\\x00l\\\\xd8\\\\x05~\\\\xa8\\\\xbf\\\\xc9\\\\xd3f\\\\\\'Q\\\\xb5\\\\x83\\\\xbf6\\\\xe0\\\\x86!\\\\x8c\\\\x93\\\\xaa?\\\\xc9,\\\\xf1r%s\\\\xa0?\\\\x93\\\\xbd\\\\x03\\\\xd0\\\\x07\\\\xac\\\\xb5\\\\xbf\\\\xce\\\\xe1*\\\\xfb!x\\\\x8f?\\\\xaf\\\\xd5\\\\x89\\\\x94Wo\\\\xb9?\\\\x16\\\\xf1\\\\x90\\\\xcbH\\\\x02\\\\xb6\\\\xbfqH2\\\\xc33\\\\x1b\\\\x95?\\\\x18\\\\xd8\\\\xe8\\\\x9e\\\\xe7\\\\xb3\\\\x88?\\\\xfcLO\\\\x04\\\\x1f\\\\xc6\\\\x97?V\\\\x95\\\\x06M\\\\x96g\\\\xa3?ESAw\\\\xea\\\\x82\\\\xbb?\\\\xd6\\\\xfdj$\\\\xe3\\\\xaf\\\\xa6?U\\\\xbc\\\\x07\\\\x1bzR\\\\xb2\\\\xbfz`^X\\\\xc0\\\\xb7\\\\x91?S\\\\xebk\\\\x05\\\\xear\\\\xa0\\\\xbf\\\\xb3!\\\\x85P\\\\x05\\\\x10\\\\x8f\\\\xbf\\\\x14o%\\\\xf5\\\\x89|\\\\xa6\\\\xbfp\\\\x15\\\\x12\\\\xfa\\\\x07\\\\x1d\\\\xb0?\\\\xaf.\\\\xc1u\\\\xdf\\\\xbe\\\\x93?\\\\x9c\\\\xb6n\\\\xc6\\\\x93\\\\x9a\\\\x90?+\\\\x99\\\\x9e\\\\xfe\\\\xdb\\\\xb8\\\\x97?/A\\\\xf7\\\\x1e\\\\x90\\\\xca\\\\x85?\\\\x01\\\\x81Vp\\\\x15\\\\x94\\\\xb0?m\\\\xcf\\\\xd9\\\\xda\\\\xde\\\\xbc\\\\xb0?ESM\\\\x95\\\\xe1\\\\xaa\\\\x9d?Z\\\\x8e\\\\xdcW\\\\xa6F\\\\x81\\\\xbf\\\\x9bU\\\\x00\\\\x95\\\\xf6\\\\x98{?&\\\\xbf\\\\x9d\\\\xc9\\\\xa8Hr?\\\\rP`\\\\xa7\\\\x06E\\\\xb7?S<x?8\\\\xe6\\\\xb9?D\\\\x13\\\\x15\\\\xfa\\\\xd4\\\\x8e\\\\xb3?a\\\\x12:\\\\x8d\\\\x13P\\\\x9e?.#\\\\xc25uG\\\\x93?\\\\x8d\\\\xbd\\\\x9bFe\"\\\\xc2?.\\\\x91\\\\xcc\\\\xeb\\\\xb7\\\\xdc\\\\xb0?\\\\xf1$s\\\\xd3\\\\xf8-\\\\xad\\\\xbf\\\\xf0\\\\xdf\\\\x8e\\\\xf7\\\\xf05\\\\x9e?\\\\xc0O\\\\xb9\\\\\\'\\\\x0cc\\\\x87?\\\\xc2\\\\xbakT\\\\xd6\\\\x0b\\\\x99?\\\\xe8\\\\xdb\\\\x0cj\\\\x83\\\\xa8}\\\\xbf\\\\xcec\\\\xfa\\\\xcb\\\\xd67a?{1\\\\xaa\\\\x9a\\\\x91E\\\\x95\\\\xbfwp\\\\x91\\\\xae\\\\x8b~\\\\xa7?g\\\\xa9\\\\xc0s\\\\x04\\\\xf5\\\\xb3\\\\xbf\\\\x8f\\\\x93\\\\xd1\\\\xdbR\\\\xbd\\\\x85?\\\\xa3\\\\xbb\\\\xd0\\\\xfc\\\\xf4V\\\\xbe?\\\\xec\\\\xee\\\\x13\\\\xbe_2\\\\xb4?\\\\xe5\\\\xe6FP~\\\\x8b\\\\\\\\?h\\\\xce\\\\xdd\\\\x06#kU?\\\\xfe\\\\xdd\\\\xe9\\\\x16*\\\\xa8W?\\\\xb6\\\\xf2\\\\xb2\\\\x98\\\\xe9\\\\xc1l\\\\xbf\\\\xcfI(\\\\xabs\\\\x82p\\\\xbf\\\\xd6\\\\x04\\\\xd42\\\\xa7:r?\\\\x94\\\\xc3w\\\\x9d\\\\n$p\\\\xbf\\\\xaahD\\\\x0fX\\\\x80u\\\\xbf\\\\xce\\\\x84\\\\x16Td<p?\\\\x90s1\\\\xd3Fn,?\\\\xbe=\\\\xfenBPW?\\\\x0e\\\\x95\\\\xb8\\\\xdc\\\\xa9DF?\\\\xb7\\\\xf4T\\\\xfe\\\\x939d\\\\xbf\\\\x04\\\\xad%\\\\x12\\\\x95\\\\xcfw\\\\xbf\\\\xeaf\\\\xe1\\\\x04\\\\xf8>r\\\\xbf\\\\xdf\\\\x97\\\\xa5?\\\\xfa\\\\x1cp?\\\\xac\\\\xca\\\\x8f\\\\xa4\\\\xf1jp\\\\xbfFX\\\\xcb\\\\t\\\\x12\\\\xb0s?\\\\xbc@\\\\xdf\\\\xca,\\\\xe8U?b\\\\xf3\\\\x8b\\\\xce\\\\\\\\\\\\xa9h?\\\\xa8\\\\xf5\\\\xef\\\\xb6\\\\xe3]p\\\\xbf\\\\xb3+]\\\\x97Z\\\\x80n\\\\xbfw\\\\x9e\\\\x1c\\\\x05\\\\x9c~m\\\\xbfM\\\\xf7\\\\xe2\\\\xb0\\\\xa8\\\\xadc?/\\\\x89\\\\xaa\\\\xe9\\\\xa2\\\\x1bq?\\\\x00\\\\x18Ny\\\\xda\\\\r!?1\\\\xbe!\\\\xda\\\\xb9\\\\xaea\\\\xbf`\\\\x0c\\\\xfc\\\\xf0\"\\\\xcf\\\\x0e\\\\xbfs\\\\xfc\\\\x0eh\\\\x05Sq?\\\\xc5{q\\\\xb0\\\\xee\\\\xc9p?T\\\\xa9 \\\\x1c\\\\x89xb?\\\\x86\\\\x7f7v$dx\\\\xbf2\\\\xa8[ij\\\\x8fm\\\\xbf\\\\xbck=\\\\xcc\\\\x1c^b\\\\xbf\\\\x04\\\\xbb=\\\\x1b\\\\x1e\\\\xe2m?\\\\xb7X\\\\x02\\\\x16\\\\x04\\\\x8fq?&z\\\\x0b\\\\\\\\\\\\xb4\\\\xafz\\\\xbfT\\\\xa8\\\\xb6\\\\xfe)\\\\\\'U\\\\xbfDQ\\\\xe5\\\\xf533v?\\\\xe8M\\\\xa0\\\\xc9\\\\x8a\\\\x1ch?2\\\\x9a\\\\xd0t\\\\x1a\\\\x12n?\\\\xf8P\\\\x85\\\\xac\\\\xcc\\\\x7fU\\\\xbf;F\\\\x1e\\\\xb6\\\\x03_T\\\\xbfN|\\\\xfc\\\\xb4\\\\xbcHw?[=\\\\xdeJM\\\\x1cl?\\\\xd0\\\\xac\\\\x8d(\\\\x02q3?\\\\xe8\\\\xbb\\\\tUI\\\\x16u?D0\\\\x11\\\\x14m\\\\x05W\\\\xbfS\\\\xe3T\\\\xe7apt\\\\xbf\\\\xa6H#RK\\\\xafr\\\\xbf2\\\\x85\\\\xa6:~mu?\\\\\\\\-\\\\x80\\\\x92vow?\\\\xfcM\\\\xd7\\\\x8d> Y?\\\\xc0\\\\x1a\\\\xfd5\\\\xfa\\\\xaf@?\\\\x9f\\\\x0cb\\\\x15\\\\xbe\\\\xffi?\\\\xba\\\\xde\\\\xe0\\\\xd9N#y?\\\\x08X\\\\xff\\\\x9be\\\\xd8s?\\\\xf1\\\\xcf^Hn%e\\\\xbfNr\\\\xb0\\\\xef\\\\x14\\\\xe9{?8\\\\x1b<\\\\xe47\\\\xf23\\\\xbf|\\\\x80\\\\xa0;o\\\\x0eH\\\\xbf\\\\xa4\\\\x02\\\\x16\\\\xcd\\\\xb9\\\\xdfQ\\\\xbf\"\\\\xd4\\\\xaf)\\\\xfesK?DE\\\\x9a\\\\x80}\\\\x0fg\\\\xbf\\\\xb6$\\\\x12\\\\xfbkKc?\\\\x18\\\\xb9>\\\\x9f\\\\x7f\\\\xd0u?\\\\xb2\\\\x15\\\\xc1\\\\x02;Ps?\\\\x10\\\\x0c\\\\\\\\\\\\x95\\\\x93t)?]\\\\xc5\\\\x13+\\\\xfdSb?rP1:+\\\\x0fl?\\\\x00\\\\xce\\\\x8f\\\\x0e.\\\\x80\\\\x1f\\\\xbfob;\\\\xe7\\\\xa4*q?\\\\xdb\\\\rD\\\\xc0\\\\x13\\\\xf0q?\\\\x07\\\\xa5g\\\\xffu}h\\\\xbfq\\\\x1cY9\\\\xc8\\\\xb7m\\\\xbf\\\\x14\\\\xa9\\\\xd4p\\\\x05\\\\xf5s\\\\xbf\\\\x80M\\\\xf9\\\\xbd\\\\x0b\\\\xbbc\\\\xbf\\\\x1ev\\\\xdc\\\\x02E\\\\xeeL\\\\xbfp\\\\x8e\\\\xab\\\\t\\\\xf8_[\\\\xbf-\\\\xd7\\\\xc5\\\\x19\\\\x8e\\\\xa2i\\\\xbfp\\\\x9a\\\\xc3]B\\\\xe1K\\\\xbf\\\\xb4\\\\x99\\\\x8b\\\\xdf\\\\xa3\\\\xc0M\\\\xbf\\\\xd0>6\\\\xb7n\\\\xc9r\\\\xbf\\\\x8e=\\\\x9f\\\\xa0\\\\xd6\\\\x81l\\\\xbf\\\\x1b.\\\\x86*r\\\\xabt\\\\xbf\\\\x1b\\\\xd8\\\\xef\\\\xa8T\\\\xe6r\\\\xbf\\\\xed\\\\x1f\\\\xe5\\\\x9e\\\\x89\\\\\\'w\\\\xbf\\\\x1a\\\\xafAN^\\\\x01l\\\\xbfr\\\\x17\\\\x1d\\\\x18Y\\\\x8ea?\\\\xd4l\\\\xc27\\\\xd6oq\\\\xbf \\\\xed\\\\xd7~\\\\x82\\\\xcfi\\\\xbf6\\\\x7f&\\\\xf7Y\\\\x0bP?&L\\\\x8f\\\\xb9\\\\x98jq?\\\\xf4v+Y\\\\x9a\\\\xfdq\\\\xbf\\\\xb1v\\\\xda\\\\x8dr\\\\xdd@?8Z\\\\x9f9\\\\xf1\\\\x16i\\\\xbf,\\\\x01\\\\x9d\\\\xa9\\\\x97\\\\x14s?\\\\\\'F5\\\\xe3+\\\\xd8d?\\\\xa0\\\\x8439\\\\xa8\\\\tt\\\\xbf\\\\x8a\\\\x08\\\\xb0K8TS\\\\xbf\\'\\np232\\ntp233\\nbsS\\'data\\'\\np234\\ng0\\n(cstatsmodels.base.data\\nPandasData\\np235\\ng2\\nNtp236\\nRp237\\n(dp238\\nS\\'const_idx\\'\\np239\\ng14\\n(g15\\n(I0\\ntp240\\ng17\\ntp241\\nRp242\\n(I1\\n(tg21\\n(S\\'i8\\'\\np243\\nI0\\nI1\\ntp244\\nRp245\\n(I3\\nS\\'<\\'\\np246\\nNNNI-1\\nI-1\\nI0\\ntp247\\nbI00\\nS\\'\\\\x00\\\\x00\\\\x00\\\\x00\\\\x00\\\\x00\\\\x00\\\\x00\\'\\np248\\ntp249\\nbsS\\'frame\\'\\np250\\ng0\\n(cpandas.core.frame\\nDataFrame\\np251\\ng2\\nNtp252\\nRp253\\n(dp254\\nS\\'_metadata\\'\\np255\\n(lp256\\nsS\\'_typ\\'\\np257\\nS\\'dataframe\\'\\np258\\nsS\\'_data\\'\\np259\\ng0\\n(cpandas.core.internals\\nBlockManager\\np260\\ng2\\nNtp261\\nRp262\\n((lp263\\ncpandas.core.index\\n_new_Index\\np264\\n(cpandas.core.index\\nIndex\\np265\\n(dp266\\ng234\\ng14\\n(g15\\n(I0\\ntp267\\ng17\\ntp268\\nRp269\\n(I1\\n(L3L\\ntp270\\ng21\\n(S\\'O8\\'\\np271\\nI0\\nI1\\ntp272\\nRp273\\n(I3\\nS\\'|\\'\\np274\\nNNNI-1\\nI-1\\nI63\\ntp275\\nbI00\\n(lp276\\nS\\'x1\\'\\np277\\naS\\'x2\\'\\np278\\naS\\'y\\'\\np279\\natp280\\nbsS\\'name\\'\\np281\\nNstp282\\nRp283\\nag264\\n(cpandas.core.index\\nInt64Index\\np284\\n(dp285\\ng234\\ng14\\n(g15\\n(I0\\ntp286\\ng17\\ntp287\\nRp288\\n(I1\\n(L50L\\ntp289\\ng245\\nI00\\nS\\'\\\\x00\\\\x00\\\\x00\\\\x00\\\\x00\\\\x00\\\\x00\\\\x00\\\\x01\\\\x00\\\\x00\\\\x00\\\\x00\\\\x00\\\\x00\\\\x00\\\\x02\\\\x00\\\\x00\\\\x00\\\\x00\\\\x00\\\\x00\\\\x00\\\\x03\\\\x00\\\\x00\\\\x00\\\\x00\\\\x00\\\\x00\\\\x00\\\\x04\\\\x00\\\\x00\\\\x00\\\\x00\\\\x00\\\\x00\\\\x00\\\\x05\\\\x00\\\\x00\\\\x00\\\\x00\\\\x00\\\\x00\\\\x00\\\\x06\\\\x00\\\\x00\\\\x00\\\\x00\\\\x00\\\\x00\\\\x00\\\\x07\\\\x00\\\\x00\\\\x00\\\\x00\\\\x00\\\\x00\\\\x00\\\\x08\\\\x00\\\\x00\\\\x00\\\\x00\\\\x00\\\\x00\\\\x00\\\\t\\\\x00\\\\x00\\\\x00\\\\x00\\\\x00\\\\x00\\\\x00\\\\n\\\\x00\\\\x00\\\\x00\\\\x00\\\\x00\\\\x00\\\\x00\\\\x0b\\\\x00\\\\x00\\\\x00\\\\x00\\\\x00\\\\x00\\\\x00\\\\x0c\\\\x00\\\\x00\\\\x00\\\\x00\\\\x00\\\\x00\\\\x00\\\\r\\\\x00\\\\x00\\\\x00\\\\x00\\\\x00\\\\x00\\\\x00\\\\x0e\\\\x00\\\\x00\\\\x00\\\\x00\\\\x00\\\\x00\\\\x00\\\\x0f\\\\x00\\\\x00\\\\x00\\\\x00\\\\x00\\\\x00\\\\x00\\\\x10\\\\x00\\\\x00\\\\x00\\\\x00\\\\x00\\\\x00\\\\x00\\\\x11\\\\x00\\\\x00\\\\x00\\\\x00\\\\x00\\\\x00\\\\x00\\\\x12\\\\x00\\\\x00\\\\x00\\\\x00\\\\x00\\\\x00\\\\x00\\\\x13\\\\x00\\\\x00\\\\x00\\\\x00\\\\x00\\\\x00\\\\x00\\\\x14\\\\x00\\\\x00\\\\x00\\\\x00\\\\x00\\\\x00\\\\x00\\\\x15\\\\x00\\\\x00\\\\x00\\\\x00\\\\x00\\\\x00\\\\x00\\\\x16\\\\x00\\\\x00\\\\x00\\\\x00\\\\x00\\\\x00\\\\x00\\\\x17\\\\x00\\\\x00\\\\x00\\\\x00\\\\x00\\\\x00\\\\x00\\\\x18\\\\x00\\\\x00\\\\x00\\\\x00\\\\x00\\\\x00\\\\x00\\\\x19\\\\x00\\\\x00\\\\x00\\\\x00\\\\x00\\\\x00\\\\x00\\\\x1a\\\\x00\\\\x00\\\\x00\\\\x00\\\\x00\\\\x00\\\\x00\\\\x1b\\\\x00\\\\x00\\\\x00\\\\x00\\\\x00\\\\x00\\\\x00\\\\x1c\\\\x00\\\\x00\\\\x00\\\\x00\\\\x00\\\\x00\\\\x00\\\\x1d\\\\x00\\\\x00\\\\x00\\\\x00\\\\x00\\\\x00\\\\x00\\\\x1e\\\\x00\\\\x00\\\\x00\\\\x00\\\\x00\\\\x00\\\\x00\\\\x1f\\\\x00\\\\x00\\\\x00\\\\x00\\\\x00\\\\x00\\\\x00 \\\\x00\\\\x00\\\\x00\\\\x00\\\\x00\\\\x00\\\\x00!\\\\x00\\\\x00\\\\x00\\\\x00\\\\x00\\\\x00\\\\x00\"\\\\x00\\\\x00\\\\x00\\\\x00\\\\x00\\\\x00\\\\x00#\\\\x00\\\\x00\\\\x00\\\\x00\\\\x00\\\\x00\\\\x00$\\\\x00\\\\x00\\\\x00\\\\x00\\\\x00\\\\x00\\\\x00%\\\\x00\\\\x00\\\\x00\\\\x00\\\\x00\\\\x00\\\\x00&\\\\x00\\\\x00\\\\x00\\\\x00\\\\x00\\\\x00\\\\x00\\\\\\'\\\\x00\\\\x00\\\\x00\\\\x00\\\\x00\\\\x00\\\\x00(\\\\x00\\\\x00\\\\x00\\\\x00\\\\x00\\\\x00\\\\x00)\\\\x00\\\\x00\\\\x00\\\\x00\\\\x00\\\\x00\\\\x00*\\\\x00\\\\x00\\\\x00\\\\x00\\\\x00\\\\x00\\\\x00+\\\\x00\\\\x00\\\\x00\\\\x00\\\\x00\\\\x00\\\\x00,\\\\x00\\\\x00\\\\x00\\\\x00\\\\x00\\\\x00\\\\x00-\\\\x00\\\\x00\\\\x00\\\\x00\\\\x00\\\\x00\\\\x00.\\\\x00\\\\x00\\\\x00\\\\x00\\\\x00\\\\x00\\\\x00/\\\\x00\\\\x00\\\\x00\\\\x00\\\\x00\\\\x00\\\\x000\\\\x00\\\\x00\\\\x00\\\\x00\\\\x00\\\\x00\\\\x001\\\\x00\\\\x00\\\\x00\\\\x00\\\\x00\\\\x00\\\\x00\\'\\np290\\ntp291\\nbsg281\\nNstp292\\nRp293\\na(lp294\\ng14\\n(g15\\n(I0\\ntp295\\ng17\\ntp296\\nRp297\\n(I1\\n(L3L\\nL50L\\ntp298\\ng24\\nI00\\nS\\'\\\\xe9\\\\xb9\\\\xa0\\\\x1a\\\\x16<)@\\\\x07\\\\xdd]D\\\\xc0\\\\xcd\\\\\\'@\\\\x04\\\\xe2\\\\x89,\\\\xeb\\\\x0c)@\\\\x94\\\\xd9\\\\x91\\\\xeb\\\\x18\\\\x1d\\\\x14@8X\\\\x0c\\\\xf6\\\\x03\\\\xbd\\\\x0f@\\\\x0e\\\\x10\\\\x8b\\\\\\'d\\\\xae0@p\\\\xb6x\\\\xf5\\\\x8e\\\\x85\\\\x0f@\\\\xd0\\\\xb1.\\\\xb3\\\\x01V\\\\x05@<\\\\xfb@\\\\xf3n\\\\xbc/@v\\\\x06P8v\\\\xa6%@Z][\\\\x9d2o)@,^\\\\xd1\\\\xf1\\\\x8b9\\\\\\'@\\\\xe8\\\\x91\\\\xc9\\\\xc0\\\\x8e_\\\\x1a@p$V\\\\xc0\\\\xad4\\\\xfd?X\\\\x13K\\\\x95*/\\\\x0b@\\\\xa5\\\\xd3\\\\x96\\\\xb15\\\\xf0/@\\\\x10\\\\t\\\\xfbcv\\\\xcb\\\\x0e@#L!\\\\x82\\\\x8c\\\\xd01@\\\\xfa\\\\xfbg\\\\xd8q\\\\x95(@p\\\\xf0\\\\xaa\\\\xe0F{-@*\\\\xf5\\\\rM\\\\x93b\\\\x11@Jj!\\\\xe68Z\\\\x11@\\\\xcab#i-\\\\x08\\\\x12@\\\\xb3lH\\\\xa7/\\\\xe2,@X\\\\xb9\\\\x99\\\\xa4\\\\xf491@;\\\\xb6\\\\x80SmI&@xwm\\\\xd8o\\\\x8f\\\\x1d@\\\\xc4\\\\x8ec\\\\x97E\\\\xeb$@/l\\\\x05d0\\\\x1d1@n\\\\xc3&{\\\\xc1\\\\x0e1@j\\\\xcc>\\\\xc6<\\\\x02,@\\\\x00\\\\xb0!\\\\xbf\\\\xce\\\\xb6\\\\xf6?8\\\\x01k\\\\xdc\\\\xdd\\\\x86\\\\x15@tW\\\\xf54\\\\x83x\\\\x1d@\\\\xa6\\\\x9e\\\\x10U3\\\\x8e0@\\\\xf1\\\\xbf\\\\xd8\\\\xc6\\\\x1c~1@\\\\xc0\\\\xb1(\\\\xbb\\\\x7fw\\\\xf0?\\\\x04\\\\xe3\\\\xea\\\\x9d\\\\xf1\\\\xa3!@\\\\xd5\\\\x8f\\\\xa7\\\\x11\\\\x0c\\\\x902@N\\\\x0e\\\\xf4\\\\xd3<\\\\xcb.@\\\\xc7\\\\x8f\\\\xa4\\\\xb3:g0@\\\\x99\\\\xb8tg\\\\xd6\\\\xb4 @\\\\x13[\\\\xac PE @\\\\xf1\\\\xd9\\\\xc4\\\\x0bJ\\\\x9d3@;\\\\xabH\\\\xaf\\\\x1fY/@\\\\xb8\\\\xea\\\\xb5\\\\xf0\\\\xa2p&@\\\\xe4\\\\xe2$]\\\\xbd\\\\xe51@l\\\\x8eC\\\\x0c\\\\xb4\\\\x1c @\\\\xa8WW.DX\\\\n@x\\\\xff\\\\xa4]$\\\\xaa\\\\x0c@F\\\\x06\\\\x9c\\\\x06\\\\xe7\\\\x9c1@\\\\xc2\\\\xd7\\\\x10\\\\xe0so2@\\\\xecKMN\\\\x1b\\\\x86\\\\\\'@\\\\xd7\\\\x0e\\\\xb0\\\\x90\\\\xc5>%@\\\\xd5?<\\\\x1a\\\\x83\\\\xd2-@_\\\\x91\\\\xc4\\\\xf5&\\\\xc92@\\\\xc7\\\\x86\\\\xf7\\\\x91c\\\\x8f1@\\\\xc2\\\\x14<\\\\x11\\\\xbc\\\\x84\\\\x17@\\\\n\\\\x86\\\\x00~\\\\x07\\\\xe93@l\\\\x05\\\\x18\\\\x91\\\\xbb\\\\xeb!@\\\\xe3\\\\xa8\\\\xf4\\\\\\\\\\\\xc6P @\\\\xa6\\\\x9a\\\\x87P\\\\xc2\\\\xa7\\\\x1e@\\\\xca\\\\xa8\\\\xadh\\\\x93\\\\x15&@\\\\xc2\\\\xf4\\\\x9e\\\\x92CA\\\\x16@\\\\xd6\\\\x8c\\\\xa7F\\\\x9bM+@\\\\xeaW\\\\t\\\\xba\\\\xe5\\\\x8b1@\\\\x8d\\\\xb8~\\\\xc6;\\\\\\\\1@Zp\\\\x19\\\\xa4s\\\\x99\"@^nrz\\\\x82\\\\xc8)@\\\\xda_\\\\x01%\\\\t;-@\\\\n\\\\x16\\\\xbf\\\\x1c\\\\xd8V#@c\\\\xf8,\\\\xa5\\\\xa6\\\\x7f0@Li\\\\x15\\\\xc01\\\\xc90@R\\\\x9e\\\\x9e\\\\x1a\\\\xc6\\\\xe5\\\\x11@p\\\\xd3\\\\xaa\\\\xb8\\\\x02F\\\\n@@A\\\\n\\\\xe4\\\\x91F\\\\xfb?*\\\\x95u\\\\xe0[e\\\\x17@\\\\x86\\\\x84\\\\xc12\\\\xa0\" @\\\\xbc\\\\xaf!r9\\\\x90\\\\x19@\\\\xc0\\\\\\\\8\\\\xf8\\\\x7fV\\\\x10@\\\\xa2\\\\x00E\\\\x01^\\\\x8f\\\\x1f@f\\\\x8aT\\\\xeb\\\\x858!@\\\\x90\\\\xe4\\\\xb0\\\\x93h:\\\\x04@\\\\xd4\\\\xb7\\\\x9f\\\\xd24\\\\x9d\\\\x10@P,\\\\x1bg\\\\x81I\\\\xf1?`\\\\xff=j\\\\x9dE\\\\xfb?\\\\xa0\\\\x82\\\\xb1\\\\xd1\\\\xc9\\\\xeb\\\\xf1?\\\\xf0\\\\xe5\\\\xf4\\\\x1a\\\\xb9\\\\xa0\\\\x10@\\\\xcf\\\\xd1\\\\x1484\\\\xad(@\\\\xd8\\\\xe8\\\\xb3~\\\\xde=\\\\x03@t\\\\xd5mL\\\\xe9^\\\\x10@\\\\xefm5\\\\xfe<N&@\\\\xc6\\\\x98\\\\x9f6\\\\xbeY0@\\\\xb0MZ\\\\x8a\\\\x84\\\\xb5\\\\xfe?\\\\xe2K`\\\\x05\\\\xf5\\\\xe3#@\\\\xe6\\\\x83\\\\xbc/\\\\xa7C\\\\x12@\\\\x94Zu8q]0@*RumZM+@\\\\xd8\\\\xb0\\\\x91\\\\x9cgo\\\\x01@\\\\xdf\\\\x1b\\\\xba\\\\x1c\\\\xc1\\\\x14 @\\\\x95\\\\xdf5\\\\x0eZ\\\\xd7H@\\\\x8fu\\\\\\\\`\\\\xd9\\\\x0cI@#\\\\xcf\\\\xff\\\\x9f\\\\x92\\\\x19C@\\\\xf4\\\\x9e1\\\\x88\\\\x89\\\\xf5;@\\\\xdf\\\\x11\\\\xa8c\\\\xe1\\\\x10B@$i\\\\xc7\\\\xe5w8L@$\\\\xb6\\\\xb1l\\\\x15FD@h\\\\xce\\\\x8aw}\\\\r0@Z\\\\xbe\\\\xff>\\\\xbc4M@u\\\\x83\\\\xb8;\\\\xde\\\\xa0>@a\\\\x1eM-B\\\\x03@@\\\\xf7\\\\xaf\\\\xf7\\\\xae\\\\xc7\\\\xc1<@,\\\\xa3\\\\xd1\\\\xfc#S>@\\\\xce\\\\xa49\\\\x9f|h.@\\\\x93\\\\xc0\\\\x92\\\\xd5\"\\\\x06@@O\"\\\\x01\\\\x82\\\\x95\\\\xb1J@{\\\\xf9X\\\\xb6K\\\\x1aD@@g\\\\xf0v\\\\xd8MC@\\\\xc8\\\\xce^m\\\\xa3\\\\xe7C@\\\\xd7\\\\xb8N\\\\rn\\\\xa2F@\\\\xf0W\\\\x93\\\\xdau\\\\xa7:@)\\\\xc5h\\\\xed\\\\xa4\\\\x94C@\\\\xb2W\\\\xad\\\\xa7rpD@\\\\x15\\\\xa3\\\\x8e\\\\xe0\\\\xe6\\\\xf08@\\\\x9c\\\\xd6:\\\\x17Hv:@\\\\xd1\\\\xb1\\\\xfe\\\\xa7\\\\x15\\\\x081@]\\\\xb5&p\\\\xab\\\\x9b4@\\\\xd5J\\\\xeb\\\\x96(\\\\xe3<@\\\\xaf\\\\xe2\\\\xc5Z\\\\x1bz?@\\\\x0c\\\\x16-F\\\\x17c;@\\\\xf0\\\\x8dt\\\\xa7\\\\x12\\\\x1e@@\\\\xecy\\\\x06\\\\xbb\\\\xc5\\\\\\\\4@f\\\\xec\\\\xb3(\\\\xe3\\\\x1a*@\\\\x8e\\\\xe5\\\\xcf\\\\xb7(\\\\x992@`J\\\\x1dT\\\\xdbk4@\\\\x9d\\\\x84\\\\x15\\\\xcf\\\\x89\\\\xda7@\\\\x18\\\\xda\\\\xb9D\\\\x01\\\\xf2\\\\x18@a\\\\xb7\\\\x8d\\\\xe2hZ2@xp\\\\x1d\\\\xb6\\\\xa9\\\\xdaF@\\\\xe4\\\\x1e\\\\xee\\\\xb6\\\\x0075@-,\\\\x1c\\\\x1a\\\\x80\\\\x0e;@\\\\xeb\\\\x81E?[\\\\x1b@@\\\\xb9\\\\xf6R\\\\x81/cE@\\\\xa0(\\\\xb2\\\\xdbKL9@<\\\\xf4\\\\x97q\\\\x95]B@\\\\x87L\\\\x8a\\\\x95{K7@\\\\xf8\\\\xf4\\\\xa69\\\\xc2\\\\xfbI@\\\\x16p\\\\x93\\\\x8b\\\\x03XB@\\\\xd2\\\\xf7\\\\x92\\\\xf3w\\\\xcd#@\\\\xf4\\\\xf9m\\\\xd1M\\\\x906@\\'\\np299\\ntp300\\nba(lp301\\ng264\\n(g265\\n(dp302\\ng234\\ng14\\n(g15\\n(I0\\ntp303\\ng17\\ntp304\\nRp305\\n(I1\\n(L3L\\ntp306\\ng273\\nI00\\n(lp307\\ng277\\nag278\\nag279\\natp308\\nbsg281\\nNstp309\\nRp310\\na(dp311\\nS\\'0.14.1\\'\\np312\\n(dp313\\nS\\'axes\\'\\np314\\ng263\\nsS\\'blocks\\'\\np315\\n(lp316\\n(dp317\\nS\\'mgr_locs\\'\\np318\\nc__builtin__\\nslice\\np319\\n(I0\\nI3\\nL1L\\ntp320\\nRp321\\nsS\\'values\\'\\np322\\ng297\\nsasstp323\\nbsbsg189\\ng192\\nsS\\'missing_row_idx\\'\\np324\\n(lp325\\nsg72\\ng0\\n(g73\\ng74\\n(dp326\\nS\\'ynames\\'\\np327\\ng279\\nsS\\'xnames\\'\\np328\\n(lp329\\nS\\'Intercept\\'\\np330\\naS\\'x1\\'\\np331\\naS\\'x2\\'\\np332\\nastp333\\nRp334\\n(dp335\\ng168\\n(dp336\\nsbsg71\\nI1\\nsg199\\ng218\\nsS\\'orig_exog\\'\\np337\\ng0\\n(g251\\ng2\\nNtp338\\nRp339\\n(dp340\\ng255\\ng256\\nsg257\\ng258\\nsg259\\ng0\\n(g260\\ng2\\nNtp341\\nRp342\\n((lp343\\ng264\\n(g265\\n(dp344\\ng234\\ng14\\n(g15\\n(I0\\ntp345\\ng17\\ntp346\\nRp347\\n(I1\\n(L3L\\ntp348\\ng273\\nI00\\n(lp349\\ng330\\nag331\\nag332\\natp350\\nbsg281\\nNstp351\\nRp352\\nag264\\n(g284\\n(dp353\\ng234\\ng14\\n(g15\\n(I0\\ntp354\\ng17\\ntp355\\nRp356\\n(I1\\n(L50L\\ntp357\\ng245\\nI00\\nS\\'\\\\x00\\\\x00\\\\x00\\\\x00\\\\x00\\\\x00\\\\x00\\\\x00\\\\x01\\\\x00\\\\x00\\\\x00\\\\x00\\\\x00\\\\x00\\\\x00\\\\x02\\\\x00\\\\x00\\\\x00\\\\x00\\\\x00\\\\x00\\\\x00\\\\x03\\\\x00\\\\x00\\\\x00\\\\x00\\\\x00\\\\x00\\\\x00\\\\x04\\\\x00\\\\x00\\\\x00\\\\x00\\\\x00\\\\x00\\\\x00\\\\x05\\\\x00\\\\x00\\\\x00\\\\x00\\\\x00\\\\x00\\\\x00\\\\x06\\\\x00\\\\x00\\\\x00\\\\x00\\\\x00\\\\x00\\\\x00\\\\x07\\\\x00\\\\x00\\\\x00\\\\x00\\\\x00\\\\x00\\\\x00\\\\x08\\\\x00\\\\x00\\\\x00\\\\x00\\\\x00\\\\x00\\\\x00\\\\t\\\\x00\\\\x00\\\\x00\\\\x00\\\\x00\\\\x00\\\\x00\\\\n\\\\x00\\\\x00\\\\x00\\\\x00\\\\x00\\\\x00\\\\x00\\\\x0b\\\\x00\\\\x00\\\\x00\\\\x00\\\\x00\\\\x00\\\\x00\\\\x0c\\\\x00\\\\x00\\\\x00\\\\x00\\\\x00\\\\x00\\\\x00\\\\r\\\\x00\\\\x00\\\\x00\\\\x00\\\\x00\\\\x00\\\\x00\\\\x0e\\\\x00\\\\x00\\\\x00\\\\x00\\\\x00\\\\x00\\\\x00\\\\x0f\\\\x00\\\\x00\\\\x00\\\\x00\\\\x00\\\\x00\\\\x00\\\\x10\\\\x00\\\\x00\\\\x00\\\\x00\\\\x00\\\\x00\\\\x00\\\\x11\\\\x00\\\\x00\\\\x00\\\\x00\\\\x00\\\\x00\\\\x00\\\\x12\\\\x00\\\\x00\\\\x00\\\\x00\\\\x00\\\\x00\\\\x00\\\\x13\\\\x00\\\\x00\\\\x00\\\\x00\\\\x00\\\\x00\\\\x00\\\\x14\\\\x00\\\\x00\\\\x00\\\\x00\\\\x00\\\\x00\\\\x00\\\\x15\\\\x00\\\\x00\\\\x00\\\\x00\\\\x00\\\\x00\\\\x00\\\\x16\\\\x00\\\\x00\\\\x00\\\\x00\\\\x00\\\\x00\\\\x00\\\\x17\\\\x00\\\\x00\\\\x00\\\\x00\\\\x00\\\\x00\\\\x00\\\\x18\\\\x00\\\\x00\\\\x00\\\\x00\\\\x00\\\\x00\\\\x00\\\\x19\\\\x00\\\\x00\\\\x00\\\\x00\\\\x00\\\\x00\\\\x00\\\\x1a\\\\x00\\\\x00\\\\x00\\\\x00\\\\x00\\\\x00\\\\x00\\\\x1b\\\\x00\\\\x00\\\\x00\\\\x00\\\\x00\\\\x00\\\\x00\\\\x1c\\\\x00\\\\x00\\\\x00\\\\x00\\\\x00\\\\x00\\\\x00\\\\x1d\\\\x00\\\\x00\\\\x00\\\\x00\\\\x00\\\\x00\\\\x00\\\\x1e\\\\x00\\\\x00\\\\x00\\\\x00\\\\x00\\\\x00\\\\x00\\\\x1f\\\\x00\\\\x00\\\\x00\\\\x00\\\\x00\\\\x00\\\\x00 \\\\x00\\\\x00\\\\x00\\\\x00\\\\x00\\\\x00\\\\x00!\\\\x00\\\\x00\\\\x00\\\\x00\\\\x00\\\\x00\\\\x00\"\\\\x00\\\\x00\\\\x00\\\\x00\\\\x00\\\\x00\\\\x00#\\\\x00\\\\x00\\\\x00\\\\x00\\\\x00\\\\x00\\\\x00$\\\\x00\\\\x00\\\\x00\\\\x00\\\\x00\\\\x00\\\\x00%\\\\x00\\\\x00\\\\x00\\\\x00\\\\x00\\\\x00\\\\x00&\\\\x00\\\\x00\\\\x00\\\\x00\\\\x00\\\\x00\\\\x00\\\\\\'\\\\x00\\\\x00\\\\x00\\\\x00\\\\x00\\\\x00\\\\x00(\\\\x00\\\\x00\\\\x00\\\\x00\\\\x00\\\\x00\\\\x00)\\\\x00\\\\x00\\\\x00\\\\x00\\\\x00\\\\x00\\\\x00*\\\\x00\\\\x00\\\\x00\\\\x00\\\\x00\\\\x00\\\\x00+\\\\x00\\\\x00\\\\x00\\\\x00\\\\x00\\\\x00\\\\x00,\\\\x00\\\\x00\\\\x00\\\\x00\\\\x00\\\\x00\\\\x00-\\\\x00\\\\x00\\\\x00\\\\x00\\\\x00\\\\x00\\\\x00.\\\\x00\\\\x00\\\\x00\\\\x00\\\\x00\\\\x00\\\\x00/\\\\x00\\\\x00\\\\x00\\\\x00\\\\x00\\\\x00\\\\x000\\\\x00\\\\x00\\\\x00\\\\x00\\\\x00\\\\x00\\\\x001\\\\x00\\\\x00\\\\x00\\\\x00\\\\x00\\\\x00\\\\x00\\'\\np358\\ntp359\\nbsg281\\nNstp360\\nRp361\\na(lp362\\ng14\\n(g15\\n(I0\\ntp363\\ng17\\ntp364\\nRp365\\n(I1\\n(L3L\\nL50L\\ntp366\\ng24\\nI01\\nS\\'\\\\x00\\\\x00\\\\x00\\\\x00\\\\x00\\\\x00\\\\xf0?\\\\xe9\\\\xb9\\\\xa0\\\\x1a\\\\x16<)@F\\\\x06\\\\x9c\\\\x06\\\\xe7\\\\x9c1@\\\\x00\\\\x00\\\\x00\\\\x00\\\\x00\\\\x00\\\\xf0?\\\\x07\\\\xdd]D\\\\xc0\\\\xcd\\\\\\'@\\\\xc2\\\\xd7\\\\x10\\\\xe0so2@\\\\x00\\\\x00\\\\x00\\\\x00\\\\x00\\\\x00\\\\xf0?\\\\x04\\\\xe2\\\\x89,\\\\xeb\\\\x0c)@\\\\xecKMN\\\\x1b\\\\x86\\\\\\'@\\\\x00\\\\x00\\\\x00\\\\x00\\\\x00\\\\x00\\\\xf0?\\\\x94\\\\xd9\\\\x91\\\\xeb\\\\x18\\\\x1d\\\\x14@\\\\xd7\\\\x0e\\\\xb0\\\\x90\\\\xc5>%@\\\\x00\\\\x00\\\\x00\\\\x00\\\\x00\\\\x00\\\\xf0?8X\\\\x0c\\\\xf6\\\\x03\\\\xbd\\\\x0f@\\\\xd5?<\\\\x1a\\\\x83\\\\xd2-@\\\\x00\\\\x00\\\\x00\\\\x00\\\\x00\\\\x00\\\\xf0?\\\\x0e\\\\x10\\\\x8b\\\\\\'d\\\\xae0@_\\\\x91\\\\xc4\\\\xf5&\\\\xc92@\\\\x00\\\\x00\\\\x00\\\\x00\\\\x00\\\\x00\\\\xf0?p\\\\xb6x\\\\xf5\\\\x8e\\\\x85\\\\x0f@\\\\xc7\\\\x86\\\\xf7\\\\x91c\\\\x8f1@\\\\x00\\\\x00\\\\x00\\\\x00\\\\x00\\\\x00\\\\xf0?\\\\xd0\\\\xb1.\\\\xb3\\\\x01V\\\\x05@\\\\xc2\\\\x14<\\\\x11\\\\xbc\\\\x84\\\\x17@\\\\x00\\\\x00\\\\x00\\\\x00\\\\x00\\\\x00\\\\xf0?<\\\\xfb@\\\\xf3n\\\\xbc/@\\\\n\\\\x86\\\\x00~\\\\x07\\\\xe93@\\\\x00\\\\x00\\\\x00\\\\x00\\\\x00\\\\x00\\\\xf0?v\\\\x06P8v\\\\xa6%@l\\\\x05\\\\x18\\\\x91\\\\xbb\\\\xeb!@\\\\x00\\\\x00\\\\x00\\\\x00\\\\x00\\\\x00\\\\xf0?Z][\\\\x9d2o)@\\\\xe3\\\\xa8\\\\xf4\\\\\\\\\\\\xc6P @\\\\x00\\\\x00\\\\x00\\\\x00\\\\x00\\\\x00\\\\xf0?,^\\\\xd1\\\\xf1\\\\x8b9\\\\\\'@\\\\xa6\\\\x9a\\\\x87P\\\\xc2\\\\xa7\\\\x1e@\\\\x00\\\\x00\\\\x00\\\\x00\\\\x00\\\\x00\\\\xf0?\\\\xe8\\\\x91\\\\xc9\\\\xc0\\\\x8e_\\\\x1a@\\\\xca\\\\xa8\\\\xadh\\\\x93\\\\x15&@\\\\x00\\\\x00\\\\x00\\\\x00\\\\x00\\\\x00\\\\xf0?p$V\\\\xc0\\\\xad4\\\\xfd?\\\\xc2\\\\xf4\\\\x9e\\\\x92CA\\\\x16@\\\\x00\\\\x00\\\\x00\\\\x00\\\\x00\\\\x00\\\\xf0?X\\\\x13K\\\\x95*/\\\\x0b@\\\\xd6\\\\x8c\\\\xa7F\\\\x9bM+@\\\\x00\\\\x00\\\\x00\\\\x00\\\\x00\\\\x00\\\\xf0?\\\\xa5\\\\xd3\\\\x96\\\\xb15\\\\xf0/@\\\\xeaW\\\\t\\\\xba\\\\xe5\\\\x8b1@\\\\x00\\\\x00\\\\x00\\\\x00\\\\x00\\\\x00\\\\xf0?\\\\x10\\\\t\\\\xfbcv\\\\xcb\\\\x0e@\\\\x8d\\\\xb8~\\\\xc6;\\\\\\\\1@\\\\x00\\\\x00\\\\x00\\\\x00\\\\x00\\\\x00\\\\xf0?#L!\\\\x82\\\\x8c\\\\xd01@Zp\\\\x19\\\\xa4s\\\\x99\"@\\\\x00\\\\x00\\\\x00\\\\x00\\\\x00\\\\x00\\\\xf0?\\\\xfa\\\\xfbg\\\\xd8q\\\\x95(@^nrz\\\\x82\\\\xc8)@\\\\x00\\\\x00\\\\x00\\\\x00\\\\x00\\\\x00\\\\xf0?p\\\\xf0\\\\xaa\\\\xe0F{-@\\\\xda_\\\\x01%\\\\t;-@\\\\x00\\\\x00\\\\x00\\\\x00\\\\x00\\\\x00\\\\xf0?*\\\\xf5\\\\rM\\\\x93b\\\\x11@\\\\n\\\\x16\\\\xbf\\\\x1c\\\\xd8V#@\\\\x00\\\\x00\\\\x00\\\\x00\\\\x00\\\\x00\\\\xf0?Jj!\\\\xe68Z\\\\x11@c\\\\xf8,\\\\xa5\\\\xa6\\\\x7f0@\\\\x00\\\\x00\\\\x00\\\\x00\\\\x00\\\\x00\\\\xf0?\\\\xcab#i-\\\\x08\\\\x12@Li\\\\x15\\\\xc01\\\\xc90@\\\\x00\\\\x00\\\\x00\\\\x00\\\\x00\\\\x00\\\\xf0?\\\\xb3lH\\\\xa7/\\\\xe2,@R\\\\x9e\\\\x9e\\\\x1a\\\\xc6\\\\xe5\\\\x11@\\\\x00\\\\x00\\\\x00\\\\x00\\\\x00\\\\x00\\\\xf0?X\\\\xb9\\\\x99\\\\xa4\\\\xf491@p\\\\xd3\\\\xaa\\\\xb8\\\\x02F\\\\n@\\\\x00\\\\x00\\\\x00\\\\x00\\\\x00\\\\x00\\\\xf0?;\\\\xb6\\\\x80SmI&@@A\\\\n\\\\xe4\\\\x91F\\\\xfb?\\\\x00\\\\x00\\\\x00\\\\x00\\\\x00\\\\x00\\\\xf0?xwm\\\\xd8o\\\\x8f\\\\x1d@*\\\\x95u\\\\xe0[e\\\\x17@\\\\x00\\\\x00\\\\x00\\\\x00\\\\x00\\\\x00\\\\xf0?\\\\xc4\\\\x8ec\\\\x97E\\\\xeb$@\\\\x86\\\\x84\\\\xc12\\\\xa0\" @\\\\x00\\\\x00\\\\x00\\\\x00\\\\x00\\\\x00\\\\xf0?/l\\\\x05d0\\\\x1d1@\\\\xbc\\\\xaf!r9\\\\x90\\\\x19@\\\\x00\\\\x00\\\\x00\\\\x00\\\\x00\\\\x00\\\\xf0?n\\\\xc3&{\\\\xc1\\\\x0e1@\\\\xc0\\\\\\\\8\\\\xf8\\\\x7fV\\\\x10@\\\\x00\\\\x00\\\\x00\\\\x00\\\\x00\\\\x00\\\\xf0?j\\\\xcc>\\\\xc6<\\\\x02,@\\\\xa2\\\\x00E\\\\x01^\\\\x8f\\\\x1f@\\\\x00\\\\x00\\\\x00\\\\x00\\\\x00\\\\x00\\\\xf0?\\\\x00\\\\xb0!\\\\xbf\\\\xce\\\\xb6\\\\xf6?f\\\\x8aT\\\\xeb\\\\x858!@\\\\x00\\\\x00\\\\x00\\\\x00\\\\x00\\\\x00\\\\xf0?8\\\\x01k\\\\xdc\\\\xdd\\\\x86\\\\x15@\\\\x90\\\\xe4\\\\xb0\\\\x93h:\\\\x04@\\\\x00\\\\x00\\\\x00\\\\x00\\\\x00\\\\x00\\\\xf0?tW\\\\xf54\\\\x83x\\\\x1d@\\\\xd4\\\\xb7\\\\x9f\\\\xd24\\\\x9d\\\\x10@\\\\x00\\\\x00\\\\x00\\\\x00\\\\x00\\\\x00\\\\xf0?\\\\xa6\\\\x9e\\\\x10U3\\\\x8e0@P,\\\\x1bg\\\\x81I\\\\xf1?\\\\x00\\\\x00\\\\x00\\\\x00\\\\x00\\\\x00\\\\xf0?\\\\xf1\\\\xbf\\\\xd8\\\\xc6\\\\x1c~1@`\\\\xff=j\\\\x9dE\\\\xfb?\\\\x00\\\\x00\\\\x00\\\\x00\\\\x00\\\\x00\\\\xf0?\\\\xc0\\\\xb1(\\\\xbb\\\\x7fw\\\\xf0?\\\\xa0\\\\x82\\\\xb1\\\\xd1\\\\xc9\\\\xeb\\\\xf1?\\\\x00\\\\x00\\\\x00\\\\x00\\\\x00\\\\x00\\\\xf0?\\\\x04\\\\xe3\\\\xea\\\\x9d\\\\xf1\\\\xa3!@\\\\xf0\\\\xe5\\\\xf4\\\\x1a\\\\xb9\\\\xa0\\\\x10@\\\\x00\\\\x00\\\\x00\\\\x00\\\\x00\\\\x00\\\\xf0?\\\\xd5\\\\x8f\\\\xa7\\\\x11\\\\x0c\\\\x902@\\\\xcf\\\\xd1\\\\x1484\\\\xad(@\\\\x00\\\\x00\\\\x00\\\\x00\\\\x00\\\\x00\\\\xf0?N\\\\x0e\\\\xf4\\\\xd3<\\\\xcb.@\\\\xd8\\\\xe8\\\\xb3~\\\\xde=\\\\x03@\\\\x00\\\\x00\\\\x00\\\\x00\\\\x00\\\\x00\\\\xf0?\\\\xc7\\\\x8f\\\\xa4\\\\xb3:g0@t\\\\xd5mL\\\\xe9^\\\\x10@\\\\x00\\\\x00\\\\x00\\\\x00\\\\x00\\\\x00\\\\xf0?\\\\x99\\\\xb8tg\\\\xd6\\\\xb4 @\\\\xefm5\\\\xfe<N&@\\\\x00\\\\x00\\\\x00\\\\x00\\\\x00\\\\x00\\\\xf0?\\\\x13[\\\\xac PE @\\\\xc6\\\\x98\\\\x9f6\\\\xbeY0@\\\\x00\\\\x00\\\\x00\\\\x00\\\\x00\\\\x00\\\\xf0?\\\\xf1\\\\xd9\\\\xc4\\\\x0bJ\\\\x9d3@\\\\xb0MZ\\\\x8a\\\\x84\\\\xb5\\\\xfe?\\\\x00\\\\x00\\\\x00\\\\x00\\\\x00\\\\x00\\\\xf0?;\\\\xabH\\\\xaf\\\\x1fY/@\\\\xe2K`\\\\x05\\\\xf5\\\\xe3#@\\\\x00\\\\x00\\\\x00\\\\x00\\\\x00\\\\x00\\\\xf0?\\\\xb8\\\\xea\\\\xb5\\\\xf0\\\\xa2p&@\\\\xe6\\\\x83\\\\xbc/\\\\xa7C\\\\x12@\\\\x00\\\\x00\\\\x00\\\\x00\\\\x00\\\\x00\\\\xf0?\\\\xe4\\\\xe2$]\\\\xbd\\\\xe51@\\\\x94Zu8q]0@\\\\x00\\\\x00\\\\x00\\\\x00\\\\x00\\\\x00\\\\xf0?l\\\\x8eC\\\\x0c\\\\xb4\\\\x1c @*RumZM+@\\\\x00\\\\x00\\\\x00\\\\x00\\\\x00\\\\x00\\\\xf0?\\\\xa8WW.DX\\\\n@\\\\xd8\\\\xb0\\\\x91\\\\x9cgo\\\\x01@\\\\x00\\\\x00\\\\x00\\\\x00\\\\x00\\\\x00\\\\xf0?x\\\\xff\\\\xa4]$\\\\xaa\\\\x0c@\\\\xdf\\\\x1b\\\\xba\\\\x1c\\\\xc1\\\\x14 @\\'\\np367\\ntp368\\nba(lp369\\ng264\\n(g265\\n(dp370\\ng234\\ng14\\n(g15\\n(I0\\ntp371\\ng17\\ntp372\\nRp373\\n(I1\\n(L3L\\ntp374\\ng273\\nI00\\n(lp375\\ng330\\nag331\\nag332\\natp376\\nbsg281\\nNstp377\\nRp378\\na(dp379\\ng312\\n(dp380\\ng314\\ng343\\nsg315\\n(lp381\\n(dp382\\ng318\\ng319\\n(I0\\nI3\\nI1\\ntp383\\nRp384\\nsg322\\ng365\\nsasstp385\\nbsbsS\\'orig_endog\\'\\np386\\ng0\\n(g251\\ng2\\nNtp387\\nRp388\\n(dp389\\ng255\\ng256\\nsg257\\ng258\\nsg259\\ng0\\n(g260\\ng2\\nNtp390\\nRp391\\n((lp392\\ng264\\n(g265\\n(dp393\\ng234\\ng14\\n(g15\\n(I0\\ntp394\\ng17\\ntp395\\nRp396\\n(I1\\n(L1L\\ntp397\\ng273\\nI00\\n(lp398\\ng279\\natp399\\nbsg281\\nNstp400\\nRp401\\nag361\\na(lp402\\ng14\\n(g15\\n(I0\\ntp403\\ng17\\ntp404\\nRp405\\n(I1\\n(L1L\\nL50L\\ntp406\\ng24\\nI01\\nS\\'\\\\x95\\\\xdf5\\\\x0eZ\\\\xd7H@\\\\x8fu\\\\\\\\`\\\\xd9\\\\x0cI@#\\\\xcf\\\\xff\\\\x9f\\\\x92\\\\x19C@\\\\xf4\\\\x9e1\\\\x88\\\\x89\\\\xf5;@\\\\xdf\\\\x11\\\\xa8c\\\\xe1\\\\x10B@$i\\\\xc7\\\\xe5w8L@$\\\\xb6\\\\xb1l\\\\x15FD@h\\\\xce\\\\x8aw}\\\\r0@Z\\\\xbe\\\\xff>\\\\xbc4M@u\\\\x83\\\\xb8;\\\\xde\\\\xa0>@a\\\\x1eM-B\\\\x03@@\\\\xf7\\\\xaf\\\\xf7\\\\xae\\\\xc7\\\\xc1<@,\\\\xa3\\\\xd1\\\\xfc#S>@\\\\xce\\\\xa49\\\\x9f|h.@\\\\x93\\\\xc0\\\\x92\\\\xd5\"\\\\x06@@O\"\\\\x01\\\\x82\\\\x95\\\\xb1J@{\\\\xf9X\\\\xb6K\\\\x1aD@@g\\\\xf0v\\\\xd8MC@\\\\xc8\\\\xce^m\\\\xa3\\\\xe7C@\\\\xd7\\\\xb8N\\\\rn\\\\xa2F@\\\\xf0W\\\\x93\\\\xdau\\\\xa7:@)\\\\xc5h\\\\xed\\\\xa4\\\\x94C@\\\\xb2W\\\\xad\\\\xa7rpD@\\\\x15\\\\xa3\\\\x8e\\\\xe0\\\\xe6\\\\xf08@\\\\x9c\\\\xd6:\\\\x17Hv:@\\\\xd1\\\\xb1\\\\xfe\\\\xa7\\\\x15\\\\x081@]\\\\xb5&p\\\\xab\\\\x9b4@\\\\xd5J\\\\xeb\\\\x96(\\\\xe3<@\\\\xaf\\\\xe2\\\\xc5Z\\\\x1bz?@\\\\x0c\\\\x16-F\\\\x17c;@\\\\xf0\\\\x8dt\\\\xa7\\\\x12\\\\x1e@@\\\\xecy\\\\x06\\\\xbb\\\\xc5\\\\\\\\4@f\\\\xec\\\\xb3(\\\\xe3\\\\x1a*@\\\\x8e\\\\xe5\\\\xcf\\\\xb7(\\\\x992@`J\\\\x1dT\\\\xdbk4@\\\\x9d\\\\x84\\\\x15\\\\xcf\\\\x89\\\\xda7@\\\\x18\\\\xda\\\\xb9D\\\\x01\\\\xf2\\\\x18@a\\\\xb7\\\\x8d\\\\xe2hZ2@xp\\\\x1d\\\\xb6\\\\xa9\\\\xdaF@\\\\xe4\\\\x1e\\\\xee\\\\xb6\\\\x0075@-,\\\\x1c\\\\x1a\\\\x80\\\\x0e;@\\\\xeb\\\\x81E?[\\\\x1b@@\\\\xb9\\\\xf6R\\\\x81/cE@\\\\xa0(\\\\xb2\\\\xdbKL9@<\\\\xf4\\\\x97q\\\\x95]B@\\\\x87L\\\\x8a\\\\x95{K7@\\\\xf8\\\\xf4\\\\xa69\\\\xc2\\\\xfbI@\\\\x16p\\\\x93\\\\x8b\\\\x03XB@\\\\xd2\\\\xf7\\\\x92\\\\xf3w\\\\xcd#@\\\\xf4\\\\xf9m\\\\xd1M\\\\x906@\\'\\np407\\ntp408\\nba(lp409\\ng264\\n(g265\\n(dp410\\ng234\\ng14\\n(g15\\n(I0\\ntp411\\ng17\\ntp412\\nRp413\\n(I1\\n(L1L\\ntp414\\ng273\\nI00\\n(lp415\\ng279\\natp416\\nbsg281\\nNstp417\\nRp418\\na(dp419\\ng312\\n(dp420\\ng314\\ng392\\nsg315\\n(lp421\\n(dp422\\ng318\\ng319\\n(I0\\nI1\\nI1\\ntp423\\nRp424\\nsg322\\ng405\\nsasstp425\\nbsbsbsg199\\ng218\\nsS\\'_df_model\\'\\np426\\nF2.0\\nsbsg197\\n(lp427\\nsbsb.'"
      ]
     },
     "execution_count": 5,
     "metadata": {},
     "output_type": "execute_result"
    }
   ],
   "source": [
    "pickle.dumps(model)"
   ]
  },
  {
   "cell_type": "markdown",
   "metadata": {},
   "source": [
    "I guess I am just trusting that this is correct.  Let's write that nonsense to disk."
   ]
  },
  {
   "cell_type": "code",
   "execution_count": 6,
   "metadata": {
    "collapsed": false
   },
   "outputs": [],
   "source": [
    "with open('model_dump','w') as f:\n",
    "    pickle.dump(model,f)"
   ]
  },
  {
   "cell_type": "markdown",
   "metadata": {},
   "source": [
    "Now we can read the model object back in, save it as a new instance, and use it to predict based upon the original regressor data.  This result can be compared to the original prediction above."
   ]
  },
  {
   "cell_type": "code",
   "execution_count": 7,
   "metadata": {
    "collapsed": false
   },
   "outputs": [
    {
     "name": "stdout",
     "output_type": "stream",
     "text": [
      "                            OLS Regression Results                            \n",
      "==============================================================================\n",
      "Dep. Variable:                      y   R-squared:                       0.998\n",
      "Model:                            OLS   Adj. R-squared:                  0.998\n",
      "Method:                 Least Squares   F-statistic:                 1.132e+04\n",
      "Date:                Thu, 07 Apr 2016   Prob (F-statistic):           8.51e-64\n",
      "Time:                        16:45:14   Log-Likelihood:                -41.235\n",
      "No. Observations:                  50   AIC:                             88.47\n",
      "Df Residuals:                      47   BIC:                             94.21\n",
      "Df Model:                           2                                         \n",
      "Covariance Type:            nonrobust                                         \n",
      "==============================================================================\n",
      "                 coef    std err          t      P>|t|      [95.0% Conf. Int.]\n",
      "------------------------------------------------------------------------------\n",
      "Intercept      2.3271      0.225     10.339      0.000         1.874     2.780\n",
      "x1             0.9937      0.015     68.213      0.000         0.964     1.023\n",
      "x2             1.9769      0.014    138.193      0.000         1.948     2.006\n",
      "==============================================================================\n",
      "Omnibus:                        5.728   Durbin-Watson:                   2.808\n",
      "Prob(Omnibus):                  0.057   Jarque-Bera (JB):                2.211\n",
      "Skew:                           0.087   Prob(JB):                        0.331\n",
      "Kurtosis:                       1.985   Cond. No.                         42.4\n",
      "==============================================================================\n",
      "\n",
      "Warnings:\n",
      "[1] Standard Errors assume that the covariance matrix of the errors is correctly specified.\n"
     ]
    }
   ],
   "source": [
    "#Capture model object from disk\n",
    "with open('model_dump','r') as f:\n",
    "    model2=pickle.load(f)\n",
    "\n",
    "#Show model summary\n",
    "print model2.summary()\n",
    "\n",
    "#Predict new values of y\n",
    "# pred_y2=model2.predict(data[['x1','x2']])"
   ]
  },
  {
   "cell_type": "markdown",
   "metadata": {},
   "source": [
    "    ---------------------------------------------------------------------------\n",
    "    AttributeError                            Traceback (most recent call last)\n",
    "    <ipython-input-16-f7a79b10e2b5> in <module>()\n",
    "          7 \n",
    "          8 #Predict new values of y\n",
    "    ----> 9 pred_y2=model2.predict(data[['x1','x2']])\n",
    "\n",
    "    C:\\Users\\marvinw\\AppData\\Local\\Continuum\\Anaconda\\lib\\site-packages\\statsmodels\\base\\model.pyc in predict(self, exog, transform, *args, **kwargs)\n",
    "        876         if transform and hasattr(self.model, 'formula') and exog is not None:\n",
    "        877             from patsy import dmatrix\n",
    "    --> 878             exog = dmatrix(self.model.data.orig_exog.design_info.builder,\n",
    "        879                     exog)\n",
    "        880         return self.model.predict(self.params, exog, *args, **kwargs)\n",
    "\n",
    "    C:\\Users\\marvinw\\AppData\\Local\\Continuum\\Anaconda\\lib\\site-packages\\pandas\\core\\generic.pyc in __getattr__(self, name)\n",
    "       1976                 return self[name]\n",
    "       1977             raise AttributeError(\"'%s' object has no attribute '%s'\" %\n",
    "    -> 1978                                  (type(self).__name__, name))\n",
    "       1979 \n",
    "       1980     def __setattr__(self, name, value):\n",
    "\n",
    "    AttributeError: 'DataFrame' object has no attribute 'design_info'"
   ]
  },
  {
   "cell_type": "markdown",
   "metadata": {},
   "source": [
    "Hmmmm.  While it does appear that we have reconstituted the object, clearly something was lost in translation.  This helpful [SO post](http://stackoverflow.com/questions/20724919/pandas-dataframe-attributeerror-dataframe-object-has-no-attribute-design-inf) reveals that user additions to the model can get lost.  In this case, `design_info` is referring to the formula used to fit the model: `'y ~ x1 + x2'`.  The post suggests either building a design matrix explicitly with **`patsy`**, or just making sure we add a constant to our input data for the unpickled version of the model."
   ]
  },
  {
   "cell_type": "code",
   "execution_count": 8,
   "metadata": {
    "collapsed": false
   },
   "outputs": [
    {
     "data": {
      "text/plain": [
       "array([  0.00000000e+00,   0.00000000e+00,   0.00000000e+00,\n",
       "         0.00000000e+00,   0.00000000e+00,   0.00000000e+00,\n",
       "         0.00000000e+00,   0.00000000e+00,   0.00000000e+00,\n",
       "         0.00000000e+00,  -3.55271368e-15,   0.00000000e+00,\n",
       "         0.00000000e+00,   0.00000000e+00,   0.00000000e+00,\n",
       "         0.00000000e+00,   0.00000000e+00,   0.00000000e+00,\n",
       "         0.00000000e+00,   0.00000000e+00,   0.00000000e+00,\n",
       "         0.00000000e+00,   0.00000000e+00,   0.00000000e+00,\n",
       "         3.55271368e-15,   3.55271368e-15,   0.00000000e+00,\n",
       "        -3.55271368e-15,   0.00000000e+00,   0.00000000e+00,\n",
       "         3.55271368e-15,  -3.55271368e-15,   0.00000000e+00,\n",
       "         0.00000000e+00,   3.55271368e-15,   3.55271368e-15,\n",
       "         0.00000000e+00,   0.00000000e+00,   0.00000000e+00,\n",
       "         0.00000000e+00,   3.55271368e-15,   0.00000000e+00,\n",
       "         0.00000000e+00,   0.00000000e+00,   0.00000000e+00,\n",
       "         0.00000000e+00,   0.00000000e+00,  -7.10542736e-15,\n",
       "         0.00000000e+00,   3.55271368e-15])"
      ]
     },
     "execution_count": 8,
     "metadata": {},
     "output_type": "execute_result"
    }
   ],
   "source": [
    "#Predict new values of y\n",
    "pred_y2=model2.predict(add_constant(data[['x1','x2']]),transform=False)\n",
    "\n",
    "pred_y-pred_y2"
   ]
  },
  {
   "cell_type": "markdown",
   "metadata": {},
   "source": [
    "I think that I can handle those small deviations.  Looks like this works as expected."
   ]
  },
  {
   "cell_type": "code",
   "execution_count": 9,
   "metadata": {
    "collapsed": false
   },
   "outputs": [
    {
     "data": {
      "text/plain": [
       "array([0, 1, 0, 0, 1, 1, 1, 0, 1, 1])"
      ]
     },
     "execution_count": 9,
     "metadata": {},
     "output_type": "execute_result"
    }
   ],
   "source": [
    "np.random.choice(range(0,2),size=10)"
   ]
  },
  {
   "cell_type": "code",
   "execution_count": 10,
   "metadata": {
    "collapsed": false
   },
   "outputs": [
    {
     "name": "stdout",
     "output_type": "stream",
     "text": [
      "Optimization terminated successfully.\n",
      "         Current function value: 0.678036\n",
      "         Iterations 4\n"
     ]
    },
    {
     "data": {
      "text/plain": [
       "<statsmodels.discrete.discrete_model.BinaryResultsWrapper at 0x15e91dd8>"
      ]
     },
     "execution_count": 10,
     "metadata": {},
     "output_type": "execute_result"
    }
   ],
   "source": [
    "import statsmodels.api as sm\n",
    "X=data[['x1','x2']].values\n",
    "y=np.random.choice(range(0,2),size=len(data))\n",
    "p=sm.Probit(y,X).fit(maxiter=1000)\n",
    "p"
   ]
  },
  {
   "cell_type": "code",
   "execution_count": 11,
   "metadata": {
    "collapsed": false
   },
   "outputs": [],
   "source": [
    "# summary_string=p.summary().as_csv().split(',')\n",
    "# ll_text_idx=[i for i,content in enumerate(summary_string) if 'Log-Likelihood:' in content][0]\n",
    "# ll_rep_value=summary_string[conv_text_idx+1].strip().split('\\n')[0]\n",
    "# ll_max_found=ll_rep_value != 'nan'\n",
    "# ll_max_found"
   ]
  },
  {
   "cell_type": "code",
   "execution_count": 12,
   "metadata": {
    "collapsed": false
   },
   "outputs": [
    {
     "data": {
      "text/plain": [
       "['                  Probit Regression Results                   \\nDep. Variable:',\n",
       " 'y               ',\n",
       " '  No. Observations:  ',\n",
       " '    50  \\nModel:        ',\n",
       " 'Probit          ',\n",
       " '  Df Residuals:      ',\n",
       " '    48  \\nMethod:       ',\n",
       " 'MLE             ',\n",
       " '  Df Model:          ',\n",
       " '     1  \\nDate:         ',\n",
       " 'Thu',\n",
       " ' 07 Apr 2016',\n",
       " '  Pseudo R-squ.:     ',\n",
       " '0.02180 \\nTime:         ',\n",
       " '16:45:15        ',\n",
       " '  Log-Likelihood:    ',\n",
       " ' -33.902\\nconverged:    ',\n",
       " 'True            ',\n",
       " '  LL-Null:           ',\n",
       " ' -34.657\\n              ',\n",
       " '                ',\n",
       " '  LLR p-value:       ',\n",
       " '0.2190  \\n  ',\n",
       " '   coef   ',\n",
       " ' std err ',\n",
       " '    z    ',\n",
       " 'P>|z| ',\n",
       " ' [95.0% Conf. Int.]\\nx1',\n",
       " '    0.0201',\n",
       " '    0.023',\n",
       " '    0.884',\n",
       " ' 0.377',\n",
       " '   -0.024     0.065\\nx2',\n",
       " '   -0.0298',\n",
       " '    0.024',\n",
       " '   -1.223',\n",
       " ' 0.222',\n",
       " '   -0.078     0.018']"
      ]
     },
     "execution_count": 12,
     "metadata": {},
     "output_type": "execute_result"
    }
   ],
   "source": [
    "p.summary().as_csv().split(',')"
   ]
  },
  {
   "cell_type": "code",
   "execution_count": 13,
   "metadata": {
    "collapsed": false
   },
   "outputs": [
    {
     "name": "stdout",
     "output_type": "stream",
     "text": [
      "                          Probit Regression Results                           \n",
      "==============================================================================\n",
      "Dep. Variable:                      y   No. Observations:                   50\n",
      "Model:                         Probit   Df Residuals:                       48\n",
      "Method:                           MLE   Df Model:                            1\n",
      "Date:                Thu, 07 Apr 2016   Pseudo R-squ.:                 0.02180\n",
      "Time:                        16:45:15   Log-Likelihood:                -33.902\n",
      "converged:                       True   LL-Null:                       -34.657\n",
      "                                        LLR p-value:                    0.2190\n",
      "==============================================================================\n"
     ]
    }
   ],
   "source": [
    "print p.summary().tables[0]"
   ]
  },
  {
   "cell_type": "code",
   "execution_count": 14,
   "metadata": {
    "collapsed": false
   },
   "outputs": [
    {
     "data": {
      "text/plain": [
       "['__class__',\n",
       " '__delattr__',\n",
       " '__dict__',\n",
       " '__doc__',\n",
       " '__format__',\n",
       " '__getattribute__',\n",
       " '__getstate__',\n",
       " '__hash__',\n",
       " '__init__',\n",
       " '__module__',\n",
       " '__new__',\n",
       " '__reduce__',\n",
       " '__reduce_ex__',\n",
       " '__repr__',\n",
       " '__setattr__',\n",
       " '__sizeof__',\n",
       " '__str__',\n",
       " '__subclasshook__',\n",
       " '__weakref__',\n",
       " '_cache',\n",
       " '_data_attr',\n",
       " '_get_endog_name',\n",
       " '_get_robustcov_results',\n",
       " 'aic',\n",
       " 'bic',\n",
       " 'bse',\n",
       " 'conf_int',\n",
       " 'cov_kwds',\n",
       " 'cov_params',\n",
       " 'cov_type',\n",
       " 'df_model',\n",
       " 'df_resid',\n",
       " 'f_test',\n",
       " 'fittedvalues',\n",
       " 'get_margeff',\n",
       " 'initialize',\n",
       " 'k_constant',\n",
       " 'llf',\n",
       " 'llnull',\n",
       " 'llr',\n",
       " 'llr_pvalue',\n",
       " 'load',\n",
       " 'mle_retvals',\n",
       " 'mle_settings',\n",
       " 'model',\n",
       " 'nobs',\n",
       " 'normalized_cov_params',\n",
       " 'params',\n",
       " 'pred_table',\n",
       " 'predict',\n",
       " 'prsquared',\n",
       " 'pvalues',\n",
       " 'remove_data',\n",
       " 'resid_dev',\n",
       " 'resid_generalized',\n",
       " 'resid_pearson',\n",
       " 'resid_response',\n",
       " 'save',\n",
       " 'scale',\n",
       " 'summary',\n",
       " 'summary2',\n",
       " 't_test',\n",
       " 'tvalues',\n",
       " 'use_t',\n",
       " 'wald_test']"
      ]
     },
     "execution_count": 14,
     "metadata": {},
     "output_type": "execute_result"
    }
   ],
   "source": [
    "dir(p)"
   ]
  },
  {
   "cell_type": "code",
   "execution_count": 15,
   "metadata": {
    "collapsed": false
   },
   "outputs": [
    {
     "data": {
      "text/plain": [
       "-33.901802318125952"
      ]
     },
     "execution_count": 15,
     "metadata": {},
     "output_type": "execute_result"
    }
   ],
   "source": [
    "p.llf"
   ]
  },
  {
   "cell_type": "code",
   "execution_count": 16,
   "metadata": {
    "collapsed": false
   },
   "outputs": [
    {
     "data": {
      "text/plain": [
       "True"
      ]
     },
     "execution_count": 16,
     "metadata": {},
     "output_type": "execute_result"
    }
   ],
   "source": [
    "p.mle_retvals['converged']"
   ]
  },
  {
   "cell_type": "code",
   "execution_count": 17,
   "metadata": {
    "collapsed": false
   },
   "outputs": [
    {
     "data": {
      "text/plain": [
       "array([ 0.37650962,  0.22150798])"
      ]
     },
     "execution_count": 17,
     "metadata": {},
     "output_type": "execute_result"
    }
   ],
   "source": [
    "p.pvalues"
   ]
  },
  {
   "cell_type": "code",
   "execution_count": 18,
   "metadata": {
    "collapsed": false
   },
   "outputs": [
    {
     "data": {
      "text/plain": [
       "True"
      ]
     },
     "execution_count": 18,
     "metadata": {},
     "output_type": "execute_result"
    }
   ],
   "source": [
    "not np.isnan(p.pvalues).all()"
   ]
  },
  {
   "cell_type": "code",
   "execution_count": 19,
   "metadata": {
    "collapsed": false
   },
   "outputs": [
    {
     "data": {
      "text/html": [
       "<table class=\"simpletable\">\n",
       "<caption>Probit Regression Results</caption>\n",
       "<tr>\n",
       "  <th>Dep. Variable:</th>         <td>y</td>        <th>  No. Observations:  </th>  <td>    50</td> \n",
       "</tr>\n",
       "<tr>\n",
       "  <th>Model:</th>              <td>Probit</td>      <th>  Df Residuals:      </th>  <td>    48</td> \n",
       "</tr>\n",
       "<tr>\n",
       "  <th>Method:</th>               <td>MLE</td>       <th>  Df Model:          </th>  <td>     1</td> \n",
       "</tr>\n",
       "<tr>\n",
       "  <th>Date:</th>          <td>Thu, 07 Apr 2016</td> <th>  Pseudo R-squ.:     </th>  <td>0.02180</td>\n",
       "</tr>\n",
       "<tr>\n",
       "  <th>Time:</th>              <td>16:45:15</td>     <th>  Log-Likelihood:    </th> <td> -33.902</td>\n",
       "</tr>\n",
       "<tr>\n",
       "  <th>converged:</th>           <td>True</td>       <th>  LL-Null:           </th> <td> -34.657</td>\n",
       "</tr>\n",
       "<tr>\n",
       "  <th> </th>                      <td> </td>        <th>  LLR p-value:       </th>  <td>0.2190</td> \n",
       "</tr>\n",
       "</table>\n",
       "<table class=\"simpletable\">\n",
       "<tr>\n",
       "   <td></td>     <th>coef</th>     <th>std err</th>      <th>z</th>      <th>P>|z|</th> <th>[95.0% Conf. Int.]</th> \n",
       "</tr>\n",
       "<tr>\n",
       "  <th>x1</th> <td>    0.0201</td> <td>    0.023</td> <td>    0.884</td> <td> 0.377</td> <td>   -0.024     0.065</td>\n",
       "</tr>\n",
       "<tr>\n",
       "  <th>x2</th> <td>   -0.0298</td> <td>    0.024</td> <td>   -1.223</td> <td> 0.222</td> <td>   -0.078     0.018</td>\n",
       "</tr>\n",
       "</table>"
      ],
      "text/plain": [
       "<class 'statsmodels.iolib.summary.Summary'>\n",
       "\"\"\"\n",
       "                          Probit Regression Results                           \n",
       "==============================================================================\n",
       "Dep. Variable:                      y   No. Observations:                   50\n",
       "Model:                         Probit   Df Residuals:                       48\n",
       "Method:                           MLE   Df Model:                            1\n",
       "Date:                Thu, 07 Apr 2016   Pseudo R-squ.:                 0.02180\n",
       "Time:                        16:45:15   Log-Likelihood:                -33.902\n",
       "converged:                       True   LL-Null:                       -34.657\n",
       "                                        LLR p-value:                    0.2190\n",
       "==============================================================================\n",
       "                 coef    std err          z      P>|z|      [95.0% Conf. Int.]\n",
       "------------------------------------------------------------------------------\n",
       "x1             0.0201      0.023      0.884      0.377        -0.024     0.065\n",
       "x2            -0.0298      0.024     -1.223      0.222        -0.078     0.018\n",
       "==============================================================================\n",
       "\"\"\""
      ]
     },
     "execution_count": 19,
     "metadata": {},
     "output_type": "execute_result"
    }
   ],
   "source": [
    "p.summary()"
   ]
  },
  {
   "cell_type": "code",
   "execution_count": 27,
   "metadata": {
    "collapsed": false
   },
   "outputs": [
    {
     "data": {
      "text/plain": [
       "'                          Probit Regression Results                           \\n==============================================================================\\nDep. Variable:                      y   No. Observations:                   50\\nModel:                         Probit   Df Residuals:                       48\\nMethod:                           MLE   Df Model:                            1\\nDate:                Thu, 07 Apr 2016   Pseudo R-squ.:                 0.02180\\nTime:                        17:18:45   Log-Likelihood:                -33.902\\nconverged:                       True   LL-Null:                       -34.657\\n                                        LLR p-value:                    0.2190\\n==============================================================================\\n                 coef    std err          z      P>|z|      [95.0% Conf. Int.]\\n------------------------------------------------------------------------------\\nx1             0.0201      0.023      0.884      0.377        -0.024     0.065\\nx2            -0.0298      0.024     -1.223      0.222        -0.078     0.018\\n=============================================================================='"
      ]
     },
     "execution_count": 27,
     "metadata": {},
     "output_type": "execute_result"
    }
   ],
   "source": [
    "p.summary().as_text()"
   ]
  }
 ],
 "metadata": {
  "kernelspec": {
   "display_name": "Python 2",
   "language": "python",
   "name": "python2"
  },
  "language_info": {
   "codemirror_mode": {
    "name": "ipython",
    "version": 2
   },
   "file_extension": ".py",
   "mimetype": "text/x-python",
   "name": "python",
   "nbconvert_exporter": "python",
   "pygments_lexer": "ipython2",
   "version": "2.7.11"
  }
 },
 "nbformat": 4,
 "nbformat_minor": 0
}
