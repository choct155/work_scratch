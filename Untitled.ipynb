{
 "cells": [
  {
   "cell_type": "markdown",
   "metadata": {},
   "source": [
    "![QE](https://avatars3.githubusercontent.com/u/8703060?v=3&s=400)"
   ]
  },
  {
   "cell_type": "markdown",
   "metadata": {},
   "source": [
    "# Julia Types"
   ]
  },
  {
   "cell_type": "markdown",
   "metadata": {},
   "source": [
    "New classes are initiated with the `Type` statement."
   ]
  },
  {
   "cell_type": "code",
   "execution_count": 1,
   "metadata": {
    "collapsed": false
   },
   "outputs": [
    {
     "data": {
      "text/plain": [
       "Foo (constructor with 1 method)"
      ]
     },
     "execution_count": 1,
     "metadata": {},
     "output_type": "execute_result"
    }
   ],
   "source": [
    "#Generate new class\n",
    "type Foo end\n",
    "\n",
    "#Instantiate foo object\n",
    "foo=Foo()\n",
    "\n",
    "#Query type of object\n",
    "typeof(foo)"
   ]
  },
  {
   "cell_type": "markdown",
   "metadata": {},
   "source": [
    "New methods are pretty easily constructed for our `Foo()` object."
   ]
  },
  {
   "cell_type": "code",
   "execution_count": 2,
   "metadata": {
    "collapsed": false
   },
   "outputs": [
    {
     "data": {
      "text/plain": [
       "\"The foofunc method is on\""
      ]
     },
     "execution_count": 2,
     "metadata": {},
     "output_type": "execute_result"
    }
   ],
   "source": [
    "#Generate new function\n",
    "foofunc(x::Foo)=\"The foofunc method is on\"\n",
    "\n",
    "foofunc(foo)"
   ]
  },
  {
   "cell_type": "markdown",
   "metadata": {},
   "source": [
    "I am more interested in composite objects which can hold more complex information.  The QE example of this capability uses the AR1 model:\n",
    "\n",
    "$X_{t+1} = aX_t + b + \\sigma W_{t+1}$  where $\\{ W_t \\}$ is an iid sequence of shocks with some distribution $\\phi$.\n",
    "\n",
    "Our object must hold the full parameter set, consisting of the scalar unknowns (a, b, $\\sigma$) and the distributional parameter $\\phi$."
   ]
  },
  {
   "cell_type": "code",
   "execution_count": 5,
   "metadata": {
    "collapsed": false
   },
   "outputs": [],
   "source": [
    "type AR1\n",
    "    a::Float64\n",
    "    b::Float64\n",
    "    σ::Float64\n",
    "    ϕ\n",
    "end"
   ]
  },
  {
   "cell_type": "markdown",
   "metadata": {},
   "source": [
    "The distributional parameter can be conveniently filled utilizing the [**`Distributions`**](https://github.com/JuliaStats/Distributions.jl) package."
   ]
  },
  {
   "cell_type": "code",
   "execution_count": 6,
   "metadata": {
    "collapsed": true
   },
   "outputs": [],
   "source": [
    "using Distributions"
   ]
  },
  {
   "cell_type": "markdown",
   "metadata": {},
   "source": [
    "Let's populate the as of yet useless object..."
   ]
  },
  {
   "cell_type": "code",
   "execution_count": 14,
   "metadata": {
    "collapsed": false
   },
   "outputs": [
    {
     "name": "stdout",
     "output_type": "stream",
     "text": [
      "***CLASS PARAMETERS***\n",
      "[:a,:b,:σ,:ϕ]\n",
      "a\n",
      "b\n",
      "σ\n",
      "ϕ\n",
      "Beta(α=5.0, β=5.0)\n"
     ]
    },
    {
     "data": {
      "text/plain": [
       "AR1(0.9,1.0,1.0,Beta(α=5.0, β=5.0))"
      ]
     },
     "execution_count": 14,
     "metadata": {},
     "output_type": "execute_result"
    }
   ],
   "source": [
    "m=AR1(0.9,1,1,Beta(5,5))\n",
    "\n",
    "#List parameters\n",
    "println(\"***CLASS PARAMETERS***\")\n",
    "println(names(m))\n",
    "\n",
    "#Access parameters a different way\n",
    "for prm in names(m)\n",
    "    println(prm)\n",
    "end\n",
    "\n",
    "#Access single parameter value\n",
    "println(m.ϕ)\n",
    "\n",
    "m"
   ]
  },
  {
   "cell_type": "markdown",
   "metadata": {},
   "source": [
    "Parameter values can be changed at will."
   ]
  },
  {
   "cell_type": "code",
   "execution_count": 16,
   "metadata": {
    "collapsed": false
   },
   "outputs": [
    {
     "data": {
      "text/plain": [
       "Exponential(β=0.5)"
      ]
     },
     "execution_count": 16,
     "metadata": {},
     "output_type": "execute_result"
    }
   ],
   "source": [
    "m.ϕ=Exponential(.5)\n",
    "\n",
    "m.ϕ"
   ]
  },
  {
   "cell_type": "markdown",
   "metadata": {},
   "source": [
    "Let's see if we can actually use the parameters in our AR1 object."
   ]
  },
  {
   "cell_type": "code",
   "execution_count": 20,
   "metadata": {
    "collapsed": true
   },
   "outputs": [],
   "source": [
    "#Define class that can be used to simulate\n",
    "type simulate\n",
    "    m::AR1\n",
    "    n::Integer\n",
    "    x0::Real\n",
    "end\n",
    "function simulate(m::AR1, n::Integer, x0::Real)\n",
    "    #Set initial value\n",
    "    init_val=x0\n",
    "    #\n",
    "\n"
   ]
  },
  {
   "cell_type": "code",
   "execution_count": 30,
   "metadata": {
    "collapsed": false
   },
   "outputs": [
    {
     "name": "stdout",
     "output_type": "stream",
     "text": [
      "1\n",
      "3\n",
      "5\n",
      "7\n",
      "9\n"
     ]
    }
   ],
   "source": [
    "function count(x::Integer)\n",
    "    for val in 1:2:10\n",
    "        println(val)\n",
    "    end\n",
    "end\n",
    "\n",
    "count(10)"
   ]
  },
  {
   "cell_type": "markdown",
   "metadata": {},
   "source": [
    "User-defined functions are faster if the data types are specified."
   ]
  },
  {
   "cell_type": "code",
   "execution_count": 19,
   "metadata": {
    "collapsed": false
   },
   "outputs": [
    {
     "name": "stdout",
     "output_type": "stream",
     "text": [
      "elapsed time: 0.005589858 seconds (97364 bytes allocated)\n"
     ]
    },
    {
     "data": {
      "text/plain": [
       "2550.0"
      ]
     },
     "execution_count": 19,
     "metadata": {},
     "output_type": "execute_result"
    }
   ],
   "source": [
    "function sum_float_array(x::Array{Float64, 1})\n",
    "    sum = 0.0\n",
    "    for i in 1:length(x)\n",
    "        sum += x[i]\n",
    "    end\n",
    "    return sum\n",
    "end\n",
    "\n",
    "@time sum_float_array(linspace(1,50))"
   ]
  },
  {
   "cell_type": "code",
   "execution_count": null,
   "metadata": {
    "collapsed": true
   },
   "outputs": [],
   "source": []
  }
 ],
 "metadata": {
  "kernelspec": {
   "display_name": "Julia 0.3.7",
   "language": "julia",
   "name": "julia-0.3"
  },
  "language_info": {
   "name": "julia",
   "version": "0.3.7"
  }
 },
 "nbformat": 4,
 "nbformat_minor": 0
}
