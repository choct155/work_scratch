{
 "cells": [
  {
   "cell_type": "markdown",
   "metadata": {},
   "source": [
    "# Measuring Stability"
   ]
  },
  {
   "cell_type": "markdown",
   "metadata": {},
   "source": [
    "*MoblGamr (MG) is a company that provides a platform that allows end users to play games online on their mobile devices. The company was founded in 2010, and they currently offer over 100 games on their platform, and are considered a leading player in the online gaming market. The company has grown substantially, adding between 10 and 15% new customers every year since its inception.*\n",
    "\n",
    "*MoblGamr captures key information about each player every time they use the gaming platform. The market research team at MoblGamr would like to use this data to better understand overall trends in the growth of the broader mobile game playing market. The team is concerned that a simple analysis of their own data will bias their understanding of overall market growth. In particular, they know that many customers are increasingly shifting their mobile game playing onto the MoblGamr platform, such that the growth of the use of the MoblGamr platform greatly overstates the growth of the market as a whole.*\n",
    "\n",
    "*To this end, they have asked you to produce an analysis that will help them identify whether a customer has a “stable” relationship with MoblGamr—customers that likely use MoblGamr for a consistent share of their mobile game playing. Specifically, they have asked for you to produce a number for each customer who used the MoblGamr platform in July 2015 that indicates the “stability” of that customer’s relationship with MoblGamr since July 2014.*"
   ]
  },
  {
   "cell_type": "markdown",
   "metadata": {},
   "source": [
    "## Ideal Measures"
   ]
  },
  {
   "cell_type": "markdown",
   "metadata": {},
   "source": [
    "From the perspective of the firm, user stability speaks to the reliability of the growth figures they see insofar as it permits the firm to distinguish between durable growth and a simple glut.  If, for example, there is a great deal of churn in the user base, the growth could be a rather long-lived supply of novel users that ultimately discard the product in a relatively short time period.  In this scenario, market potential is lower, because at some point the firm runs through all potential users and some level of decline is imminent.  In other words, new users are performing a back-filling function.  If users are stable, and continue to use the product, new users are increasing the base instead of replacing those that have left.  Consequently, stability is a primary argument in the revenue forecast function.\n",
    "\n",
    "Future revenue growth is also limited by the size of the entire market.  If MG's market share truly is growing faster than the overall market, the rate of growth is untenable in the long-term.  If we assume market share growth continues unabated, at some point, the firm just exhausts all potential customers.  Thus, revenue growth may decline due to users dropping out of the base or declining available market share.  A measure of stability allows one to distinguish between the two.  This is important because the marketing strategies differ in these two states of the world.  If users are leaving, strategies that target existing users are appropriate.  If they are relatively stable, strategies that target new users are appropriate.\n",
    "\n",
    "A good stability measure would tell us the significance of MG within the platform portfolio of each user.  \n",
    "\n",
    "1. A scalar measure facilitates not only the establishment of a easily identified threshold, but also facilitates cross-tabulations if additional attributes become available.  That is, retroactive refinement of the stability measure is easier.\n",
    "2. The measure should be measureable over a (preferably continuous) range of time periods.  This would allow measurement between dates of significance (e.g. releases of rival games or platforms, changes to hardware, seasonal variation, macroeconomic fluctuation, or changes internal to the firm, just to name a few).\n",
    "3. The measure should be robust to changes in overall game playing time.\n",
    "4. It should feature, or be mappable to, the probability of exit from the base.  Not only does this provide a stability threshold, but it also provides information on which customers are most likely to leave (and therefore should be targeted for intervention).\n",
    "\n",
    "\n",
    "\n",
    "\n",
    "\n",
    "Since we cannot observe the time each user spends on other platforms, we have no direct way of measuring the share of time spent on the MG platform.  We have to estimate portfolio composition entirely from within a very limited data set.  \n",
    "\n",
    "(Change in time spent on each game when a new game is introduced.)\n",
    "(Estimating probability of exit.)\n",
    "\n",
    "A good stability measure should facilitate this classification problem by capturing the arc of usage.  No user plays any game (consistently) forever.  One can envision a genera"
   ]
  }
 ],
 "metadata": {
  "kernelspec": {
   "display_name": "Python 2",
   "language": "python",
   "name": "python2"
  },
  "language_info": {
   "codemirror_mode": {
    "name": "ipython",
    "version": 2
   },
   "file_extension": ".py",
   "mimetype": "text/x-python",
   "name": "python",
   "nbconvert_exporter": "python",
   "pygments_lexer": "ipython2",
   "version": "2.7.11"
  }
 },
 "nbformat": 4,
 "nbformat_minor": 0
}
