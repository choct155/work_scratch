{
 "cells": [
  {
   "cell_type": "markdown",
   "metadata": {},
   "source": [
    "# Linear Equations and Computer Basics"
   ]
  },
  {
   "cell_type": "markdown",
   "metadata": {},
   "source": [
    "This is the first in a set of Notebooks that follow along with the book [*Applied Computational Economics and Finance*](https://mitpress.mit.edu/books/applied-computational-economics-and-finance) (Miranda & Fackler 2004).  The goal is to actually perform some of the exercises and examples that appear througout the book to help solidify my comprehension.  It obviously starts simple, but let's see where we end up."
   ]
  },
  {
   "cell_type": "code",
   "execution_count": 1,
   "metadata": {
    "collapsed": true
   },
   "outputs": [],
   "source": [
    "using Distributions"
   ]
  },
  {
   "cell_type": "markdown",
   "metadata": {},
   "source": [
    "## LU Factorization (2.1)"
   ]
  },
  {
   "cell_type": "markdown",
   "metadata": {},
   "source": [
    "The first example is actually not LU, but forward substitution.  The idea being that it is a completely reasonable method (from a computational standpoint) when we are dealing with a triangular matrix.  Suppose we have a linear model:\n",
    "\n",
    "$$Ax=b$$\n",
    "\n",
    "where the following dimensions apply:\n",
    "\n",
    "+ $A (n \\times p)$\n",
    "+ $x (p \\times 1)$\n",
    "+ $b (n \\times 1)$\n",
    "\n",
    "$A$ and $b$ are given, and $A$ is a lower triangular matrix. \n",
    "\n",
    "$$A=\n",
    "\\begin{bmatrix}\n",
    "a_{11} &         &        &           & 0  \\\\\n",
    "a_{21} & a_{22} &        &           &    \\\\\n",
    "a_{31} & a_{32} & \\ddots &           &    \\\\\n",
    "\\vdots  & \\vdots  & \\ddots & \\ddots    &    \\\\\n",
    "a_{n1} & a_{n2} & \\ldots & a_{nn-1} & a_{nn}\n",
    "\\end{bmatrix}$$\n",
    "\n",
    "How does one determine the solution vector $x$?  Let's try this forward substitution business out.  The algorithm solves for $x$ one position at a time.  It can do so because the equation in the first row only has one unknown.  \n",
    "\n",
    "$$a_{11}x_1=b_1$$\n",
    "\n",
    "The second row equation has two unknowns, but one of them was calculated in the first row.  \n",
    "\n",
    "$$a_{21}x_1 + a_{22}x_2 = b_2$$\n",
    "\n",
    "Each new row introduces only one new unknown.\n",
    "\n",
    "$$x_1 = b_1/a_{11}$$\n",
    "\n",
    "$$x_2=(b_2-a_{21}x_1)/a_{22}$$\n",
    "\n",
    "$$x_3=(b_3-a_{31}x_1-a_{32}x_2)/a_{33}$$\n",
    "\n",
    "$$\\vdots$$\n",
    "\n",
    "$$x_n=(b_n - a_{n1}x_1 - a_{n2}x_2 - \\cdots - a_{nn_1}x_{n-1})/a_{nn}$$\n",
    "\n",
    "This progression generalizes to the following expression\n",
    "\n",
    "$$x_i = (b_i - \\sum_{j=1}^{i-1} a_{ij} x_j)/a_{ii}$$"
   ]
  },
  {
   "cell_type": "code",
   "execution_count": 65,
   "metadata": {
    "collapsed": false
   },
   "outputs": [
    {
     "data": {
      "text/plain": [
       "10-element Array{Float64,1}:\n",
       "   1.5     \n",
       "   0.333333\n",
       "  -2.38889 \n",
       "   1.09259 \n",
       "  -0.990741\n",
       "   1.43519 \n",
       "   0.225926\n",
       " -12.737   \n",
       "  10.8716  \n",
       "   8.96272 "
      ]
     },
     "execution_count": 65,
     "metadata": {},
     "output_type": "execute_result"
    }
   ],
   "source": [
    "#Define extent of solution vector\n",
    "n=10\n",
    "\n",
    "#Generate a matrix of random positive integers\n",
    "A=float(rand(1:10,n,n))\n",
    "\n",
    "#Coerce it into a lower triangular by zero sub\n",
    "for i=1:n\n",
    "    for j=1:n\n",
    "        if j>i\n",
    "            A[i,j]=0\n",
    "        end\n",
    "    end\n",
    "end\n",
    "\n",
    "#Generate a response vector of random positive ints\n",
    "b=float(rand(1:10,n))\n",
    "\n",
    "#Generate array to hold solution\n",
    "x=[0. for i=1:n]\n",
    "\n",
    "#Define function to solve this system by forward substitution\n",
    "function fsub(A,b)\n",
    "    #For each equation...\n",
    "    for i=1:length(b)\n",
    "        #...solve for x (returns a 1x1 array)...\n",
    "        tmp=(b[i] - A[i,1:i-1]*x[1:i-1])/A[i,i]\n",
    "        #...and insert into x\n",
    "        x[i]=tmp[1]\n",
    "    end\n",
    "    return x\n",
    "end\n",
    "\n",
    "#Calculate x\n",
    "fsub(A,b)"
   ]
  },
  {
   "cell_type": "markdown",
   "metadata": {},
   "source": [
    "That was pretty straightforward (once the syntax issues were ironed out).  The algebraic simplicity of this method makes it attractive from a computational standpoint.  The thing is, most matrices in practice do not share this triangular format.  One way to get them there is to use *LU Factorization* to decompose a matrix into upper and lower triangulars.  Then we can use both back and forward substitution, respectively, to solve for the solution vector $x$.  This approach can be used for all square, nonsingular matrices.\n",
    "\n",
    "There are two phases.  *Factorization* involves the use of Gaussian elimination to factor $A$ into $L$ and $U$.\n",
    "\n",
    "$$A=LU$$\n",
    "\n",
    "Note that $L$ will be row-permuted.  Once factored, we are solving the following system.\n",
    "\n",
    "$$Ax=LUx=L(Ux)=b$$\n",
    "\n",
    "This arrangement permits a straightforward two-step protocol:\n",
    "\n",
    "1. Solve for $y$ in $Ly=b$; and,\n",
    "2. Solve for $x$ in $Ux=y$.\n",
    "\n",
    "First,let's design a function that performs LU factorization."
   ]
  },
  {
   "cell_type": "code",
   "execution_count": 78,
   "metadata": {
    "collapsed": false
   },
   "outputs": [
    {
     "name": "stdout",
     "output_type": "stream",
     "text": [
      "0.7142857142857143\n",
      "[5 9 8 4 8 4 10 9 1 6]\n",
      "[5.0 3.5714285714285716 3.5714285714285716 2.142857142857143 2.857142857142857 0.7142857142857143 5.714285714285714 3.5714285714285716 6.428571428571429 7.142857142857143]\n",
      "[0.0 5.428571428571429 4.428571428571429 1.8571428571428572 5.142857142857142 3.2857142857142856 4.285714285714286 5.428571428571429 -5.428571428571429 -1.1428571428571432]\n"
     ]
    },
    {
     "ename": "LoadError",
     "evalue": "InexactError()\nwhile loading In[78], in expression starting on line 29",
     "output_type": "error",
     "traceback": [
      "InexactError()\nwhile loading In[78], in expression starting on line 29",
      "",
      " in setindex! at multidimensional.jl:76",
      " in LU_fact at In[78]:23"
     ]
    }
   ],
   "source": [
    "#Generate a matrix of random positive integers\n",
    "A=rand(1:10,n,n)\n",
    "\n",
    "function LU_fact(A)\n",
    "    #Generate containers for LU factors\n",
    "    L=eye(n)\n",
    "    U=copy(A)\n",
    "\n",
    "    #For each column...\n",
    "    for j=1:n\n",
    "        #...and each row below the diagonal...\n",
    "        for i=j+1:n\n",
    "            #...capture the ratio of the diagonal value to lower row value in that column...\n",
    "            tmp_ratio=U[i,j]/U[j,j]\n",
    "            #...store the ratio in L at the lower row value position...\n",
    "            L[i,j]=tmp_ratio\n",
    "            println(tmp_ratio)\n",
    "            #...and then use the ratio as a multiplier when subtracting the diagonal row from the lower row\n",
    "            #and assign it to the corresponding row in U\n",
    "            println(U[i,1:n])\n",
    "            println(tmp_ratio*U[j,1:n])\n",
    "            println(U[i,1:n]-tmp_ratio*U[j,1:n])\n",
    "            U[i,1:n]=U[i,1:n]-tmp_ratio*U[j,1:n]\n",
    "        end\n",
    "    end\n",
    "    return (L,U)\n",
    "end\n",
    "\n",
    "L,U=LU_fact(A)\n",
    "round(Int64,L*U)==round(Int64,A)"
   ]
  }
 ],
 "metadata": {
  "kernelspec": {
   "display_name": "Julia 0.3.7",
   "language": "julia",
   "name": "julia-0.3"
  },
  "language_info": {
   "name": "julia",
   "version": "0.3.7"
  }
 },
 "nbformat": 4,
 "nbformat_minor": 0
}
