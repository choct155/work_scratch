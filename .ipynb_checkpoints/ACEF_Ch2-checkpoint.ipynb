{
 "cells": [
  {
   "cell_type": "markdown",
   "metadata": {},
   "source": [
    "# Linear Equations and Computer Basics"
   ]
  },
  {
   "cell_type": "markdown",
   "metadata": {},
   "source": [
    "This is the first in a set of Notebooks that follow along with the book [*Applied Computational Economics and Finance*](https://mitpress.mit.edu/books/applied-computational-economics-and-finance) (Miranda & Fackler 2004).  The goal is to actually perform some of the exercises and examples that appear througout the book to help solidify my comprehension.  It obviously starts simple, but let's see where we end up."
   ]
  },
  {
   "cell_type": "code",
   "execution_count": 1,
   "metadata": {
    "collapsed": false
   },
   "outputs": [],
   "source": [
    "using Distributions"
   ]
  },
  {
   "cell_type": "markdown",
   "metadata": {},
   "source": [
    "## LU Factorization (2.1)"
   ]
  },
  {
   "cell_type": "markdown",
   "metadata": {},
   "source": [
    "The first example is actually not LU, but forward substitution.  The idea being that it is a completely reasonable method (from a computational standpoint) when we are dealing with a triangular matrix.  Suppose we have a linear model:\n",
    "\n",
    "$$Ax=b$$\n",
    "\n",
    "where the following dimensions apply:\n",
    "\n",
    "+ $A (n \\times p)$\n",
    "+ $x (p \\times 1)$\n",
    "+ $b (n \\times 1)$\n",
    "\n",
    "$A$ and $b$ are given, and $A$ is a lower triangular matrix. \n",
    "\n",
    "$$A=\n",
    "\\begin{bmatrix}\n",
    "a_{11} &         &        &           & 0  \\\\\n",
    "a_{21} & a_{22} &        &           &    \\\\\n",
    "a_{31} & a_{32} & \\ddots &           &    \\\\\n",
    "\\vdots  & \\vdots  & \\ddots & \\ddots    &    \\\\\n",
    "a_{n1} & a_{n2} & \\ldots & a_{nn-1} & a_{nn}\n",
    "\\end{bmatrix}$$\n",
    "\n",
    "How does one determine the solution vector $x$?  Let's try this forward substitution business out.  The algorithm solves for $x$ one position at a time.  It can do so because the equation in the first row only has one unknown.  \n",
    "\n",
    "$$a_{11}x_1=b_1$$\n",
    "\n",
    "The second row equation has two unknowns, but one of them was calculated in the first row.  \n",
    "\n",
    "$$a_{21}x_1 + a_{22}x_2 = b_2$$\n",
    "\n",
    "Each new row introduces only one new unknown.\n",
    "\n",
    "$$x_1 = b_1/a_{11}$$\n",
    "\n",
    "$$x_2=(b_2-a_{21}x_1)/a_{22}$$\n",
    "\n",
    "$$x_3=(b_3-a_{31}x_1-a_{32}x_2)/a_{33}$$\n",
    "\n",
    "$$\\vdots$$\n",
    "\n",
    "$$x_n=(b_n - a_{n1}x_1 - a_{n2}x_2 - \\cdots - a_{n,n-1}x_{n-1})/a_{nn}$$\n",
    "\n",
    "This progression generalizes to the following expression\n",
    "\n",
    "$$x_i = (b_i - \\sum_{j=1}^{i-1} a_{ij} x_j)/a_{ii}$$"
   ]
  },
  {
   "cell_type": "code",
   "execution_count": 23,
   "metadata": {
    "collapsed": false
   },
   "outputs": [
    {
     "data": {
      "text/plain": [
       "true"
      ]
     },
     "execution_count": 23,
     "metadata": {},
     "output_type": "execute_result"
    }
   ],
   "source": [
    "#Define extent of solution vector\n",
    "n=5\n",
    "\n",
    "#Generate a matrix of random positive integers\n",
    "A=float(rand(1:10,n,n))\n",
    "\n",
    "#Coerce it into a lower triangular by zero sub\n",
    "for i=1:n\n",
    "    for j=1:n\n",
    "        if j>i\n",
    "            A[i,j]=0\n",
    "        end\n",
    "    end\n",
    "end\n",
    "\n",
    "#Generate a response vector of random positive ints\n",
    "b=float(rand(1:10,n))\n",
    "\n",
    "# Generate array to hold solution\n",
    "# x=[0. for i=1:n]\n",
    "\n",
    "#Define function to solve this system by forward substitution\n",
    "function fsub(A,b)\n",
    "    #Generate array to hold solution\n",
    "    x=[0. for i=1:n]\n",
    "    #Capture the first value\n",
    "    x[1]=b[1]/A[1,1]\n",
    "    #For each equation...\n",
    "    for i=2:length(b)\n",
    "        #...solve for x (returns a 1x1 array)...\n",
    "        tmp=(b[i] - A[i,1:i-1]*x[1:i-1])/A[i,i]\n",
    "        #...and insert into x\n",
    "        x[i]=tmp[1]\n",
    "    end\n",
    "    return x\n",
    "end\n",
    "\n",
    "#Calculate x\n",
    "x=fsub(A,b)\n",
    "\n",
    "#Define function to check the solution vector\n",
    "function csvec(vec1,vec2)\n",
    "    return all([isapprox(vec1[i],vec2[i]) for i in 1:length(b)])\n",
    "end\n",
    "\n",
    "csvec(A*x,b)"
   ]
  },
  {
   "cell_type": "markdown",
   "metadata": {},
   "source": [
    "That was pretty straightforward (once the syntax issues were ironed out).  The algebraic simplicity of this method makes it attractive from a computational standpoint.  The thing is, most matrices in practice do not share this triangular format.  One way to get them there is to use *LU Factorization* to decompose a matrix into upper and lower triangulars.  Then we can use both back and forward substitution, respectively, to solve for the solution vector $x$.  This approach can be used for all square, nonsingular matrices.\n",
    "\n",
    "There are two phases.  *Factorization* involves the use of Gaussian elimination to factor $A$ into $L$ and $U$.\n",
    "\n",
    "$$A=LU$$\n",
    "\n",
    "Note that $L$ will be row-permuted.  Once factored, we are solving the following system.\n",
    "\n",
    "$$Ax=LUx=L(Ux)=b$$\n",
    "\n",
    "This arrangement permits a straightforward two-step protocol:\n",
    "\n",
    "1. Solve for $y$ in $Ly=b$; and,\n",
    "2. Solve for $x$ in $Ux=y$.\n",
    "\n",
    "First,let's design a function that performs LU factorization."
   ]
  },
  {
   "cell_type": "code",
   "execution_count": 24,
   "metadata": {
    "collapsed": false
   },
   "outputs": [
    {
     "data": {
      "text/plain": [
       "true"
      ]
     },
     "execution_count": 24,
     "metadata": {},
     "output_type": "execute_result"
    }
   ],
   "source": [
    "#Generate a matrix of random positive integers\n",
    "A=float(rand(1:10,n,n))\n",
    "\n",
    "function LU_fact(A)\n",
    "    #Generate containers for LU factors\n",
    "    L=eye(n)\n",
    "    U=copy(A)\n",
    "\n",
    "    #For each column...\n",
    "    for j=1:n\n",
    "        #...and each row below the diagonal...\n",
    "        for i=j+1:n\n",
    "            #...capture the ratio of the diagonal value to lower row value in that column...\n",
    "            tmp_ratio=U[i,j]/U[j,j]\n",
    "            #...store the ratio in L at the lower row value position...\n",
    "            L[i,j]=tmp_ratio\n",
    "            #...and then use the ratio as a multiplier when subtracting the diagonal row from the lower row\n",
    "            #and assign it to the corresponding row in U\n",
    "            U[i,1:n]=U[i,1:n]-tmp_ratio*U[j,1:n]\n",
    "        end\n",
    "    end\n",
    "    return (L,U)\n",
    "end\n",
    "\n",
    "L,U=LU_fact(A)\n",
    "\n",
    "csvec(L*U,A)"
   ]
  },
  {
   "cell_type": "markdown",
   "metadata": {},
   "source": [
    "Now we solve for $y=Ux$, and ultimately for $x$.  Since $U$ is an upper triangular matrix, we need to use backward substitution in the second stage equation.  Backward substition is just the opposite of forward substitution.  This time, we are operating on an upper triangular matrix.\n",
    "\n",
    "$$A =\n",
    "\\begin{bmatrix}\n",
    "a_{11} & a_{12} & a_{13} & \\ldots & a_{1n}  \\\\\n",
    "        & a_{22} & a_{23} & \\ldots & a_{2n}  \\\\\n",
    "        &         & \\ddots  & \\ddots & \\vdots   \\\\\n",
    "        &         &         & \\ddots & a_{n-1,n}\\\\\n",
    "  0     &         &         &        & a_{nn}\n",
    "\\end{bmatrix}$$\n",
    "\n",
    "\n",
    "The first equation starts with the last row.\n",
    "\n",
    "$$a_{nn}x_n=b_n$$\n",
    "\n",
    "The second row equation has two unknowns, but one of them was calculated in the first row.  \n",
    "\n",
    "$$a_{n-1,n}x_n + a_{n-1,n-1}x_{n-1} = b_{n-1}$$\n",
    "\n",
    "Each new row introduces only one new unknown.\n",
    "\n",
    "$$x_n = b_n/a_{nn}$$\n",
    "\n",
    "$$x_{n-1}=(b_{n-1}-a_{n-1,n}x_n)/a_{n-1,n-1}$$\n",
    "\n",
    "$$x_{n-2}=(b_{n-2}-a_{n-2,n}x_n-a_{n-2,n-1}x_{n-1})/a_{n-2,n-2}$$\n",
    "\n",
    "$$\\vdots$$\n",
    "\n",
    "$$x_1=(b_1 - a_{1n}x_n - a_{1,n-1}x_{n-1} - \\cdots - a_{12}x_2)/a_{11}$$\n",
    "\n",
    "This progression generalizes to the following expression\n",
    "\n",
    "$$x_i = (b_i - \\sum_{j=i+1}^{n} a_{ij} x_j)/a_{ii}$$"
   ]
  },
  {
   "cell_type": "code",
   "execution_count": 73,
   "metadata": {
    "collapsed": false
   },
   "outputs": [
    {
     "name": "stdout",
     "output_type": "stream",
     "text": [
      "Ly=b:true\n",
      "Ux=y:true\n",
      "Ax=b:true\n"
     ]
    }
   ],
   "source": [
    "#Define function to solve this system by backward substitution\n",
    "function bsub(A,b)\n",
    "    #Capture length of solution vector\n",
    "    nv=size(A)[1]\n",
    "    #Generate array to hold solution\n",
    "    x=[0. for i=1:nv]\n",
    "    #Capture the last value value\n",
    "    x[nv]=b[nv]/A[nv,nv]\n",
    "    #For each equation...\n",
    "    for i=nv-1:-1:1\n",
    "        #...solve for x (returns a 1x1 array)...\n",
    "        tmp=(b[i] - A[i,i+1:nv]*x[i+1:nv])/A[i,i]\n",
    "        #...and insert into x\n",
    "        x[i]=tmp[1]\n",
    "    end\n",
    "    return x\n",
    "end\n",
    "\n",
    "#Generate response vector\n",
    "b=float(rand(1:10,n))\n",
    "\n",
    "#Solve for y\n",
    "y=fsub(L,b)\n",
    "\n",
    "#Solve for x\n",
    "x=bsub(U,y)\n",
    "\n",
    "println(\"Ly=b:\",csvec(L*y,b))\n",
    "println(\"Ux=y:\",csvec(U*x,y))\n",
    "println(\"Ax=b:\",csvec(A*x,b))"
   ]
  },
  {
   "cell_type": "markdown",
   "metadata": {
    "collapsed": false
   },
   "source": [
    "Now we are well placed to capture an LU solution function all at once."
   ]
  },
  {
   "cell_type": "code",
   "execution_count": 78,
   "metadata": {
    "collapsed": false
   },
   "outputs": [
    {
     "name": "stdout",
     "output_type": "stream",
     "text": [
      "Ax=b:true\n"
     ]
    }
   ],
   "source": [
    "function LU_solve(A,b)\n",
    "    #Factor A\n",
    "    L,U=LU_fact(A)\n",
    "    #Solve for y\n",
    "    y=fsub(L,b)\n",
    "    #Solve for x\n",
    "    x=bsub(U,y)\n",
    "    return x\n",
    "end\n",
    "\n",
    "#Generate a matrix of random positive integers\n",
    "A=float(rand(1:10,n,n))\n",
    "\n",
    "#Generate response vector\n",
    "b=float(rand(1:10,n))\n",
    "\n",
    "#Solve for x\n",
    "x=LU_solve(A,b)\n",
    "\n",
    "println(\"Ax=b:\",csvec(A*x,b))"
   ]
  },
  {
   "cell_type": "markdown",
   "metadata": {
    "collapsed": true
   },
   "source": [
    "## Cholesky Factorization"
   ]
  },
  {
   "cell_type": "markdown",
   "metadata": {},
   "source": [
    "The LU decomposition is a handy method to be sure (and general), but it can be quite expensive computationally.  When the properties of a matrix permit, we can use more efficient methods.  Specifically, when the square matrix $A$ is [Hermitian](https://en.wikipedia.org/wiki/Hermitian_matrix) [positive definite](https://en.wikipedia.org/wiki/Positive-definite_matrix), we can use [Cholesky factorization](https://en.wikipedia.org/wiki/Cholesky_decomposition).\n",
    "\n",
    "Let's unpack this a bit:\n",
    "\n",
    "+ A Hermitian matrix is one in which symmetric entries are complex conjugates of each other (that is $a_{ij} = \\overline{a_{ji}}$).  Complex conjugates are just numbers that have equivalent real parts and equal but opposite imaginary parts (e.g. 4 & 4, or 4+2$i$ & 4-2$i$).  Symmetric real matrices, therefore, are a subset.\n",
    "+ A positive, definite matrix is any Hermitian $n \\times n$ matrix $M$ for which $z^TMz$ is a positive scalar ($z$ being any real or complex non-zero column vector of length $n$).  [Intuitively](http://math.stackexchange.com/questions/9758/intuitive-explanation-of-a-positive-semidefinite-matrix), any vector multiplied by a positive definite matrix will cannot have it's angle changed by more than 90 degrees.  It is analogous to multiplying a real variable by a positive number.  It can stretch or contract the number, but it cannot reflect it about the origin.\n",
    "\n",
    "The actual Cholesky decomposition is as follows:\n",
    "\n",
    "$$A=U^TU$$\n",
    "\n",
    "$$\n",
    "\\begin{bmatrix}\n",
    "a_{11} & a_{12} & a_{13} \\\\\n",
    "a_{21} & a_{22} & a_{23} \\\\\n",
    "a_{31} & a_{32} & a_{33} \\\\\n",
    "\\end{bmatrix} = \n",
    "\\begin{bmatrix}\n",
    "u_{11} & 0 & 0 \\\\\n",
    "u_{12} & u_{22} & 0 \\\\\n",
    "u_{12} & u_{23} & u_{33} \\\\\n",
    "\\end{bmatrix}\n",
    "\\begin{bmatrix}\n",
    "u_{11} & u_{12} & u_{13} \\\\\n",
    "0 & u_{22} & u_{23} \\\\\n",
    "0 & 0 & u_{33} \\\\\n",
    "\\end{bmatrix}$$\n",
    "\n",
    "where $U$ is upper triangular.  The matrix view makes it easier to see what's happening.  The value of $a_{11}$ is straightforward since there is only single value in the column of $U$ and a single value in the row of its transpose:\n",
    "\n",
    "$$a_{11}=u_{11}u_{11}+0+0$$\n",
    "$$\\rightarrow u_{11} = +\\sqrt{a_{11}}$$\n",
    "\n",
    "In fact, once we have $u_{11}$ the entire first row can be calculated in a similar manner.\n",
    "\n",
    "$$a_{1j}=u_{11}u_{1j}+0+0$$\n",
    "$$\\rightarrow u_{1j} = \\frac{a_{1j}}{u_{11}}$$\n",
    "\n",
    "Once the first row of $U$ is known, we can sub those values in to the second row equations:\n",
    "\n",
    "$$u_{2j} = \\frac{a_{2j} - u_{12}u_{1j}}{u_{22}}$$\n",
    "\n",
    "Once this decomposition has been performed, we proceed in much the same way as we did with the LU factorization.\n",
    "\n",
    "$$Ax = U^TUx = U^T(Ux) = U^Ty = b$$\n",
    "\n",
    "$$Ux = y$$"
   ]
  },
  {
   "cell_type": "code",
   "execution_count": null,
   "metadata": {
    "collapsed": true
   },
   "outputs": [],
   "source": []
  }
 ],
 "metadata": {
  "kernelspec": {
   "display_name": "Julia 0.3.10",
   "language": "julia",
   "name": "julia-0.3"
  },
  "language_info": {
   "name": "julia",
   "version": "0.3.10"
  }
 },
 "nbformat": 4,
 "nbformat_minor": 0
}
