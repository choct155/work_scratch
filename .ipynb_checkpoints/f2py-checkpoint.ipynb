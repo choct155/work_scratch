{
 "cells": [
  {
   "cell_type": "markdown",
   "metadata": {},
   "source": [
    "# [f2py](http://www.f2py.com/) Test"
   ]
  },
  {
   "cell_type": "markdown",
   "metadata": {},
   "source": [
    "This is just a Notebook to provide scratch space for figuring out how to insert fortran routines in Python.  The procedure here is as follows:\n",
    "\n",
    "1. Write a fortran program;\n",
    "2. Compile that program and convert it to a module (e.g. `sudo f2py -c -m hello_world hello_world.f90`);\n",
    "3. Once the subroutine is compiled, it can be called as a library (e.g. `hello_world`);\n",
    "4. Then execute the appropriate method with the appropriate inputs."
   ]
  },
  {
   "cell_type": "code",
   "execution_count": 4,
   "metadata": {
    "collapsed": false
   },
   "outputs": [],
   "source": [
    "import hello_world"
   ]
  },
  {
   "cell_type": "code",
   "execution_count": 6,
   "metadata": {
    "collapsed": false
   },
   "outputs": [
    {
     "name": "stdout",
     "output_type": "stream",
     "text": [
      "This module 'hello_world' is auto-generated with f2py (version:2).\n",
      "Functions:\n",
      "  hello(a)\n",
      ".\n"
     ]
    }
   ],
   "source": [
    "print hello_world.__doc__"
   ]
  },
  {
   "cell_type": "markdown",
   "metadata": {},
   "source": [
    "As can be seen, the module holds a function `hello()` that takes a single parameter, `a`.  Does it in fact work?"
   ]
  },
  {
   "cell_type": "code",
   "execution_count": 7,
   "metadata": {
    "collapsed": true
   },
   "outputs": [],
   "source": [
    "hello_world.hello(5)"
   ]
  },
  {
   "cell_type": "code",
   "execution_count": 9,
   "metadata": {
    "collapsed": false
   },
   "outputs": [
    {
     "name": "stdout",
     "output_type": "stream",
     "text": [
      "Help on module hello_world:\n",
      "\n",
      "NAME\n",
      "    hello_world\n",
      "\n",
      "FILE\n",
      "    /home/choct155/Projects/work_scratch/hello_world.so\n",
      "\n",
      "DESCRIPTION\n",
      "    This module 'hello_world' is auto-generated with f2py (version:2).\n",
      "    Functions:\n",
      "      hello(a)\n",
      "    .\n",
      "\n",
      "DATA\n",
      "    __version__ = '$Revision: $'\n",
      "    hello = <fortran object>\n",
      "\n",
      "VERSION\n",
      "\n",
      "\n",
      "\n"
     ]
    }
   ],
   "source": [
    "help(hello_world)"
   ]
  },
  {
   "cell_type": "code",
   "execution_count": 8,
   "metadata": {
    "collapsed": false
   },
   "outputs": [
    {
     "name": "stderr",
     "output_type": "stream",
     "text": [
      "ERROR: Line magic function `%fortranmagic` not found.\n"
     ]
    }
   ],
   "source": [
    "%fortranmagic"
   ]
  }
 ],
 "metadata": {
  "kernelspec": {
   "display_name": "Python 2",
   "language": "python",
   "name": "python2"
  },
  "language_info": {
   "codemirror_mode": {
    "name": "ipython",
    "version": 2
   },
   "file_extension": ".py",
   "mimetype": "text/x-python",
   "name": "python",
   "nbconvert_exporter": "python",
   "pygments_lexer": "ipython2",
   "version": "2.7.10"
  }
 },
 "nbformat": 4,
 "nbformat_minor": 0
}
