{
 "cells": [
  {
   "cell_type": "markdown",
   "metadata": {},
   "source": [
    "# How Can One Save an Instance of an Estimator?"
   ]
  },
  {
   "cell_type": "markdown",
   "metadata": {},
   "source": [
    "I have a situation in which I want to use an estimator that has been fit in an original Notebook to predict new values given data in a new Notebook.  The question is, can I save a specific model instance to be read in elsewhere?  This Notebook will run a basic regression on simulated data.  We will then attempt to write the model to disk, read back in, and use it to predict outcomes on new data."
   ]
  },
  {
   "cell_type": "code",
   "execution_count": 2,
   "metadata": {
    "collapsed": false
   },
   "outputs": [
    {
     "name": "stderr",
     "output_type": "stream",
     "text": [
      "/home/choct155/analysis/Anaconda/lib/python2.7/site-packages/pytz/__init__.py:29: UserWarning: Module argparse was already imported from /home/choct155/analysis/Anaconda/lib/python2.7/argparse.pyc, but /home/choct155/analysis/Anaconda/lib/python2.7/site-packages is being added to sys.path\n",
      "  from pkg_resources import resource_stream\n"
     ]
    }
   ],
   "source": [
    "#Basic data manipulation\n",
    "import numpy as np\n",
    "import pandas as pd\n",
    "from pandas import Series, DataFrame\n",
    "\n",
    "#Estimating methods\n",
    "import statsmodels.formula.api as smf\n",
    "from statsmodels.api import add_constant\n",
    "\n",
    "#Serialization\n",
    "import pickle"
   ]
  },
  {
   "cell_type": "markdown",
   "metadata": {},
   "source": [
    "## Simulation of Input Data"
   ]
  },
  {
   "cell_type": "markdown",
   "metadata": {},
   "source": [
    "We are going to follow a very basic model:\n",
    "\n",
    "$Y = X_1 + 2X_2 + \\epsilon$"
   ]
  },
  {
   "cell_type": "code",
   "execution_count": 3,
   "metadata": {
    "collapsed": false,
    "scrolled": true
   },
   "outputs": [
    {
     "data": {
      "text/html": [
       "<div>\n",
       "<table border=\"1\" class=\"dataframe\">\n",
       "  <thead>\n",
       "    <tr style=\"text-align: right;\">\n",
       "      <th></th>\n",
       "      <th>x1</th>\n",
       "      <th>x2</th>\n",
       "      <th>y</th>\n",
       "    </tr>\n",
       "  </thead>\n",
       "  <tbody>\n",
       "    <tr>\n",
       "      <th>0</th>\n",
       "      <td>1.311481</td>\n",
       "      <td>16.275137</td>\n",
       "      <td>36.074721</td>\n",
       "    </tr>\n",
       "    <tr>\n",
       "      <th>1</th>\n",
       "      <td>13.726295</td>\n",
       "      <td>9.042914</td>\n",
       "      <td>33.309708</td>\n",
       "    </tr>\n",
       "    <tr>\n",
       "      <th>2</th>\n",
       "      <td>3.860232</td>\n",
       "      <td>2.522955</td>\n",
       "      <td>11.819283</td>\n",
       "    </tr>\n",
       "    <tr>\n",
       "      <th>3</th>\n",
       "      <td>8.099549</td>\n",
       "      <td>17.826560</td>\n",
       "      <td>45.397003</td>\n",
       "    </tr>\n",
       "    <tr>\n",
       "      <th>4</th>\n",
       "      <td>3.679611</td>\n",
       "      <td>19.469993</td>\n",
       "      <td>45.348716</td>\n",
       "    </tr>\n",
       "    <tr>\n",
       "      <th>5</th>\n",
       "      <td>15.617569</td>\n",
       "      <td>9.294960</td>\n",
       "      <td>36.539488</td>\n",
       "    </tr>\n",
       "    <tr>\n",
       "      <th>6</th>\n",
       "      <td>10.883476</td>\n",
       "      <td>4.853404</td>\n",
       "      <td>22.717539</td>\n",
       "    </tr>\n",
       "    <tr>\n",
       "      <th>7</th>\n",
       "      <td>11.192434</td>\n",
       "      <td>10.645524</td>\n",
       "      <td>33.743409</td>\n",
       "    </tr>\n",
       "    <tr>\n",
       "      <th>8</th>\n",
       "      <td>17.860653</td>\n",
       "      <td>19.574394</td>\n",
       "      <td>58.589361</td>\n",
       "    </tr>\n",
       "    <tr>\n",
       "      <th>9</th>\n",
       "      <td>18.840269</td>\n",
       "      <td>13.664990</td>\n",
       "      <td>49.124292</td>\n",
       "    </tr>\n",
       "    <tr>\n",
       "      <th>10</th>\n",
       "      <td>9.501901</td>\n",
       "      <td>7.476903</td>\n",
       "      <td>26.913528</td>\n",
       "    </tr>\n",
       "    <tr>\n",
       "      <th>11</th>\n",
       "      <td>15.507740</td>\n",
       "      <td>9.017095</td>\n",
       "      <td>35.301929</td>\n",
       "    </tr>\n",
       "    <tr>\n",
       "      <th>12</th>\n",
       "      <td>14.215088</td>\n",
       "      <td>13.052119</td>\n",
       "      <td>42.953825</td>\n",
       "    </tr>\n",
       "    <tr>\n",
       "      <th>13</th>\n",
       "      <td>19.941801</td>\n",
       "      <td>14.357525</td>\n",
       "      <td>49.690492</td>\n",
       "    </tr>\n",
       "    <tr>\n",
       "      <th>14</th>\n",
       "      <td>6.642753</td>\n",
       "      <td>16.916499</td>\n",
       "      <td>43.050980</td>\n",
       "    </tr>\n",
       "    <tr>\n",
       "      <th>15</th>\n",
       "      <td>15.304503</td>\n",
       "      <td>19.129957</td>\n",
       "      <td>54.975559</td>\n",
       "    </tr>\n",
       "    <tr>\n",
       "      <th>16</th>\n",
       "      <td>6.349233</td>\n",
       "      <td>7.859977</td>\n",
       "      <td>24.986863</td>\n",
       "    </tr>\n",
       "    <tr>\n",
       "      <th>17</th>\n",
       "      <td>6.682028</td>\n",
       "      <td>14.537808</td>\n",
       "      <td>37.748680</td>\n",
       "    </tr>\n",
       "    <tr>\n",
       "      <th>18</th>\n",
       "      <td>19.411112</td>\n",
       "      <td>2.481062</td>\n",
       "      <td>26.467991</td>\n",
       "    </tr>\n",
       "    <tr>\n",
       "      <th>19</th>\n",
       "      <td>18.588932</td>\n",
       "      <td>6.671154</td>\n",
       "      <td>33.245149</td>\n",
       "    </tr>\n",
       "    <tr>\n",
       "      <th>20</th>\n",
       "      <td>3.589957</td>\n",
       "      <td>10.498663</td>\n",
       "      <td>27.142193</td>\n",
       "    </tr>\n",
       "    <tr>\n",
       "      <th>21</th>\n",
       "      <td>7.461259</td>\n",
       "      <td>6.685206</td>\n",
       "      <td>23.438468</td>\n",
       "    </tr>\n",
       "    <tr>\n",
       "      <th>22</th>\n",
       "      <td>18.084916</td>\n",
       "      <td>16.424868</td>\n",
       "      <td>52.474729</td>\n",
       "    </tr>\n",
       "    <tr>\n",
       "      <th>23</th>\n",
       "      <td>6.421158</td>\n",
       "      <td>10.476339</td>\n",
       "      <td>28.586230</td>\n",
       "    </tr>\n",
       "    <tr>\n",
       "      <th>24</th>\n",
       "      <td>3.041898</td>\n",
       "      <td>5.010083</td>\n",
       "      <td>14.586487</td>\n",
       "    </tr>\n",
       "    <tr>\n",
       "      <th>25</th>\n",
       "      <td>11.218644</td>\n",
       "      <td>10.757200</td>\n",
       "      <td>34.784791</td>\n",
       "    </tr>\n",
       "    <tr>\n",
       "      <th>26</th>\n",
       "      <td>18.531980</td>\n",
       "      <td>14.571706</td>\n",
       "      <td>49.132909</td>\n",
       "    </tr>\n",
       "    <tr>\n",
       "      <th>27</th>\n",
       "      <td>12.325950</td>\n",
       "      <td>6.280259</td>\n",
       "      <td>27.784226</td>\n",
       "    </tr>\n",
       "    <tr>\n",
       "      <th>28</th>\n",
       "      <td>19.936263</td>\n",
       "      <td>8.804221</td>\n",
       "      <td>39.095910</td>\n",
       "    </tr>\n",
       "    <tr>\n",
       "      <th>29</th>\n",
       "      <td>19.134531</td>\n",
       "      <td>16.460123</td>\n",
       "      <td>54.532793</td>\n",
       "    </tr>\n",
       "    <tr>\n",
       "      <th>30</th>\n",
       "      <td>8.865642</td>\n",
       "      <td>6.986856</td>\n",
       "      <td>24.293380</td>\n",
       "    </tr>\n",
       "    <tr>\n",
       "      <th>31</th>\n",
       "      <td>14.476358</td>\n",
       "      <td>9.432578</td>\n",
       "      <td>35.213606</td>\n",
       "    </tr>\n",
       "    <tr>\n",
       "      <th>32</th>\n",
       "      <td>7.711831</td>\n",
       "      <td>12.667964</td>\n",
       "      <td>34.225104</td>\n",
       "    </tr>\n",
       "    <tr>\n",
       "      <th>33</th>\n",
       "      <td>4.539570</td>\n",
       "      <td>19.239760</td>\n",
       "      <td>44.749644</td>\n",
       "    </tr>\n",
       "    <tr>\n",
       "      <th>34</th>\n",
       "      <td>16.383639</td>\n",
       "      <td>12.448030</td>\n",
       "      <td>43.377055</td>\n",
       "    </tr>\n",
       "    <tr>\n",
       "      <th>35</th>\n",
       "      <td>7.605290</td>\n",
       "      <td>4.263254</td>\n",
       "      <td>17.542403</td>\n",
       "    </tr>\n",
       "    <tr>\n",
       "      <th>36</th>\n",
       "      <td>11.735583</td>\n",
       "      <td>5.972081</td>\n",
       "      <td>25.694998</td>\n",
       "    </tr>\n",
       "    <tr>\n",
       "      <th>37</th>\n",
       "      <td>6.447540</td>\n",
       "      <td>4.287420</td>\n",
       "      <td>16.207232</td>\n",
       "    </tr>\n",
       "    <tr>\n",
       "      <th>38</th>\n",
       "      <td>12.337901</td>\n",
       "      <td>6.655191</td>\n",
       "      <td>28.233137</td>\n",
       "    </tr>\n",
       "    <tr>\n",
       "      <th>39</th>\n",
       "      <td>12.945371</td>\n",
       "      <td>5.536487</td>\n",
       "      <td>25.117990</td>\n",
       "    </tr>\n",
       "    <tr>\n",
       "      <th>40</th>\n",
       "      <td>5.286899</td>\n",
       "      <td>1.815065</td>\n",
       "      <td>10.219498</td>\n",
       "    </tr>\n",
       "    <tr>\n",
       "      <th>41</th>\n",
       "      <td>1.031674</td>\n",
       "      <td>16.931414</td>\n",
       "      <td>37.726901</td>\n",
       "    </tr>\n",
       "    <tr>\n",
       "      <th>42</th>\n",
       "      <td>19.829094</td>\n",
       "      <td>6.208244</td>\n",
       "      <td>34.423089</td>\n",
       "    </tr>\n",
       "    <tr>\n",
       "      <th>43</th>\n",
       "      <td>1.656507</td>\n",
       "      <td>6.997131</td>\n",
       "      <td>17.379602</td>\n",
       "    </tr>\n",
       "    <tr>\n",
       "      <th>44</th>\n",
       "      <td>4.080104</td>\n",
       "      <td>17.987640</td>\n",
       "      <td>42.127449</td>\n",
       "    </tr>\n",
       "    <tr>\n",
       "      <th>45</th>\n",
       "      <td>12.297323</td>\n",
       "      <td>18.824513</td>\n",
       "      <td>51.924120</td>\n",
       "    </tr>\n",
       "    <tr>\n",
       "      <th>46</th>\n",
       "      <td>12.735000</td>\n",
       "      <td>5.307644</td>\n",
       "      <td>25.976220</td>\n",
       "    </tr>\n",
       "    <tr>\n",
       "      <th>47</th>\n",
       "      <td>14.396841</td>\n",
       "      <td>18.391246</td>\n",
       "      <td>53.753521</td>\n",
       "    </tr>\n",
       "    <tr>\n",
       "      <th>48</th>\n",
       "      <td>13.334311</td>\n",
       "      <td>11.964308</td>\n",
       "      <td>39.836112</td>\n",
       "    </tr>\n",
       "    <tr>\n",
       "      <th>49</th>\n",
       "      <td>4.260579</td>\n",
       "      <td>14.034838</td>\n",
       "      <td>34.885929</td>\n",
       "    </tr>\n",
       "  </tbody>\n",
       "</table>\n",
       "</div>"
      ],
      "text/plain": [
       "           x1         x2          y\n",
       "0    1.311481  16.275137  36.074721\n",
       "1   13.726295   9.042914  33.309708\n",
       "2    3.860232   2.522955  11.819283\n",
       "3    8.099549  17.826560  45.397003\n",
       "4    3.679611  19.469993  45.348716\n",
       "5   15.617569   9.294960  36.539488\n",
       "6   10.883476   4.853404  22.717539\n",
       "7   11.192434  10.645524  33.743409\n",
       "8   17.860653  19.574394  58.589361\n",
       "9   18.840269  13.664990  49.124292\n",
       "10   9.501901   7.476903  26.913528\n",
       "11  15.507740   9.017095  35.301929\n",
       "12  14.215088  13.052119  42.953825\n",
       "13  19.941801  14.357525  49.690492\n",
       "14   6.642753  16.916499  43.050980\n",
       "15  15.304503  19.129957  54.975559\n",
       "16   6.349233   7.859977  24.986863\n",
       "17   6.682028  14.537808  37.748680\n",
       "18  19.411112   2.481062  26.467991\n",
       "19  18.588932   6.671154  33.245149\n",
       "20   3.589957  10.498663  27.142193\n",
       "21   7.461259   6.685206  23.438468\n",
       "22  18.084916  16.424868  52.474729\n",
       "23   6.421158  10.476339  28.586230\n",
       "24   3.041898   5.010083  14.586487\n",
       "25  11.218644  10.757200  34.784791\n",
       "26  18.531980  14.571706  49.132909\n",
       "27  12.325950   6.280259  27.784226\n",
       "28  19.936263   8.804221  39.095910\n",
       "29  19.134531  16.460123  54.532793\n",
       "30   8.865642   6.986856  24.293380\n",
       "31  14.476358   9.432578  35.213606\n",
       "32   7.711831  12.667964  34.225104\n",
       "33   4.539570  19.239760  44.749644\n",
       "34  16.383639  12.448030  43.377055\n",
       "35   7.605290   4.263254  17.542403\n",
       "36  11.735583   5.972081  25.694998\n",
       "37   6.447540   4.287420  16.207232\n",
       "38  12.337901   6.655191  28.233137\n",
       "39  12.945371   5.536487  25.117990\n",
       "40   5.286899   1.815065  10.219498\n",
       "41   1.031674  16.931414  37.726901\n",
       "42  19.829094   6.208244  34.423089\n",
       "43   1.656507   6.997131  17.379602\n",
       "44   4.080104  17.987640  42.127449\n",
       "45  12.297323  18.824513  51.924120\n",
       "46  12.735000   5.307644  25.976220\n",
       "47  14.396841  18.391246  53.753521\n",
       "48  13.334311  11.964308  39.836112\n",
       "49   4.260579  14.034838  34.885929"
      ]
     },
     "execution_count": 3,
     "metadata": {},
     "output_type": "execute_result"
    }
   ],
   "source": [
    "#Generate random vectors for regressors\n",
    "x1,x2=(np.random.uniform(20,size=50),np.random.uniform(20,size=50))\n",
    "\n",
    "#Generate dependent variable\n",
    "y=x1 + 2*x2 + [np.random.uniform(3) for val in range(len(x1))]\n",
    "\n",
    "#Capture data in DF\n",
    "data=DataFrame({'y':y,\n",
    "                'x1':x1,\n",
    "                'x2':x2})\n",
    "\n",
    "data"
   ]
  },
  {
   "cell_type": "markdown",
   "metadata": {},
   "source": [
    "## Estimation of the Model"
   ]
  },
  {
   "cell_type": "markdown",
   "metadata": {},
   "source": [
    "We are just going to fit a standard OLS estimator..."
   ]
  },
  {
   "cell_type": "code",
   "execution_count": 4,
   "metadata": {
    "collapsed": false
   },
   "outputs": [
    {
     "data": {
      "text/html": [
       "<table class=\"simpletable\">\n",
       "<caption>OLS Regression Results</caption>\n",
       "<tr>\n",
       "  <th>Dep. Variable:</th>            <td>y</td>        <th>  R-squared:         </th> <td>   0.998</td> \n",
       "</tr>\n",
       "<tr>\n",
       "  <th>Model:</th>                   <td>OLS</td>       <th>  Adj. R-squared:    </th> <td>   0.998</td> \n",
       "</tr>\n",
       "<tr>\n",
       "  <th>Method:</th>             <td>Least Squares</td>  <th>  F-statistic:       </th> <td>1.062e+04</td>\n",
       "</tr>\n",
       "<tr>\n",
       "  <th>Date:</th>             <td>Sun, 19 Jul 2015</td> <th>  Prob (F-statistic):</th> <td>3.83e-63</td> \n",
       "</tr>\n",
       "<tr>\n",
       "  <th>Time:</th>                 <td>15:11:14</td>     <th>  Log-Likelihood:    </th> <td> -42.166</td> \n",
       "</tr>\n",
       "<tr>\n",
       "  <th>No. Observations:</th>      <td>    50</td>      <th>  AIC:               </th> <td>   90.33</td> \n",
       "</tr>\n",
       "<tr>\n",
       "  <th>Df Residuals:</th>          <td>    47</td>      <th>  BIC:               </th> <td>   96.07</td> \n",
       "</tr>\n",
       "<tr>\n",
       "  <th>Df Model:</th>              <td>     2</td>      <th>                     </th>     <td> </td>    \n",
       "</tr>\n",
       "<tr>\n",
       "  <th>Covariance Type:</th>      <td>nonrobust</td>    <th>                     </th>     <td> </td>    \n",
       "</tr>\n",
       "</table>\n",
       "<table class=\"simpletable\">\n",
       "<tr>\n",
       "      <td></td>         <th>coef</th>     <th>std err</th>      <th>t</th>      <th>P>|t|</th> <th>[95.0% Conf. Int.]</th> \n",
       "</tr>\n",
       "<tr>\n",
       "  <th>Intercept</th> <td>    2.0839</td> <td>    0.246</td> <td>    8.465</td> <td> 0.000</td> <td>    1.589     2.579</td>\n",
       "</tr>\n",
       "<tr>\n",
       "  <th>x1</th>        <td>    0.9844</td> <td>    0.014</td> <td>   68.270</td> <td> 0.000</td> <td>    0.955     1.013</td>\n",
       "</tr>\n",
       "<tr>\n",
       "  <th>x2</th>        <td>    2.0087</td> <td>    0.016</td> <td>  127.955</td> <td> 0.000</td> <td>    1.977     2.040</td>\n",
       "</tr>\n",
       "</table>\n",
       "<table class=\"simpletable\">\n",
       "<tr>\n",
       "  <th>Omnibus:</th>       <td>15.653</td> <th>  Durbin-Watson:     </th> <td>   2.368</td>\n",
       "</tr>\n",
       "<tr>\n",
       "  <th>Prob(Omnibus):</th> <td> 0.000</td> <th>  Jarque-Bera (JB):  </th> <td>   3.381</td>\n",
       "</tr>\n",
       "<tr>\n",
       "  <th>Skew:</th>          <td> 0.040</td> <th>  Prob(JB):          </th> <td>   0.184</td>\n",
       "</tr>\n",
       "<tr>\n",
       "  <th>Kurtosis:</th>      <td> 1.729</td> <th>  Cond. No.          </th> <td>    49.5</td>\n",
       "</tr>\n",
       "</table>"
      ],
      "text/plain": [
       "<class 'statsmodels.iolib.summary.Summary'>\n",
       "\"\"\"\n",
       "                            OLS Regression Results                            \n",
       "==============================================================================\n",
       "Dep. Variable:                      y   R-squared:                       0.998\n",
       "Model:                            OLS   Adj. R-squared:                  0.998\n",
       "Method:                 Least Squares   F-statistic:                 1.062e+04\n",
       "Date:                Sun, 19 Jul 2015   Prob (F-statistic):           3.83e-63\n",
       "Time:                        15:11:14   Log-Likelihood:                -42.166\n",
       "No. Observations:                  50   AIC:                             90.33\n",
       "Df Residuals:                      47   BIC:                             96.07\n",
       "Df Model:                           2                                         \n",
       "Covariance Type:            nonrobust                                         \n",
       "==============================================================================\n",
       "                 coef    std err          t      P>|t|      [95.0% Conf. Int.]\n",
       "------------------------------------------------------------------------------\n",
       "Intercept      2.0839      0.246      8.465      0.000         1.589     2.579\n",
       "x1             0.9844      0.014     68.270      0.000         0.955     1.013\n",
       "x2             2.0087      0.016    127.955      0.000         1.977     2.040\n",
       "==============================================================================\n",
       "Omnibus:                       15.653   Durbin-Watson:                   2.368\n",
       "Prob(Omnibus):                  0.000   Jarque-Bera (JB):                3.381\n",
       "Skew:                           0.040   Prob(JB):                        0.184\n",
       "Kurtosis:                       1.729   Cond. No.                         49.5\n",
       "==============================================================================\n",
       "\n",
       "Warnings:\n",
       "[1] Standard Errors assume that the covariance matrix of the errors is correctly specified.\n",
       "\"\"\""
      ]
     },
     "execution_count": 4,
     "metadata": {},
     "output_type": "execute_result"
    }
   ],
   "source": [
    "#Fit model\n",
    "model=smf.ols(formula='y ~ x1 + x2', data=data).fit()\n",
    "\n",
    "model.summary()"
   ]
  },
  {
   "cell_type": "markdown",
   "metadata": {},
   "source": [
    "To provide a point of comparison, we will use the regressor subset to predict `y`."
   ]
  },
  {
   "cell_type": "code",
   "execution_count": 5,
   "metadata": {
    "collapsed": false
   },
   "outputs": [
    {
     "data": {
      "text/plain": [
       "array([ 36.06628213,  33.76005919,  10.95161804,  45.8646416 ,\n",
       "        44.81484465,  36.12807557,  22.54628823,  34.48488566,\n",
       "        58.98413443,  48.07840112,  26.45603638,  35.46182233,\n",
       "        42.29439412,  50.55380706,  42.60258163,  55.57517379,\n",
       "        24.12207072,  37.8632359 ,  26.175497  ,  33.78267366,\n",
       "        26.7061378 ,  22.85700387,  52.87853328,  29.44828355,\n",
       "        15.14188581,  34.73500749,  49.59622284,  26.83231835,\n",
       "        39.39359239,  53.98257151,  24.84536978,  35.28111599,\n",
       "        35.12105566,  45.19891168,  43.21566454,  18.13387863,\n",
       "        25.63214349,  17.04275049,  27.59719874,  25.9480733 ,\n",
       "        10.93408619,  37.10908876,  34.07363309,  17.769456  ,\n",
       "        42.2315238 ,  52.00142002,  25.28131557,  53.19785937,\n",
       "        39.24231684,  34.46929929])"
      ]
     },
     "execution_count": 5,
     "metadata": {},
     "output_type": "execute_result"
    }
   ],
   "source": [
    "pred_y=model.predict(data[['x1','x2']])\n",
    "\n",
    "pred_y"
   ]
  },
  {
   "cell_type": "markdown",
   "metadata": {
    "collapsed": true
   },
   "source": [
    "## Writing the Model to Disk"
   ]
  },
  {
   "cell_type": "markdown",
   "metadata": {},
   "source": [
    "Now that we have instantiated this model object, let's see if we can write it to disk.  To do this, we are going to use a method called \"pickling\", which serializes an object into a byte stream so that it may be written to disk.  In theory, we can read this same byte stream back elsewhere, and use it to reconstitute the object that had been written to disk.\n",
    "\n",
    "So, what exactly are we writing to disk?  Here is the ASCII version of the byte stream:"
   ]
  },
  {
   "cell_type": "code",
   "execution_count": 6,
   "metadata": {
    "collapsed": false
   },
   "outputs": [
    {
     "data": {
      "text/plain": [
       "'ccopy_reg\\n_reconstructor\\np0\\n(cstatsmodels.regression.linear_model\\nRegressionResultsWrapper\\np1\\nc__builtin__\\nobject\\np2\\nNtp3\\nRp4\\n(dp5\\nS\\'__doc__\\'\\np6\\nS\\'\\\\n    Results class for for an OLS model.\\\\n\\\\n    Most of the methods and attributes are inherited from RegressionResults.\\\\n    The special methods that are only available for OLS are:\\\\n\\\\n    - get_influence\\\\n    - outlier_test\\\\n    - el_test\\\\n    - conf_int_el\\\\n\\\\n    See Also\\\\n    --------\\\\n    RegressionResults\\\\n\\\\n    \\'\\np7\\nsS\\'_results\\'\\np8\\ng0\\n(cstatsmodels.regression.linear_model\\nOLSResults\\np9\\ng2\\nNtp10\\nRp11\\n(dp12\\nS\\'normalized_cov_params\\'\\np13\\ncnumpy.core.multiarray\\n_reconstruct\\np14\\n(cnumpy\\nndarray\\np15\\n(I0\\ntp16\\nS\\'b\\'\\np17\\ntp18\\nRp19\\n(I1\\n(I3\\nI3\\ntp20\\ncnumpy\\ndtype\\np21\\n(S\\'f8\\'\\np22\\nI0\\nI1\\ntp23\\nRp24\\n(I3\\nS\\'<\\'\\np25\\nNNNI-1\\nI-1\\nI0\\ntp26\\nbI00\\nS\\'\\\\xbc\\\\x02\\\\xc3\\\\x9e\\\\xb0\\\\x0e\\\\xc7?\\\\xae\\\\xa2\\\\xd5\\\\xdb\\\\np{\\\\xbf\\\\xa5\\\\xd9h\\\\xca\\\\x179\\\\x80\\\\xbf\\\\xae\\\\xa2\\\\xd5\\\\xdb\\\\np{\\\\xbff\\\\xef*\\\\xf3\\\\xe7?D?q\\\\xef\\\\xf1\\\\xb9\\\\x81o\\\\xe0\\\\xbe\\\\xa5\\\\xd9h\\\\xca\\\\x179\\\\x80\\\\xbfq\\\\xef\\\\xf1\\\\xb9\\\\x81o\\\\xe0\\\\xbe\\\\xc9\\\\x99\\\\x88\\\\xd0\\\\x8e\\\\x00H?\\'\\np27\\ntp28\\nbsS\\'use_t\\'\\np29\\nI01\\nsS\\'df_model\\'\\np30\\nF2.0\\nsS\\'diagn\\'\\np31\\n(dp32\\nS\\'omni\\'\\np33\\ncnumpy.core.multiarray\\nscalar\\np34\\n(g24\\nS\\';\\\\xe9g\\\\x902N/@\\'\\np35\\ntp36\\nRp37\\nsS\\'skew\\'\\np38\\nF0.039770925364450094\\nsS\\'mineigval\\'\\np39\\ng34\\n(g24\\nS\\'B\\\\xbc\\\\xba\\\\xf4\\\\xcc!\\\\x16@\\'\\np40\\ntp41\\nRp42\\nsS\\'condno\\'\\np43\\ng34\\n(g24\\nS\\'#\\\\x04U\\\\x17\\\\xf2\\\\xbfH@\\'\\np44\\ntp45\\nRp46\\nsS\\'jbpv\\'\\np47\\ng34\\n(g24\\nS\\'\\\\xd8`\\\\xc3d\\\\x88\\\\x9b\\\\xc7?\\'\\np48\\ntp49\\nRp50\\nsS\\'omnipv\\'\\np51\\ng34\\n(g24\\nS\"J\\\\xe9 \\\\xf3W\\':?\"\\np52\\ntp53\\nRp54\\nsS\\'kurtosis\\'\\np55\\nF1.7285762955456971\\nsS\\'jb\\'\\np56\\nF3.3809273797201693\\nssS\\'df_resid\\'\\np57\\nF47.0\\nsS\\'cov_kwds\\'\\np58\\n(dp59\\nS\\'description\\'\\np60\\nS\\'Standard Errors assume that the covariance matrix of the errors is correctly specified.\\'\\np61\\nssS\\'_wexog_singular_values\\'\\np62\\ng14\\n(g15\\n(I0\\ntp63\\ng17\\ntp64\\nRp65\\n(I1\\n(I3\\ntp66\\ng24\\nI00\\nS\\'\\\\x7f\\\\xbc^\\\\xdb\\\\xd0\\\\x1b]@\\\\xa7$.\\\\xde70C@\\\\xd3\\\\xaacv`\\\\xd1\\\\x02@\\'\\np67\\ntp68\\nbsS\\'cov_type\\'\\np69\\nS\\'nonrobust\\'\\np70\\nsS\\'k_constant\\'\\np71\\nI1\\nsS\\'_cache\\'\\np72\\ng0\\n(cstatsmodels.tools.decorators\\nResettableCache\\np73\\nc__builtin__\\ndict\\np74\\n(dp75\\nS\\'pvalues\\'\\np76\\ng14\\n(g15\\n(I0\\ntp77\\ng17\\ntp78\\nRp79\\n(I1\\n(I3\\ntp80\\ng24\\nI00\\nS\\'\\\\xc6 \\\\xaa\\\\xe2J\\\\x97\\\\xcc=d\\\\x10R\\\\xfc\\\\x91)\\\\xfa5b\\\\xf1\\\\xc8\\\\xc0\\\\ngT3\\'\\np81\\ntp82\\nbsS\\'bic\\'\\np83\\ng34\\n(g24\\nS\\'\\\\xb0\\\\x88m\\\\xd1d\\\\x04X@\\'\\np84\\ntp85\\nRp86\\nsS\\'ssr\\'\\np87\\ng34\\n(g24\\nS\\'\\\\xeb\\\\x93\\\\x97~\\\\xf9\\\\x9f/@\\'\\np88\\ntp89\\nRp90\\nsS\\'nobs\\'\\np91\\nF50.0\\nsS\\'wresid\\'\\np92\\ng14\\n(g15\\n(I0\\ntp93\\ng17\\ntp94\\nRp95\\n(I1\\n(I50\\ntp96\\ng24\\nI00\\nS\"\\\\x00\\\\x80GF^H\\\\x81?\\\\x80\\\\x13^\\\\x81\\\\x8d\\\\xd2\\\\xdc\\\\xbf \\\\x10\\\\xbc\\\\x06\\\\xe9\\\\xc3\\\\xeb?\\\\x00\\\\xf6\\\\x88\\\\xba\\\\xca\\\\xed\\\\xdd\\\\xbf@\\\\xc22\\\\xbdx\\\\x15\\\\xe1?\\\\x00\\\\xf5^V\\\\x96T\\\\xda?\\\\x00\\'.\\\\x9e\\\\x89\\\\xeb\\\\xc5?\\\\x80\\\\x8f\\\\xc5\\\\xe9-\\\\xba\\\\xe7\\\\xbf\\\\x00\\\\xa6xu\\\\xf8C\\\\xd9\\\\xbf\\\\xc0G\\\\x85\\\\xfb\\\\xf7\\\\xbb\\\\xf0?\\\\xc0\\\\x8c\\\\xa1\\\\x01\\\\x8cG\\\\xdd?\\\\x00/KZdw\\\\xc4\\\\xbf\\\\x00\\\\x87\\\\x0c\\\\xdb\\\\x0e\\\\x1a\\\\xe5?\\\\xc0h7%G\\\\xa0\\\\xeb\\\\xbf\\\\x80k\\\\xf8\\\\xcb\\\\x90\\\\xb2\\\\xdc?\\\\x00\\\\x0c`V\\\\x0b0\\\\xe3\\\\xbf\\\\xa0\\\\xe2\\\\x9c\\\\xe8`\\\\xac\\\\xeb?\\\\x00\\\\xb0!\\\\xa4\\\\x8dS\\\\xbd\\\\xbf\\\\x00+y\\\\x987\\\\xb8\\\\xd2?\\\\xc0\\\\xde\\\\xf4\\\\xfcf3\\\\xe1\\\\xbf\\\\xc0ap\\\\xeeS\\\\xe8\\\\xdb?\\\\x80\\\\xa2\\\\xbb\\\\x89[\\\\x9b\\\\xe2?\\\\x00\\\\xc9\\\\xa8\\\\n\\\\xec\\\\xd7\\\\xd9\\\\xbf\\\\xe0%I5\\\\xf2\\\\x95\\\\xeb\\\\xbf\\\\xa0\\\\xea\\\\xbc-\\\\xd3\\\\xc5\\\\xe1\\\\xbf\\\\x00\\\\xa8\\\\tFH}\\\\xa9?\\\\x80\\\\xf0\\\\xf6b\\\\xee\\\\xa6\\\\xdd\\\\xbf \\\\xf6\\\\xaf\\\\xea\\\\x06v\\\\xee?\\\\x00\\\\xca\\\\xeb\\\\x8d9\\\\r\\\\xd3\\\\xbf\\\\x80\\\\xa1R?j\\\\x9b\\\\xe1?\\\\x00\\\\xcc>I\\\\xe7\\\\xa9\\\\xe1\\\\xbf\\\\x00\\\\xd0\\\\xc6QWH\\\\xb1\\\\xbf\\\\xc0\\\\xc7\\\\x97\\\\xc5\\\\xa2\\\\xab\\\\xec\\\\xbf\\\\x80\\\\x083\\\\x1d\\\\xcf\\\\xc0\\\\xdc\\\\xbf\\\\x00#!Bo\\\\xa8\\\\xc4?\\\\xc0\\\\xc1\\\\x8d\\\\xb9]\\\\xed\\\\xe2\\\\xbf\\\\x00\\\\x88Nv8\\\\x17\\\\xb0?\\\\x803\\\\x8b\\\\xf8\\\\x90\\\\xbc\\\\xea\\\\xbf`,f,\\\\x9bY\\\\xe4?\\\\xa0[\\\\x82\\\\x10\\\\x0b\\\\x90\\\\xea\\\\xbfP\\\\x1a\\\\x86{\\\\xe8\\\\xdd\\\\xe6\\\\xbf\\\\x00`eA\\\\x1e\\\\xc5\\\\xe3?\\\\x00\\\\xea\\\\xd6\\\\x1b|]\\\\xd6?\\\\x00t\\\\x86 \\\\\\\\\\\\xf3\\\\xd8\\\\xbf\\\\x00\\\\xb8\\\\x07\\\\xcb\\\\xa1\\\\xa4\\\\xba\\\\xbf\\\\x00\\\\xfa.m\\\\xf7\\\\xc9\\\\xb3\\\\xbf\\\\xc0\\\\xb0\\\\xd6\\\\x90\\\\xa8<\\\\xe6?\\\\x80\\\\xa5\\\\x85p\\\\xfb\\\\xc7\\\\xe1?@\\\\x08Y\\\\xcb^\\\\x00\\\\xe3?\\\\x00\\\\x03\\\\xc6\\\\x9e\\\\r\\\\xaa\\\\xda?\"\\np97\\ntp98\\nbsS\\'mse_resid\\'\\np99\\ng34\\n(g24\\nS\"zI+%\\'\\\\x88\\\\xd5?\"\\np100\\ntp101\\nRp102\\nsS\\'eigenvals\\'\\np103\\ng14\\n(g15\\n(I0\\ntp104\\ng17\\ntp105\\nRp106\\n(I1\\n(I3\\ntp107\\ng24\\nI00\\nS\\'4\\\\x0fa\\\\xbb\\\\x82z\\\\xca@s\\\\xbf\\\\xa5\\\\xff\\\\x15\\\\x03\\\\x97@B\\\\xbc\\\\xba\\\\xf4\\\\xcc!\\\\x16@\\'\\np108\\ntp109\\nbsS\\'bse\\'\\np110\\ng14\\n(g15\\n(I0\\ntp111\\ng17\\ntp112\\nRp113\\n(I1\\n(I3\\ntp114\\ng24\\nI00\\nS\\'{\\\\xfe\\\\xb8\\\\x92\\\\xc9\\\\x82\\\\xcf?\\\\xf4\\\\x11\\\\xb1\\\\x88\\\\xb1\\\\x87\\\\x8d?\\\\x85\\\\x97\\\\x0e53\\\\x13\\\\x90?\\'\\np115\\ntp116\\nbsS\\'mse_model\\'\\np117\\ng34\\n(g24\\nS\\'\\\\xd3l\\\\x11\\\\x03\\\\xc9\\\\xe9\\\\xab@\\'\\np118\\ntp119\\nRp120\\nsS\\'llf\\'\\np121\\ng34\\n(g24\\nS\\'\\\\x18f5\\\\x10I\\\\x15E\\\\xc0\\'\\np122\\ntp123\\nRp124\\nsS\\'scale\\'\\np125\\ng34\\n(g24\\nS\"zI+%\\'\\\\x88\\\\xd5?\"\\np126\\ntp127\\nRp128\\nsS\\'ess\\'\\np129\\ng34\\n(g24\\nS\\'\\\\xd3l\\\\x11\\\\x03\\\\xc9\\\\xe9\\\\xbb@\\'\\np130\\ntp131\\nRp132\\nsS\\'f_pvalue\\'\\np133\\ng34\\n(g24\\nS\\'?\\\\xea\\\\xb6m\\\\xb2=\\\\xf92\\'\\np134\\ntp135\\nRp136\\nsS\\'centered_tss\\'\\np137\\ng34\\n(g24\\nS\\'\\\\x9d\\\\xb8\\\\xd0\\\\xff\\\\x98\\\\xf9\\\\xbb@\\'\\np138\\ntp139\\nRp140\\nsS\\'condition_number\\'\\np141\\ng46\\nsS\\'rsquared_adj\\'\\np142\\ng34\\n(g24\\nS\\'a`\\\\xed\\\\x8d$\\\\xed\\\\xef?\\'\\np143\\ntp144\\nRp145\\nsS\\'tvalues\\'\\np146\\ng14\\n(g15\\n(I0\\ntp147\\ng17\\ntp148\\nRp149\\n(I1\\n(I3\\ntp150\\ng24\\nI00\\nS\\'D\\\\xa3\\\\x19K\\\\t\\\\xee @\\\\xe5~\\\\x1d\\\\xefG\\\\x11Q@3\\\\x17\\\\xacn!\\\\xfd_@\\'\\np151\\ntp152\\nbsS\\'rsquared\\'\\np153\\ng34\\n(g24\\nS\\')\\\\xca\\\\xce\\\\x97\\\\xe9\\\\xed\\\\xef?\\'\\np154\\ntp155\\nRp156\\nsS\\'aic\\'\\np157\\ng34\\n(g24\\nS\\'\\\\x18f5\\\\x10I\\\\x95V@\\'\\np158\\ntp159\\nRp160\\nsS\\'fvalue\\'\\np161\\ng34\\n(g24\\nS\\']~\\\\x9a\\\\x9e\\\\xed\\\\xbd\\\\xc4@\\'\\np162\\ntp163\\nRp164\\nstp165\\nRp166\\n(dp167\\nS\\'_resetdict\\'\\np168\\n(dp169\\nsbsS\\'params\\'\\np170\\ng14\\n(g15\\n(I0\\ntp171\\ng17\\ntp172\\nRp173\\n(I1\\n(I3\\ntp174\\ng24\\nI00\\nS\\'\\\\xc97L\\\\xab\\\\xca\\\\xab\\\\x00@\\\\xd6\\\\x89R\\\\x91\\\\x11\\\\x80\\\\xef?\\\\xbf\\\\xdf\\\\xa63\\\\xc2\\\\x11\\\\x00@\\'\\np175\\ntp176\\nbsS\\'model\\'\\np177\\ng0\\n(cstatsmodels.regression.linear_model\\nOLS\\np178\\ng2\\nNtp179\\nRp180\\n(dp181\\nS\\'_df_resid\\'\\np182\\nF47.0\\nsS\\'_init_keys\\'\\np183\\n(lp184\\nS\\'missing_idx\\'\\np185\\nasS\\'wexog_singular_values\\'\\np186\\ng65\\nsS\\'formula\\'\\np187\\nS\\'y ~ x1 + x2\\'\\np188\\nsS\\'endog\\'\\np189\\ng14\\n(g15\\n(I0\\ntp190\\ng17\\ntp191\\nRp192\\n(I1\\n(I50\\ntp193\\ng24\\nI00\\nS\\'0\\\\x83\\\\xbat\\\\x90\\\\tB@A\\\\xfb\\\\x92\\\\x83\\\\xa4\\\\xa7@@[@\\\\x18\\\\x0by\\\\xa3\\\\\\'@\\\\xa6\\\\xfc\\\\xf8\\\\xfd\\\\xd0\\\\xb2F@\\\\x07\\\\x12R\\\\xb7\\\\xa2\\\\xacF@I\\\\x94g\\\\xf4\\\\rEB@\\\\x8e\\\\xa8\\\\xca\\\\x9e\\\\xb0\\\\xb76@\\\\x04\\\\xda\\\\x1c\\\\x04(\\\\xdf@@=\\\\t\\\\x10-pKM@@\\\\xdb\\\\x18\\\\xcc\\\\xe8\\\\x8fH@m\\\\x0f\\\\xd6\\\\xfc\\\\xdc\\\\xe9:@\\\\x10\\\\x05\\\\x1b\\\\x9a\\\\xa5\\\\xa6A@|\\\\xcdJ\\\\xf0\\\\x16zE@G\\\\xf8\\\\xb5\\\\tb\\\\xd8H@\\\\xe1\\\\x18\\\\xb1\\\\x86\\\\x86\\\\x86E@.\\\\x96\\\\x13\\\\x1e\\\\xdf|K@\\\\x81X\\\\x06\\\\x0e\\\\xa3\\\\xfc8@,\\\\x08\\\\xc1\\\\xbc\\\\xd4\\\\xdfB@8\"\\\\x80=\\\\xcew:@\\\\x08\\\\x80\\\\x9c\\\\na\\\\x9f@@\\\\xe0\\\\xce \\\\xc2f$;@\\\\x04`Xw?p7@4\\\\xbd9\\\\xef\\\\xc3<J@\\\\x8f\\\\xd16$\\\\x13\\\\x96<@\\\\x91\\\\xee\\\\xc2\\\\x0eH,-@4E\\\\xc1\\\\x0btdA@\\\\x92\\\\xeb\\\\xe8*\\\\x03\\\\x91H@\\\\x0b7\\\\x12\\\\x08\\\\xc3\\\\xc8;@.\\\\x81/\\\\xc9F\\\\x8cC@ \\\\xf86\\\\x902DK@\\\\x1aD*\\\\xed\\\\x1aK8@\\\\x1cT*pW\\\\x9bA@\\\\x82\\\\x7ff5\\\\xd0\\\\x1cA@\\\\x83\\\\xe8\\\\xe7Q\\\\xf4_F@\\\\xd5Q\\\\x8fTC\\\\xb0E@R\\\\xb7\\\\xd7\\\\xf0\\\\xda\\\\x8a1@\\\\xc4TW`\\\\xeb\\\\xb19@\\\\x13\\\\xfe\\\\x7f*\\\\r50@\\\\x1d\\\\x88\\\\xb1\\\\xdd\\\\xae;<@\\\\xae\\\\x9c\\\\xfe\\\\x954\\\\x1e9@\\\\xd0G\\\\xf8\\\\x03bp$@\\\\xe8\\\\x1f\\\\xe2\\\\x17\\\\x0b\\\\xddB@*\\\\xddQ\\\\xc7\\\\\\'6A@\\\\xe7\\\\x7f\\\\xed\\\\xa0-a1@\\\\x96\\\\xc7yAP\\\\x10E@\\\\x18\\\\xbdM\\\\x8cI\\\\xf6I@.\\\\x1c\\\\x89\\\\x90\\\\xe9\\\\xf99@\\\\xab\\\\nobs\\\\xe0J@\\\\xac\\\\x8f2\\\\xb8\\\\x05\\\\xebC@\\\\xe4\\\\x0c\\\\xfc\\\\x1afqA@\\'\\np194\\ntp195\\nbsg13\\ng19\\nsS\\'wendog\\'\\np196\\ng192\\nsS\\'_data_attr\\'\\np197\\n(lp198\\nS\\'exog\\'\\np199\\nag189\\naS\\'data.exog\\'\\np200\\naS\\'data.endog\\'\\np201\\naS\\'data.orig_endog\\'\\np202\\naS\\'data.orig_exog\\'\\np203\\naS\\'pinv_wexog\\'\\np204\\nag196\\naS\\'wexog\\'\\np205\\naS\\'weights\\'\\np206\\nasg91\\nF50.0\\nsg71\\nI1\\nsS\\'rank\\'\\np207\\ng34\\n(g21\\n(S\\'i8\\'\\np208\\nI0\\nI1\\ntp209\\nRp210\\n(I3\\nS\\'<\\'\\np211\\nNNNI-1\\nI-1\\nI0\\ntp212\\nbS\\'\\\\x03\\\\x00\\\\x00\\\\x00\\\\x00\\\\x00\\\\x00\\\\x00\\'\\np213\\ntp214\\nRp215\\nsg205\\ng14\\n(g15\\n(I0\\ntp216\\ng17\\ntp217\\nRp218\\n(I1\\n(I50\\nI3\\ntp219\\ng24\\nI00\\nS\\'\\\\x00\\\\x00\\\\x00\\\\x00\\\\x00\\\\x00\\\\xf0?P\\\\xec\\\\xe8#\\\\xd3\\\\xfb\\\\xf4?\\\\xde\\\\x10NhoF0@\\\\x00\\\\x00\\\\x00\\\\x00\\\\x00\\\\x00\\\\xf0?\\\\xc2\\\\xc5\\\\x00\\\\xed\\\\xdcs+@s\\\\xc1\\\\xe2\\\\xc4\\\\xf8\\\\x15\"@\\\\x00\\\\x00\\\\x00\\\\x00\\\\x00\\\\x00\\\\xf0?8Y\\\\xb1$\\\\xc1\\\\xe1\\\\x0e@`\\\\xf3\\\\x04\\\\\\'\\\\x03/\\\\x04@\\\\x00\\\\x00\\\\x00\\\\x00\\\\x00\\\\x00\\\\xf0?\\\\x18\\\\xb3E\\\\x07\\\\xf82 @eB\\\\x8as\\\\x99\\\\xd31@\\\\x00\\\\x00\\\\x00\\\\x00\\\\x00\\\\x00\\\\xf0?p\\\\x949\\\\xbd\\\\xd7o\\\\r@\\\\x84\\\\xba\\\\xebxQx3@\\\\x00\\\\x00\\\\x00\\\\x00\\\\x00\\\\x00\\\\xf0?\"\\\\xf7\\\\x19\\\\xfd1</@\\\\x99\\\\xaa,\\\\xf4\\\\x04\\\\x97\"@\\\\x00\\\\x00\\\\x00\\\\x00\\\\x00\\\\x00\\\\xf0?\\\\xf0\\\\x15r\\\\xffV\\\\xc4%@\\\\\\\\\\\\x1cG\\\\xb2\\\\xe2i\\\\x13@\\\\x00\\\\x00\\\\x00\\\\x00\\\\x00\\\\x00\\\\xf0?\\\\xb6\\\\xdcY\\\\xb8\\\\x86b&@\\\\xa2\\\\xc9\\\\x03\\\\x18\\\\x82J%@\\\\x00\\\\x00\\\\x00\\\\x00\\\\x00\\\\x00\\\\xf0?7\\\\x88\\\\xd4\\\\xbeS\\\\xdc1@\\\\xc2\\\\xb5\\\\xee\\\\x81\\\\x0b\\\\x933@\\\\x00\\\\x00\\\\x00\\\\x00\\\\x00\\\\x00\\\\xf0?|\\\\x86\\\\xdb\\\\xdb\\\\x1b\\\\xd72@\\\\x8ab4\\\\x85yT+@\\\\x00\\\\x00\\\\x00\\\\x00\\\\x00\\\\x00\\\\xf0?\\\\x04\\\\x0f0-\\\\xf9\\\\x00#@\\\\xb4\\\\xea\\\\xcaVY\\\\xe8\\\\x1d@\\\\x00\\\\x00\\\\x00\\\\x00\\\\x00\\\\x00\\\\xf0??\\\\\\\\kx\\\\xf6\\\\x03/@\\\\xaa\\\\x19\\\\xbc\\\\xa3\\\\xc0\\\\x08\"@\\\\x00\\\\x00\\\\x00\\\\x00\\\\x00\\\\x00\\\\xf0?k\\\\xaa\\\\xe3\\\\n n,@\\\\x86\\\\x01\\\\x12O\\\\xaf\\\\x1a*@\\\\x00\\\\x00\\\\x00\\\\x00\\\\x00\\\\x00\\\\xf0?Z?\\\\x92\\\\xdf\\\\x19\\\\xf13@\\\\xa6X\\\\xdd\\\\x85\\\\r\\\\xb7,@\\\\x00\\\\x00\\\\x00\\\\x00\\\\x00\\\\x00\\\\xf0?>\\\\x03\\\\x96\\\\xd7-\\\\x92\\\\x1a@\\\\x8f\\\\t\\\\x86\\\\xa6\\\\x9f\\\\xea0@\\\\x00\\\\x00\\\\x00\\\\x00\\\\x00\\\\x00\\\\xf0?\\\\xfe\\\\x1c\\\\x8c\\\\xd5\\\\xe7\\\\x9b.@H\\\\xc2n\\\\xd5D!3@\\\\x00\\\\x00\\\\x00\\\\x00\\\\x00\\\\x00\\\\xf0?\\\\xa6\\\\xad*K\\\\x9de\\\\x19@<fx\\\\xbc\\\\x9dp\\\\x1f@\\\\x00\\\\x00\\\\x00\\\\x00\\\\x00\\\\x00\\\\xf0?\\\\x9a m\\\\xa0e\\\\xba\\\\x1a@\\\\xd8\\\\x15R\\\\x8a[\\\\x13-@\\\\x00\\\\x00\\\\x00\\\\x00\\\\x00\\\\x00\\\\xf0?\\\\x17\\\\x1b\\\\x1a\\\\xa6>i3@\\\\xc0\\\\xb9$$7\\\\xd9\\\\x03@\\\\x00\\\\x00\\\\x00\\\\x00\\\\x00\\\\x00\\\\xf0?\\\\x9b\\\\x80\\\\x03:\\\\xc4\\\\x962@2\\\\xcb\\\\xb2\\\\x19C\\\\xaf\\\\x1a@\\\\x00\\\\x00\\\\x00\\\\x00\\\\x00\\\\x00\\\\xf0?\\\\x10\\\\x9d,o;\\\\xb8\\\\x0c@\\\\x95r\\\\x0c\\\\xb3P\\\\xff$@\\\\x00\\\\x00\\\\x00\\\\x00\\\\x00\\\\x00\\\\xf0?X=\\\\x12]T\\\\xd8\\\\x1d@`d1\\\\xc1\\\\xa6\\\\xbd\\\\x1a@\\\\x00\\\\x00\\\\x00\\\\x00\\\\x00\\\\x00\\\\xf0?<\\\\xa8\\\\xb1\\\\x0c\\\\xbd\\\\x152@2TC-\\\\xc4l0@\\\\x00\\\\x00\\\\x00\\\\x00\\\\x00\\\\x00\\\\xf0?\\\\xee\\\\x9d\\\\xcd!D\\\\xaf\\\\x19@Ax\\\\\\'\\\\xa4\\\\xe2\\\\xf3$@\\\\x00\\\\x00\\\\x00\\\\x00\\\\x00\\\\x00\\\\xf0?\\\\x88\\\\xa7\\\\x80\\\\xb0\\\\xceU\\\\x08@\\\\x9et\\\\x14,S\\\\n\\\\x14@\\\\x00\\\\x00\\\\x00\\\\x00\\\\x00\\\\x00\\\\xf0?5\\\\xbe\\\\xb3%\\\\xf2o&@\\\\xb1Y\\\\xdc\\\\xb9\\\\xaf\\\\x83%@\\\\x00\\\\x00\\\\x00\\\\x00\\\\x00\\\\x00\\\\xf0?\\\\xbeV\\\\xb0\\\\xdf/\\\\x882@jJ\\\\xe9\\\\xaf\\\\xb6$-@\\\\x00\\\\x00\\\\x00\\\\x00\\\\x00\\\\x00\\\\xf0?\\\\xa0\\\\xdes\\\\xe6\\\\xe2\\\\xa6(@\\\\\\\\{b>\\\\xfc\\\\x1e\\\\x19@\\\\x00\\\\x00\\\\x00\\\\x00\\\\x00\\\\x00\\\\xf0?\\\\xb0\\\\x01.\\\\xea\\\\xae\\\\xef3@Zx`\\\\xca\\\\xc2\\\\x9b!@\\\\x00\\\\x00\\\\x00\\\\x00\\\\x00\\\\x00\\\\xf0?~6~\\\\xa2p\"3@\\\\xcfgQ\\\\x9b\\\\xcau0@\\\\x00\\\\x00\\\\x00\\\\x00\\\\x00\\\\x00\\\\xf0?\\\\n\\\\x04\\\\xb0^5\\\\xbb!@\\\\x18X\\\\xc2t\\\\x8a\\\\xf2\\\\x1b@\\\\x00\\\\x00\\\\x00\\\\x00\\\\x00\\\\x00\\\\xf0?6\\\\x0b?,\\\\xe5\\\\xf3,@1j\\\\x12\\\\xd7z\\\\xdd\"@\\\\x00\\\\x00\\\\x00\\\\x00\\\\x00\\\\x00\\\\xf0?~Z\\\\x93)\\\\xea\\\\xd8\\\\x1e@r\\\\x92\\\\x9ak\\\\xffU)@\\\\x00\\\\x00\\\\x00\\\\x00\\\\x00\\\\x00\\\\xf0?(\\\\xe6$\\\\xf0\\\\x84(\\\\x12@\\\\xf7d\\\\x91\\\\xed`=3@\\\\x00\\\\x00\\\\x00\\\\x00\\\\x00\\\\x00\\\\xf0?\\\\x84$\\\\xbb16b0@\\\\xb4\\\\xe7q5d\\\\xe5(@\\\\x00\\\\x00\\\\x00\\\\x00\\\\x00\\\\x00\\\\xf0?Xb\\\\x1b<\\\\xd1k\\\\x1e@\\\\x84\\\\xc8\\\\x11V\\\\x92\\\\r\\\\x11@\\\\x00\\\\x00\\\\x00\\\\x00\\\\x00\\\\x00\\\\xf0?\\\\t\\\\r\\\\xafX\\\\x9ex\\\\\\'@J\\\\xe0\\\\x96Pi\\\\xe3\\\\x17@\\\\x00\\\\x00\\\\x00\\\\x00\\\\x00\\\\x00\\\\xf0?\\\\x82\\\\x98X\\\\xeeG\\\\xca\\\\x19@\\\\x92\\\\x0b\\\\xae_Q&\\\\x11@\\\\x00\\\\x00\\\\x00\\\\x00\\\\x00\\\\x00\\\\xf0?\\\\x84\\\\xd9{j\\\\x01\\\\xad(@`\\\\xc5\\\\x15w\\\\xea\\\\x9e\\\\x1a@\\\\x00\\\\x00\\\\x00\\\\x00\\\\x00\\\\x00\\\\xf0?N\\\\xc8d\\\\xa1\\\\x07\\\\xe4)@\\\\xcc\\\\xc1L\\\\xf9\\\\\\\\%\\\\x16@\\\\x00\\\\x00\\\\x00\\\\x00\\\\x00\\\\x00\\\\xf0?L\\\\xb0\\\\x1b\\\\xd6\\\\xc8%\\\\x15@\\\\xd0LD?\\\\x81\\\\n\\\\xfd?\\\\x00\\\\x00\\\\x00\\\\x00\\\\x00\\\\x00\\\\xf0?\\\\x80;Ow\\\\xbc\\\\x81\\\\xf0?\\\\xa4\\\\xc3\\\\x80%q\\\\xee0@\\\\x00\\\\x00\\\\x00\\\\x00\\\\x00\\\\x00\\\\xf0?\\\\x0e\\\\xdd\\\\xf0~?\\\\xd43@\\\\x9e\\\\x87\\\\xaa\\\\xce=\\\\xd5\\\\x18@\\\\x00\\\\x00\\\\x00\\\\x00\\\\x00\\\\x00\\\\xf0?\\\\x10\\\\xf6\\\\x80\\\\xde\\\\r\\\\x81\\\\xfa?l]\\\\xfb\\\\xd9\\\\x0f\\\\xfd\\\\x1b@\\\\x00\\\\x00\\\\x00\\\\x00\\\\x00\\\\x00\\\\xf0?.\\\\x8c\\\\xfe\\\\xe1\\\\x06R\\\\x10@4\\\\xec\\\\x18\\\\xf9\\\\xd5\\\\xfc1@\\\\x00\\\\x00\\\\x00\\\\x00\\\\x00\\\\x00\\\\xf0?\\\\x82\\\\xf6\\\\x1f\\\\xc5:\\\\x98(@\\\\xa5@\\\\x1fF\\\\x13\\\\xd32@\\\\x00\\\\x00\\\\x00\\\\x00\\\\x00\\\\x00\\\\xf0?\\\\xa6gd\\\\xeaQx)@vuM\\\\xe7\\\\x06;\\\\x15@\\\\x00\\\\x00\\\\x00\\\\x00\\\\x00\\\\x00\\\\xf0?\\\\x05\\\\xa4\\\\xa0\\\\xc2.\\\\xcb,@\\\\xe9\\\\x00_\\\\xaf(d2@\\\\x00\\\\x00\\\\x00\\\\x00\\\\x00\\\\x00\\\\xf0?p\\\\xb3,\\\\xd5*\\\\xab*@<\\\\xd2\\\\xaf\\\\xb8\\\\xb9\\\\xed\\\\\\'@\\\\x00\\\\x00\\\\x00\\\\x00\\\\x00\\\\x00\\\\xf0?D[4\\\\x1f\\\\xd5\\\\n\\\\x11@\\\\x97-\\\\x1b:\\\\xd6\\\\x11,@\\'\\np220\\ntp221\\nbsg206\\ng14\\n(g15\\n(I0\\ntp222\\ng17\\ntp223\\nRp224\\n(I1\\n(I50\\ntp225\\ng24\\nI00\\nS\\'\\\\x00\\\\x00\\\\x00\\\\x00\\\\x00\\\\x00\\\\xf0?\\\\x00\\\\x00\\\\x00\\\\x00\\\\x00\\\\x00\\\\xf0?\\\\x00\\\\x00\\\\x00\\\\x00\\\\x00\\\\x00\\\\xf0?\\\\x00\\\\x00\\\\x00\\\\x00\\\\x00\\\\x00\\\\xf0?\\\\x00\\\\x00\\\\x00\\\\x00\\\\x00\\\\x00\\\\xf0?\\\\x00\\\\x00\\\\x00\\\\x00\\\\x00\\\\x00\\\\xf0?\\\\x00\\\\x00\\\\x00\\\\x00\\\\x00\\\\x00\\\\xf0?\\\\x00\\\\x00\\\\x00\\\\x00\\\\x00\\\\x00\\\\xf0?\\\\x00\\\\x00\\\\x00\\\\x00\\\\x00\\\\x00\\\\xf0?\\\\x00\\\\x00\\\\x00\\\\x00\\\\x00\\\\x00\\\\xf0?\\\\x00\\\\x00\\\\x00\\\\x00\\\\x00\\\\x00\\\\xf0?\\\\x00\\\\x00\\\\x00\\\\x00\\\\x00\\\\x00\\\\xf0?\\\\x00\\\\x00\\\\x00\\\\x00\\\\x00\\\\x00\\\\xf0?\\\\x00\\\\x00\\\\x00\\\\x00\\\\x00\\\\x00\\\\xf0?\\\\x00\\\\x00\\\\x00\\\\x00\\\\x00\\\\x00\\\\xf0?\\\\x00\\\\x00\\\\x00\\\\x00\\\\x00\\\\x00\\\\xf0?\\\\x00\\\\x00\\\\x00\\\\x00\\\\x00\\\\x00\\\\xf0?\\\\x00\\\\x00\\\\x00\\\\x00\\\\x00\\\\x00\\\\xf0?\\\\x00\\\\x00\\\\x00\\\\x00\\\\x00\\\\x00\\\\xf0?\\\\x00\\\\x00\\\\x00\\\\x00\\\\x00\\\\x00\\\\xf0?\\\\x00\\\\x00\\\\x00\\\\x00\\\\x00\\\\x00\\\\xf0?\\\\x00\\\\x00\\\\x00\\\\x00\\\\x00\\\\x00\\\\xf0?\\\\x00\\\\x00\\\\x00\\\\x00\\\\x00\\\\x00\\\\xf0?\\\\x00\\\\x00\\\\x00\\\\x00\\\\x00\\\\x00\\\\xf0?\\\\x00\\\\x00\\\\x00\\\\x00\\\\x00\\\\x00\\\\xf0?\\\\x00\\\\x00\\\\x00\\\\x00\\\\x00\\\\x00\\\\xf0?\\\\x00\\\\x00\\\\x00\\\\x00\\\\x00\\\\x00\\\\xf0?\\\\x00\\\\x00\\\\x00\\\\x00\\\\x00\\\\x00\\\\xf0?\\\\x00\\\\x00\\\\x00\\\\x00\\\\x00\\\\x00\\\\xf0?\\\\x00\\\\x00\\\\x00\\\\x00\\\\x00\\\\x00\\\\xf0?\\\\x00\\\\x00\\\\x00\\\\x00\\\\x00\\\\x00\\\\xf0?\\\\x00\\\\x00\\\\x00\\\\x00\\\\x00\\\\x00\\\\xf0?\\\\x00\\\\x00\\\\x00\\\\x00\\\\x00\\\\x00\\\\xf0?\\\\x00\\\\x00\\\\x00\\\\x00\\\\x00\\\\x00\\\\xf0?\\\\x00\\\\x00\\\\x00\\\\x00\\\\x00\\\\x00\\\\xf0?\\\\x00\\\\x00\\\\x00\\\\x00\\\\x00\\\\x00\\\\xf0?\\\\x00\\\\x00\\\\x00\\\\x00\\\\x00\\\\x00\\\\xf0?\\\\x00\\\\x00\\\\x00\\\\x00\\\\x00\\\\x00\\\\xf0?\\\\x00\\\\x00\\\\x00\\\\x00\\\\x00\\\\x00\\\\xf0?\\\\x00\\\\x00\\\\x00\\\\x00\\\\x00\\\\x00\\\\xf0?\\\\x00\\\\x00\\\\x00\\\\x00\\\\x00\\\\x00\\\\xf0?\\\\x00\\\\x00\\\\x00\\\\x00\\\\x00\\\\x00\\\\xf0?\\\\x00\\\\x00\\\\x00\\\\x00\\\\x00\\\\x00\\\\xf0?\\\\x00\\\\x00\\\\x00\\\\x00\\\\x00\\\\x00\\\\xf0?\\\\x00\\\\x00\\\\x00\\\\x00\\\\x00\\\\x00\\\\xf0?\\\\x00\\\\x00\\\\x00\\\\x00\\\\x00\\\\x00\\\\xf0?\\\\x00\\\\x00\\\\x00\\\\x00\\\\x00\\\\x00\\\\xf0?\\\\x00\\\\x00\\\\x00\\\\x00\\\\x00\\\\x00\\\\xf0?\\\\x00\\\\x00\\\\x00\\\\x00\\\\x00\\\\x00\\\\xf0?\\\\x00\\\\x00\\\\x00\\\\x00\\\\x00\\\\x00\\\\xf0?\\'\\np226\\ntp227\\nbsg204\\ng14\\n(g15\\n(I0\\ntp228\\ng17\\ntp229\\nRp230\\n(I1\\n(I3\\nI50\\ntp231\\ng24\\nI00\\nS\\'\\\\xfaR\\\\xac\\\\xaf;\\\\xb9\\\\xa5?#\\\\xb5\\\\x03@\\\\xf8\\\\xf3\\\\x90?\\\\x80\\\\x86h\\\\x17|0\\\\xc1?\\\\x0f;\\\\xd1\\\\xdd\\\\x1bf\\\\x8f\\\\xbfP\\\\xc8\\\\x9f\\\\xab\\\\xd0\\\\x9bT?\\\\xde\\\\xe9\\\\x02b\\\\xcb\\\\xf7^?\\\\xbfn\\\\xc3\\\\xde\\\\xec\\\\x9b\\\\xb1? f\\\\xda\\\\xc7\\\\x8fU\\\\x95?\\\\xe7\\\\xb0\\\\xb0iG5\\\\xb8\\\\xbf}\\\\xcf/\\\\xd6\\\\x16\\\\xcf\\\\xab\\\\xbf\\\\xda\\\\xe4m\\\\xbb\\\\xf8P\\\\xad?\\\\x1f \\\\x9c\\\\x03d\\\\xc5s?\\\\x1bR\\\\xf5F\\\\xa8\\\\xeb\\\\x92\\\\xbf>,\\\\xfd\\\\x01\\\\xa42\\\\xb1\\\\xbf\\\\x8e\\\\xa7x\\\\xc8\\\\x11\\\\xceZ?fF\\\\n\\\\x06f\\\\xec\\\\xb2\\\\xbf<8l\\\\xe8\\\\xa5I\\\\xb3?\\\\x11\\\\xc6\\\\xeb\\\\x9b_\\\\xb3\\\\x94?\\\\x88Z\\\\xe4\\\\x0c\\\\\\\\/\\\\x9f?\\\\x7f\\\\x11\\\\xcc\\\\xa8\\\\x91\\\\xb1f?\\\\x93G*\\\\x95#\\\\xab\\\\xb2?\\\\xbc\\\\xec8\\\\xefT\\\\xc3\\\\xb3?X\\\\x97\\\\xdea\\\\xb24\\\\xb2\\\\xbf%\\\\\\'k\\\\x92\\\\xa5\\\\xb7\\\\xab?$\\\\x81\\\\x91\\\\x9e\\\\x0f\\\\xbd\\\\xbe?\\\\xca\\\\xca\\\\xe0\\\\x9e\\\\xa2?\\\\x94?D\\\\xbf\\\\xff}\\\\xd4m\\\\xae\\\\xbf\\\\x97\\\\xfa\\\\x80\\\\xab\\\\xe2{\\\\xa8?0~\\\\ts$\\\\xb5\\\\x97\\\\xbfR\\\\x9b\\\\xdfR\\\\xc8\\\\x13\\\\xb4\\\\xbft\\\\x90j\\\\xee4\\\\xbe\\\\xb0?\\\\xd13\\\\xf7\\\\tdK\\\\x81?\\\\x03\\\\xd5\\\\xb1\\\\xa2\\\\xd8\\\\xcd\\\\x9c?I\\\\xe8=D\\\\\\'\\\\xf2e\\\\xbf\\\\xb1x\\\\x89\\\\xfd<\\\\xe5\\\\x9c\\\\xbf\\\\xed,Y\\\\x1bmm\\\\xb8?\\\\x1b\\\\x8e7\\\\x064\\\\xc2\\\\xab?\\\\x8c\\\\x04\\\\x18\\\\xd6\"]\\\\xba?\\\\xb6w\\\\xb3\\\\x1e\\\\x1c\\\\xec\\\\xa6?\\\\xc67\\\\xa5\\\\xd0D`\\\\xa9?\\\\x9a\\\\n\\\\xf5H\\\\x13\\\\xaf\\\\xc0?\\\\xbe|S\\\\xb8\\\\x82\\\\x05\\\\xa4?\\\\xbaX\\\\xf8\\\\x81\\\\x93\\\\xa4^\\\\xbfY\\\\x7f\\\\t\\\\xb1\\\\xb3\\\\x15\\\\xbd?\\\\xf9\\\\xb2\\\\xf9\\\\x03I!\\\\x85?\\\\xaaYr\\\\xdfWK\\\\xaa\\\\xbfD\\\\xf7\\\\x9f\\\\xf7\\\\x93\\\\x06\\\\xab?\\\\xd2F\\\\x1d\\\\xa3\\\\xe1\\\\xbc\\\\xaf\\\\xbf\\\\xe3\\\\xe8w\\\\xbbs8p\\\\xbf\\\\x0b\\\\x9bE\\\\xf2\\\\xf3\\\\xb1\\\\xa4?\\\\xdc,\\\\x0b\\\\xc6\\\\xf6\\\\xa3x\\\\xbf\\\\x10\\\\x10\\\\xdd\\\\xb3}\\\\x10\\\\\\\\?\\\\x9e\\\\x94\\\\x05\\\\x07d\\\\xbfq\\\\xbfAG\\\\xf7\\\\xee\\\\x7f\\\\x08^\\\\xbf\\\\x8f\\\\x12\"\\\\xb9\\\\xb2\\\\xbfr\\\\xbf\\\\xca\\\\xdfLO&\\\\x97g?\\\\x00i\\\\xed\\\\xba\\\\xab\\\\x1f\\\\xe7\\\\xbe \\\\xacg(N\\\\xa1!?\\\\n\\\\x84\\\\xdc\\\\xba\\\\x97$q?\\\\x08=\\\\x86@\\\\xef\\\\xcfs?\\\\xd0y\\\\xba\\\\xf6\\\\xec\\\\x02M\\\\xbf\\\\xce~\\\\xdena\\\\rg?7(<\\\\x0b\\\\xd1?`?:$\\\\xb5\\\\xfd\\\\x05\\\\x94v?H6\\\\x8b\\\\xebCUf\\\\xbfv\\\\x8b6\\\\xac\\\\xc7_e?&\\\\x10\\\\x04\\\\xb9\\\\xcf<g\\\\xbf\\\\xb8+D2E\\\\xfbe\\\\xbft\\\\xff\\\\xbc\\\\xd2\\\\xbd\\\\x9du?\\\\xa9\\\\x918~\\\\x8bfs?\\\\xb2\\\\x91Fq\\\\x11\\\\xb0r\\\\xbf\\\\xbc\\\\xf6e\\\\xdbW\\\\x88a\\\\xbfL=\\\\xc2n\\\\xcb\\\\xcfq?\\\\xd4)5\\\\\\\\\\\\x99\\\\ng\\\\xbf\\\\x01\\\\x01\\\\x9e\\\\x95\\\\x19\\\\xe6s\\\\xbfX\\\\x0b\\\\xa1`l\\\\xa3#?\\\\x80B_U\\\\xb7\\\\x00s?\\\\xfcM\\\\xb8\\\\x1fY{L?\\\\xf1\\\\xccN\\\\r\\\\x12\\\\xbev?\\\\xc6\\\\x8f\\\\x87\\\\xaf\\\\xa4wt?\\\\x07f\\\\x8aY\\\\x82\\\\xe2T\\\\xbf\\\\xc5@\\\\xb2\\\\xb3\\\\xe7\\\\xcda?R\\\\x8b\\\\xc4D\\\\xf0\\\\xa5`\\\\xbf\\\\x10\\\\xd3m\\\\x17\\\\x90\\\\x90p\\\\xbf\\\\x88\\\\x19\\\\x88\\\\xf6\"Dk?\\\\xe4\\\\xf4\\\\xbbL\\\\xe0\\\\xa5`\\\\xbf\\\\xf4\\\\xa3\\\\x95\\\\xda3\\\\x9b@?\\\\x86\\\\x00 \\\\xcb\\\\xb0\\\\x82f\\\\xbf\\\\xec\\\\xf3\\\\x8f\\\\xb0\\\\xa7\\\\xa0L?\\\\xf6[\\\\x93\\\\xe8\\\\xa1\\\\x9bT?\\\\xdb\\\\x8c\\\\xe978:l\\\\xbfZ\\\\xe5\\\\xdd)\\\\xab^y\\\\xbf%u\\\\xe8\\\\xa3\\\\xf5\\\\x8dv?J\\\\x1e\\\\xc8a%xw\\\\xbfJ\\\\xb1\\\\xcbS\\\\x00\\\\xb0q\\\\xbf\\\\x127\\\\x8e]C\\\\xaeH?\\\\xb2\\\\xf2U;\\\\xe2\\\\x81R?\\\\xca0\\\\xd1\\\\xca\\\\x9c\\\\xd3`?\\\\xf6\\\\xa8\\\\x0e@u\\\\xb8W?\\\\xe21E\\\\xa3\\\\x92\\\\x1aq\\\\xbf\\\\xe6\\\\xbeg&zWp?&\\\\x9c\\\\x04\\\\xf0\\\\x96\\\\x05W\\\\xbf/\\\\xa5\\\\xd0U\\\\x1a\\\\x00y\\\\xbf\\\\xbd\\\\\\'\\\\x82\\\\x8eK\\\\xc7t?\\\\x8f\\\\x98\\\\xcaj\\\\xe3\\\\xd9y?\\\\x98\\\\xa9f\\\\xedf=T\\\\xbf\\\\xfa\\\\x11\\\\x17\\\\x11\\\\xdf;r\\\\xbf,& \\\\xa0\\\\x10\\\\xb5+\\\\xbf\\\\xd2\\\\xed\\\\xa5\\\\xf8\\\\x89\\\\xb5y?\\\\x93\\\\xcd\\\\xceu\\\\x9d\\\\xca_?\\\\x8a\\\\xad\\\\xa2\\\\x83\\\\xf9\\\\xa2d\\\\xbf1\\\\xca\\\\xe3px\\\\x8fW\\\\xbf\\\\xba9\\\\xa4b\\\\xbd\\\\x07Y?\\\\xa4({\\\\xc2\\\\x08\\\\xfbc?vO}\\\\xa5F\\\\x18r?\\\\xf7\\\\x91=\\\\x86/ux?\\\\x9f\\\\xb3U^\\\\xb4\"b\\\\xbf\\\\xf2\\\\xd2\\\\xf7\\\\xd4\\\\xe7\\\\xe9e?\\\\x90\\\\x14\\\\xfc\\\\xcd\\\\x12\\\\xa0y\\\\xbf\\\\x16=\\\\x08b\\\\x11\\\\x0ej\\\\xbf\\\\xa8\\\\x8c\\\\xf1\\\\xf0\\\\xb7\\\\xff0\\\\xbfX\\\\xfb\\\\xb0\\\\xa4\\\\x97Ai\\\\xbf!x\\\\xc9\\\\xf5\\\\xa3@p?(\\\\x1f\\\\x9c\\\\x19R\\\\x863\\\\xbf\\\\x1c\\\\xab\\\\xa1*\\\\x17\\\\x83q\\\\xbf\\\\xcc\\\\xb6u\\\\xf5&\\\\x03!\\\\xbf\\\\x9eH\\\\x9c\\\\xba7[e?\\\\x14o\\\\x0c\\\\x16\\\\x9a\\\\xffk\\\\xbf%:\\\\xfd\\\\xd0\\\\x0c\\\\xafZ\\\\xbfU\\\\xe2^\\\\xbf\\\\x17Sp?`s\\\\xd6DL\\\\x89g\\\\xbf=\\\\x82\\\\xdey\\\\x16qR\\\\xbfx\\\\x971\\\\x9fGAU?J\\\\x16W\\\\x88\\\\xfc!y?\\\\xe5\\\\x8c\\\\xb6B\\\\x87\\\\x80Q?\\\\x15\\\\xf8\\\\xa6`5\\\\xe6s\\\\xbf`\\\\xe3\\\\xa5\\\\x82M\\\\xcfm\\\\xbf\\\\xa9\\\\xc1\\\\xfb\\\\x0b\"\\\\xcas\\\\xbf\\\\xe2*\\\\\\\\\\\\xa7\\\\xd9\\\\xbfi\\\\xbfZ\\\\x02\\\\xc1\\\\xe1(@p\\\\xbf\\\\x8c\\\\x14\\\\xd9F\\\\x89+{\\\\xbf\\\\x0e:5\\\\xba\\\\xd7Qr?\\\\xb4 I\\\\xd7\\\\x8b\\\\xe9l\\\\xbf\\\\x1b\\\\\\'\\\\x08T\\\\x07\\\\x03g\\\\xbf\\\\xeas\\\\xa6\\\\xea\\\\x0bdu?\\\\x02y\\\\xbb\\\\xc1K\\\\xa3w?\\\\x1e\\\\xb8\\\\xa1\\\\xf32\\\\xeep\\\\xbf\\\\x1a`TcCEv?\\\\x8f\\\\xd7\\\\x1e\\\\xdeC-H?\\\\x00.+3\\\\x12\\\\rc?\\'\\np232\\ntp233\\nbsS\\'data\\'\\np234\\ng0\\n(cstatsmodels.base.data\\nPandasData\\np235\\ng2\\nNtp236\\nRp237\\n(dp238\\nS\\'const_idx\\'\\np239\\ng14\\n(g15\\n(I0\\ntp240\\ng17\\ntp241\\nRp242\\n(I1\\n(tg210\\nI00\\nS\\'\\\\x00\\\\x00\\\\x00\\\\x00\\\\x00\\\\x00\\\\x00\\\\x00\\'\\np243\\ntp244\\nbsS\\'frame\\'\\np245\\ng0\\n(cpandas.core.frame\\nDataFrame\\np246\\ng2\\nNtp247\\nRp248\\ng0\\n(cpandas.core.internals\\nBlockManager\\np249\\ng2\\nNtp250\\nRp251\\n((lp252\\ncpandas.core.index\\n_new_Index\\np253\\n(cpandas.core.index\\nIndex\\np254\\n(dp255\\ng234\\ng14\\n(g15\\n(I0\\ntp256\\ng17\\ntp257\\nRp258\\n(I1\\n(I3\\ntp259\\ng21\\n(S\\'O8\\'\\np260\\nI0\\nI1\\ntp261\\nRp262\\n(I3\\nS\\'|\\'\\np263\\nNNNI-1\\nI-1\\nI63\\ntp264\\nbI00\\n(lp265\\nS\\'x1\\'\\np266\\naS\\'x2\\'\\np267\\naS\\'y\\'\\np268\\natp269\\nbsS\\'name\\'\\np270\\nNstp271\\nRp272\\nag253\\n(cpandas.core.index\\nInt64Index\\np273\\n(dp274\\ng234\\ng14\\n(g15\\n(I0\\ntp275\\ng17\\ntp276\\nRp277\\n(I1\\n(I50\\ntp278\\ng210\\nI00\\nS\\'\\\\x00\\\\x00\\\\x00\\\\x00\\\\x00\\\\x00\\\\x00\\\\x00\\\\x01\\\\x00\\\\x00\\\\x00\\\\x00\\\\x00\\\\x00\\\\x00\\\\x02\\\\x00\\\\x00\\\\x00\\\\x00\\\\x00\\\\x00\\\\x00\\\\x03\\\\x00\\\\x00\\\\x00\\\\x00\\\\x00\\\\x00\\\\x00\\\\x04\\\\x00\\\\x00\\\\x00\\\\x00\\\\x00\\\\x00\\\\x00\\\\x05\\\\x00\\\\x00\\\\x00\\\\x00\\\\x00\\\\x00\\\\x00\\\\x06\\\\x00\\\\x00\\\\x00\\\\x00\\\\x00\\\\x00\\\\x00\\\\x07\\\\x00\\\\x00\\\\x00\\\\x00\\\\x00\\\\x00\\\\x00\\\\x08\\\\x00\\\\x00\\\\x00\\\\x00\\\\x00\\\\x00\\\\x00\\\\t\\\\x00\\\\x00\\\\x00\\\\x00\\\\x00\\\\x00\\\\x00\\\\n\\\\x00\\\\x00\\\\x00\\\\x00\\\\x00\\\\x00\\\\x00\\\\x0b\\\\x00\\\\x00\\\\x00\\\\x00\\\\x00\\\\x00\\\\x00\\\\x0c\\\\x00\\\\x00\\\\x00\\\\x00\\\\x00\\\\x00\\\\x00\\\\r\\\\x00\\\\x00\\\\x00\\\\x00\\\\x00\\\\x00\\\\x00\\\\x0e\\\\x00\\\\x00\\\\x00\\\\x00\\\\x00\\\\x00\\\\x00\\\\x0f\\\\x00\\\\x00\\\\x00\\\\x00\\\\x00\\\\x00\\\\x00\\\\x10\\\\x00\\\\x00\\\\x00\\\\x00\\\\x00\\\\x00\\\\x00\\\\x11\\\\x00\\\\x00\\\\x00\\\\x00\\\\x00\\\\x00\\\\x00\\\\x12\\\\x00\\\\x00\\\\x00\\\\x00\\\\x00\\\\x00\\\\x00\\\\x13\\\\x00\\\\x00\\\\x00\\\\x00\\\\x00\\\\x00\\\\x00\\\\x14\\\\x00\\\\x00\\\\x00\\\\x00\\\\x00\\\\x00\\\\x00\\\\x15\\\\x00\\\\x00\\\\x00\\\\x00\\\\x00\\\\x00\\\\x00\\\\x16\\\\x00\\\\x00\\\\x00\\\\x00\\\\x00\\\\x00\\\\x00\\\\x17\\\\x00\\\\x00\\\\x00\\\\x00\\\\x00\\\\x00\\\\x00\\\\x18\\\\x00\\\\x00\\\\x00\\\\x00\\\\x00\\\\x00\\\\x00\\\\x19\\\\x00\\\\x00\\\\x00\\\\x00\\\\x00\\\\x00\\\\x00\\\\x1a\\\\x00\\\\x00\\\\x00\\\\x00\\\\x00\\\\x00\\\\x00\\\\x1b\\\\x00\\\\x00\\\\x00\\\\x00\\\\x00\\\\x00\\\\x00\\\\x1c\\\\x00\\\\x00\\\\x00\\\\x00\\\\x00\\\\x00\\\\x00\\\\x1d\\\\x00\\\\x00\\\\x00\\\\x00\\\\x00\\\\x00\\\\x00\\\\x1e\\\\x00\\\\x00\\\\x00\\\\x00\\\\x00\\\\x00\\\\x00\\\\x1f\\\\x00\\\\x00\\\\x00\\\\x00\\\\x00\\\\x00\\\\x00 \\\\x00\\\\x00\\\\x00\\\\x00\\\\x00\\\\x00\\\\x00!\\\\x00\\\\x00\\\\x00\\\\x00\\\\x00\\\\x00\\\\x00\"\\\\x00\\\\x00\\\\x00\\\\x00\\\\x00\\\\x00\\\\x00#\\\\x00\\\\x00\\\\x00\\\\x00\\\\x00\\\\x00\\\\x00$\\\\x00\\\\x00\\\\x00\\\\x00\\\\x00\\\\x00\\\\x00%\\\\x00\\\\x00\\\\x00\\\\x00\\\\x00\\\\x00\\\\x00&\\\\x00\\\\x00\\\\x00\\\\x00\\\\x00\\\\x00\\\\x00\\\\\\'\\\\x00\\\\x00\\\\x00\\\\x00\\\\x00\\\\x00\\\\x00(\\\\x00\\\\x00\\\\x00\\\\x00\\\\x00\\\\x00\\\\x00)\\\\x00\\\\x00\\\\x00\\\\x00\\\\x00\\\\x00\\\\x00*\\\\x00\\\\x00\\\\x00\\\\x00\\\\x00\\\\x00\\\\x00+\\\\x00\\\\x00\\\\x00\\\\x00\\\\x00\\\\x00\\\\x00,\\\\x00\\\\x00\\\\x00\\\\x00\\\\x00\\\\x00\\\\x00-\\\\x00\\\\x00\\\\x00\\\\x00\\\\x00\\\\x00\\\\x00.\\\\x00\\\\x00\\\\x00\\\\x00\\\\x00\\\\x00\\\\x00/\\\\x00\\\\x00\\\\x00\\\\x00\\\\x00\\\\x00\\\\x000\\\\x00\\\\x00\\\\x00\\\\x00\\\\x00\\\\x00\\\\x001\\\\x00\\\\x00\\\\x00\\\\x00\\\\x00\\\\x00\\\\x00\\'\\np279\\ntp280\\nbsg270\\nNstp281\\nRp282\\na(lp283\\ng14\\n(g15\\n(I0\\ntp284\\ng17\\ntp285\\nRp286\\n(I1\\n(I3\\nI50\\ntp287\\ng24\\nI00\\nS\\'P\\\\xec\\\\xe8#\\\\xd3\\\\xfb\\\\xf4?\\\\xc2\\\\xc5\\\\x00\\\\xed\\\\xdcs+@8Y\\\\xb1$\\\\xc1\\\\xe1\\\\x0e@\\\\x18\\\\xb3E\\\\x07\\\\xf82 @p\\\\x949\\\\xbd\\\\xd7o\\\\r@\"\\\\xf7\\\\x19\\\\xfd1</@\\\\xf0\\\\x15r\\\\xffV\\\\xc4%@\\\\xb6\\\\xdcY\\\\xb8\\\\x86b&@7\\\\x88\\\\xd4\\\\xbeS\\\\xdc1@|\\\\x86\\\\xdb\\\\xdb\\\\x1b\\\\xd72@\\\\x04\\\\x0f0-\\\\xf9\\\\x00#@?\\\\\\\\kx\\\\xf6\\\\x03/@k\\\\xaa\\\\xe3\\\\n n,@Z?\\\\x92\\\\xdf\\\\x19\\\\xf13@>\\\\x03\\\\x96\\\\xd7-\\\\x92\\\\x1a@\\\\xfe\\\\x1c\\\\x8c\\\\xd5\\\\xe7\\\\x9b.@\\\\xa6\\\\xad*K\\\\x9de\\\\x19@\\\\x9a m\\\\xa0e\\\\xba\\\\x1a@\\\\x17\\\\x1b\\\\x1a\\\\xa6>i3@\\\\x9b\\\\x80\\\\x03:\\\\xc4\\\\x962@\\\\x10\\\\x9d,o;\\\\xb8\\\\x0c@X=\\\\x12]T\\\\xd8\\\\x1d@<\\\\xa8\\\\xb1\\\\x0c\\\\xbd\\\\x152@\\\\xee\\\\x9d\\\\xcd!D\\\\xaf\\\\x19@\\\\x88\\\\xa7\\\\x80\\\\xb0\\\\xceU\\\\x08@5\\\\xbe\\\\xb3%\\\\xf2o&@\\\\xbeV\\\\xb0\\\\xdf/\\\\x882@\\\\xa0\\\\xdes\\\\xe6\\\\xe2\\\\xa6(@\\\\xb0\\\\x01.\\\\xea\\\\xae\\\\xef3@~6~\\\\xa2p\"3@\\\\n\\\\x04\\\\xb0^5\\\\xbb!@6\\\\x0b?,\\\\xe5\\\\xf3,@~Z\\\\x93)\\\\xea\\\\xd8\\\\x1e@(\\\\xe6$\\\\xf0\\\\x84(\\\\x12@\\\\x84$\\\\xbb16b0@Xb\\\\x1b<\\\\xd1k\\\\x1e@\\\\t\\\\r\\\\xafX\\\\x9ex\\\\\\'@\\\\x82\\\\x98X\\\\xeeG\\\\xca\\\\x19@\\\\x84\\\\xd9{j\\\\x01\\\\xad(@N\\\\xc8d\\\\xa1\\\\x07\\\\xe4)@L\\\\xb0\\\\x1b\\\\xd6\\\\xc8%\\\\x15@\\\\x80;Ow\\\\xbc\\\\x81\\\\xf0?\\\\x0e\\\\xdd\\\\xf0~?\\\\xd43@\\\\x10\\\\xf6\\\\x80\\\\xde\\\\r\\\\x81\\\\xfa?.\\\\x8c\\\\xfe\\\\xe1\\\\x06R\\\\x10@\\\\x82\\\\xf6\\\\x1f\\\\xc5:\\\\x98(@\\\\xa6gd\\\\xeaQx)@\\\\x05\\\\xa4\\\\xa0\\\\xc2.\\\\xcb,@p\\\\xb3,\\\\xd5*\\\\xab*@D[4\\\\x1f\\\\xd5\\\\n\\\\x11@\\\\xde\\\\x10NhoF0@s\\\\xc1\\\\xe2\\\\xc4\\\\xf8\\\\x15\"@`\\\\xf3\\\\x04\\\\\\'\\\\x03/\\\\x04@eB\\\\x8as\\\\x99\\\\xd31@\\\\x84\\\\xba\\\\xebxQx3@\\\\x99\\\\xaa,\\\\xf4\\\\x04\\\\x97\"@\\\\\\\\\\\\x1cG\\\\xb2\\\\xe2i\\\\x13@\\\\xa2\\\\xc9\\\\x03\\\\x18\\\\x82J%@\\\\xc2\\\\xb5\\\\xee\\\\x81\\\\x0b\\\\x933@\\\\x8ab4\\\\x85yT+@\\\\xb4\\\\xea\\\\xcaVY\\\\xe8\\\\x1d@\\\\xaa\\\\x19\\\\xbc\\\\xa3\\\\xc0\\\\x08\"@\\\\x86\\\\x01\\\\x12O\\\\xaf\\\\x1a*@\\\\xa6X\\\\xdd\\\\x85\\\\r\\\\xb7,@\\\\x8f\\\\t\\\\x86\\\\xa6\\\\x9f\\\\xea0@H\\\\xc2n\\\\xd5D!3@<fx\\\\xbc\\\\x9dp\\\\x1f@\\\\xd8\\\\x15R\\\\x8a[\\\\x13-@\\\\xc0\\\\xb9$$7\\\\xd9\\\\x03@2\\\\xcb\\\\xb2\\\\x19C\\\\xaf\\\\x1a@\\\\x95r\\\\x0c\\\\xb3P\\\\xff$@`d1\\\\xc1\\\\xa6\\\\xbd\\\\x1a@2TC-\\\\xc4l0@Ax\\\\\\'\\\\xa4\\\\xe2\\\\xf3$@\\\\x9et\\\\x14,S\\\\n\\\\x14@\\\\xb1Y\\\\xdc\\\\xb9\\\\xaf\\\\x83%@jJ\\\\xe9\\\\xaf\\\\xb6$-@\\\\\\\\{b>\\\\xfc\\\\x1e\\\\x19@Zx`\\\\xca\\\\xc2\\\\x9b!@\\\\xcfgQ\\\\x9b\\\\xcau0@\\\\x18X\\\\xc2t\\\\x8a\\\\xf2\\\\x1b@1j\\\\x12\\\\xd7z\\\\xdd\"@r\\\\x92\\\\x9ak\\\\xffU)@\\\\xf7d\\\\x91\\\\xed`=3@\\\\xb4\\\\xe7q5d\\\\xe5(@\\\\x84\\\\xc8\\\\x11V\\\\x92\\\\r\\\\x11@J\\\\xe0\\\\x96Pi\\\\xe3\\\\x17@\\\\x92\\\\x0b\\\\xae_Q&\\\\x11@`\\\\xc5\\\\x15w\\\\xea\\\\x9e\\\\x1a@\\\\xcc\\\\xc1L\\\\xf9\\\\\\\\%\\\\x16@\\\\xd0LD?\\\\x81\\\\n\\\\xfd?\\\\xa4\\\\xc3\\\\x80%q\\\\xee0@\\\\x9e\\\\x87\\\\xaa\\\\xce=\\\\xd5\\\\x18@l]\\\\xfb\\\\xd9\\\\x0f\\\\xfd\\\\x1b@4\\\\xec\\\\x18\\\\xf9\\\\xd5\\\\xfc1@\\\\xa5@\\\\x1fF\\\\x13\\\\xd32@vuM\\\\xe7\\\\x06;\\\\x15@\\\\xe9\\\\x00_\\\\xaf(d2@<\\\\xd2\\\\xaf\\\\xb8\\\\xb9\\\\xed\\\\\\'@\\\\x97-\\\\x1b:\\\\xd6\\\\x11,@0\\\\x83\\\\xbat\\\\x90\\\\tB@A\\\\xfb\\\\x92\\\\x83\\\\xa4\\\\xa7@@[@\\\\x18\\\\x0by\\\\xa3\\\\\\'@\\\\xa6\\\\xfc\\\\xf8\\\\xfd\\\\xd0\\\\xb2F@\\\\x07\\\\x12R\\\\xb7\\\\xa2\\\\xacF@I\\\\x94g\\\\xf4\\\\rEB@\\\\x8e\\\\xa8\\\\xca\\\\x9e\\\\xb0\\\\xb76@\\\\x04\\\\xda\\\\x1c\\\\x04(\\\\xdf@@=\\\\t\\\\x10-pKM@@\\\\xdb\\\\x18\\\\xcc\\\\xe8\\\\x8fH@m\\\\x0f\\\\xd6\\\\xfc\\\\xdc\\\\xe9:@\\\\x10\\\\x05\\\\x1b\\\\x9a\\\\xa5\\\\xa6A@|\\\\xcdJ\\\\xf0\\\\x16zE@G\\\\xf8\\\\xb5\\\\tb\\\\xd8H@\\\\xe1\\\\x18\\\\xb1\\\\x86\\\\x86\\\\x86E@.\\\\x96\\\\x13\\\\x1e\\\\xdf|K@\\\\x81X\\\\x06\\\\x0e\\\\xa3\\\\xfc8@,\\\\x08\\\\xc1\\\\xbc\\\\xd4\\\\xdfB@8\"\\\\x80=\\\\xcew:@\\\\x08\\\\x80\\\\x9c\\\\na\\\\x9f@@\\\\xe0\\\\xce \\\\xc2f$;@\\\\x04`Xw?p7@4\\\\xbd9\\\\xef\\\\xc3<J@\\\\x8f\\\\xd16$\\\\x13\\\\x96<@\\\\x91\\\\xee\\\\xc2\\\\x0eH,-@4E\\\\xc1\\\\x0btdA@\\\\x92\\\\xeb\\\\xe8*\\\\x03\\\\x91H@\\\\x0b7\\\\x12\\\\x08\\\\xc3\\\\xc8;@.\\\\x81/\\\\xc9F\\\\x8cC@ \\\\xf86\\\\x902DK@\\\\x1aD*\\\\xed\\\\x1aK8@\\\\x1cT*pW\\\\x9bA@\\\\x82\\\\x7ff5\\\\xd0\\\\x1cA@\\\\x83\\\\xe8\\\\xe7Q\\\\xf4_F@\\\\xd5Q\\\\x8fTC\\\\xb0E@R\\\\xb7\\\\xd7\\\\xf0\\\\xda\\\\x8a1@\\\\xc4TW`\\\\xeb\\\\xb19@\\\\x13\\\\xfe\\\\x7f*\\\\r50@\\\\x1d\\\\x88\\\\xb1\\\\xdd\\\\xae;<@\\\\xae\\\\x9c\\\\xfe\\\\x954\\\\x1e9@\\\\xd0G\\\\xf8\\\\x03bp$@\\\\xe8\\\\x1f\\\\xe2\\\\x17\\\\x0b\\\\xddB@*\\\\xddQ\\\\xc7\\\\\\'6A@\\\\xe7\\\\x7f\\\\xed\\\\xa0-a1@\\\\x96\\\\xc7yAP\\\\x10E@\\\\x18\\\\xbdM\\\\x8cI\\\\xf6I@.\\\\x1c\\\\x89\\\\x90\\\\xe9\\\\xf99@\\\\xab\\\\nobs\\\\xe0J@\\\\xac\\\\x8f2\\\\xb8\\\\x05\\\\xebC@\\\\xe4\\\\x0c\\\\xfc\\\\x1afqA@\\'\\np288\\ntp289\\nba(lp290\\ng253\\n(g254\\n(dp291\\ng234\\ng14\\n(g15\\n(I0\\ntp292\\ng17\\ntp293\\nRp294\\n(I1\\n(I3\\ntp295\\ng262\\nI00\\n(lp296\\ng266\\nag267\\nag268\\natp297\\nbsg270\\nNstp298\\nRp299\\na(dp300\\nS\\'0.14.1\\'\\np301\\n(dp302\\nS\\'axes\\'\\np303\\ng252\\nsS\\'blocks\\'\\np304\\n(lp305\\n(dp306\\nS\\'mgr_locs\\'\\np307\\nc__builtin__\\nslice\\np308\\n(I0\\nI3\\nI1\\ntp309\\nRp310\\nsS\\'values\\'\\np311\\ng286\\nsasstp312\\nbbsg189\\ng192\\nsS\\'missing_row_idx\\'\\np313\\n(lp314\\nsg72\\ng0\\n(g73\\ng74\\n(dp315\\nS\\'ynames\\'\\np316\\ng268\\nsS\\'xnames\\'\\np317\\n(lp318\\nS\\'Intercept\\'\\np319\\naS\\'x1\\'\\np320\\naS\\'x2\\'\\np321\\nastp322\\nRp323\\n(dp324\\ng168\\n(dp325\\nsbsg71\\nI1\\nsg199\\ng218\\nsS\\'orig_exog\\'\\np326\\ng0\\n(g246\\ng2\\nNtp327\\nRp328\\ng0\\n(g249\\ng2\\nNtp329\\nRp330\\n((lp331\\ng253\\n(g254\\n(dp332\\ng234\\ng14\\n(g15\\n(I0\\ntp333\\ng17\\ntp334\\nRp335\\n(I1\\n(I3\\ntp336\\ng262\\nI00\\n(lp337\\ng319\\nag320\\nag321\\natp338\\nbsg270\\nNstp339\\nRp340\\nag253\\n(g273\\n(dp341\\ng234\\ng14\\n(g15\\n(I0\\ntp342\\ng17\\ntp343\\nRp344\\n(I1\\n(I50\\ntp345\\ng210\\nI00\\nS\\'\\\\x00\\\\x00\\\\x00\\\\x00\\\\x00\\\\x00\\\\x00\\\\x00\\\\x01\\\\x00\\\\x00\\\\x00\\\\x00\\\\x00\\\\x00\\\\x00\\\\x02\\\\x00\\\\x00\\\\x00\\\\x00\\\\x00\\\\x00\\\\x00\\\\x03\\\\x00\\\\x00\\\\x00\\\\x00\\\\x00\\\\x00\\\\x00\\\\x04\\\\x00\\\\x00\\\\x00\\\\x00\\\\x00\\\\x00\\\\x00\\\\x05\\\\x00\\\\x00\\\\x00\\\\x00\\\\x00\\\\x00\\\\x00\\\\x06\\\\x00\\\\x00\\\\x00\\\\x00\\\\x00\\\\x00\\\\x00\\\\x07\\\\x00\\\\x00\\\\x00\\\\x00\\\\x00\\\\x00\\\\x00\\\\x08\\\\x00\\\\x00\\\\x00\\\\x00\\\\x00\\\\x00\\\\x00\\\\t\\\\x00\\\\x00\\\\x00\\\\x00\\\\x00\\\\x00\\\\x00\\\\n\\\\x00\\\\x00\\\\x00\\\\x00\\\\x00\\\\x00\\\\x00\\\\x0b\\\\x00\\\\x00\\\\x00\\\\x00\\\\x00\\\\x00\\\\x00\\\\x0c\\\\x00\\\\x00\\\\x00\\\\x00\\\\x00\\\\x00\\\\x00\\\\r\\\\x00\\\\x00\\\\x00\\\\x00\\\\x00\\\\x00\\\\x00\\\\x0e\\\\x00\\\\x00\\\\x00\\\\x00\\\\x00\\\\x00\\\\x00\\\\x0f\\\\x00\\\\x00\\\\x00\\\\x00\\\\x00\\\\x00\\\\x00\\\\x10\\\\x00\\\\x00\\\\x00\\\\x00\\\\x00\\\\x00\\\\x00\\\\x11\\\\x00\\\\x00\\\\x00\\\\x00\\\\x00\\\\x00\\\\x00\\\\x12\\\\x00\\\\x00\\\\x00\\\\x00\\\\x00\\\\x00\\\\x00\\\\x13\\\\x00\\\\x00\\\\x00\\\\x00\\\\x00\\\\x00\\\\x00\\\\x14\\\\x00\\\\x00\\\\x00\\\\x00\\\\x00\\\\x00\\\\x00\\\\x15\\\\x00\\\\x00\\\\x00\\\\x00\\\\x00\\\\x00\\\\x00\\\\x16\\\\x00\\\\x00\\\\x00\\\\x00\\\\x00\\\\x00\\\\x00\\\\x17\\\\x00\\\\x00\\\\x00\\\\x00\\\\x00\\\\x00\\\\x00\\\\x18\\\\x00\\\\x00\\\\x00\\\\x00\\\\x00\\\\x00\\\\x00\\\\x19\\\\x00\\\\x00\\\\x00\\\\x00\\\\x00\\\\x00\\\\x00\\\\x1a\\\\x00\\\\x00\\\\x00\\\\x00\\\\x00\\\\x00\\\\x00\\\\x1b\\\\x00\\\\x00\\\\x00\\\\x00\\\\x00\\\\x00\\\\x00\\\\x1c\\\\x00\\\\x00\\\\x00\\\\x00\\\\x00\\\\x00\\\\x00\\\\x1d\\\\x00\\\\x00\\\\x00\\\\x00\\\\x00\\\\x00\\\\x00\\\\x1e\\\\x00\\\\x00\\\\x00\\\\x00\\\\x00\\\\x00\\\\x00\\\\x1f\\\\x00\\\\x00\\\\x00\\\\x00\\\\x00\\\\x00\\\\x00 \\\\x00\\\\x00\\\\x00\\\\x00\\\\x00\\\\x00\\\\x00!\\\\x00\\\\x00\\\\x00\\\\x00\\\\x00\\\\x00\\\\x00\"\\\\x00\\\\x00\\\\x00\\\\x00\\\\x00\\\\x00\\\\x00#\\\\x00\\\\x00\\\\x00\\\\x00\\\\x00\\\\x00\\\\x00$\\\\x00\\\\x00\\\\x00\\\\x00\\\\x00\\\\x00\\\\x00%\\\\x00\\\\x00\\\\x00\\\\x00\\\\x00\\\\x00\\\\x00&\\\\x00\\\\x00\\\\x00\\\\x00\\\\x00\\\\x00\\\\x00\\\\\\'\\\\x00\\\\x00\\\\x00\\\\x00\\\\x00\\\\x00\\\\x00(\\\\x00\\\\x00\\\\x00\\\\x00\\\\x00\\\\x00\\\\x00)\\\\x00\\\\x00\\\\x00\\\\x00\\\\x00\\\\x00\\\\x00*\\\\x00\\\\x00\\\\x00\\\\x00\\\\x00\\\\x00\\\\x00+\\\\x00\\\\x00\\\\x00\\\\x00\\\\x00\\\\x00\\\\x00,\\\\x00\\\\x00\\\\x00\\\\x00\\\\x00\\\\x00\\\\x00-\\\\x00\\\\x00\\\\x00\\\\x00\\\\x00\\\\x00\\\\x00.\\\\x00\\\\x00\\\\x00\\\\x00\\\\x00\\\\x00\\\\x00/\\\\x00\\\\x00\\\\x00\\\\x00\\\\x00\\\\x00\\\\x000\\\\x00\\\\x00\\\\x00\\\\x00\\\\x00\\\\x00\\\\x001\\\\x00\\\\x00\\\\x00\\\\x00\\\\x00\\\\x00\\\\x00\\'\\np346\\ntp347\\nbsg270\\nNstp348\\nRp349\\na(lp350\\ng14\\n(g15\\n(I0\\ntp351\\ng17\\ntp352\\nRp353\\n(I1\\n(I3\\nI50\\ntp354\\ng24\\nI01\\nS\\'\\\\x00\\\\x00\\\\x00\\\\x00\\\\x00\\\\x00\\\\xf0?P\\\\xec\\\\xe8#\\\\xd3\\\\xfb\\\\xf4?\\\\xde\\\\x10NhoF0@\\\\x00\\\\x00\\\\x00\\\\x00\\\\x00\\\\x00\\\\xf0?\\\\xc2\\\\xc5\\\\x00\\\\xed\\\\xdcs+@s\\\\xc1\\\\xe2\\\\xc4\\\\xf8\\\\x15\"@\\\\x00\\\\x00\\\\x00\\\\x00\\\\x00\\\\x00\\\\xf0?8Y\\\\xb1$\\\\xc1\\\\xe1\\\\x0e@`\\\\xf3\\\\x04\\\\\\'\\\\x03/\\\\x04@\\\\x00\\\\x00\\\\x00\\\\x00\\\\x00\\\\x00\\\\xf0?\\\\x18\\\\xb3E\\\\x07\\\\xf82 @eB\\\\x8as\\\\x99\\\\xd31@\\\\x00\\\\x00\\\\x00\\\\x00\\\\x00\\\\x00\\\\xf0?p\\\\x949\\\\xbd\\\\xd7o\\\\r@\\\\x84\\\\xba\\\\xebxQx3@\\\\x00\\\\x00\\\\x00\\\\x00\\\\x00\\\\x00\\\\xf0?\"\\\\xf7\\\\x19\\\\xfd1</@\\\\x99\\\\xaa,\\\\xf4\\\\x04\\\\x97\"@\\\\x00\\\\x00\\\\x00\\\\x00\\\\x00\\\\x00\\\\xf0?\\\\xf0\\\\x15r\\\\xffV\\\\xc4%@\\\\\\\\\\\\x1cG\\\\xb2\\\\xe2i\\\\x13@\\\\x00\\\\x00\\\\x00\\\\x00\\\\x00\\\\x00\\\\xf0?\\\\xb6\\\\xdcY\\\\xb8\\\\x86b&@\\\\xa2\\\\xc9\\\\x03\\\\x18\\\\x82J%@\\\\x00\\\\x00\\\\x00\\\\x00\\\\x00\\\\x00\\\\xf0?7\\\\x88\\\\xd4\\\\xbeS\\\\xdc1@\\\\xc2\\\\xb5\\\\xee\\\\x81\\\\x0b\\\\x933@\\\\x00\\\\x00\\\\x00\\\\x00\\\\x00\\\\x00\\\\xf0?|\\\\x86\\\\xdb\\\\xdb\\\\x1b\\\\xd72@\\\\x8ab4\\\\x85yT+@\\\\x00\\\\x00\\\\x00\\\\x00\\\\x00\\\\x00\\\\xf0?\\\\x04\\\\x0f0-\\\\xf9\\\\x00#@\\\\xb4\\\\xea\\\\xcaVY\\\\xe8\\\\x1d@\\\\x00\\\\x00\\\\x00\\\\x00\\\\x00\\\\x00\\\\xf0??\\\\\\\\kx\\\\xf6\\\\x03/@\\\\xaa\\\\x19\\\\xbc\\\\xa3\\\\xc0\\\\x08\"@\\\\x00\\\\x00\\\\x00\\\\x00\\\\x00\\\\x00\\\\xf0?k\\\\xaa\\\\xe3\\\\n n,@\\\\x86\\\\x01\\\\x12O\\\\xaf\\\\x1a*@\\\\x00\\\\x00\\\\x00\\\\x00\\\\x00\\\\x00\\\\xf0?Z?\\\\x92\\\\xdf\\\\x19\\\\xf13@\\\\xa6X\\\\xdd\\\\x85\\\\r\\\\xb7,@\\\\x00\\\\x00\\\\x00\\\\x00\\\\x00\\\\x00\\\\xf0?>\\\\x03\\\\x96\\\\xd7-\\\\x92\\\\x1a@\\\\x8f\\\\t\\\\x86\\\\xa6\\\\x9f\\\\xea0@\\\\x00\\\\x00\\\\x00\\\\x00\\\\x00\\\\x00\\\\xf0?\\\\xfe\\\\x1c\\\\x8c\\\\xd5\\\\xe7\\\\x9b.@H\\\\xc2n\\\\xd5D!3@\\\\x00\\\\x00\\\\x00\\\\x00\\\\x00\\\\x00\\\\xf0?\\\\xa6\\\\xad*K\\\\x9de\\\\x19@<fx\\\\xbc\\\\x9dp\\\\x1f@\\\\x00\\\\x00\\\\x00\\\\x00\\\\x00\\\\x00\\\\xf0?\\\\x9a m\\\\xa0e\\\\xba\\\\x1a@\\\\xd8\\\\x15R\\\\x8a[\\\\x13-@\\\\x00\\\\x00\\\\x00\\\\x00\\\\x00\\\\x00\\\\xf0?\\\\x17\\\\x1b\\\\x1a\\\\xa6>i3@\\\\xc0\\\\xb9$$7\\\\xd9\\\\x03@\\\\x00\\\\x00\\\\x00\\\\x00\\\\x00\\\\x00\\\\xf0?\\\\x9b\\\\x80\\\\x03:\\\\xc4\\\\x962@2\\\\xcb\\\\xb2\\\\x19C\\\\xaf\\\\x1a@\\\\x00\\\\x00\\\\x00\\\\x00\\\\x00\\\\x00\\\\xf0?\\\\x10\\\\x9d,o;\\\\xb8\\\\x0c@\\\\x95r\\\\x0c\\\\xb3P\\\\xff$@\\\\x00\\\\x00\\\\x00\\\\x00\\\\x00\\\\x00\\\\xf0?X=\\\\x12]T\\\\xd8\\\\x1d@`d1\\\\xc1\\\\xa6\\\\xbd\\\\x1a@\\\\x00\\\\x00\\\\x00\\\\x00\\\\x00\\\\x00\\\\xf0?<\\\\xa8\\\\xb1\\\\x0c\\\\xbd\\\\x152@2TC-\\\\xc4l0@\\\\x00\\\\x00\\\\x00\\\\x00\\\\x00\\\\x00\\\\xf0?\\\\xee\\\\x9d\\\\xcd!D\\\\xaf\\\\x19@Ax\\\\\\'\\\\xa4\\\\xe2\\\\xf3$@\\\\x00\\\\x00\\\\x00\\\\x00\\\\x00\\\\x00\\\\xf0?\\\\x88\\\\xa7\\\\x80\\\\xb0\\\\xceU\\\\x08@\\\\x9et\\\\x14,S\\\\n\\\\x14@\\\\x00\\\\x00\\\\x00\\\\x00\\\\x00\\\\x00\\\\xf0?5\\\\xbe\\\\xb3%\\\\xf2o&@\\\\xb1Y\\\\xdc\\\\xb9\\\\xaf\\\\x83%@\\\\x00\\\\x00\\\\x00\\\\x00\\\\x00\\\\x00\\\\xf0?\\\\xbeV\\\\xb0\\\\xdf/\\\\x882@jJ\\\\xe9\\\\xaf\\\\xb6$-@\\\\x00\\\\x00\\\\x00\\\\x00\\\\x00\\\\x00\\\\xf0?\\\\xa0\\\\xdes\\\\xe6\\\\xe2\\\\xa6(@\\\\\\\\{b>\\\\xfc\\\\x1e\\\\x19@\\\\x00\\\\x00\\\\x00\\\\x00\\\\x00\\\\x00\\\\xf0?\\\\xb0\\\\x01.\\\\xea\\\\xae\\\\xef3@Zx`\\\\xca\\\\xc2\\\\x9b!@\\\\x00\\\\x00\\\\x00\\\\x00\\\\x00\\\\x00\\\\xf0?~6~\\\\xa2p\"3@\\\\xcfgQ\\\\x9b\\\\xcau0@\\\\x00\\\\x00\\\\x00\\\\x00\\\\x00\\\\x00\\\\xf0?\\\\n\\\\x04\\\\xb0^5\\\\xbb!@\\\\x18X\\\\xc2t\\\\x8a\\\\xf2\\\\x1b@\\\\x00\\\\x00\\\\x00\\\\x00\\\\x00\\\\x00\\\\xf0?6\\\\x0b?,\\\\xe5\\\\xf3,@1j\\\\x12\\\\xd7z\\\\xdd\"@\\\\x00\\\\x00\\\\x00\\\\x00\\\\x00\\\\x00\\\\xf0?~Z\\\\x93)\\\\xea\\\\xd8\\\\x1e@r\\\\x92\\\\x9ak\\\\xffU)@\\\\x00\\\\x00\\\\x00\\\\x00\\\\x00\\\\x00\\\\xf0?(\\\\xe6$\\\\xf0\\\\x84(\\\\x12@\\\\xf7d\\\\x91\\\\xed`=3@\\\\x00\\\\x00\\\\x00\\\\x00\\\\x00\\\\x00\\\\xf0?\\\\x84$\\\\xbb16b0@\\\\xb4\\\\xe7q5d\\\\xe5(@\\\\x00\\\\x00\\\\x00\\\\x00\\\\x00\\\\x00\\\\xf0?Xb\\\\x1b<\\\\xd1k\\\\x1e@\\\\x84\\\\xc8\\\\x11V\\\\x92\\\\r\\\\x11@\\\\x00\\\\x00\\\\x00\\\\x00\\\\x00\\\\x00\\\\xf0?\\\\t\\\\r\\\\xafX\\\\x9ex\\\\\\'@J\\\\xe0\\\\x96Pi\\\\xe3\\\\x17@\\\\x00\\\\x00\\\\x00\\\\x00\\\\x00\\\\x00\\\\xf0?\\\\x82\\\\x98X\\\\xeeG\\\\xca\\\\x19@\\\\x92\\\\x0b\\\\xae_Q&\\\\x11@\\\\x00\\\\x00\\\\x00\\\\x00\\\\x00\\\\x00\\\\xf0?\\\\x84\\\\xd9{j\\\\x01\\\\xad(@`\\\\xc5\\\\x15w\\\\xea\\\\x9e\\\\x1a@\\\\x00\\\\x00\\\\x00\\\\x00\\\\x00\\\\x00\\\\xf0?N\\\\xc8d\\\\xa1\\\\x07\\\\xe4)@\\\\xcc\\\\xc1L\\\\xf9\\\\\\\\%\\\\x16@\\\\x00\\\\x00\\\\x00\\\\x00\\\\x00\\\\x00\\\\xf0?L\\\\xb0\\\\x1b\\\\xd6\\\\xc8%\\\\x15@\\\\xd0LD?\\\\x81\\\\n\\\\xfd?\\\\x00\\\\x00\\\\x00\\\\x00\\\\x00\\\\x00\\\\xf0?\\\\x80;Ow\\\\xbc\\\\x81\\\\xf0?\\\\xa4\\\\xc3\\\\x80%q\\\\xee0@\\\\x00\\\\x00\\\\x00\\\\x00\\\\x00\\\\x00\\\\xf0?\\\\x0e\\\\xdd\\\\xf0~?\\\\xd43@\\\\x9e\\\\x87\\\\xaa\\\\xce=\\\\xd5\\\\x18@\\\\x00\\\\x00\\\\x00\\\\x00\\\\x00\\\\x00\\\\xf0?\\\\x10\\\\xf6\\\\x80\\\\xde\\\\r\\\\x81\\\\xfa?l]\\\\xfb\\\\xd9\\\\x0f\\\\xfd\\\\x1b@\\\\x00\\\\x00\\\\x00\\\\x00\\\\x00\\\\x00\\\\xf0?.\\\\x8c\\\\xfe\\\\xe1\\\\x06R\\\\x10@4\\\\xec\\\\x18\\\\xf9\\\\xd5\\\\xfc1@\\\\x00\\\\x00\\\\x00\\\\x00\\\\x00\\\\x00\\\\xf0?\\\\x82\\\\xf6\\\\x1f\\\\xc5:\\\\x98(@\\\\xa5@\\\\x1fF\\\\x13\\\\xd32@\\\\x00\\\\x00\\\\x00\\\\x00\\\\x00\\\\x00\\\\xf0?\\\\xa6gd\\\\xeaQx)@vuM\\\\xe7\\\\x06;\\\\x15@\\\\x00\\\\x00\\\\x00\\\\x00\\\\x00\\\\x00\\\\xf0?\\\\x05\\\\xa4\\\\xa0\\\\xc2.\\\\xcb,@\\\\xe9\\\\x00_\\\\xaf(d2@\\\\x00\\\\x00\\\\x00\\\\x00\\\\x00\\\\x00\\\\xf0?p\\\\xb3,\\\\xd5*\\\\xab*@<\\\\xd2\\\\xaf\\\\xb8\\\\xb9\\\\xed\\\\\\'@\\\\x00\\\\x00\\\\x00\\\\x00\\\\x00\\\\x00\\\\xf0?D[4\\\\x1f\\\\xd5\\\\n\\\\x11@\\\\x97-\\\\x1b:\\\\xd6\\\\x11,@\\'\\np355\\ntp356\\nba(lp357\\ng253\\n(g254\\n(dp358\\ng234\\ng14\\n(g15\\n(I0\\ntp359\\ng17\\ntp360\\nRp361\\n(I1\\n(I3\\ntp362\\ng262\\nI00\\n(lp363\\ng319\\nag320\\nag321\\natp364\\nbsg270\\nNstp365\\nRp366\\na(dp367\\ng301\\n(dp368\\ng303\\ng331\\nsg304\\n(lp369\\n(dp370\\ng307\\ng308\\n(I0\\nI3\\nI1\\ntp371\\nRp372\\nsg311\\ng353\\nsasstp373\\nbbsS\\'orig_endog\\'\\np374\\ng0\\n(g246\\ng2\\nNtp375\\nRp376\\ng0\\n(g249\\ng2\\nNtp377\\nRp378\\n((lp379\\ng253\\n(g254\\n(dp380\\ng234\\ng14\\n(g15\\n(I0\\ntp381\\ng17\\ntp382\\nRp383\\n(I1\\n(I1\\ntp384\\ng262\\nI00\\n(lp385\\ng268\\natp386\\nbsg270\\nNstp387\\nRp388\\nag349\\na(lp389\\ng14\\n(g15\\n(I0\\ntp390\\ng17\\ntp391\\nRp392\\n(I1\\n(I1\\nI50\\ntp393\\ng24\\nI01\\nS\\'0\\\\x83\\\\xbat\\\\x90\\\\tB@A\\\\xfb\\\\x92\\\\x83\\\\xa4\\\\xa7@@[@\\\\x18\\\\x0by\\\\xa3\\\\\\'@\\\\xa6\\\\xfc\\\\xf8\\\\xfd\\\\xd0\\\\xb2F@\\\\x07\\\\x12R\\\\xb7\\\\xa2\\\\xacF@I\\\\x94g\\\\xf4\\\\rEB@\\\\x8e\\\\xa8\\\\xca\\\\x9e\\\\xb0\\\\xb76@\\\\x04\\\\xda\\\\x1c\\\\x04(\\\\xdf@@=\\\\t\\\\x10-pKM@@\\\\xdb\\\\x18\\\\xcc\\\\xe8\\\\x8fH@m\\\\x0f\\\\xd6\\\\xfc\\\\xdc\\\\xe9:@\\\\x10\\\\x05\\\\x1b\\\\x9a\\\\xa5\\\\xa6A@|\\\\xcdJ\\\\xf0\\\\x16zE@G\\\\xf8\\\\xb5\\\\tb\\\\xd8H@\\\\xe1\\\\x18\\\\xb1\\\\x86\\\\x86\\\\x86E@.\\\\x96\\\\x13\\\\x1e\\\\xdf|K@\\\\x81X\\\\x06\\\\x0e\\\\xa3\\\\xfc8@,\\\\x08\\\\xc1\\\\xbc\\\\xd4\\\\xdfB@8\"\\\\x80=\\\\xcew:@\\\\x08\\\\x80\\\\x9c\\\\na\\\\x9f@@\\\\xe0\\\\xce \\\\xc2f$;@\\\\x04`Xw?p7@4\\\\xbd9\\\\xef\\\\xc3<J@\\\\x8f\\\\xd16$\\\\x13\\\\x96<@\\\\x91\\\\xee\\\\xc2\\\\x0eH,-@4E\\\\xc1\\\\x0btdA@\\\\x92\\\\xeb\\\\xe8*\\\\x03\\\\x91H@\\\\x0b7\\\\x12\\\\x08\\\\xc3\\\\xc8;@.\\\\x81/\\\\xc9F\\\\x8cC@ \\\\xf86\\\\x902DK@\\\\x1aD*\\\\xed\\\\x1aK8@\\\\x1cT*pW\\\\x9bA@\\\\x82\\\\x7ff5\\\\xd0\\\\x1cA@\\\\x83\\\\xe8\\\\xe7Q\\\\xf4_F@\\\\xd5Q\\\\x8fTC\\\\xb0E@R\\\\xb7\\\\xd7\\\\xf0\\\\xda\\\\x8a1@\\\\xc4TW`\\\\xeb\\\\xb19@\\\\x13\\\\xfe\\\\x7f*\\\\r50@\\\\x1d\\\\x88\\\\xb1\\\\xdd\\\\xae;<@\\\\xae\\\\x9c\\\\xfe\\\\x954\\\\x1e9@\\\\xd0G\\\\xf8\\\\x03bp$@\\\\xe8\\\\x1f\\\\xe2\\\\x17\\\\x0b\\\\xddB@*\\\\xddQ\\\\xc7\\\\\\'6A@\\\\xe7\\\\x7f\\\\xed\\\\xa0-a1@\\\\x96\\\\xc7yAP\\\\x10E@\\\\x18\\\\xbdM\\\\x8cI\\\\xf6I@.\\\\x1c\\\\x89\\\\x90\\\\xe9\\\\xf99@\\\\xab\\\\nobs\\\\xe0J@\\\\xac\\\\x8f2\\\\xb8\\\\x05\\\\xebC@\\\\xe4\\\\x0c\\\\xfc\\\\x1afqA@\\'\\np394\\ntp395\\nba(lp396\\ng253\\n(g254\\n(dp397\\ng234\\ng14\\n(g15\\n(I0\\ntp398\\ng17\\ntp399\\nRp400\\n(I1\\n(I1\\ntp401\\ng262\\nI00\\n(lp402\\ng268\\natp403\\nbsg270\\nNstp404\\nRp405\\na(dp406\\ng301\\n(dp407\\ng303\\ng379\\nsg304\\n(lp408\\n(dp409\\ng307\\ng308\\n(I0\\nI1\\nI1\\ntp410\\nRp411\\nsg311\\ng392\\nsasstp412\\nbbsbsg199\\ng218\\nsS\\'_df_model\\'\\np413\\nF2.0\\nsbsg197\\n(lp414\\nsbsb.'"
      ]
     },
     "execution_count": 6,
     "metadata": {},
     "output_type": "execute_result"
    }
   ],
   "source": [
    "pickle.dumps(model)"
   ]
  },
  {
   "cell_type": "markdown",
   "metadata": {},
   "source": [
    "I guess I am just trusting that this is correct.  Let's write that nonsense to disk."
   ]
  },
  {
   "cell_type": "code",
   "execution_count": 7,
   "metadata": {
    "collapsed": false
   },
   "outputs": [],
   "source": [
    "with open('model_dump','w') as f:\n",
    "    pickle.dump(model,f)"
   ]
  },
  {
   "cell_type": "markdown",
   "metadata": {},
   "source": [
    "Now we can read the model object back in, save it as a new instance, and use it to predict based upon the original regressor data.  This result can be compared to the original prediction above."
   ]
  },
  {
   "cell_type": "code",
   "execution_count": 8,
   "metadata": {
    "collapsed": false
   },
   "outputs": [
    {
     "name": "stdout",
     "output_type": "stream",
     "text": [
      "                            OLS Regression Results                            \n",
      "==============================================================================\n",
      "Dep. Variable:                      y   R-squared:                       0.998\n",
      "Model:                            OLS   Adj. R-squared:                  0.998\n",
      "Method:                 Least Squares   F-statistic:                 1.062e+04\n",
      "Date:                Sun, 19 Jul 2015   Prob (F-statistic):           3.83e-63\n",
      "Time:                        15:11:20   Log-Likelihood:                -42.166\n",
      "No. Observations:                  50   AIC:                             90.33\n",
      "Df Residuals:                      47   BIC:                             96.07\n",
      "Df Model:                           2                                         \n",
      "Covariance Type:            nonrobust                                         \n",
      "==============================================================================\n",
      "                 coef    std err          t      P>|t|      [95.0% Conf. Int.]\n",
      "------------------------------------------------------------------------------\n",
      "Intercept      2.0839      0.246      8.465      0.000         1.589     2.579\n",
      "x1             0.9844      0.014     68.270      0.000         0.955     1.013\n",
      "x2             2.0087      0.016    127.955      0.000         1.977     2.040\n",
      "==============================================================================\n",
      "Omnibus:                       15.653   Durbin-Watson:                   2.368\n",
      "Prob(Omnibus):                  0.000   Jarque-Bera (JB):                3.381\n",
      "Skew:                           0.040   Prob(JB):                        0.184\n",
      "Kurtosis:                       1.729   Cond. No.                         49.5\n",
      "==============================================================================\n",
      "\n",
      "Warnings:\n",
      "[1] Standard Errors assume that the covariance matrix of the errors is correctly specified.\n"
     ]
    }
   ],
   "source": [
    "#Capture model object from disk\n",
    "with open('model_dump','r') as f:\n",
    "    model2=pickle.load(f)\n",
    "\n",
    "#Show model summary\n",
    "print model2.summary()\n",
    "\n",
    "#Predict new values of y\n",
    "# pred_y2=model2.predict(data[['x1','x2']])"
   ]
  },
  {
   "cell_type": "markdown",
   "metadata": {},
   "source": [
    "    ---------------------------------------------------------------------------\n",
    "    AttributeError                            Traceback (most recent call last)\n",
    "    <ipython-input-16-f7a79b10e2b5> in <module>()\n",
    "          7 \n",
    "          8 #Predict new values of y\n",
    "    ----> 9 pred_y2=model2.predict(data[['x1','x2']])\n",
    "\n",
    "    C:\\Users\\marvinw\\AppData\\Local\\Continuum\\Anaconda\\lib\\site-packages\\statsmodels\\base\\model.pyc in predict(self, exog, transform, *args, **kwargs)\n",
    "        876         if transform and hasattr(self.model, 'formula') and exog is not None:\n",
    "        877             from patsy import dmatrix\n",
    "    --> 878             exog = dmatrix(self.model.data.orig_exog.design_info.builder,\n",
    "        879                     exog)\n",
    "        880         return self.model.predict(self.params, exog, *args, **kwargs)\n",
    "\n",
    "    C:\\Users\\marvinw\\AppData\\Local\\Continuum\\Anaconda\\lib\\site-packages\\pandas\\core\\generic.pyc in __getattr__(self, name)\n",
    "       1976                 return self[name]\n",
    "       1977             raise AttributeError(\"'%s' object has no attribute '%s'\" %\n",
    "    -> 1978                                  (type(self).__name__, name))\n",
    "       1979 \n",
    "       1980     def __setattr__(self, name, value):\n",
    "\n",
    "    AttributeError: 'DataFrame' object has no attribute 'design_info'"
   ]
  },
  {
   "cell_type": "markdown",
   "metadata": {},
   "source": [
    "Hmmmm.  While it does appear that we have reconstituted the object, clearly something was lost in translation.  This helpful [SO post](http://stackoverflow.com/questions/20724919/pandas-dataframe-attributeerror-dataframe-object-has-no-attribute-design-inf) reveals that user additions to the model can get lost.  In this case, `design_info` is referring to the formula used to fit the model: `'y ~ x1 + x2'`.  The post suggests either building a design matrix explicitly with **`patsy`**, or just making sure we add a constant to our input data for the unpickled version of the model."
   ]
  },
  {
   "cell_type": "code",
   "execution_count": 9,
   "metadata": {
    "collapsed": false
   },
   "outputs": [
    {
     "data": {
      "text/plain": [
       "array([ 0.,  0.,  0.,  0.,  0.,  0.,  0.,  0.,  0.,  0.,  0.,  0.,  0.,\n",
       "        0.,  0.,  0.,  0.,  0.,  0.,  0.,  0.,  0.,  0.,  0.,  0.,  0.,\n",
       "        0.,  0.,  0.,  0.,  0.,  0.,  0.,  0.,  0.,  0.,  0.,  0.,  0.,\n",
       "        0.,  0.,  0.,  0.,  0.,  0.,  0.,  0.,  0.,  0.,  0.])"
      ]
     },
     "execution_count": 9,
     "metadata": {},
     "output_type": "execute_result"
    }
   ],
   "source": [
    "#Predict new values of y\n",
    "pred_y2=model2.predict(add_constant(data[['x1','x2']]),transform=False)\n",
    "\n",
    "pred_y-pred_y2"
   ]
  },
  {
   "cell_type": "markdown",
   "metadata": {},
   "source": [
    "I think that I can handle those small deviations.  Looks like this works as expected."
   ]
  }
 ],
 "metadata": {
  "kernelspec": {
   "display_name": "Python 2",
   "language": "python",
   "name": "python2"
  },
  "language_info": {
   "codemirror_mode": {
    "name": "ipython",
    "version": 2
   },
   "file_extension": ".py",
   "mimetype": "text/x-python",
   "name": "python",
   "nbconvert_exporter": "python",
   "pygments_lexer": "ipython2",
   "version": "2.7.10"
  }
 },
 "nbformat": 4,
 "nbformat_minor": 0
}
