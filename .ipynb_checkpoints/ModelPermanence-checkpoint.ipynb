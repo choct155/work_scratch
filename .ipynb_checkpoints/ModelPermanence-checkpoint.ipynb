{
 "cells": [
  {
   "cell_type": "markdown",
   "metadata": {},
   "source": [
    "# How Can One Save an Instance of an Estimator?"
   ]
  },
  {
   "cell_type": "markdown",
   "metadata": {},
   "source": [
    "I have a situation in which I want to use an estimator that has been fit in an original Notebook to predict new values given data in a new Notebook.  The question is, can I save a specific model instance to be read in elsewhere?  This Notebook will run a basic regression on simulated data.  We will then attempt to write the model to disk, read back in, and use it to predict outcomes on new data."
   ]
  },
  {
   "cell_type": "code",
   "execution_count": 1,
   "metadata": {
    "collapsed": false
   },
   "outputs": [],
   "source": [
    "#Basic data manipulation\n",
    "import numpy as np\n",
    "import pandas as pd\n",
    "from pandas import Series, DataFrame\n",
    "\n",
    "#Estimating methods\n",
    "import statsmodels.formula.api as smf\n",
    "from statsmodels.api import add_constant\n",
    "\n",
    "#Serialization\n",
    "import pickle"
   ]
  },
  {
   "cell_type": "markdown",
   "metadata": {},
   "source": [
    "## Simulation of Input Data"
   ]
  },
  {
   "cell_type": "markdown",
   "metadata": {},
   "source": [
    "We are going to follow a very basic model:\n",
    "\n",
    "$Y = X_1 + 2X_2 + \\epsilon$"
   ]
  },
  {
   "cell_type": "code",
   "execution_count": 2,
   "metadata": {
    "collapsed": false,
    "scrolled": true
   },
   "outputs": [
    {
     "data": {
      "text/html": [
       "<div>\n",
       "<table border=\"1\" class=\"dataframe\">\n",
       "  <thead>\n",
       "    <tr style=\"text-align: right;\">\n",
       "      <th></th>\n",
       "      <th>x1</th>\n",
       "      <th>x2</th>\n",
       "      <th>y</th>\n",
       "    </tr>\n",
       "  </thead>\n",
       "  <tbody>\n",
       "    <tr>\n",
       "      <th>0</th>\n",
       "      <td>19.117813</td>\n",
       "      <td>9.081719</td>\n",
       "      <td>38.487556</td>\n",
       "    </tr>\n",
       "    <tr>\n",
       "      <th>1</th>\n",
       "      <td>19.090036</td>\n",
       "      <td>6.498166</td>\n",
       "      <td>33.855858</td>\n",
       "    </tr>\n",
       "    <tr>\n",
       "      <th>2</th>\n",
       "      <td>12.200609</td>\n",
       "      <td>18.250084</td>\n",
       "      <td>50.024782</td>\n",
       "    </tr>\n",
       "    <tr>\n",
       "      <th>3</th>\n",
       "      <td>8.471135</td>\n",
       "      <td>9.904962</td>\n",
       "      <td>29.284813</td>\n",
       "    </tr>\n",
       "    <tr>\n",
       "      <th>4</th>\n",
       "      <td>12.998626</td>\n",
       "      <td>12.719388</td>\n",
       "      <td>39.454115</td>\n",
       "    </tr>\n",
       "    <tr>\n",
       "      <th>5</th>\n",
       "      <td>15.946168</td>\n",
       "      <td>2.285481</td>\n",
       "      <td>23.406013</td>\n",
       "    </tr>\n",
       "    <tr>\n",
       "      <th>6</th>\n",
       "      <td>7.071413</td>\n",
       "      <td>1.768348</td>\n",
       "      <td>12.569192</td>\n",
       "    </tr>\n",
       "    <tr>\n",
       "      <th>7</th>\n",
       "      <td>16.119018</td>\n",
       "      <td>12.580359</td>\n",
       "      <td>42.352553</td>\n",
       "    </tr>\n",
       "    <tr>\n",
       "      <th>8</th>\n",
       "      <td>8.577352</td>\n",
       "      <td>18.972704</td>\n",
       "      <td>48.913061</td>\n",
       "    </tr>\n",
       "    <tr>\n",
       "      <th>9</th>\n",
       "      <td>12.471167</td>\n",
       "      <td>7.176528</td>\n",
       "      <td>29.701035</td>\n",
       "    </tr>\n",
       "    <tr>\n",
       "      <th>10</th>\n",
       "      <td>16.413161</td>\n",
       "      <td>19.791651</td>\n",
       "      <td>57.971934</td>\n",
       "    </tr>\n",
       "    <tr>\n",
       "      <th>11</th>\n",
       "      <td>14.253039</td>\n",
       "      <td>5.430822</td>\n",
       "      <td>26.729292</td>\n",
       "    </tr>\n",
       "    <tr>\n",
       "      <th>12</th>\n",
       "      <td>5.194357</td>\n",
       "      <td>2.849354</td>\n",
       "      <td>12.714957</td>\n",
       "    </tr>\n",
       "    <tr>\n",
       "      <th>13</th>\n",
       "      <td>16.986510</td>\n",
       "      <td>19.684220</td>\n",
       "      <td>58.476413</td>\n",
       "    </tr>\n",
       "    <tr>\n",
       "      <th>14</th>\n",
       "      <td>15.316623</td>\n",
       "      <td>14.014020</td>\n",
       "      <td>44.612152</td>\n",
       "    </tr>\n",
       "    <tr>\n",
       "      <th>15</th>\n",
       "      <td>10.836157</td>\n",
       "      <td>14.356311</td>\n",
       "      <td>41.506561</td>\n",
       "    </tr>\n",
       "    <tr>\n",
       "      <th>16</th>\n",
       "      <td>7.889419</td>\n",
       "      <td>6.007692</td>\n",
       "      <td>22.606941</td>\n",
       "    </tr>\n",
       "    <tr>\n",
       "      <th>17</th>\n",
       "      <td>1.985348</td>\n",
       "      <td>17.122702</td>\n",
       "      <td>37.580925</td>\n",
       "    </tr>\n",
       "    <tr>\n",
       "      <th>18</th>\n",
       "      <td>1.727026</td>\n",
       "      <td>8.922221</td>\n",
       "      <td>21.042873</td>\n",
       "    </tr>\n",
       "    <tr>\n",
       "      <th>19</th>\n",
       "      <td>4.091295</td>\n",
       "      <td>6.953756</td>\n",
       "      <td>19.264339</td>\n",
       "    </tr>\n",
       "    <tr>\n",
       "      <th>20</th>\n",
       "      <td>14.562979</td>\n",
       "      <td>18.696219</td>\n",
       "      <td>52.971810</td>\n",
       "    </tr>\n",
       "    <tr>\n",
       "      <th>21</th>\n",
       "      <td>3.101530</td>\n",
       "      <td>17.184228</td>\n",
       "      <td>39.664761</td>\n",
       "    </tr>\n",
       "    <tr>\n",
       "      <th>22</th>\n",
       "      <td>12.013189</td>\n",
       "      <td>11.850916</td>\n",
       "      <td>36.908651</td>\n",
       "    </tr>\n",
       "    <tr>\n",
       "      <th>23</th>\n",
       "      <td>6.454457</td>\n",
       "      <td>14.539391</td>\n",
       "      <td>37.177584</td>\n",
       "    </tr>\n",
       "    <tr>\n",
       "      <th>24</th>\n",
       "      <td>8.202934</td>\n",
       "      <td>9.119490</td>\n",
       "      <td>27.931486</td>\n",
       "    </tr>\n",
       "    <tr>\n",
       "      <th>25</th>\n",
       "      <td>18.605161</td>\n",
       "      <td>13.008387</td>\n",
       "      <td>46.643963</td>\n",
       "    </tr>\n",
       "    <tr>\n",
       "      <th>26</th>\n",
       "      <td>16.971396</td>\n",
       "      <td>12.713127</td>\n",
       "      <td>44.921881</td>\n",
       "    </tr>\n",
       "    <tr>\n",
       "      <th>27</th>\n",
       "      <td>3.758078</td>\n",
       "      <td>5.300155</td>\n",
       "      <td>17.080717</td>\n",
       "    </tr>\n",
       "    <tr>\n",
       "      <th>28</th>\n",
       "      <td>4.809767</td>\n",
       "      <td>9.487047</td>\n",
       "      <td>26.746040</td>\n",
       "    </tr>\n",
       "    <tr>\n",
       "      <th>29</th>\n",
       "      <td>6.692976</td>\n",
       "      <td>11.887658</td>\n",
       "      <td>33.070318</td>\n",
       "    </tr>\n",
       "    <tr>\n",
       "      <th>30</th>\n",
       "      <td>18.013779</td>\n",
       "      <td>11.617793</td>\n",
       "      <td>42.846054</td>\n",
       "    </tr>\n",
       "    <tr>\n",
       "      <th>31</th>\n",
       "      <td>9.725376</td>\n",
       "      <td>15.200285</td>\n",
       "      <td>41.329700</td>\n",
       "    </tr>\n",
       "    <tr>\n",
       "      <th>32</th>\n",
       "      <td>8.758546</td>\n",
       "      <td>2.205608</td>\n",
       "      <td>14.595694</td>\n",
       "    </tr>\n",
       "    <tr>\n",
       "      <th>33</th>\n",
       "      <td>15.518913</td>\n",
       "      <td>2.536904</td>\n",
       "      <td>23.079865</td>\n",
       "    </tr>\n",
       "    <tr>\n",
       "      <th>34</th>\n",
       "      <td>8.787216</td>\n",
       "      <td>15.344038</td>\n",
       "      <td>42.122942</td>\n",
       "    </tr>\n",
       "    <tr>\n",
       "      <th>35</th>\n",
       "      <td>16.852191</td>\n",
       "      <td>9.856146</td>\n",
       "      <td>39.134146</td>\n",
       "    </tr>\n",
       "    <tr>\n",
       "      <th>36</th>\n",
       "      <td>15.047383</td>\n",
       "      <td>3.633914</td>\n",
       "      <td>24.694731</td>\n",
       "    </tr>\n",
       "    <tr>\n",
       "      <th>37</th>\n",
       "      <td>15.361193</td>\n",
       "      <td>1.809685</td>\n",
       "      <td>20.790902</td>\n",
       "    </tr>\n",
       "    <tr>\n",
       "      <th>38</th>\n",
       "      <td>9.497672</td>\n",
       "      <td>12.038861</td>\n",
       "      <td>35.623634</td>\n",
       "    </tr>\n",
       "    <tr>\n",
       "      <th>39</th>\n",
       "      <td>19.933367</td>\n",
       "      <td>8.126064</td>\n",
       "      <td>38.772524</td>\n",
       "    </tr>\n",
       "    <tr>\n",
       "      <th>40</th>\n",
       "      <td>9.941861</td>\n",
       "      <td>5.911862</td>\n",
       "      <td>23.216619</td>\n",
       "    </tr>\n",
       "    <tr>\n",
       "      <th>41</th>\n",
       "      <td>8.390762</td>\n",
       "      <td>6.313213</td>\n",
       "      <td>23.532083</td>\n",
       "    </tr>\n",
       "    <tr>\n",
       "      <th>42</th>\n",
       "      <td>11.098273</td>\n",
       "      <td>1.750625</td>\n",
       "      <td>16.169081</td>\n",
       "    </tr>\n",
       "    <tr>\n",
       "      <th>43</th>\n",
       "      <td>17.031376</td>\n",
       "      <td>15.075924</td>\n",
       "      <td>48.323133</td>\n",
       "    </tr>\n",
       "    <tr>\n",
       "      <th>44</th>\n",
       "      <td>3.365249</td>\n",
       "      <td>15.346254</td>\n",
       "      <td>36.282012</td>\n",
       "    </tr>\n",
       "    <tr>\n",
       "      <th>45</th>\n",
       "      <td>3.418122</td>\n",
       "      <td>2.431455</td>\n",
       "      <td>10.465567</td>\n",
       "    </tr>\n",
       "    <tr>\n",
       "      <th>46</th>\n",
       "      <td>6.239885</td>\n",
       "      <td>3.586375</td>\n",
       "      <td>14.549441</td>\n",
       "    </tr>\n",
       "    <tr>\n",
       "      <th>47</th>\n",
       "      <td>19.087905</td>\n",
       "      <td>13.382633</td>\n",
       "      <td>48.342882</td>\n",
       "    </tr>\n",
       "    <tr>\n",
       "      <th>48</th>\n",
       "      <td>6.864389</td>\n",
       "      <td>9.155498</td>\n",
       "      <td>26.288760</td>\n",
       "    </tr>\n",
       "    <tr>\n",
       "      <th>49</th>\n",
       "      <td>18.330111</td>\n",
       "      <td>6.251997</td>\n",
       "      <td>32.724814</td>\n",
       "    </tr>\n",
       "  </tbody>\n",
       "</table>\n",
       "</div>"
      ],
      "text/plain": [
       "           x1         x2          y\n",
       "0   19.117813   9.081719  38.487556\n",
       "1   19.090036   6.498166  33.855858\n",
       "2   12.200609  18.250084  50.024782\n",
       "3    8.471135   9.904962  29.284813\n",
       "4   12.998626  12.719388  39.454115\n",
       "5   15.946168   2.285481  23.406013\n",
       "6    7.071413   1.768348  12.569192\n",
       "7   16.119018  12.580359  42.352553\n",
       "8    8.577352  18.972704  48.913061\n",
       "9   12.471167   7.176528  29.701035\n",
       "10  16.413161  19.791651  57.971934\n",
       "11  14.253039   5.430822  26.729292\n",
       "12   5.194357   2.849354  12.714957\n",
       "13  16.986510  19.684220  58.476413\n",
       "14  15.316623  14.014020  44.612152\n",
       "15  10.836157  14.356311  41.506561\n",
       "16   7.889419   6.007692  22.606941\n",
       "17   1.985348  17.122702  37.580925\n",
       "18   1.727026   8.922221  21.042873\n",
       "19   4.091295   6.953756  19.264339\n",
       "20  14.562979  18.696219  52.971810\n",
       "21   3.101530  17.184228  39.664761\n",
       "22  12.013189  11.850916  36.908651\n",
       "23   6.454457  14.539391  37.177584\n",
       "24   8.202934   9.119490  27.931486\n",
       "25  18.605161  13.008387  46.643963\n",
       "26  16.971396  12.713127  44.921881\n",
       "27   3.758078   5.300155  17.080717\n",
       "28   4.809767   9.487047  26.746040\n",
       "29   6.692976  11.887658  33.070318\n",
       "30  18.013779  11.617793  42.846054\n",
       "31   9.725376  15.200285  41.329700\n",
       "32   8.758546   2.205608  14.595694\n",
       "33  15.518913   2.536904  23.079865\n",
       "34   8.787216  15.344038  42.122942\n",
       "35  16.852191   9.856146  39.134146\n",
       "36  15.047383   3.633914  24.694731\n",
       "37  15.361193   1.809685  20.790902\n",
       "38   9.497672  12.038861  35.623634\n",
       "39  19.933367   8.126064  38.772524\n",
       "40   9.941861   5.911862  23.216619\n",
       "41   8.390762   6.313213  23.532083\n",
       "42  11.098273   1.750625  16.169081\n",
       "43  17.031376  15.075924  48.323133\n",
       "44   3.365249  15.346254  36.282012\n",
       "45   3.418122   2.431455  10.465567\n",
       "46   6.239885   3.586375  14.549441\n",
       "47  19.087905  13.382633  48.342882\n",
       "48   6.864389   9.155498  26.288760\n",
       "49  18.330111   6.251997  32.724814"
      ]
     },
     "execution_count": 2,
     "metadata": {},
     "output_type": "execute_result"
    }
   ],
   "source": [
    "#Generate random vectors for regressors\n",
    "x1,x2=(np.random.uniform(20,size=50),np.random.uniform(20,size=50))\n",
    "\n",
    "#Generate dependent variable\n",
    "y=x1 + 2*x2 + [np.random.uniform(3) for val in range(len(x1))]\n",
    "\n",
    "#Capture data in DF\n",
    "data=DataFrame({'y':y,\n",
    "                'x1':x1,\n",
    "                'x2':x2})\n",
    "\n",
    "data"
   ]
  },
  {
   "cell_type": "markdown",
   "metadata": {},
   "source": [
    "## Estimation of the Model"
   ]
  },
  {
   "cell_type": "markdown",
   "metadata": {},
   "source": [
    "We are just going to fit a standard OLS estimator..."
   ]
  },
  {
   "cell_type": "code",
   "execution_count": 3,
   "metadata": {
    "collapsed": false
   },
   "outputs": [
    {
     "data": {
      "text/html": [
       "<table class=\"simpletable\">\n",
       "<caption>OLS Regression Results</caption>\n",
       "<tr>\n",
       "  <th>Dep. Variable:</th>            <td>y</td>        <th>  R-squared:         </th> <td>   0.998</td> \n",
       "</tr>\n",
       "<tr>\n",
       "  <th>Model:</th>                   <td>OLS</td>       <th>  Adj. R-squared:    </th> <td>   0.998</td> \n",
       "</tr>\n",
       "<tr>\n",
       "  <th>Method:</th>             <td>Least Squares</td>  <th>  F-statistic:       </th> <td>1.039e+04</td>\n",
       "</tr>\n",
       "<tr>\n",
       "  <th>Date:</th>             <td>Mon, 28 Mar 2016</td> <th>  Prob (F-statistic):</th> <td>6.47e-63</td> \n",
       "</tr>\n",
       "<tr>\n",
       "  <th>Time:</th>                 <td>20:10:07</td>     <th>  Log-Likelihood:    </th> <td> -44.127</td> \n",
       "</tr>\n",
       "<tr>\n",
       "  <th>No. Observations:</th>      <td>    50</td>      <th>  AIC:               </th> <td>   94.25</td> \n",
       "</tr>\n",
       "<tr>\n",
       "  <th>Df Residuals:</th>          <td>    47</td>      <th>  BIC:               </th> <td>   99.99</td> \n",
       "</tr>\n",
       "<tr>\n",
       "  <th>Df Model:</th>              <td>     2</td>      <th>                     </th>     <td> </td>    \n",
       "</tr>\n",
       "<tr>\n",
       "  <th>Covariance Type:</th>      <td>nonrobust</td>    <th>                     </th>     <td> </td>    \n",
       "</tr>\n",
       "</table>\n",
       "<table class=\"simpletable\">\n",
       "<tr>\n",
       "      <td></td>         <th>coef</th>     <th>std err</th>      <th>t</th>      <th>P>|t|</th> <th>[95.0% Conf. Int.]</th> \n",
       "</tr>\n",
       "<tr>\n",
       "  <th>Intercept</th> <td>    2.0162</td> <td>    0.246</td> <td>    8.181</td> <td> 0.000</td> <td>    1.520     2.512</td>\n",
       "</tr>\n",
       "<tr>\n",
       "  <th>x1</th>        <td>    1.0027</td> <td>    0.016</td> <td>   62.585</td> <td> 0.000</td> <td>    0.971     1.035</td>\n",
       "</tr>\n",
       "<tr>\n",
       "  <th>x2</th>        <td>    1.9831</td> <td>    0.016</td> <td>  124.666</td> <td> 0.000</td> <td>    1.951     2.015</td>\n",
       "</tr>\n",
       "</table>\n",
       "<table class=\"simpletable\">\n",
       "<tr>\n",
       "  <th>Omnibus:</th>       <td>23.200</td> <th>  Durbin-Watson:     </th> <td>   1.694</td>\n",
       "</tr>\n",
       "<tr>\n",
       "  <th>Prob(Omnibus):</th> <td> 0.000</td> <th>  Jarque-Bera (JB):  </th> <td>   4.088</td>\n",
       "</tr>\n",
       "<tr>\n",
       "  <th>Skew:</th>          <td> 0.158</td> <th>  Prob(JB):          </th> <td>   0.129</td>\n",
       "</tr>\n",
       "<tr>\n",
       "  <th>Kurtosis:</th>      <td> 1.635</td> <th>  Cond. No.          </th> <td>    46.5</td>\n",
       "</tr>\n",
       "</table>"
      ],
      "text/plain": [
       "<class 'statsmodels.iolib.summary.Summary'>\n",
       "\"\"\"\n",
       "                            OLS Regression Results                            \n",
       "==============================================================================\n",
       "Dep. Variable:                      y   R-squared:                       0.998\n",
       "Model:                            OLS   Adj. R-squared:                  0.998\n",
       "Method:                 Least Squares   F-statistic:                 1.039e+04\n",
       "Date:                Mon, 28 Mar 2016   Prob (F-statistic):           6.47e-63\n",
       "Time:                        20:10:07   Log-Likelihood:                -44.127\n",
       "No. Observations:                  50   AIC:                             94.25\n",
       "Df Residuals:                      47   BIC:                             99.99\n",
       "Df Model:                           2                                         \n",
       "Covariance Type:            nonrobust                                         \n",
       "==============================================================================\n",
       "                 coef    std err          t      P>|t|      [95.0% Conf. Int.]\n",
       "------------------------------------------------------------------------------\n",
       "Intercept      2.0162      0.246      8.181      0.000         1.520     2.512\n",
       "x1             1.0027      0.016     62.585      0.000         0.971     1.035\n",
       "x2             1.9831      0.016    124.666      0.000         1.951     2.015\n",
       "==============================================================================\n",
       "Omnibus:                       23.200   Durbin-Watson:                   1.694\n",
       "Prob(Omnibus):                  0.000   Jarque-Bera (JB):                4.088\n",
       "Skew:                           0.158   Prob(JB):                        0.129\n",
       "Kurtosis:                       1.635   Cond. No.                         46.5\n",
       "==============================================================================\n",
       "\n",
       "Warnings:\n",
       "[1] Standard Errors assume that the covariance matrix of the errors is correctly specified.\n",
       "\"\"\""
      ]
     },
     "execution_count": 3,
     "metadata": {},
     "output_type": "execute_result"
    }
   ],
   "source": [
    "#Fit model\n",
    "model=smf.ols(formula='y ~ x1 + x2', data=data).fit()\n",
    "\n",
    "model.summary()"
   ]
  },
  {
   "cell_type": "markdown",
   "metadata": {},
   "source": [
    "To provide a point of comparison, we will use the regressor subset to predict `y`."
   ]
  },
  {
   "cell_type": "code",
   "execution_count": 4,
   "metadata": {
    "collapsed": false
   },
   "outputs": [
    {
     "data": {
      "text/plain": [
       "array([ 39.19621217,  34.04494895,  50.44172549,  30.15293372,\n",
       "        40.27407805,  22.53834664,  12.61376528,  43.12730978,\n",
       "        48.24156285,  28.75320123,  57.72287732,  27.07806658,\n",
       "        12.87529603,  58.08475365,  45.16579098,  41.35184676,\n",
       "        21.84099785,  37.96278894,  21.44149071,  19.90859993,\n",
       "        53.6952919 ,  39.20403839,  37.56368662,  37.32120798,\n",
       "        28.32633854,  46.46907991,  44.24531183,  16.29523509,\n",
       "        25.65277488,  32.30176333,  43.11840901,  41.91169594,\n",
       "        15.17264292,  22.60851603,  41.25604118,  38.46013907,\n",
       "        24.31116041,  21.00822494,  35.41398894,  38.11885085,\n",
       "        23.70902291,  22.94958993,  16.6165082 ,  48.99109041,\n",
       "        35.82361708,  10.26546609,  15.38526414,  47.69530843,\n",
       "        27.05553445,  32.79476691])"
      ]
     },
     "execution_count": 4,
     "metadata": {},
     "output_type": "execute_result"
    }
   ],
   "source": [
    "pred_y=model.predict(data[['x1','x2']])\n",
    "\n",
    "pred_y"
   ]
  },
  {
   "cell_type": "markdown",
   "metadata": {
    "collapsed": true
   },
   "source": [
    "## Writing the Model to Disk"
   ]
  },
  {
   "cell_type": "markdown",
   "metadata": {},
   "source": [
    "Now that we have instantiated this model object, let's see if we can write it to disk.  To do this, we are going to use a method called \"pickling\", which serializes an object into a byte stream so that it may be written to disk.  In theory, we can read this same byte stream back elsewhere, and use it to reconstitute the object that had been written to disk.\n",
    "\n",
    "So, what exactly are we writing to disk?  Here is the ASCII version of the byte stream:"
   ]
  },
  {
   "cell_type": "code",
   "execution_count": 5,
   "metadata": {
    "collapsed": false
   },
   "outputs": [
    {
     "data": {
      "text/plain": [
       "'ccopy_reg\\n_reconstructor\\np0\\n(cstatsmodels.regression.linear_model\\nRegressionResultsWrapper\\np1\\nc__builtin__\\nobject\\np2\\nNtp3\\nRp4\\n(dp5\\nS\\'__doc__\\'\\np6\\nS\\'\\\\n    Results class for for an OLS model.\\\\n\\\\n    Most of the methods and attributes are inherited from RegressionResults.\\\\n    The special methods that are only available for OLS are:\\\\n\\\\n    - get_influence\\\\n    - outlier_test\\\\n    - el_test\\\\n    - conf_int_el\\\\n\\\\n    See Also\\\\n    --------\\\\n    RegressionResults\\\\n\\\\n    \\'\\np7\\nsS\\'_results\\'\\np8\\ng0\\n(cstatsmodels.regression.linear_model\\nOLSResults\\np9\\ng2\\nNtp10\\nRp11\\n(dp12\\nS\\'normalized_cov_params\\'\\np13\\ncnumpy.core.multiarray\\n_reconstruct\\np14\\n(cnumpy\\nndarray\\np15\\n(I0\\ntp16\\nS\\'b\\'\\np17\\ntp18\\nRp19\\n(I1\\n(L3L\\nL3L\\ntp20\\ncnumpy\\ndtype\\np21\\n(S\\'f8\\'\\np22\\nI0\\nI1\\ntp23\\nRp24\\n(I3\\nS\\'<\\'\\np25\\nNNNI-1\\nI-1\\nI0\\ntp26\\nbI00\\nS\"/\\\\xb3\\\\x1b\\\\xb3\\\\xab]\\\\xc5?\\\\xef{?\\\\to[~\\\\xbf\\'\\\\x19V/\\\\xbc\\\\xffy\\\\xbf\\\\xef{?\\\\to[~\\\\xbf\\\\xd1i\\\\x93T\\\\xc1\\\\x1dG?(6B=0\\\\x0c\\\\x0c\\\\xbf\\'\\\\x19V/\\\\xbc\\\\xffy\\\\xbf(6B=0\\\\x0c\\\\x0c\\\\xbf\\\\x80\\\\xd0\\\\xcb\\\\xb30\\\\xc9F?\"\\np27\\ntp28\\nbsS\\'use_t\\'\\np29\\nI01\\nsS\\'df_model\\'\\np30\\nF2.0\\nsS\\'diagn\\'\\np31\\n(dp32\\nS\\'omni\\'\\np33\\ncnumpy.core.multiarray\\nscalar\\np34\\n(g24\\nS\\'/\\\\xecN\\\\x1f\\\\x1437@\\'\\np35\\ntp36\\nRp37\\nsS\\'skew\\'\\np38\\nF0.1580271683775016\\nsS\\'mineigval\\'\\np39\\ng34\\n(g24\\nS\\'\\\\xc7\\\\x1c\\\\xfdV\\\\xbb\\\\xe1\\\\x17@\\'\\np40\\ntp41\\nRp42\\nsS\\'condno\\'\\np43\\ng34\\n(g24\\nS\\'6V\\\\xd2@\\\\xdaCG@\\'\\np44\\ntp45\\nRp46\\nsS\\'jbpv\\'\\np47\\ng34\\n(g24\\nS\\'R\\\\x03P\\\\xec\\\\xe9\\\\x92\\\\xc0?\\'\\np48\\ntp49\\nRp50\\nsS\\'omnipv\\'\\np51\\ng34\\n(g24\\nS\\'\\\\xc7\\\\xaaZ=,:\\\\xe3>\\'\\np52\\ntp53\\nRp54\\nsS\\'kurtosis\\'\\np55\\nF1.6352495624313208\\nsS\\'jb\\'\\np56\\nF4.088404376303222\\nssS\\'df_resid\\'\\np57\\nF47.0\\nsS\\'cov_kwds\\'\\np58\\n(dp59\\nS\\'description\\'\\np60\\nS\\'Standard Errors assume that the covariance matrix of the errors is correctly specified.\\'\\np61\\nssS\\'_wexog_singular_values\\'\\np62\\ng14\\n(g15\\n(I0\\ntp63\\ng17\\ntp64\\nRp65\\n(I1\\n(L3L\\ntp66\\ng24\\nI00\\nS\\'\\\\x9e\\\\x8d\\\\xce\\\\xedhl\\\\\\\\@\\\\xc8jg}W9B@\\\\xa6%\\\\x98\\\\xcb.\\\\x8c\\\\x03@\\'\\np67\\ntp68\\nbsS\\'cov_type\\'\\np69\\nS\\'nonrobust\\'\\np70\\nsS\\'k_constant\\'\\np71\\nI1\\nsS\\'_cache\\'\\np72\\ng0\\n(cstatsmodels.tools.decorators\\nResettableCache\\np73\\nc__builtin__\\ndict\\np74\\n(dp75\\nS\\'pvalues\\'\\np76\\ng14\\n(g15\\n(I0\\ntp77\\ng17\\ntp78\\nRp79\\n(I1\\n(L3L\\ntp80\\ng24\\nI00\\nS\\'d\\\\x88\\\\xab\\\\xd2\\\\xe6\\\\xd5\\\\xe2=M\\\\xa4hP\\\\x94KW6\\\\x94\\\\x89\\\\xb5|\\\\x17Hq3\\'\\np81\\ntp82\\nbsS\\'bic\\'\\np83\\ng34\\n(g24\\nS\\'r6\\\\x83\\\\x8dh\\\\xffX@\\'\\np84\\ntp85\\nRp86\\nsS\\'ssr\\'\\np87\\ng34\\n(g24\\nS\\'7\\\\x85\\\\xafJN\\\\x1a1@\\'\\np88\\ntp89\\nRp90\\nsS\\'nobs\\'\\np91\\nF50.0\\nsS\\'wresid\\'\\np92\\ng14\\n(g15\\n(I0\\ntp93\\ng17\\ntp94\\nRp95\\n(I1\\n(L50L\\ntp96\\ng24\\nI00\\nS\\'@\\\\xbe\\\\x0cYO\\\\xad\\\\xe6\\\\xbf\\\\x00Kc\\\\xc4#4\\\\xc8\\\\xbf\\\\x80\\\\x8dI\\\\xf14\\\\xaf\\\\xda\\\\xbf\\\\x80_\\\\xb3\\\\\\\\\\\\xa5\\\\xc7\\\\xeb\\\\xbf\\\\x00\\\\xd3\\\\x96,#=\\\\xea\\\\xbf\\\\xc0\\\\xaeX\\\\x1b\\\\xed\\\\xc3\\\\xeb?\\\\x00\\\\xa8^8A\\\\xd2\\\\xa6\\\\xbf\\\\xc0\\\\xd3\\\\xe7\\\\x01\\\\xcf\\\\xca\\\\xe8\\\\xbf\\\\xc0\\\\xd2\\\\xa7\\\\x9b\\\\xea|\\\\xe5?\\\\xa0\\\\xfc\\\\xc9\\\\xc0\\\\xa6T\\\\xee?\\\\x00\\\\x9b9\\\\x93\\\\x15\\\\xe1\\\\xcf?\\\\xc0\\\\xd1\\\\x06\\\\xd5RR\\\\xd6\\\\xbf\\\\xc0S\\\\xe2Q\\\\xfb\\\\x85\\\\xc4\\\\xbf\\\\x80\\\\xe8\\\\xcd-\\\\xf4\\\\x10\\\\xd9?\\\\x00\\\\x19vBh\\\\xb7\\\\xe1\\\\xbf\\\\x00P\\\\x80\\\\x07\\\\xac\\\\xcd\\\\xc3?@\\\\x8c<0\\\\x9c\\\\x82\\\\xe8?\\\\x00{\\\\xf0\\\\xa7vp\\\\xd8\\\\xbf\\\\x80\\\\xf6sX\\\\xf5\\\\x82\\\\xd9\\\\xbf\\\\x00\\\\xcbsr\\\\xc8\\\\x9d\\\\xe4\\\\xbf\\\\xc0C\"\\\\x83\\\\xc4&\\\\xe7\\\\xbf\\\\x00\\\\xf4\\\\x03Fz|\\\\xdd?\\\\x001\\\\x16\\\\x15\\\\x0e\\\\xf6\\\\xe4\\\\xbf\\\\x00\\\\nY\\\\xdfCb\\\\xc2\\\\xbf\\\\x00\\\\xbe\\\\x13\\\\xa1DE\\\\xd9\\\\xbf\\\\x00\\\\x82h&\\\\x95b\\\\xc6?@D\\\\x0f\\\\x8bt\\\\xa6\\\\xe5?\\\\xc0\\\\xa4D4\\\\xab\"\\\\xe9?\\\\xa0\\\\x8eFB\\\\x03~\\\\xf1?@o\\\\xcb\\\\xe7\\\\x00\\\\x98\\\\xe8?\\\\x80\\\\xe8z\\\\xb3Cn\\\\xd1\\\\xbf\\\\x00\\\\x9c\\\\xb7\\\\xbd\\\\xb6\\\\x9f\\\\xe2\\\\xbf@\\\\xc9\\\\x050^v\\\\xe2\\\\xbf\\\\xc0\\\\xe6\\\\xdc\\\\xa3\\\\x94*\\\\xde?\\\\x80\\\\xf3\\\\x96\\\\x10\\\\xa7\\\\xbd\\\\xeb?\\\\xc0\\\\xa1\\\\x90\\\\xabv\\\\x91\\\\xe5?\\\\xc0O/\\\\x17k\\\\x8c\\\\xd8?\\\\x00\\\\xc2j\\\\xe7?\\\\xd1\\\\xcb\\\\xbf\\\\x00p\\\\x02}\\\\xa7\\\\xd5\\\\xca?@j_e\\\\xe3\\\\xea\\\\xe4?\\\\x80\\\\x7f\\\\x11J\\\\x8c\\\\x83\\\\xdf\\\\xbf\\\\x00\\\\x99\\\\xba\\\\x1b\\\\xc9\\\\xa3\\\\xe2?@\\\\xb2\\\\xfcW\\\\xa7\\\\xa2\\\\xdc\\\\xbf@\\\\x01\\\\xfa\\\\x08\\\\xe9_\\\\xe5\\\\xbf\\\\x80\\\\xd4\\\\x9b[VV\\\\xdd?@%@R\\\\xea\\\\x9c\\\\xc9?\\\\x80\\\\rKd\\\\x0f\\\\xbf\\\\xea\\\\xbf\\\\x80\\\\xdc\\\\xb7r\\\\xeb\\\\xb8\\\\xe4?\\\\xe0Q5Aj\\\\x89\\\\xe8\\\\xbf\\\\x00\\\\x1a\\\\xca\\\\xafk\\\\xe8\\\\xb1\\\\xbf\\'\\np97\\ntp98\\nbsS\\'mse_resid\\'\\np99\\ng34\\n(g24\\nS\\'5\\\\xfc\\\\xbd\\\\xc7\\\\xf2I\\\\xd7?\\'\\np100\\ntp101\\nRp102\\nsS\\'eigenvals\\'\\np103\\ng14\\n(g15\\n(I0\\ntp104\\ng17\\ntp105\\nRp106\\n(I1\\n(L3L\\ntp107\\ng24\\nI00\\nS\\'\\\\xb6\\\\xba\\\\xc6\\\\xe5&?\\\\xc9@\\\\xb6\\\\x98d[\\\\xd2\\\\xc1\\\\x94@\\\\xc7\\\\x1c\\\\xfdV\\\\xbb\\\\xe1\\\\x17@\\'\\np108\\ntp109\\nbsS\\'bse\\'\\np110\\ng14\\n(g15\\n(I0\\ntp111\\ng17\\ntp112\\nRp113\\n(I1\\n(L3L\\ntp114\\ng24\\nI00\\nS\\'Y\\\\x90\\\\xec\\\\x7f\\\\xe0\\\\x8b\\\\xcf?>9\\\\xb7\\\\x95\\\\x14h\\\\x90?tf\\\\x19x\\\\xf6I\\\\x90?\\'\\np115\\ntp116\\nbsS\\'mse_model\\'\\np117\\ng34\\n(g24\\nS\\'nRE\\\\xdd\\\\x91\\\\x86\\\\xad@\\'\\np118\\ntp119\\nRp120\\nsS\\'llf\\'\\np121\\ng34\\n(g24\\nS\\'\\\\xda\\\\x13K\\\\xccL\\\\x10F\\\\xc0\\'\\np122\\ntp123\\nRp124\\nsS\\'scale\\'\\np125\\ng34\\n(g24\\nS\\'5\\\\xfc\\\\xbd\\\\xc7\\\\xf2I\\\\xd7?\\'\\np126\\ntp127\\nRp128\\nsS\\'ess\\'\\np129\\ng34\\n(g24\\nS\\'nRE\\\\xdd\\\\x91\\\\x86\\\\xbd@\\'\\np130\\ntp131\\nRp132\\nsS\\'f_pvalue\\'\\np133\\ng34\\n(g24\\nS\\'\\\\xb4T\\\\xf33\\\\xd9G\\\\x053\\'\\np134\\ntp135\\nRp136\\nsS\\'centered_tss\\'\\np137\\ng34\\n(g24\\nS\\'\\\\xf3\\\\x01\\\\x90+\\\\xac\\\\x97\\\\xbd@\\'\\np138\\ntp139\\nRp140\\nsS\\'condition_number\\'\\np141\\ng46\\nsS\\'rsquared_adj\\'\\np142\\ng34\\n(g24\\nS\\'\\\\x8e,\\\\x11\\\\x06\\\\xb8\\\\xec\\\\xef?\\'\\np143\\ntp144\\nRp145\\nsS\\'tvalues\\'\\np146\\ng14\\n(g15\\n(I0\\ntp147\\ng17\\ntp148\\nRp149\\n(I1\\n(L3L\\ntp150\\ng24\\nI00\\nS\\'pi\\\\xba\\\\x00\\\\x8a\\\\\\\\ @eq\\\\xff;\\\\xe1JO@1YE\\\\xc5\\\\xa6*_@\\'\\np151\\ntp152\\nbsS\\'rsquared\\'\\np153\\ng34\\n(g24\\nS\\':\\\\x93\\\\xfb}\\\\x81\\\\xed\\\\xef?\\'\\np154\\ntp155\\nRp156\\nsS\\'aic\\'\\np157\\ng34\\n(g24\\nS\\'\\\\xda\\\\x13K\\\\xccL\\\\x90W@\\'\\np158\\ntp159\\nRp160\\nsS\\'fvalue\\'\\np161\\ng34\\n(g24\\nS\\'\\\\xf0v\\\\xb7\\\\xb3\\\\xeaH\\\\xc4@\\'\\np162\\ntp163\\nRp164\\nstp165\\nRp166\\n(dp167\\nS\\'_resetdict\\'\\np168\\n(dp169\\nsbsS\\'params\\'\\np170\\ng14\\n(g15\\n(I0\\ntp171\\ng17\\ntp172\\nRp173\\n(I1\\n(L3L\\ntp174\\ng24\\nI00\\nS\\'\\\\xf2\\\\xfcUq*!\\\\x00@TQ7\\\\x1b8\\\\x0b\\\\xf0?\\\\xa0\\\\xdb\\\\xdew\\\\xb9\\\\xba\\\\xff?\\'\\np175\\ntp176\\nbsS\\'model\\'\\np177\\ng0\\n(cstatsmodels.regression.linear_model\\nOLS\\np178\\ng2\\nNtp179\\nRp180\\n(dp181\\nS\\'_df_resid\\'\\np182\\nF47.0\\nsS\\'_init_keys\\'\\np183\\n(lp184\\nS\\'missing_idx\\'\\np185\\nasS\\'wexog_singular_values\\'\\np186\\ng65\\nsS\\'formula\\'\\np187\\nS\\'y ~ x1 + x2\\'\\np188\\nsS\\'endog\\'\\np189\\ng14\\n(g15\\n(I0\\ntp190\\ng17\\ntp191\\nRp192\\n(I1\\n(L50L\\ntp193\\ng24\\nI00\\nS\"\\\\xabs\\\\x92=h>C@\\\\x9b\\\\x13e\\\\xbf\\\\x8c\\\\xed@@S7\\\\x1c\\\\x0c,\\\\x03I@\\\\xc2(*\\\\x7f\\\\xe9H=@\\\\\\\\{\\\\xa4p \\\\xbaC@\\\\xc4_\\\\xa3~\\\\xf0g7@\\\\xecZ\\\\x020m#)@P\\\\xef\\\\xd3s -E@+\\\\x05\\\\x812\\\\xdftH@\\\\xd3\\\\x0e\\\\xc8\\\\x01w\\\\xb3=@\\\\x00\\\\xb3\\\\x0eTh\\\\xfcL@^\\\\x99\\\\x9e\\\\xe0\\\\xb2\\\\xba:@IE\\\\xfa\\\\xdf\\\\x0en)@\\\\xed\\\\xd9}\\\\x1d\\\\xfb<M@p\\\\x8a\\\\x89\\\\x02[NF@\\\\x01\\\\xf3\\\\x94\\\\xfc\\\\xd6\\\\xc0D@`\\\\x84\\\\r\\\\x84`\\\\x9b6@\\\\xf6l\\\\xb2\\\\xbd[\\\\xcaB@8\\\\xb9\\\\xa4\\\\xb3\\\\xf9\\\\n5@\\\\xdb\\\\xb6\\\\xbd\\\\xbd\\\\xabC3@\\\\x1d\\\\x90(Ad|J@.\\\\xca\\\\xa0\\\\xe2\\\\x16\\\\xd5C@\\\\xa0!\\\\xbe\\\\xa9NtB@\\\\xa8\\\\xaf\\\\xec\\\\x13\\\\xbb\\\\x96B@\\\\x97\\\\x1e\\\\x9f\\\\xd9u\\\\xee;@\\\\xa1_\\\\xa2dmRG@a\\'\\\\xea2\\\\x00vF@\\\\x0c7\\\\x96\\\\xe0\\\\xa9\\\\x141@\\\\x05bMu\\\\xfc\\\\xbe:@qJ\\\\xe21\\\\x00\\\\x89@@]l`\\\\x7fKlE@\\\\x86\\\\xc5\\\\xe2\\\\x983\\\\xaaD@\\\\xfa\\\\xe8B\\\\xc4\\\\xfe0-@\\\\x15~a\\\\x07r\\\\x147@\\\\x86\\\\x97X\\\\x91\\\\xbc\\\\x0fE@xB\\\\xf4\\\\xb0+\\\\x91C@A$\\\\xd1\\\\xe1\\\\xd9\\\\xb18@R\\\\x8c\\\\xbb\\\\x87x\\\\xca4@@\\\\x0bj>\\\\xd3\\\\xcfA@i\\\\xe8\\\\xc3\\\\x0e\\\\xe2bC@\\\\n\\\\xe9UUt77@\\\\x8e\\\\xf9*\\\\x9c6\\\\x887@+\\\\xa4\\\\xda\\\\xddH+0@\\\\xbc\\\\x0e\\\\xd7h\\\\\\\\)H@Y\\\\xd4\\\\x8d\\\\xf5\\\\x18$B@\\\\x17\\\\x150\\\\xd5^\\\\xee$@\\\\xfaK;aP\\\\x19-@0I\\\\x9d\\\\x8b\\\\xe3+H@\\\\x9e}{/\\\\xecI:@\\\\x9d\\\\xb77\\\\xb6\\\\xc6\\\\\\\\@@\"\\np194\\ntp195\\nbsg13\\ng19\\nsS\\'wendog\\'\\np196\\ng192\\nsS\\'_data_attr\\'\\np197\\n(lp198\\nS\\'exog\\'\\np199\\nag189\\naS\\'data.exog\\'\\np200\\naS\\'data.endog\\'\\np201\\naS\\'data.orig_endog\\'\\np202\\naS\\'data.orig_exog\\'\\np203\\naS\\'pinv_wexog\\'\\np204\\nag196\\naS\\'wexog\\'\\np205\\naS\\'weights\\'\\np206\\nasg91\\nF50.0\\nsg71\\nI1\\nsS\\'rank\\'\\np207\\ng34\\n(g21\\n(S\\'i4\\'\\np208\\nI0\\nI1\\ntp209\\nRp210\\n(I3\\nS\\'<\\'\\np211\\nNNNI-1\\nI-1\\nI0\\ntp212\\nbS\\'\\\\x03\\\\x00\\\\x00\\\\x00\\'\\np213\\ntp214\\nRp215\\nsg205\\ng14\\n(g15\\n(I0\\ntp216\\ng17\\ntp217\\nRp218\\n(I1\\n(L50L\\nL3L\\ntp219\\ng24\\nI00\\nS\\'\\\\x00\\\\x00\\\\x00\\\\x00\\\\x00\\\\x00\\\\xf0?\\\\xf8\\\\xfd\"\\\\x06)\\\\x1e3@8>\\\\xf6\\\\x1b\\\\xd7)\"@\\\\x00\\\\x00\\\\x00\\\\x00\\\\x00\\\\x00\\\\xf0?\\\\xd4\\\\xd3w\\\\xa1\\\\x0c\\\\x173@\\\\x9a<\\\\xc5W\\\\x1f\\\\xfe\\\\x19@\\\\x00\\\\x00\\\\x00\\\\x00\\\\x00\\\\x00\\\\xf0?\\\\x98\\\\xe7\\\\xae(\\\\xb6f(@ !\\\\xb7~\\\\x05@2@\\\\x00\\\\x00\\\\x00\\\\x00\\\\x00\\\\x00\\\\xf0?\\\\x98\\\\x0e\\\\xb4\\\\x988\\\\xf1 @\\\\xdc\\\\xd3X-W\\\\xcf#@\\\\x00\\\\x00\\\\x00\\\\x00\\\\x00\\\\x00\\\\xf0?\\\\xa3\\\\x16V\\\\xf5K\\\\xff)@8X\\\\x1c\\\\xa1Sp)@\\\\x00\\\\x00\\\\x00\\\\x00\\\\x00\\\\x00\\\\xf0?D\\\\xba\\\\xe3\"p\\\\xe4/@\\\\x18<Z\\\\x0e\\\\xaaH\\\\x02@\\\\x00\\\\x00\\\\x00\\\\x00\\\\x00\\\\x00\\\\xf0?H\\\\xaa<\\\\x9e I\\\\x1c@\\\\xb09>\\\\x94\\\\\\'K\\\\xfc?\\\\x00\\\\x00\\\\x00\\\\x00\\\\x00\\\\x00\\\\xf0?\\\\xb5`\\\\x98\\\\xf7w\\\\x1e0@\\\\x82\\\\xf2\\\\xcf\\\\xcd$))@\\\\x00\\\\x00\\\\x00\\\\x00\\\\x00\\\\x00\\\\xf0?Hoq\\\\xbe\\\\x9a\\\\\\'!@x}\\\\xef\\\\x18\\\\x03\\\\xf92@\\\\x00\\\\x00\\\\x00\\\\x00\\\\x00\\\\x00\\\\xf0?>\\\\x88\\\\xd2\\\\xd9<\\\\xf1(@\\\\x06\\\\x93\\\\xa1\\\\xdc\\\\xc3\\\\xb4\\\\x1c@\\\\x00\\\\x00\\\\x00\\\\x00\\\\x00\\\\x00\\\\xf0?\\\\x8d3\\\\xdc\\\\xeb\\\\xc4i0@>\\\\xd1\\\\xf5\\\\x9b\\\\xa9\\\\xca3@\\\\x00\\\\x00\\\\x00\\\\x00\\\\x00\\\\x00\\\\xf0?\\\\x0f\\\\xcb\\\\xffO\\\\x8e\\\\x81,@\\\\x96\\\\xc0\\\\xc8\\\\x86)\\\\xb9\\\\x15@\\\\x00\\\\x00\\\\x00\\\\x00\\\\x00\\\\x00\\\\xf0?\\\\x0e\\\\xa1\\\\xaa\\\\x97\\\\x05\\\\xc7\\\\x14@h%\\\\xc1\\\\x17z\\\\xcb\\\\x06@\\\\x00\\\\x00\\\\x00\\\\x00\\\\x00\\\\x00\\\\xf0?\\\\x83\\\\xe5\\\\x07\\\\xf1\\\\x8b\\\\xfc0@\\\\xef\\\\xe1x\\\\x10)\\\\xaf3@\\\\x00\\\\x00\\\\x00\\\\x00\\\\x00\\\\x00\\\\xf0?\\\\x07\\\\\\'>k\\\\x1c\\\\xa2.@`I\\\\x11\\\\x95-\\\\x07,@\\\\x00\\\\x00\\\\x00\\\\x00\\\\x00\\\\x00\\\\xf0?h\\\\x0b\\\\xd9\\\\xb8\\\\x1c\\\\xac%@\\\\x00\\\\xcddtn\\\\xb6,@\\\\x00\\\\x00\\\\x00\\\\x00\\\\x00\\\\x00\\\\xf0?\\\\x9a\\\\x97f\\\\xc4\\\\xc3\\\\x8e\\\\x1f@6\\\\xa1\\\\xbaQ\\\\xe0\\\\x07\\\\x18@\\\\x00\\\\x00\\\\x00\\\\x00\\\\x00\\\\x00\\\\xf0?\\\\x90\\\\xd3\\\\x88\\\\x06\\\\xfc\\\\xc3\\\\xff?fl\\\\x8cki\\\\x1f1@\\\\x00\\\\x00\\\\x00\\\\x00\\\\x00\\\\x00\\\\xf0?\\\\xb0\\\\xc3c\\\\x1c\\\\xe6\\\\xa1\\\\xfb?\\\\xda\\\\xd3PL-\\\\xd8!@\\\\x00\\\\x00\\\\x00\\\\x00\\\\x00\\\\x00\\\\xf0?\\\\xf6q\\\\x97\\\\x8a|]\\\\x10@\\\\xd4\\\\xdfF\\\\x80\\\\xa5\\\\xd0\\\\x1b@\\\\x00\\\\x00\\\\x00\\\\x00\\\\x00\\\\x00\\\\xf0?2\\\\x89U\\\\xd8> -@\\\\xcc\\\\xc4&h;\\\\xb22@\\\\x00\\\\x00\\\\x00\\\\x00\\\\x00\\\\x00\\\\xf0?(\\\\xb7U\\\\xdf\\\\xee\\\\xcf\\\\x08@^\\\\xce\\\\x80\\\\x8b)/1@\\\\x00\\\\x00\\\\x00\\\\x00\\\\x00\\\\x00\\\\xf0?N(\\\\xb8\\\\xba\\\\xc0\\\\x06(@\\\\xd7\\\\x10WM\\\\xab\\\\xb3\\\\\\'@\\\\x00\\\\x00\\\\x00\\\\x00\\\\x00\\\\x00\\\\xf0?\\\\x9a\\\\xdf6M]\\\\xd1\\\\x19@@\\\\xaa}\\\\x04+\\\\x14-@\\\\x00\\\\x00\\\\x00\\\\x00\\\\x00\\\\x00\\\\xf0?\\\\xea\\\\xe0k\\\\xe9\\\\xe6g @\\\\xe5\\\\xecE\\\\xcc-=\"@\\\\x00\\\\x00\\\\x00\\\\x00\\\\x00\\\\x00\\\\xf0?\\\\x92\\\\x14\\\\xb9\\\\xd4\\\\xeb\\\\x9a2@Fg\\\\x97VK\\\\x04*@\\\\x00\\\\x00\\\\x00\\\\x00\\\\x00\\\\x00\\\\xf0?G\\\\xcc\\\\xf7a\\\\xad\\\\xf80@\\\\xd4^t\\\\xec\\\\x1em)@\\\\x00\\\\x00\\\\x00\\\\x00\\\\x00\\\\x00\\\\xf0?0G\\\\x85\\\\r\\\\x8b\\\\x10\\\\x0e@\\\\xf0\\\\x86\\\\xd7\\\\xf3[3\\\\x15@\\\\x00\\\\x00\\\\x00\\\\x00\\\\x00\\\\x00\\\\xf0?d\\\\x83\\\\x8aw3=\\\\x13@ \\\\xaa\\\\xe57^\\\\xf9\"@\\\\x00\\\\x00\\\\x00\\\\x00\\\\x00\\\\x00\\\\xf0?h=\\\\x94\\\\xa0\\\\x9b\\\\xc5\\\\x1a@\\\\xcc \\\\xe9\\\\x17{\\\\xc6\\\\\\'@\\\\x00\\\\x00\\\\x00\\\\x00\\\\x00\\\\x00\\\\xf0? \\\\x83\\\\x10\\\\xfd\\\\x86\\\\x032@{\\\\r\\\\x91lO<\\\\\\'@\\\\x00\\\\x00\\\\x00\\\\x00\\\\x00\\\\x00\\\\xf0?\\\\x9b\\\\xaa\\\\x0bwds#@\\\\xcdw\\\\xe8\\\\xb7\\\\x8bf.@\\\\x00\\\\x00\\\\x00\\\\x00\\\\x00\\\\x00\\\\xf0?\\\\xfc\\\\xa0O\\\\x19`\\\\x84!@\\\\x00\\\\\\'<\\\\xe0\\\\x15\\\\xa5\\\\x01@\\\\x00\\\\x00\\\\x00\\\\x00\\\\x00\\\\x00\\\\xf0?\\\\\\\\\\\\\\'\\\\\\\\\\\\xf1\\\\xae\\\\t/@`\\\\x88\\\\xb0m\\\\x94K\\\\x04@\\\\x00\\\\x00\\\\x00\\\\x00\\\\x00\\\\x00\\\\xf0?\\\\xb5\\\\x0c\\\\xfd\\\\xf3\\\\r\\\\x93!@\\\\xa2\\\\xc1$\\\\xba%\\\\xb0.@\\\\x00\\\\x00\\\\x00\\\\x00\\\\x00\\\\x00\\\\xf0?\\\\x1f\\\\xfc\\\\\\'7)\\\\xda0@U\\\\xaf\\\\xab\\\\xb4X\\\\xb6#@\\\\x00\\\\x00\\\\x00\\\\x00\\\\x00\\\\x00\\\\xf0?\\\\xf8\\\\xc5U\\\\x9dB\\\\x18.@\\\\x18\\\\xfdOgA\\\\x12\\\\r@\\\\x00\\\\x00\\\\x00\\\\x00\\\\x00\\\\x00\\\\xf0?\\\\xd8\\\\xfa^D\\\\xee\\\\xb8.@\\\\xd0}R1x\\\\xf4\\\\xfc?\\\\x00\\\\x00\\\\x00\\\\x00\\\\x00\\\\x00\\\\xf0?\\\\x0f\\\\x19\\\\xaa\\\\xd5\\\\xce\\\\xfe\"@b\\\\x1b\\\\x91\\\\x88\\\\xe5\\\\x13(@\\\\x00\\\\x00\\\\x00\\\\x00\\\\x00\\\\x00\\\\xf0?\\\\x89\\\\x0f\\\\xd9\\\\x1f\\\\xf1\\\\xee3@\\\\xcb\\\\xdeIg\\\\x8b@ @\\\\x00\\\\x00\\\\x00\\\\x00\\\\x00\\\\x00\\\\xf0?\\\\x04\\\\x90c\\\\x98;\\\\xe2#@\\\\x1c\\\\x05\\\\xe0\\\\x18\\\\xbf\\\\xa5\\\\x17@\\\\x00\\\\x00\\\\x00\\\\x00\\\\x00\\\\x00\\\\xf0?\\\\xa6\\\\xd81\\\\xfe\\\\x11\\\\xc8 @\\\\xa0\\\\xea\\\\xe8\\\\xe2\\\\xba@\\\\x19@\\\\x00\\\\x00\\\\x00\\\\x00\\\\x00\\\\x00\\\\xf0?\\\\xe78*\\\\xd3P2&@0\\\\xc7\\\\xa4\\\\xa8\\\\x8f\\\\x02\\\\xfc?\\\\x00\\\\x00\\\\x00\\\\x00\\\\x00\\\\x00\\\\xf0?]\\\\xf8MJ\\\\x08\\\\x081@\\\\xf6\\\\xb1\\\\x03\\\\x8a\\\\xdf&.@\\\\x00\\\\x00\\\\x00\\\\x00\\\\x00\\\\x00\\\\xf0?\\\\xf8\\\\xb1M\\\\x87\\\\x07\\\\xec\\\\n@?d\\\\xe9&H\\\\xb1.@\\\\x00\\\\x00\\\\x00\\\\x00\\\\x00\\\\x00\\\\xf0?p\\\\x8e\\\\x8b\\\\x8bPX\\\\x0b@\\\\xe0\\\\x07\\\\xca\\\\xb9\\\\x9es\\\\x03@\\\\x00\\\\x00\\\\x00\\\\x00\\\\x00\\\\x00\\\\xf0?\\\\x0cQ?i\\\\xa4\\\\xf5\\\\x18@@\\\\x91SQ\\\\xe5\\\\xb0\\\\x0c@\\\\x00\\\\x00\\\\x00\\\\x00\\\\x00\\\\x00\\\\xf0?\\\\xbd\\\\xe6\\\\xe8\\\\xf6\\\\x80\\\\x163@\\\\x12\\\\xcd\\\\\\\\z\\\\xe8\\\\xc3*@\\\\x00\\\\x00\\\\x00\\\\x00\\\\x00\\\\x00\\\\xf0?\\\\x10\\\\xbd\\\\xaex\"u\\\\x1b@\\\\xe1\\\\xc5\\\\x8dh\\\\x9dO\"@\\\\x00\\\\x00\\\\x00\\\\x00\\\\x00\\\\x00\\\\xf0?e\\\\x0f2\\\\\\'\\\\x82T2@\\\\x90~f\\\\x8c\\\\x0b\\\\x02\\\\x19@\\'\\np220\\ntp221\\nbsg206\\ng14\\n(g15\\n(I0\\ntp222\\ng17\\ntp223\\nRp224\\n(I1\\n(L50L\\ntp225\\ng24\\nI00\\nS\\'\\\\x00\\\\x00\\\\x00\\\\x00\\\\x00\\\\x00\\\\xf0?\\\\x00\\\\x00\\\\x00\\\\x00\\\\x00\\\\x00\\\\xf0?\\\\x00\\\\x00\\\\x00\\\\x00\\\\x00\\\\x00\\\\xf0?\\\\x00\\\\x00\\\\x00\\\\x00\\\\x00\\\\x00\\\\xf0?\\\\x00\\\\x00\\\\x00\\\\x00\\\\x00\\\\x00\\\\xf0?\\\\x00\\\\x00\\\\x00\\\\x00\\\\x00\\\\x00\\\\xf0?\\\\x00\\\\x00\\\\x00\\\\x00\\\\x00\\\\x00\\\\xf0?\\\\x00\\\\x00\\\\x00\\\\x00\\\\x00\\\\x00\\\\xf0?\\\\x00\\\\x00\\\\x00\\\\x00\\\\x00\\\\x00\\\\xf0?\\\\x00\\\\x00\\\\x00\\\\x00\\\\x00\\\\x00\\\\xf0?\\\\x00\\\\x00\\\\x00\\\\x00\\\\x00\\\\x00\\\\xf0?\\\\x00\\\\x00\\\\x00\\\\x00\\\\x00\\\\x00\\\\xf0?\\\\x00\\\\x00\\\\x00\\\\x00\\\\x00\\\\x00\\\\xf0?\\\\x00\\\\x00\\\\x00\\\\x00\\\\x00\\\\x00\\\\xf0?\\\\x00\\\\x00\\\\x00\\\\x00\\\\x00\\\\x00\\\\xf0?\\\\x00\\\\x00\\\\x00\\\\x00\\\\x00\\\\x00\\\\xf0?\\\\x00\\\\x00\\\\x00\\\\x00\\\\x00\\\\x00\\\\xf0?\\\\x00\\\\x00\\\\x00\\\\x00\\\\x00\\\\x00\\\\xf0?\\\\x00\\\\x00\\\\x00\\\\x00\\\\x00\\\\x00\\\\xf0?\\\\x00\\\\x00\\\\x00\\\\x00\\\\x00\\\\x00\\\\xf0?\\\\x00\\\\x00\\\\x00\\\\x00\\\\x00\\\\x00\\\\xf0?\\\\x00\\\\x00\\\\x00\\\\x00\\\\x00\\\\x00\\\\xf0?\\\\x00\\\\x00\\\\x00\\\\x00\\\\x00\\\\x00\\\\xf0?\\\\x00\\\\x00\\\\x00\\\\x00\\\\x00\\\\x00\\\\xf0?\\\\x00\\\\x00\\\\x00\\\\x00\\\\x00\\\\x00\\\\xf0?\\\\x00\\\\x00\\\\x00\\\\x00\\\\x00\\\\x00\\\\xf0?\\\\x00\\\\x00\\\\x00\\\\x00\\\\x00\\\\x00\\\\xf0?\\\\x00\\\\x00\\\\x00\\\\x00\\\\x00\\\\x00\\\\xf0?\\\\x00\\\\x00\\\\x00\\\\x00\\\\x00\\\\x00\\\\xf0?\\\\x00\\\\x00\\\\x00\\\\x00\\\\x00\\\\x00\\\\xf0?\\\\x00\\\\x00\\\\x00\\\\x00\\\\x00\\\\x00\\\\xf0?\\\\x00\\\\x00\\\\x00\\\\x00\\\\x00\\\\x00\\\\xf0?\\\\x00\\\\x00\\\\x00\\\\x00\\\\x00\\\\x00\\\\xf0?\\\\x00\\\\x00\\\\x00\\\\x00\\\\x00\\\\x00\\\\xf0?\\\\x00\\\\x00\\\\x00\\\\x00\\\\x00\\\\x00\\\\xf0?\\\\x00\\\\x00\\\\x00\\\\x00\\\\x00\\\\x00\\\\xf0?\\\\x00\\\\x00\\\\x00\\\\x00\\\\x00\\\\x00\\\\xf0?\\\\x00\\\\x00\\\\x00\\\\x00\\\\x00\\\\x00\\\\xf0?\\\\x00\\\\x00\\\\x00\\\\x00\\\\x00\\\\x00\\\\xf0?\\\\x00\\\\x00\\\\x00\\\\x00\\\\x00\\\\x00\\\\xf0?\\\\x00\\\\x00\\\\x00\\\\x00\\\\x00\\\\x00\\\\xf0?\\\\x00\\\\x00\\\\x00\\\\x00\\\\x00\\\\x00\\\\xf0?\\\\x00\\\\x00\\\\x00\\\\x00\\\\x00\\\\x00\\\\xf0?\\\\x00\\\\x00\\\\x00\\\\x00\\\\x00\\\\x00\\\\xf0?\\\\x00\\\\x00\\\\x00\\\\x00\\\\x00\\\\x00\\\\xf0?\\\\x00\\\\x00\\\\x00\\\\x00\\\\x00\\\\x00\\\\xf0?\\\\x00\\\\x00\\\\x00\\\\x00\\\\x00\\\\x00\\\\xf0?\\\\x00\\\\x00\\\\x00\\\\x00\\\\x00\\\\x00\\\\xf0?\\\\x00\\\\x00\\\\x00\\\\x00\\\\x00\\\\x00\\\\xf0?\\\\x00\\\\x00\\\\x00\\\\x00\\\\x00\\\\x00\\\\xf0?\\'\\np226\\ntp227\\nbsg204\\ng14\\n(g15\\n(I0\\ntp228\\ng17\\ntp229\\nRp230\\n(I1\\n(L3L\\nL50L\\ntp231\\ng24\\nI00\\nS\\'.\\\\xa6\\\\\\'\\\\x07\\\\x9c\\\\x98\\\\xa0\\\\xbfJ\\\\x81\\\\xc10d0\\\\x90\\\\xbf\\\\xde\\\\xda+j\\\\xcf$\\\\xa4\\\\xbf\\\\xd1\\\\xa3\\\\xdbu\\\\xf9 \\\\xa5?\\\\xe7\\\\xaa\\\\xa4u\\\\xb0\\\\xca\\\\x84\\\\xbf\\\\xc8u\\\\xdeC\\\\xaa\\\\x86\\\\xa1?\\\\xb9\\\\xefk\\\\x88\\\\x0cq\\\\xba?e\\\\x7f\\\\x15\\\\x8c>\\\\x96\\\\xa0\\\\xbf\\\\\\\\!@\\\\xc4\\\\x89|\\\\x91\\\\xbf\\\\x8e!\\\\xa5\\\\x88b\\\\xa2\\\\x9d?,!\\\\xf2\\\\x05\\\\xc5\\\\x91\\\\xb4\\\\xbf\\\\xe3J++3u\\\\x9b?I\\\\r\\\\xd5\\\\x05\\\\x15?\\\\xbc?\\\\xea\\\\xef\\\\x10\\\\x88\\\\x90{\\\\xb5\\\\xbf\\\\xbf\\\\xd7G[\\\\x883\\\\xa2\\\\xbfy~\\\\x92\\\\x16\\\\xd1~r\\\\xbf4\\\\x8c\\\\x059<\\\\x00\\\\xb2?K\\\\xde\\\\xa0_\\\\x89H\\\\xa6?\\\\xde\\\\\\\\\\\\xde\\\\xe8\\\\x00\\\\xf5\\\\xb8?\\\\x8a`\\\\xaa\\\\xf0}\\\\xab\\\\xb7?\\\\xd4\\\\tO%\\\\xdb\\\\x8e\\\\xae\\\\xbfRi\\\\xb1\\\\xc5\\\\x0e\\\\xd9\\\\xa1?0G\\\\xe9\\\\x13f\\\\xd2e?\\\\x83\\\\xdd\\\\xd1j\\\\xafp\\\\x9b?0\\\\x9bB\\\\xed\\\\xff\\\\xb2\\\\xa8?\\\\xd9\\\\x83S.vi\\\\xab\\\\xbf\\\\x1d\\\\xfe\\\\xe3 \\\\xba@\\\\xa4\\\\xbf\\\\x91\\\\xcb\\\\x7f\\\\x136\\\\xfd\\\\xba?\\\\xd8\\\\xd8\\\\x7f\\\\x88\\\\xb60\\\\xb2?\\\\xa4\\\\xfe{\\\\xcc\\\\xcan\\\\xa5?H\\\\xf7\\\\xa9\"\\\\x0c\\\\xa6\\\\xa4\\\\xbf\\\\xe0k\\\\x7f]\\\\xe1\\\\xdeZ\\\\xbf\\\\x80\\\\\\\\\\\\x98\\\\xfc\\\\xb0\\\\x87\\\\xb6?\\\\x062\\\\x82\\\\x84\\\\x89T\\\\xa2?\\\\xed\\\\x84\\\\xcb\\\\x84X\\\\x06r?\\\\x10\\\\x8eB\\\\xad\\\\x07\\\\x08\\\\x95\\\\xbf\\\\rk\\\\xc8L\\\\xeb\\\\x8d\\\\xa0?I\\\\xce\\\\x86\\\\xf9\\\\xc5J\\\\xa5?2|E\\\\x00\\\\xde\\\\x98\\\\x94??\\\\xab\\\\xc2\\\\xb1\\\\xc9\\\\x95\\\\xa0\\\\xbf\\\\xec\\\\xd0\\\\xca7e\\\\x86\\\\xac?tC\\\\xd0/\\\\xa2\\\\x8d\\\\xb0?JM\\\\xd4Y\\\\x84\\\\xd4\\\\xb2?\\\\x8fl\\\\xea\\\\x7f\\\\xc3(\\\\xac\\\\xbf\\\\t\\\\x80v\\\\xcc\\\\x01\\\\xd2\\\\xa6?<\\\\xce\\\\x16\\\\n\\\\xd5%\\\\xc0?\\\\x907P`\\\\xaa\\\\x10\\\\xb9?\\\\xd9\\\\xa0+\\\\x10\\\\xc6u\\\\xae\\\\xbf\\\\x02\\\\x01O\\\\xedW\\\\xa9\\\\xad?\\\\x05\\\\xd3\\\\x08n\\\\xb5\\\\xa4\\\\x81\\\\xbff\\\\xc8\\\\x80U\\\\xf1\\\\xe4v?!\\\\xec,\\\\x0cRaw?XZ\\\\xa2\\\\xcb7\\\\xbb,?\\\\xf6\\\\xc8\\\\x10y\\\\x95\\\\x19`\\\\xbf=[a5\\\\x9f\\\\xa9Q?c\\\\x8b\\\\xc4f\\\\x1apn?\\\\xef\\\\x93\\\\x06(\\\\x89\\\\x9fd\\\\xbf\\\\xba[\\\\xedQ\\\\xd6\\\\xecj?*\\\\x15\\\\x9ee\\\\xc1uc\\\\xbfd\\\\x9e\\\\x9a\\\\xa3\\\\xa5lP?\\\\xd1\\\\x07\\\\xcf8\\\\xf7vi?\\\\x1e\\\\x88\\\\xaeIXFc?\\\\xd5\\\\xcb\\\\xc5\\\\xd7\\\\xcd\\\\xf1o\\\\xbf\\\\xbc}m\\\\xe9@\\\\xd3l?e\\\\xf2\\\\xa3^\\\\xe6\\\\xa8e?S{V\\\\xbeO\\\\x88A\\\\xbf\\\\n4\\\\x1c\\\\x03\\\\xf6\\\\xc0a\\\\xbf>_\\\\xdc\\\\xd3U_|\\\\xbf)!\\\\xea\\\\xb8iR{\\\\xbf\\\\xe7tu}\\\\x18\\\\x0ft\\\\xbf6\\\\x9b\\\\xb0\\\\xb9C\\\\x81^?\\\\x92D;\\\\x01 )y\\\\xbf\\\\x884\\\\x81\\\\x11\\\\xcf\"<?fY\\\\xf4\\\\xc6\\\\x12\\\\xc9m\\\\xbf0\\\\xda\\\\xec\\\\xb6?Na\\\\xbf\\\\xde+Z\\\\xd7t\\\\x8dt?\\\\x07\\\\\\'\\\\xa7{\\\\xfb\\\\xcao?\\\\x97\\\\xa6\\\\x9a\\\\xfa\\\\xd2\\\\xa8t\\\\xbf\\\\xbe\\\\xa2\\\\x8b\\\\xea\\\\xbb\\\\x89r\\\\xbfb\\\\xc1\\\\x013\\\\xb3>k\\\\xbf\\\\x89\\\\xb0\\\\xb7F\\\\x01&s?\\\\xd7o\\\\xd2\\\\t1XV\\\\xbf\\\\xdcp\\\\xf8\\\\xa9*!V\\\\xbf\\\\x98:UB\\\\xcc\\\\xdbk?!\\\\xec\\\\xf5\\\\x81,\\\\xa8`\\\\xbfv\\\\x873\\\\x95\\\\x93-p?\\\\xa0\\\\xf6b\\\\xec\\\\x1f\\\\xa7h?-\\\\x1e\\\\x17@\\\\x0cDk?4$\\\\x81\\\\xb1\\\\x934V\\\\xbfq\\\\xb1\\\\xc6\\\\xbd\\\\xd4uy?\\\\xfcj\\\\xbb\\\\x02\\\\xfdfG\\\\xbf\\\\xbe\\\\x888\\\\x8c\\\\x0f\\\\xfb]\\\\xbf\\\\xc0\\\\x7f?\\\\x98\\\\x8e?5?.\\\\xb8`\\\\x18\\\\xa3\\\\x1ao?\\\\xd3\\\\xcf\\\\x14\\\\n\\\\xf2\\\\xfew\\\\xbfgX\\\\xaa\\\\x14`\\\\x03u\\\\xbf\\\\xb0(\\\\rN\\\\xb29j\\\\xbf<\\\\\\\\e\\\\xf1\\\\x8e\\\\xddu?\\\\x83\\\\x8e\\\\xb4<\\\\x95\\\\x0ei\\\\xbf\\\\x86\\\\x9c\\\\xa9n\\\\xff<u?\\\\x1eRe\\\\n\\\\xeaHQ\\\\xbf\\\\x8c$\\\\\\\\\\\\xfa\\\\xedXg\\\\xbfK\\\\xa8e;\\\\xe5Nw?\\\\xb0\\\\xcf\\\\xf8\\\\x8a\\\\x00\\\\xd1\\\\x16?\\\\x84\\\\xd3\\\\x92\\\\xac\\\\xb8\\\\x85]?\\\\xa0@\\\\xfe\\\\x95\\\\xc8\\\\xfbv\\\\xbf\\\\xad\\\\x13p\\\\xc3\\\\x04\\\\x83v\\\\xbf\\\\xd8\\\\xae\\\\x80\\\\xce\\\\x124Y?@`\\\\xeb?\\\\n)z?\\\\xe7\\\\xf2\\\\xab%\\\\x1a\\\\x95`\\\\xbf\\\\xe2\\\\xd51r\\\\x9f\\\\xc6z?`q#\\\\x11\\\\xc5Nk\\\\xbf\\\\xc7\\\\xa5\\\\xa5\\\\xc0\\\\x82\\\\x05s\\\\xbfFWa\\\\xca Xz?\\\\x10l\\\\xed\\\\xff\\\\xc2\\\\x1ee?\\\\x9f\\\\xb9n.\\\\x97\\\\x08i?\\\\x99\\\\xfc\\\\x97\\\\xe3\\\\x95;e\\\\xbf^\\\\xc2\\\\xc9\\\\xd6\\\\xe4Uv?\\\\xc0a\\\\xc2d\\\\x93\\\\xdf.\\\\xbf\\\\xd5C>6\\\\xa8[\\\\\\\\\\\\xbf \\\\x87\\\\xa25\\\\xad\\\\x0fx?\\\\xa5O(~$Dv?g\\\\xe7x\\\\xaf\\\\xda}T?(\\\\xbc\\\\xc7\\\\xca(\\\\xffk?\\\\xd49J\\\\xa6\\\\xa5&=\\\\xbf\\\\xe2$\\\\x0c\\\\xaf\\\\x9d\\\\xe6[?P~(\\\\xb1\\\\x0b\\\\xf8Y?8\\\\x95\\\\x11\\\\x07\\\\xe3sg\\\\xbf\\\\x00\\\\xc5\\\\xd8\\\\xa4\\\\x82$\\\\xe0\\\\xbe\\\\x1b\\\\tl\\\\xc1\\\\xc4\\\\x92Y?z\\\\xe7I\\\\xfe\\\\x05\\\\\\'I?Q\\\\x9f\\\\xf8C\\\\xf9Sn?,\\\\xd9s\\\\xc8\\\\xd4\\\\xa2u\\\\xbf;\\\\x1c\\\\x9d\\\\xc9},v\\\\xbf[\\\\x9avq\\\\xdc\\\\x8eo?(\\\\x15\\\\xd3\\\\xdct\\\\xe79\\\\xbf\\\\x96A\"W(\\\\xf2r\\\\xbf2\\\\xb2q\"\\\\xe55x\\\\xbf\\\\xc9\\\\xadO\\\\x13r\\\\xd6X?\\\\xb6\\\\xd3\\\\nj+\\\\xe3\\\\\\\\\\\\xbf\\\\xe2`\\\\x1d.\\\\x99\\\\xadf\\\\xbf\\\\x0bbLaJ\\\\xb6c\\\\xbf\\\\x0eM\\\\x162\\\\xd4qw\\\\xbfX<\\\\xc9\\\\xa3\\\\xf4jj?\\\\xa3\\\\x0c\\\\xdcO1\\\\xf9p?\\\\x12\\\\xcc%:\\\\x95\\\\xd2s\\\\xbf\\\\x03\\\\xae\\\\x87\\\\x0f\\\\xc3&q\\\\xbf\\\\x93\\\\xeb\\\\xee\\\\x18\\\\xd2\\\\xbd_?\\\\x04\\\\x80\"\\\\x131\\\\xd16\\\\xbf\\\\xb4\\\\xc6\\\\xddG\\\\xa9jh\\\\xbf\\'\\np232\\ntp233\\nbsS\\'data\\'\\np234\\ng0\\n(cstatsmodels.base.data\\nPandasData\\np235\\ng2\\nNtp236\\nRp237\\n(dp238\\nS\\'const_idx\\'\\np239\\ng14\\n(g15\\n(I0\\ntp240\\ng17\\ntp241\\nRp242\\n(I1\\n(tg21\\n(S\\'i8\\'\\np243\\nI0\\nI1\\ntp244\\nRp245\\n(I3\\nS\\'<\\'\\np246\\nNNNI-1\\nI-1\\nI0\\ntp247\\nbI00\\nS\\'\\\\x00\\\\x00\\\\x00\\\\x00\\\\x00\\\\x00\\\\x00\\\\x00\\'\\np248\\ntp249\\nbsS\\'frame\\'\\np250\\ng0\\n(cpandas.core.frame\\nDataFrame\\np251\\ng2\\nNtp252\\nRp253\\n(dp254\\nS\\'_metadata\\'\\np255\\n(lp256\\nsS\\'_typ\\'\\np257\\nS\\'dataframe\\'\\np258\\nsS\\'_data\\'\\np259\\ng0\\n(cpandas.core.internals\\nBlockManager\\np260\\ng2\\nNtp261\\nRp262\\n((lp263\\ncpandas.core.index\\n_new_Index\\np264\\n(cpandas.core.index\\nIndex\\np265\\n(dp266\\ng234\\ng14\\n(g15\\n(I0\\ntp267\\ng17\\ntp268\\nRp269\\n(I1\\n(L3L\\ntp270\\ng21\\n(S\\'O8\\'\\np271\\nI0\\nI1\\ntp272\\nRp273\\n(I3\\nS\\'|\\'\\np274\\nNNNI-1\\nI-1\\nI63\\ntp275\\nbI00\\n(lp276\\nS\\'x1\\'\\np277\\naS\\'x2\\'\\np278\\naS\\'y\\'\\np279\\natp280\\nbsS\\'name\\'\\np281\\nNstp282\\nRp283\\nag264\\n(cpandas.core.index\\nInt64Index\\np284\\n(dp285\\ng234\\ng14\\n(g15\\n(I0\\ntp286\\ng17\\ntp287\\nRp288\\n(I1\\n(L50L\\ntp289\\ng245\\nI00\\nS\\'\\\\x00\\\\x00\\\\x00\\\\x00\\\\x00\\\\x00\\\\x00\\\\x00\\\\x01\\\\x00\\\\x00\\\\x00\\\\x00\\\\x00\\\\x00\\\\x00\\\\x02\\\\x00\\\\x00\\\\x00\\\\x00\\\\x00\\\\x00\\\\x00\\\\x03\\\\x00\\\\x00\\\\x00\\\\x00\\\\x00\\\\x00\\\\x00\\\\x04\\\\x00\\\\x00\\\\x00\\\\x00\\\\x00\\\\x00\\\\x00\\\\x05\\\\x00\\\\x00\\\\x00\\\\x00\\\\x00\\\\x00\\\\x00\\\\x06\\\\x00\\\\x00\\\\x00\\\\x00\\\\x00\\\\x00\\\\x00\\\\x07\\\\x00\\\\x00\\\\x00\\\\x00\\\\x00\\\\x00\\\\x00\\\\x08\\\\x00\\\\x00\\\\x00\\\\x00\\\\x00\\\\x00\\\\x00\\\\t\\\\x00\\\\x00\\\\x00\\\\x00\\\\x00\\\\x00\\\\x00\\\\n\\\\x00\\\\x00\\\\x00\\\\x00\\\\x00\\\\x00\\\\x00\\\\x0b\\\\x00\\\\x00\\\\x00\\\\x00\\\\x00\\\\x00\\\\x00\\\\x0c\\\\x00\\\\x00\\\\x00\\\\x00\\\\x00\\\\x00\\\\x00\\\\r\\\\x00\\\\x00\\\\x00\\\\x00\\\\x00\\\\x00\\\\x00\\\\x0e\\\\x00\\\\x00\\\\x00\\\\x00\\\\x00\\\\x00\\\\x00\\\\x0f\\\\x00\\\\x00\\\\x00\\\\x00\\\\x00\\\\x00\\\\x00\\\\x10\\\\x00\\\\x00\\\\x00\\\\x00\\\\x00\\\\x00\\\\x00\\\\x11\\\\x00\\\\x00\\\\x00\\\\x00\\\\x00\\\\x00\\\\x00\\\\x12\\\\x00\\\\x00\\\\x00\\\\x00\\\\x00\\\\x00\\\\x00\\\\x13\\\\x00\\\\x00\\\\x00\\\\x00\\\\x00\\\\x00\\\\x00\\\\x14\\\\x00\\\\x00\\\\x00\\\\x00\\\\x00\\\\x00\\\\x00\\\\x15\\\\x00\\\\x00\\\\x00\\\\x00\\\\x00\\\\x00\\\\x00\\\\x16\\\\x00\\\\x00\\\\x00\\\\x00\\\\x00\\\\x00\\\\x00\\\\x17\\\\x00\\\\x00\\\\x00\\\\x00\\\\x00\\\\x00\\\\x00\\\\x18\\\\x00\\\\x00\\\\x00\\\\x00\\\\x00\\\\x00\\\\x00\\\\x19\\\\x00\\\\x00\\\\x00\\\\x00\\\\x00\\\\x00\\\\x00\\\\x1a\\\\x00\\\\x00\\\\x00\\\\x00\\\\x00\\\\x00\\\\x00\\\\x1b\\\\x00\\\\x00\\\\x00\\\\x00\\\\x00\\\\x00\\\\x00\\\\x1c\\\\x00\\\\x00\\\\x00\\\\x00\\\\x00\\\\x00\\\\x00\\\\x1d\\\\x00\\\\x00\\\\x00\\\\x00\\\\x00\\\\x00\\\\x00\\\\x1e\\\\x00\\\\x00\\\\x00\\\\x00\\\\x00\\\\x00\\\\x00\\\\x1f\\\\x00\\\\x00\\\\x00\\\\x00\\\\x00\\\\x00\\\\x00 \\\\x00\\\\x00\\\\x00\\\\x00\\\\x00\\\\x00\\\\x00!\\\\x00\\\\x00\\\\x00\\\\x00\\\\x00\\\\x00\\\\x00\"\\\\x00\\\\x00\\\\x00\\\\x00\\\\x00\\\\x00\\\\x00#\\\\x00\\\\x00\\\\x00\\\\x00\\\\x00\\\\x00\\\\x00$\\\\x00\\\\x00\\\\x00\\\\x00\\\\x00\\\\x00\\\\x00%\\\\x00\\\\x00\\\\x00\\\\x00\\\\x00\\\\x00\\\\x00&\\\\x00\\\\x00\\\\x00\\\\x00\\\\x00\\\\x00\\\\x00\\\\\\'\\\\x00\\\\x00\\\\x00\\\\x00\\\\x00\\\\x00\\\\x00(\\\\x00\\\\x00\\\\x00\\\\x00\\\\x00\\\\x00\\\\x00)\\\\x00\\\\x00\\\\x00\\\\x00\\\\x00\\\\x00\\\\x00*\\\\x00\\\\x00\\\\x00\\\\x00\\\\x00\\\\x00\\\\x00+\\\\x00\\\\x00\\\\x00\\\\x00\\\\x00\\\\x00\\\\x00,\\\\x00\\\\x00\\\\x00\\\\x00\\\\x00\\\\x00\\\\x00-\\\\x00\\\\x00\\\\x00\\\\x00\\\\x00\\\\x00\\\\x00.\\\\x00\\\\x00\\\\x00\\\\x00\\\\x00\\\\x00\\\\x00/\\\\x00\\\\x00\\\\x00\\\\x00\\\\x00\\\\x00\\\\x000\\\\x00\\\\x00\\\\x00\\\\x00\\\\x00\\\\x00\\\\x001\\\\x00\\\\x00\\\\x00\\\\x00\\\\x00\\\\x00\\\\x00\\'\\np290\\ntp291\\nbsg281\\nNstp292\\nRp293\\na(lp294\\ng14\\n(g15\\n(I0\\ntp295\\ng17\\ntp296\\nRp297\\n(I1\\n(L3L\\nL50L\\ntp298\\ng24\\nI00\\nS\\'\\\\xf8\\\\xfd\"\\\\x06)\\\\x1e3@\\\\xd4\\\\xd3w\\\\xa1\\\\x0c\\\\x173@\\\\x98\\\\xe7\\\\xae(\\\\xb6f(@\\\\x98\\\\x0e\\\\xb4\\\\x988\\\\xf1 @\\\\xa3\\\\x16V\\\\xf5K\\\\xff)@D\\\\xba\\\\xe3\"p\\\\xe4/@H\\\\xaa<\\\\x9e I\\\\x1c@\\\\xb5`\\\\x98\\\\xf7w\\\\x1e0@Hoq\\\\xbe\\\\x9a\\\\\\'!@>\\\\x88\\\\xd2\\\\xd9<\\\\xf1(@\\\\x8d3\\\\xdc\\\\xeb\\\\xc4i0@\\\\x0f\\\\xcb\\\\xffO\\\\x8e\\\\x81,@\\\\x0e\\\\xa1\\\\xaa\\\\x97\\\\x05\\\\xc7\\\\x14@\\\\x83\\\\xe5\\\\x07\\\\xf1\\\\x8b\\\\xfc0@\\\\x07\\\\\\'>k\\\\x1c\\\\xa2.@h\\\\x0b\\\\xd9\\\\xb8\\\\x1c\\\\xac%@\\\\x9a\\\\x97f\\\\xc4\\\\xc3\\\\x8e\\\\x1f@\\\\x90\\\\xd3\\\\x88\\\\x06\\\\xfc\\\\xc3\\\\xff?\\\\xb0\\\\xc3c\\\\x1c\\\\xe6\\\\xa1\\\\xfb?\\\\xf6q\\\\x97\\\\x8a|]\\\\x10@2\\\\x89U\\\\xd8> -@(\\\\xb7U\\\\xdf\\\\xee\\\\xcf\\\\x08@N(\\\\xb8\\\\xba\\\\xc0\\\\x06(@\\\\x9a\\\\xdf6M]\\\\xd1\\\\x19@\\\\xea\\\\xe0k\\\\xe9\\\\xe6g @\\\\x92\\\\x14\\\\xb9\\\\xd4\\\\xeb\\\\x9a2@G\\\\xcc\\\\xf7a\\\\xad\\\\xf80@0G\\\\x85\\\\r\\\\x8b\\\\x10\\\\x0e@d\\\\x83\\\\x8aw3=\\\\x13@h=\\\\x94\\\\xa0\\\\x9b\\\\xc5\\\\x1a@ \\\\x83\\\\x10\\\\xfd\\\\x86\\\\x032@\\\\x9b\\\\xaa\\\\x0bwds#@\\\\xfc\\\\xa0O\\\\x19`\\\\x84!@\\\\\\\\\\\\\\'\\\\\\\\\\\\xf1\\\\xae\\\\t/@\\\\xb5\\\\x0c\\\\xfd\\\\xf3\\\\r\\\\x93!@\\\\x1f\\\\xfc\\\\\\'7)\\\\xda0@\\\\xf8\\\\xc5U\\\\x9dB\\\\x18.@\\\\xd8\\\\xfa^D\\\\xee\\\\xb8.@\\\\x0f\\\\x19\\\\xaa\\\\xd5\\\\xce\\\\xfe\"@\\\\x89\\\\x0f\\\\xd9\\\\x1f\\\\xf1\\\\xee3@\\\\x04\\\\x90c\\\\x98;\\\\xe2#@\\\\xa6\\\\xd81\\\\xfe\\\\x11\\\\xc8 @\\\\xe78*\\\\xd3P2&@]\\\\xf8MJ\\\\x08\\\\x081@\\\\xf8\\\\xb1M\\\\x87\\\\x07\\\\xec\\\\n@p\\\\x8e\\\\x8b\\\\x8bPX\\\\x0b@\\\\x0cQ?i\\\\xa4\\\\xf5\\\\x18@\\\\xbd\\\\xe6\\\\xe8\\\\xf6\\\\x80\\\\x163@\\\\x10\\\\xbd\\\\xaex\"u\\\\x1b@e\\\\x0f2\\\\\\'\\\\x82T2@8>\\\\xf6\\\\x1b\\\\xd7)\"@\\\\x9a<\\\\xc5W\\\\x1f\\\\xfe\\\\x19@ !\\\\xb7~\\\\x05@2@\\\\xdc\\\\xd3X-W\\\\xcf#@8X\\\\x1c\\\\xa1Sp)@\\\\x18<Z\\\\x0e\\\\xaaH\\\\x02@\\\\xb09>\\\\x94\\\\\\'K\\\\xfc?\\\\x82\\\\xf2\\\\xcf\\\\xcd$))@x}\\\\xef\\\\x18\\\\x03\\\\xf92@\\\\x06\\\\x93\\\\xa1\\\\xdc\\\\xc3\\\\xb4\\\\x1c@>\\\\xd1\\\\xf5\\\\x9b\\\\xa9\\\\xca3@\\\\x96\\\\xc0\\\\xc8\\\\x86)\\\\xb9\\\\x15@h%\\\\xc1\\\\x17z\\\\xcb\\\\x06@\\\\xef\\\\xe1x\\\\x10)\\\\xaf3@`I\\\\x11\\\\x95-\\\\x07,@\\\\x00\\\\xcddtn\\\\xb6,@6\\\\xa1\\\\xbaQ\\\\xe0\\\\x07\\\\x18@fl\\\\x8cki\\\\x1f1@\\\\xda\\\\xd3PL-\\\\xd8!@\\\\xd4\\\\xdfF\\\\x80\\\\xa5\\\\xd0\\\\x1b@\\\\xcc\\\\xc4&h;\\\\xb22@^\\\\xce\\\\x80\\\\x8b)/1@\\\\xd7\\\\x10WM\\\\xab\\\\xb3\\\\\\'@@\\\\xaa}\\\\x04+\\\\x14-@\\\\xe5\\\\xecE\\\\xcc-=\"@Fg\\\\x97VK\\\\x04*@\\\\xd4^t\\\\xec\\\\x1em)@\\\\xf0\\\\x86\\\\xd7\\\\xf3[3\\\\x15@ \\\\xaa\\\\xe57^\\\\xf9\"@\\\\xcc \\\\xe9\\\\x17{\\\\xc6\\\\\\'@{\\\\r\\\\x91lO<\\\\\\'@\\\\xcdw\\\\xe8\\\\xb7\\\\x8bf.@\\\\x00\\\\\\'<\\\\xe0\\\\x15\\\\xa5\\\\x01@`\\\\x88\\\\xb0m\\\\x94K\\\\x04@\\\\xa2\\\\xc1$\\\\xba%\\\\xb0.@U\\\\xaf\\\\xab\\\\xb4X\\\\xb6#@\\\\x18\\\\xfdOgA\\\\x12\\\\r@\\\\xd0}R1x\\\\xf4\\\\xfc?b\\\\x1b\\\\x91\\\\x88\\\\xe5\\\\x13(@\\\\xcb\\\\xdeIg\\\\x8b@ @\\\\x1c\\\\x05\\\\xe0\\\\x18\\\\xbf\\\\xa5\\\\x17@\\\\xa0\\\\xea\\\\xe8\\\\xe2\\\\xba@\\\\x19@0\\\\xc7\\\\xa4\\\\xa8\\\\x8f\\\\x02\\\\xfc?\\\\xf6\\\\xb1\\\\x03\\\\x8a\\\\xdf&.@?d\\\\xe9&H\\\\xb1.@\\\\xe0\\\\x07\\\\xca\\\\xb9\\\\x9es\\\\x03@@\\\\x91SQ\\\\xe5\\\\xb0\\\\x0c@\\\\x12\\\\xcd\\\\\\\\z\\\\xe8\\\\xc3*@\\\\xe1\\\\xc5\\\\x8dh\\\\x9dO\"@\\\\x90~f\\\\x8c\\\\x0b\\\\x02\\\\x19@\\\\xabs\\\\x92=h>C@\\\\x9b\\\\x13e\\\\xbf\\\\x8c\\\\xed@@S7\\\\x1c\\\\x0c,\\\\x03I@\\\\xc2(*\\\\x7f\\\\xe9H=@\\\\\\\\{\\\\xa4p \\\\xbaC@\\\\xc4_\\\\xa3~\\\\xf0g7@\\\\xecZ\\\\x020m#)@P\\\\xef\\\\xd3s -E@+\\\\x05\\\\x812\\\\xdftH@\\\\xd3\\\\x0e\\\\xc8\\\\x01w\\\\xb3=@\\\\x00\\\\xb3\\\\x0eTh\\\\xfcL@^\\\\x99\\\\x9e\\\\xe0\\\\xb2\\\\xba:@IE\\\\xfa\\\\xdf\\\\x0en)@\\\\xed\\\\xd9}\\\\x1d\\\\xfb<M@p\\\\x8a\\\\x89\\\\x02[NF@\\\\x01\\\\xf3\\\\x94\\\\xfc\\\\xd6\\\\xc0D@`\\\\x84\\\\r\\\\x84`\\\\x9b6@\\\\xf6l\\\\xb2\\\\xbd[\\\\xcaB@8\\\\xb9\\\\xa4\\\\xb3\\\\xf9\\\\n5@\\\\xdb\\\\xb6\\\\xbd\\\\xbd\\\\xabC3@\\\\x1d\\\\x90(Ad|J@.\\\\xca\\\\xa0\\\\xe2\\\\x16\\\\xd5C@\\\\xa0!\\\\xbe\\\\xa9NtB@\\\\xa8\\\\xaf\\\\xec\\\\x13\\\\xbb\\\\x96B@\\\\x97\\\\x1e\\\\x9f\\\\xd9u\\\\xee;@\\\\xa1_\\\\xa2dmRG@a\\\\\\'\\\\xea2\\\\x00vF@\\\\x0c7\\\\x96\\\\xe0\\\\xa9\\\\x141@\\\\x05bMu\\\\xfc\\\\xbe:@qJ\\\\xe21\\\\x00\\\\x89@@]l`\\\\x7fKlE@\\\\x86\\\\xc5\\\\xe2\\\\x983\\\\xaaD@\\\\xfa\\\\xe8B\\\\xc4\\\\xfe0-@\\\\x15~a\\\\x07r\\\\x147@\\\\x86\\\\x97X\\\\x91\\\\xbc\\\\x0fE@xB\\\\xf4\\\\xb0+\\\\x91C@A$\\\\xd1\\\\xe1\\\\xd9\\\\xb18@R\\\\x8c\\\\xbb\\\\x87x\\\\xca4@@\\\\x0bj>\\\\xd3\\\\xcfA@i\\\\xe8\\\\xc3\\\\x0e\\\\xe2bC@\\\\n\\\\xe9UUt77@\\\\x8e\\\\xf9*\\\\x9c6\\\\x887@+\\\\xa4\\\\xda\\\\xddH+0@\\\\xbc\\\\x0e\\\\xd7h\\\\\\\\)H@Y\\\\xd4\\\\x8d\\\\xf5\\\\x18$B@\\\\x17\\\\x150\\\\xd5^\\\\xee$@\\\\xfaK;aP\\\\x19-@0I\\\\x9d\\\\x8b\\\\xe3+H@\\\\x9e}{/\\\\xecI:@\\\\x9d\\\\xb77\\\\xb6\\\\xc6\\\\\\\\@@\\'\\np299\\ntp300\\nba(lp301\\ng264\\n(g265\\n(dp302\\ng234\\ng14\\n(g15\\n(I0\\ntp303\\ng17\\ntp304\\nRp305\\n(I1\\n(L3L\\ntp306\\ng273\\nI00\\n(lp307\\ng277\\nag278\\nag279\\natp308\\nbsg281\\nNstp309\\nRp310\\na(dp311\\nS\\'0.14.1\\'\\np312\\n(dp313\\nS\\'axes\\'\\np314\\ng263\\nsS\\'blocks\\'\\np315\\n(lp316\\n(dp317\\nS\\'mgr_locs\\'\\np318\\nc__builtin__\\nslice\\np319\\n(I0\\nI3\\nL1L\\ntp320\\nRp321\\nsS\\'values\\'\\np322\\ng297\\nsasstp323\\nbsbsg189\\ng192\\nsS\\'missing_row_idx\\'\\np324\\n(lp325\\nsg72\\ng0\\n(g73\\ng74\\n(dp326\\nS\\'ynames\\'\\np327\\ng279\\nsS\\'xnames\\'\\np328\\n(lp329\\nS\\'Intercept\\'\\np330\\naS\\'x1\\'\\np331\\naS\\'x2\\'\\np332\\nastp333\\nRp334\\n(dp335\\ng168\\n(dp336\\nsbsg71\\nI1\\nsg199\\ng218\\nsS\\'orig_exog\\'\\np337\\ng0\\n(g251\\ng2\\nNtp338\\nRp339\\n(dp340\\ng255\\ng256\\nsg257\\ng258\\nsg259\\ng0\\n(g260\\ng2\\nNtp341\\nRp342\\n((lp343\\ng264\\n(g265\\n(dp344\\ng234\\ng14\\n(g15\\n(I0\\ntp345\\ng17\\ntp346\\nRp347\\n(I1\\n(L3L\\ntp348\\ng273\\nI00\\n(lp349\\ng330\\nag331\\nag332\\natp350\\nbsg281\\nNstp351\\nRp352\\nag264\\n(g284\\n(dp353\\ng234\\ng14\\n(g15\\n(I0\\ntp354\\ng17\\ntp355\\nRp356\\n(I1\\n(L50L\\ntp357\\ng245\\nI00\\nS\\'\\\\x00\\\\x00\\\\x00\\\\x00\\\\x00\\\\x00\\\\x00\\\\x00\\\\x01\\\\x00\\\\x00\\\\x00\\\\x00\\\\x00\\\\x00\\\\x00\\\\x02\\\\x00\\\\x00\\\\x00\\\\x00\\\\x00\\\\x00\\\\x00\\\\x03\\\\x00\\\\x00\\\\x00\\\\x00\\\\x00\\\\x00\\\\x00\\\\x04\\\\x00\\\\x00\\\\x00\\\\x00\\\\x00\\\\x00\\\\x00\\\\x05\\\\x00\\\\x00\\\\x00\\\\x00\\\\x00\\\\x00\\\\x00\\\\x06\\\\x00\\\\x00\\\\x00\\\\x00\\\\x00\\\\x00\\\\x00\\\\x07\\\\x00\\\\x00\\\\x00\\\\x00\\\\x00\\\\x00\\\\x00\\\\x08\\\\x00\\\\x00\\\\x00\\\\x00\\\\x00\\\\x00\\\\x00\\\\t\\\\x00\\\\x00\\\\x00\\\\x00\\\\x00\\\\x00\\\\x00\\\\n\\\\x00\\\\x00\\\\x00\\\\x00\\\\x00\\\\x00\\\\x00\\\\x0b\\\\x00\\\\x00\\\\x00\\\\x00\\\\x00\\\\x00\\\\x00\\\\x0c\\\\x00\\\\x00\\\\x00\\\\x00\\\\x00\\\\x00\\\\x00\\\\r\\\\x00\\\\x00\\\\x00\\\\x00\\\\x00\\\\x00\\\\x00\\\\x0e\\\\x00\\\\x00\\\\x00\\\\x00\\\\x00\\\\x00\\\\x00\\\\x0f\\\\x00\\\\x00\\\\x00\\\\x00\\\\x00\\\\x00\\\\x00\\\\x10\\\\x00\\\\x00\\\\x00\\\\x00\\\\x00\\\\x00\\\\x00\\\\x11\\\\x00\\\\x00\\\\x00\\\\x00\\\\x00\\\\x00\\\\x00\\\\x12\\\\x00\\\\x00\\\\x00\\\\x00\\\\x00\\\\x00\\\\x00\\\\x13\\\\x00\\\\x00\\\\x00\\\\x00\\\\x00\\\\x00\\\\x00\\\\x14\\\\x00\\\\x00\\\\x00\\\\x00\\\\x00\\\\x00\\\\x00\\\\x15\\\\x00\\\\x00\\\\x00\\\\x00\\\\x00\\\\x00\\\\x00\\\\x16\\\\x00\\\\x00\\\\x00\\\\x00\\\\x00\\\\x00\\\\x00\\\\x17\\\\x00\\\\x00\\\\x00\\\\x00\\\\x00\\\\x00\\\\x00\\\\x18\\\\x00\\\\x00\\\\x00\\\\x00\\\\x00\\\\x00\\\\x00\\\\x19\\\\x00\\\\x00\\\\x00\\\\x00\\\\x00\\\\x00\\\\x00\\\\x1a\\\\x00\\\\x00\\\\x00\\\\x00\\\\x00\\\\x00\\\\x00\\\\x1b\\\\x00\\\\x00\\\\x00\\\\x00\\\\x00\\\\x00\\\\x00\\\\x1c\\\\x00\\\\x00\\\\x00\\\\x00\\\\x00\\\\x00\\\\x00\\\\x1d\\\\x00\\\\x00\\\\x00\\\\x00\\\\x00\\\\x00\\\\x00\\\\x1e\\\\x00\\\\x00\\\\x00\\\\x00\\\\x00\\\\x00\\\\x00\\\\x1f\\\\x00\\\\x00\\\\x00\\\\x00\\\\x00\\\\x00\\\\x00 \\\\x00\\\\x00\\\\x00\\\\x00\\\\x00\\\\x00\\\\x00!\\\\x00\\\\x00\\\\x00\\\\x00\\\\x00\\\\x00\\\\x00\"\\\\x00\\\\x00\\\\x00\\\\x00\\\\x00\\\\x00\\\\x00#\\\\x00\\\\x00\\\\x00\\\\x00\\\\x00\\\\x00\\\\x00$\\\\x00\\\\x00\\\\x00\\\\x00\\\\x00\\\\x00\\\\x00%\\\\x00\\\\x00\\\\x00\\\\x00\\\\x00\\\\x00\\\\x00&\\\\x00\\\\x00\\\\x00\\\\x00\\\\x00\\\\x00\\\\x00\\\\\\'\\\\x00\\\\x00\\\\x00\\\\x00\\\\x00\\\\x00\\\\x00(\\\\x00\\\\x00\\\\x00\\\\x00\\\\x00\\\\x00\\\\x00)\\\\x00\\\\x00\\\\x00\\\\x00\\\\x00\\\\x00\\\\x00*\\\\x00\\\\x00\\\\x00\\\\x00\\\\x00\\\\x00\\\\x00+\\\\x00\\\\x00\\\\x00\\\\x00\\\\x00\\\\x00\\\\x00,\\\\x00\\\\x00\\\\x00\\\\x00\\\\x00\\\\x00\\\\x00-\\\\x00\\\\x00\\\\x00\\\\x00\\\\x00\\\\x00\\\\x00.\\\\x00\\\\x00\\\\x00\\\\x00\\\\x00\\\\x00\\\\x00/\\\\x00\\\\x00\\\\x00\\\\x00\\\\x00\\\\x00\\\\x000\\\\x00\\\\x00\\\\x00\\\\x00\\\\x00\\\\x00\\\\x001\\\\x00\\\\x00\\\\x00\\\\x00\\\\x00\\\\x00\\\\x00\\'\\np358\\ntp359\\nbsg281\\nNstp360\\nRp361\\na(lp362\\ng14\\n(g15\\n(I0\\ntp363\\ng17\\ntp364\\nRp365\\n(I1\\n(L3L\\nL50L\\ntp366\\ng24\\nI01\\nS\\'\\\\x00\\\\x00\\\\x00\\\\x00\\\\x00\\\\x00\\\\xf0?\\\\xf8\\\\xfd\"\\\\x06)\\\\x1e3@8>\\\\xf6\\\\x1b\\\\xd7)\"@\\\\x00\\\\x00\\\\x00\\\\x00\\\\x00\\\\x00\\\\xf0?\\\\xd4\\\\xd3w\\\\xa1\\\\x0c\\\\x173@\\\\x9a<\\\\xc5W\\\\x1f\\\\xfe\\\\x19@\\\\x00\\\\x00\\\\x00\\\\x00\\\\x00\\\\x00\\\\xf0?\\\\x98\\\\xe7\\\\xae(\\\\xb6f(@ !\\\\xb7~\\\\x05@2@\\\\x00\\\\x00\\\\x00\\\\x00\\\\x00\\\\x00\\\\xf0?\\\\x98\\\\x0e\\\\xb4\\\\x988\\\\xf1 @\\\\xdc\\\\xd3X-W\\\\xcf#@\\\\x00\\\\x00\\\\x00\\\\x00\\\\x00\\\\x00\\\\xf0?\\\\xa3\\\\x16V\\\\xf5K\\\\xff)@8X\\\\x1c\\\\xa1Sp)@\\\\x00\\\\x00\\\\x00\\\\x00\\\\x00\\\\x00\\\\xf0?D\\\\xba\\\\xe3\"p\\\\xe4/@\\\\x18<Z\\\\x0e\\\\xaaH\\\\x02@\\\\x00\\\\x00\\\\x00\\\\x00\\\\x00\\\\x00\\\\xf0?H\\\\xaa<\\\\x9e I\\\\x1c@\\\\xb09>\\\\x94\\\\\\'K\\\\xfc?\\\\x00\\\\x00\\\\x00\\\\x00\\\\x00\\\\x00\\\\xf0?\\\\xb5`\\\\x98\\\\xf7w\\\\x1e0@\\\\x82\\\\xf2\\\\xcf\\\\xcd$))@\\\\x00\\\\x00\\\\x00\\\\x00\\\\x00\\\\x00\\\\xf0?Hoq\\\\xbe\\\\x9a\\\\\\'!@x}\\\\xef\\\\x18\\\\x03\\\\xf92@\\\\x00\\\\x00\\\\x00\\\\x00\\\\x00\\\\x00\\\\xf0?>\\\\x88\\\\xd2\\\\xd9<\\\\xf1(@\\\\x06\\\\x93\\\\xa1\\\\xdc\\\\xc3\\\\xb4\\\\x1c@\\\\x00\\\\x00\\\\x00\\\\x00\\\\x00\\\\x00\\\\xf0?\\\\x8d3\\\\xdc\\\\xeb\\\\xc4i0@>\\\\xd1\\\\xf5\\\\x9b\\\\xa9\\\\xca3@\\\\x00\\\\x00\\\\x00\\\\x00\\\\x00\\\\x00\\\\xf0?\\\\x0f\\\\xcb\\\\xffO\\\\x8e\\\\x81,@\\\\x96\\\\xc0\\\\xc8\\\\x86)\\\\xb9\\\\x15@\\\\x00\\\\x00\\\\x00\\\\x00\\\\x00\\\\x00\\\\xf0?\\\\x0e\\\\xa1\\\\xaa\\\\x97\\\\x05\\\\xc7\\\\x14@h%\\\\xc1\\\\x17z\\\\xcb\\\\x06@\\\\x00\\\\x00\\\\x00\\\\x00\\\\x00\\\\x00\\\\xf0?\\\\x83\\\\xe5\\\\x07\\\\xf1\\\\x8b\\\\xfc0@\\\\xef\\\\xe1x\\\\x10)\\\\xaf3@\\\\x00\\\\x00\\\\x00\\\\x00\\\\x00\\\\x00\\\\xf0?\\\\x07\\\\\\'>k\\\\x1c\\\\xa2.@`I\\\\x11\\\\x95-\\\\x07,@\\\\x00\\\\x00\\\\x00\\\\x00\\\\x00\\\\x00\\\\xf0?h\\\\x0b\\\\xd9\\\\xb8\\\\x1c\\\\xac%@\\\\x00\\\\xcddtn\\\\xb6,@\\\\x00\\\\x00\\\\x00\\\\x00\\\\x00\\\\x00\\\\xf0?\\\\x9a\\\\x97f\\\\xc4\\\\xc3\\\\x8e\\\\x1f@6\\\\xa1\\\\xbaQ\\\\xe0\\\\x07\\\\x18@\\\\x00\\\\x00\\\\x00\\\\x00\\\\x00\\\\x00\\\\xf0?\\\\x90\\\\xd3\\\\x88\\\\x06\\\\xfc\\\\xc3\\\\xff?fl\\\\x8cki\\\\x1f1@\\\\x00\\\\x00\\\\x00\\\\x00\\\\x00\\\\x00\\\\xf0?\\\\xb0\\\\xc3c\\\\x1c\\\\xe6\\\\xa1\\\\xfb?\\\\xda\\\\xd3PL-\\\\xd8!@\\\\x00\\\\x00\\\\x00\\\\x00\\\\x00\\\\x00\\\\xf0?\\\\xf6q\\\\x97\\\\x8a|]\\\\x10@\\\\xd4\\\\xdfF\\\\x80\\\\xa5\\\\xd0\\\\x1b@\\\\x00\\\\x00\\\\x00\\\\x00\\\\x00\\\\x00\\\\xf0?2\\\\x89U\\\\xd8> -@\\\\xcc\\\\xc4&h;\\\\xb22@\\\\x00\\\\x00\\\\x00\\\\x00\\\\x00\\\\x00\\\\xf0?(\\\\xb7U\\\\xdf\\\\xee\\\\xcf\\\\x08@^\\\\xce\\\\x80\\\\x8b)/1@\\\\x00\\\\x00\\\\x00\\\\x00\\\\x00\\\\x00\\\\xf0?N(\\\\xb8\\\\xba\\\\xc0\\\\x06(@\\\\xd7\\\\x10WM\\\\xab\\\\xb3\\\\\\'@\\\\x00\\\\x00\\\\x00\\\\x00\\\\x00\\\\x00\\\\xf0?\\\\x9a\\\\xdf6M]\\\\xd1\\\\x19@@\\\\xaa}\\\\x04+\\\\x14-@\\\\x00\\\\x00\\\\x00\\\\x00\\\\x00\\\\x00\\\\xf0?\\\\xea\\\\xe0k\\\\xe9\\\\xe6g @\\\\xe5\\\\xecE\\\\xcc-=\"@\\\\x00\\\\x00\\\\x00\\\\x00\\\\x00\\\\x00\\\\xf0?\\\\x92\\\\x14\\\\xb9\\\\xd4\\\\xeb\\\\x9a2@Fg\\\\x97VK\\\\x04*@\\\\x00\\\\x00\\\\x00\\\\x00\\\\x00\\\\x00\\\\xf0?G\\\\xcc\\\\xf7a\\\\xad\\\\xf80@\\\\xd4^t\\\\xec\\\\x1em)@\\\\x00\\\\x00\\\\x00\\\\x00\\\\x00\\\\x00\\\\xf0?0G\\\\x85\\\\r\\\\x8b\\\\x10\\\\x0e@\\\\xf0\\\\x86\\\\xd7\\\\xf3[3\\\\x15@\\\\x00\\\\x00\\\\x00\\\\x00\\\\x00\\\\x00\\\\xf0?d\\\\x83\\\\x8aw3=\\\\x13@ \\\\xaa\\\\xe57^\\\\xf9\"@\\\\x00\\\\x00\\\\x00\\\\x00\\\\x00\\\\x00\\\\xf0?h=\\\\x94\\\\xa0\\\\x9b\\\\xc5\\\\x1a@\\\\xcc \\\\xe9\\\\x17{\\\\xc6\\\\\\'@\\\\x00\\\\x00\\\\x00\\\\x00\\\\x00\\\\x00\\\\xf0? \\\\x83\\\\x10\\\\xfd\\\\x86\\\\x032@{\\\\r\\\\x91lO<\\\\\\'@\\\\x00\\\\x00\\\\x00\\\\x00\\\\x00\\\\x00\\\\xf0?\\\\x9b\\\\xaa\\\\x0bwds#@\\\\xcdw\\\\xe8\\\\xb7\\\\x8bf.@\\\\x00\\\\x00\\\\x00\\\\x00\\\\x00\\\\x00\\\\xf0?\\\\xfc\\\\xa0O\\\\x19`\\\\x84!@\\\\x00\\\\\\'<\\\\xe0\\\\x15\\\\xa5\\\\x01@\\\\x00\\\\x00\\\\x00\\\\x00\\\\x00\\\\x00\\\\xf0?\\\\\\\\\\\\\\'\\\\\\\\\\\\xf1\\\\xae\\\\t/@`\\\\x88\\\\xb0m\\\\x94K\\\\x04@\\\\x00\\\\x00\\\\x00\\\\x00\\\\x00\\\\x00\\\\xf0?\\\\xb5\\\\x0c\\\\xfd\\\\xf3\\\\r\\\\x93!@\\\\xa2\\\\xc1$\\\\xba%\\\\xb0.@\\\\x00\\\\x00\\\\x00\\\\x00\\\\x00\\\\x00\\\\xf0?\\\\x1f\\\\xfc\\\\\\'7)\\\\xda0@U\\\\xaf\\\\xab\\\\xb4X\\\\xb6#@\\\\x00\\\\x00\\\\x00\\\\x00\\\\x00\\\\x00\\\\xf0?\\\\xf8\\\\xc5U\\\\x9dB\\\\x18.@\\\\x18\\\\xfdOgA\\\\x12\\\\r@\\\\x00\\\\x00\\\\x00\\\\x00\\\\x00\\\\x00\\\\xf0?\\\\xd8\\\\xfa^D\\\\xee\\\\xb8.@\\\\xd0}R1x\\\\xf4\\\\xfc?\\\\x00\\\\x00\\\\x00\\\\x00\\\\x00\\\\x00\\\\xf0?\\\\x0f\\\\x19\\\\xaa\\\\xd5\\\\xce\\\\xfe\"@b\\\\x1b\\\\x91\\\\x88\\\\xe5\\\\x13(@\\\\x00\\\\x00\\\\x00\\\\x00\\\\x00\\\\x00\\\\xf0?\\\\x89\\\\x0f\\\\xd9\\\\x1f\\\\xf1\\\\xee3@\\\\xcb\\\\xdeIg\\\\x8b@ @\\\\x00\\\\x00\\\\x00\\\\x00\\\\x00\\\\x00\\\\xf0?\\\\x04\\\\x90c\\\\x98;\\\\xe2#@\\\\x1c\\\\x05\\\\xe0\\\\x18\\\\xbf\\\\xa5\\\\x17@\\\\x00\\\\x00\\\\x00\\\\x00\\\\x00\\\\x00\\\\xf0?\\\\xa6\\\\xd81\\\\xfe\\\\x11\\\\xc8 @\\\\xa0\\\\xea\\\\xe8\\\\xe2\\\\xba@\\\\x19@\\\\x00\\\\x00\\\\x00\\\\x00\\\\x00\\\\x00\\\\xf0?\\\\xe78*\\\\xd3P2&@0\\\\xc7\\\\xa4\\\\xa8\\\\x8f\\\\x02\\\\xfc?\\\\x00\\\\x00\\\\x00\\\\x00\\\\x00\\\\x00\\\\xf0?]\\\\xf8MJ\\\\x08\\\\x081@\\\\xf6\\\\xb1\\\\x03\\\\x8a\\\\xdf&.@\\\\x00\\\\x00\\\\x00\\\\x00\\\\x00\\\\x00\\\\xf0?\\\\xf8\\\\xb1M\\\\x87\\\\x07\\\\xec\\\\n@?d\\\\xe9&H\\\\xb1.@\\\\x00\\\\x00\\\\x00\\\\x00\\\\x00\\\\x00\\\\xf0?p\\\\x8e\\\\x8b\\\\x8bPX\\\\x0b@\\\\xe0\\\\x07\\\\xca\\\\xb9\\\\x9es\\\\x03@\\\\x00\\\\x00\\\\x00\\\\x00\\\\x00\\\\x00\\\\xf0?\\\\x0cQ?i\\\\xa4\\\\xf5\\\\x18@@\\\\x91SQ\\\\xe5\\\\xb0\\\\x0c@\\\\x00\\\\x00\\\\x00\\\\x00\\\\x00\\\\x00\\\\xf0?\\\\xbd\\\\xe6\\\\xe8\\\\xf6\\\\x80\\\\x163@\\\\x12\\\\xcd\\\\\\\\z\\\\xe8\\\\xc3*@\\\\x00\\\\x00\\\\x00\\\\x00\\\\x00\\\\x00\\\\xf0?\\\\x10\\\\xbd\\\\xaex\"u\\\\x1b@\\\\xe1\\\\xc5\\\\x8dh\\\\x9dO\"@\\\\x00\\\\x00\\\\x00\\\\x00\\\\x00\\\\x00\\\\xf0?e\\\\x0f2\\\\\\'\\\\x82T2@\\\\x90~f\\\\x8c\\\\x0b\\\\x02\\\\x19@\\'\\np367\\ntp368\\nba(lp369\\ng264\\n(g265\\n(dp370\\ng234\\ng14\\n(g15\\n(I0\\ntp371\\ng17\\ntp372\\nRp373\\n(I1\\n(L3L\\ntp374\\ng273\\nI00\\n(lp375\\ng330\\nag331\\nag332\\natp376\\nbsg281\\nNstp377\\nRp378\\na(dp379\\ng312\\n(dp380\\ng314\\ng343\\nsg315\\n(lp381\\n(dp382\\ng318\\ng319\\n(I0\\nI3\\nI1\\ntp383\\nRp384\\nsg322\\ng365\\nsasstp385\\nbsbsS\\'orig_endog\\'\\np386\\ng0\\n(g251\\ng2\\nNtp387\\nRp388\\n(dp389\\ng255\\ng256\\nsg257\\ng258\\nsg259\\ng0\\n(g260\\ng2\\nNtp390\\nRp391\\n((lp392\\ng264\\n(g265\\n(dp393\\ng234\\ng14\\n(g15\\n(I0\\ntp394\\ng17\\ntp395\\nRp396\\n(I1\\n(L1L\\ntp397\\ng273\\nI00\\n(lp398\\ng279\\natp399\\nbsg281\\nNstp400\\nRp401\\nag361\\na(lp402\\ng14\\n(g15\\n(I0\\ntp403\\ng17\\ntp404\\nRp405\\n(I1\\n(L1L\\nL50L\\ntp406\\ng24\\nI01\\nS\"\\\\xabs\\\\x92=h>C@\\\\x9b\\\\x13e\\\\xbf\\\\x8c\\\\xed@@S7\\\\x1c\\\\x0c,\\\\x03I@\\\\xc2(*\\\\x7f\\\\xe9H=@\\\\\\\\{\\\\xa4p \\\\xbaC@\\\\xc4_\\\\xa3~\\\\xf0g7@\\\\xecZ\\\\x020m#)@P\\\\xef\\\\xd3s -E@+\\\\x05\\\\x812\\\\xdftH@\\\\xd3\\\\x0e\\\\xc8\\\\x01w\\\\xb3=@\\\\x00\\\\xb3\\\\x0eTh\\\\xfcL@^\\\\x99\\\\x9e\\\\xe0\\\\xb2\\\\xba:@IE\\\\xfa\\\\xdf\\\\x0en)@\\\\xed\\\\xd9}\\\\x1d\\\\xfb<M@p\\\\x8a\\\\x89\\\\x02[NF@\\\\x01\\\\xf3\\\\x94\\\\xfc\\\\xd6\\\\xc0D@`\\\\x84\\\\r\\\\x84`\\\\x9b6@\\\\xf6l\\\\xb2\\\\xbd[\\\\xcaB@8\\\\xb9\\\\xa4\\\\xb3\\\\xf9\\\\n5@\\\\xdb\\\\xb6\\\\xbd\\\\xbd\\\\xabC3@\\\\x1d\\\\x90(Ad|J@.\\\\xca\\\\xa0\\\\xe2\\\\x16\\\\xd5C@\\\\xa0!\\\\xbe\\\\xa9NtB@\\\\xa8\\\\xaf\\\\xec\\\\x13\\\\xbb\\\\x96B@\\\\x97\\\\x1e\\\\x9f\\\\xd9u\\\\xee;@\\\\xa1_\\\\xa2dmRG@a\\'\\\\xea2\\\\x00vF@\\\\x0c7\\\\x96\\\\xe0\\\\xa9\\\\x141@\\\\x05bMu\\\\xfc\\\\xbe:@qJ\\\\xe21\\\\x00\\\\x89@@]l`\\\\x7fKlE@\\\\x86\\\\xc5\\\\xe2\\\\x983\\\\xaaD@\\\\xfa\\\\xe8B\\\\xc4\\\\xfe0-@\\\\x15~a\\\\x07r\\\\x147@\\\\x86\\\\x97X\\\\x91\\\\xbc\\\\x0fE@xB\\\\xf4\\\\xb0+\\\\x91C@A$\\\\xd1\\\\xe1\\\\xd9\\\\xb18@R\\\\x8c\\\\xbb\\\\x87x\\\\xca4@@\\\\x0bj>\\\\xd3\\\\xcfA@i\\\\xe8\\\\xc3\\\\x0e\\\\xe2bC@\\\\n\\\\xe9UUt77@\\\\x8e\\\\xf9*\\\\x9c6\\\\x887@+\\\\xa4\\\\xda\\\\xddH+0@\\\\xbc\\\\x0e\\\\xd7h\\\\\\\\)H@Y\\\\xd4\\\\x8d\\\\xf5\\\\x18$B@\\\\x17\\\\x150\\\\xd5^\\\\xee$@\\\\xfaK;aP\\\\x19-@0I\\\\x9d\\\\x8b\\\\xe3+H@\\\\x9e}{/\\\\xecI:@\\\\x9d\\\\xb77\\\\xb6\\\\xc6\\\\\\\\@@\"\\np407\\ntp408\\nba(lp409\\ng264\\n(g265\\n(dp410\\ng234\\ng14\\n(g15\\n(I0\\ntp411\\ng17\\ntp412\\nRp413\\n(I1\\n(L1L\\ntp414\\ng273\\nI00\\n(lp415\\ng279\\natp416\\nbsg281\\nNstp417\\nRp418\\na(dp419\\ng312\\n(dp420\\ng314\\ng392\\nsg315\\n(lp421\\n(dp422\\ng318\\ng319\\n(I0\\nI1\\nI1\\ntp423\\nRp424\\nsg322\\ng405\\nsasstp425\\nbsbsbsg199\\ng218\\nsS\\'_df_model\\'\\np426\\nF2.0\\nsbsg197\\n(lp427\\nsbsb.'"
      ]
     },
     "execution_count": 5,
     "metadata": {},
     "output_type": "execute_result"
    }
   ],
   "source": [
    "pickle.dumps(model)"
   ]
  },
  {
   "cell_type": "markdown",
   "metadata": {},
   "source": [
    "I guess I am just trusting that this is correct.  Let's write that nonsense to disk."
   ]
  },
  {
   "cell_type": "code",
   "execution_count": 6,
   "metadata": {
    "collapsed": false
   },
   "outputs": [],
   "source": [
    "with open('model_dump','w') as f:\n",
    "    pickle.dump(model,f)"
   ]
  },
  {
   "cell_type": "markdown",
   "metadata": {},
   "source": [
    "Now we can read the model object back in, save it as a new instance, and use it to predict based upon the original regressor data.  This result can be compared to the original prediction above."
   ]
  },
  {
   "cell_type": "code",
   "execution_count": 7,
   "metadata": {
    "collapsed": false
   },
   "outputs": [
    {
     "name": "stdout",
     "output_type": "stream",
     "text": [
      "                            OLS Regression Results                            \n",
      "==============================================================================\n",
      "Dep. Variable:                      y   R-squared:                       0.998\n",
      "Model:                            OLS   Adj. R-squared:                  0.998\n",
      "Method:                 Least Squares   F-statistic:                 1.039e+04\n",
      "Date:                Mon, 28 Mar 2016   Prob (F-statistic):           6.47e-63\n",
      "Time:                        20:10:07   Log-Likelihood:                -44.127\n",
      "No. Observations:                  50   AIC:                             94.25\n",
      "Df Residuals:                      47   BIC:                             99.99\n",
      "Df Model:                           2                                         \n",
      "Covariance Type:            nonrobust                                         \n",
      "==============================================================================\n",
      "                 coef    std err          t      P>|t|      [95.0% Conf. Int.]\n",
      "------------------------------------------------------------------------------\n",
      "Intercept      2.0162      0.246      8.181      0.000         1.520     2.512\n",
      "x1             1.0027      0.016     62.585      0.000         0.971     1.035\n",
      "x2             1.9831      0.016    124.666      0.000         1.951     2.015\n",
      "==============================================================================\n",
      "Omnibus:                       23.200   Durbin-Watson:                   1.694\n",
      "Prob(Omnibus):                  0.000   Jarque-Bera (JB):                4.088\n",
      "Skew:                           0.158   Prob(JB):                        0.129\n",
      "Kurtosis:                       1.635   Cond. No.                         46.5\n",
      "==============================================================================\n",
      "\n",
      "Warnings:\n",
      "[1] Standard Errors assume that the covariance matrix of the errors is correctly specified.\n"
     ]
    }
   ],
   "source": [
    "#Capture model object from disk\n",
    "with open('model_dump','r') as f:\n",
    "    model2=pickle.load(f)\n",
    "\n",
    "#Show model summary\n",
    "print model2.summary()\n",
    "\n",
    "#Predict new values of y\n",
    "# pred_y2=model2.predict(data[['x1','x2']])"
   ]
  },
  {
   "cell_type": "markdown",
   "metadata": {},
   "source": [
    "    ---------------------------------------------------------------------------\n",
    "    AttributeError                            Traceback (most recent call last)\n",
    "    <ipython-input-16-f7a79b10e2b5> in <module>()\n",
    "          7 \n",
    "          8 #Predict new values of y\n",
    "    ----> 9 pred_y2=model2.predict(data[['x1','x2']])\n",
    "\n",
    "    C:\\Users\\marvinw\\AppData\\Local\\Continuum\\Anaconda\\lib\\site-packages\\statsmodels\\base\\model.pyc in predict(self, exog, transform, *args, **kwargs)\n",
    "        876         if transform and hasattr(self.model, 'formula') and exog is not None:\n",
    "        877             from patsy import dmatrix\n",
    "    --> 878             exog = dmatrix(self.model.data.orig_exog.design_info.builder,\n",
    "        879                     exog)\n",
    "        880         return self.model.predict(self.params, exog, *args, **kwargs)\n",
    "\n",
    "    C:\\Users\\marvinw\\AppData\\Local\\Continuum\\Anaconda\\lib\\site-packages\\pandas\\core\\generic.pyc in __getattr__(self, name)\n",
    "       1976                 return self[name]\n",
    "       1977             raise AttributeError(\"'%s' object has no attribute '%s'\" %\n",
    "    -> 1978                                  (type(self).__name__, name))\n",
    "       1979 \n",
    "       1980     def __setattr__(self, name, value):\n",
    "\n",
    "    AttributeError: 'DataFrame' object has no attribute 'design_info'"
   ]
  },
  {
   "cell_type": "markdown",
   "metadata": {},
   "source": [
    "Hmmmm.  While it does appear that we have reconstituted the object, clearly something was lost in translation.  This helpful [SO post](http://stackoverflow.com/questions/20724919/pandas-dataframe-attributeerror-dataframe-object-has-no-attribute-design-inf) reveals that user additions to the model can get lost.  In this case, `design_info` is referring to the formula used to fit the model: `'y ~ x1 + x2'`.  The post suggests either building a design matrix explicitly with **`patsy`**, or just making sure we add a constant to our input data for the unpickled version of the model."
   ]
  },
  {
   "cell_type": "code",
   "execution_count": 8,
   "metadata": {
    "collapsed": false
   },
   "outputs": [
    {
     "data": {
      "text/plain": [
       "array([  0.00000000e+00,   0.00000000e+00,   0.00000000e+00,\n",
       "         0.00000000e+00,   0.00000000e+00,   0.00000000e+00,\n",
       "        -1.77635684e-15,   0.00000000e+00,   0.00000000e+00,\n",
       "         0.00000000e+00,   0.00000000e+00,   0.00000000e+00,\n",
       "         0.00000000e+00,   0.00000000e+00,   0.00000000e+00,\n",
       "         0.00000000e+00,   0.00000000e+00,   0.00000000e+00,\n",
       "         0.00000000e+00,   0.00000000e+00,   0.00000000e+00,\n",
       "         0.00000000e+00,   0.00000000e+00,   0.00000000e+00,\n",
       "         0.00000000e+00,   0.00000000e+00,   0.00000000e+00,\n",
       "         0.00000000e+00,  -3.55271368e-15,   0.00000000e+00,\n",
       "         0.00000000e+00,   0.00000000e+00,  -1.77635684e-15,\n",
       "         0.00000000e+00,   0.00000000e+00,   0.00000000e+00,\n",
       "         0.00000000e+00,   0.00000000e+00,   0.00000000e+00,\n",
       "         0.00000000e+00,   0.00000000e+00,   0.00000000e+00,\n",
       "         0.00000000e+00,   0.00000000e+00,   7.10542736e-15,\n",
       "         0.00000000e+00,   0.00000000e+00,   0.00000000e+00,\n",
       "        -3.55271368e-15,   7.10542736e-15])"
      ]
     },
     "execution_count": 8,
     "metadata": {},
     "output_type": "execute_result"
    }
   ],
   "source": [
    "#Predict new values of y\n",
    "pred_y2=model2.predict(add_constant(data[['x1','x2']]),transform=False)\n",
    "\n",
    "pred_y-pred_y2"
   ]
  },
  {
   "cell_type": "markdown",
   "metadata": {},
   "source": [
    "I think that I can handle those small deviations.  Looks like this works as expected."
   ]
  },
  {
   "cell_type": "code",
   "execution_count": 9,
   "metadata": {
    "collapsed": false
   },
   "outputs": [
    {
     "data": {
      "text/plain": [
       "array([0, 1, 1, 1, 1, 1, 0, 1, 1, 0])"
      ]
     },
     "execution_count": 9,
     "metadata": {},
     "output_type": "execute_result"
    }
   ],
   "source": [
    "np.random.choice(range(0,2),size=10)"
   ]
  },
  {
   "cell_type": "code",
   "execution_count": 10,
   "metadata": {
    "collapsed": false
   },
   "outputs": [
    {
     "name": "stdout",
     "output_type": "stream",
     "text": [
      "Optimization terminated successfully.\n",
      "         Current function value: 0.657559\n",
      "         Iterations 4\n"
     ]
    },
    {
     "data": {
      "text/plain": [
       "<statsmodels.discrete.discrete_model.BinaryResultsWrapper at 0x15f66898>"
      ]
     },
     "execution_count": 10,
     "metadata": {},
     "output_type": "execute_result"
    }
   ],
   "source": [
    "import statsmodels.api as sm\n",
    "X=data[['x1','x2']].values\n",
    "y=np.random.choice(range(0,2),size=len(data))\n",
    "p=sm.Probit(y,X).fit(maxiter=1000)\n",
    "p"
   ]
  },
  {
   "cell_type": "code",
   "execution_count": 12,
   "metadata": {
    "collapsed": false
   },
   "outputs": [],
   "source": [
    "# summary_string=p.summary().as_csv().split(',')\n",
    "# ll_text_idx=[i for i,content in enumerate(summary_string) if 'Log-Likelihood:' in content][0]\n",
    "# ll_rep_value=summary_string[conv_text_idx+1].strip().split('\\n')[0]\n",
    "# ll_max_found=ll_rep_value != 'nan'\n",
    "# ll_max_found"
   ]
  },
  {
   "cell_type": "code",
   "execution_count": 13,
   "metadata": {
    "collapsed": false
   },
   "outputs": [
    {
     "data": {
      "text/plain": [
       "['                  Probit Regression Results                   \\nDep. Variable:',\n",
       " 'y               ',\n",
       " '  No. Observations:  ',\n",
       " '    50  \\nModel:        ',\n",
       " 'Probit          ',\n",
       " '  Df Residuals:      ',\n",
       " '    48  \\nMethod:       ',\n",
       " 'MLE             ',\n",
       " '  Df Model:          ',\n",
       " '     1  \\nDate:         ',\n",
       " 'Mon',\n",
       " ' 28 Mar 2016',\n",
       " '  Pseudo R-squ.:     ',\n",
       " '0.03342 \\nTime:         ',\n",
       " '20:10:33        ',\n",
       " '  Log-Likelihood:    ',\n",
       " ' -32.878\\nconverged:    ',\n",
       " 'True            ',\n",
       " '  LL-Null:           ',\n",
       " ' -34.015\\n              ',\n",
       " '                ',\n",
       " '  LLR p-value:       ',\n",
       " '0.1316  \\n  ',\n",
       " '   coef   ',\n",
       " ' std err ',\n",
       " '    z    ',\n",
       " 'P>|z| ',\n",
       " ' [95.0% Conf. Int.]\\nx1',\n",
       " '   -0.0183',\n",
       " '    0.025',\n",
       " '   -0.743',\n",
       " ' 0.457',\n",
       " '   -0.066     0.030\\nx2',\n",
       " '    0.0440',\n",
       " '    0.027',\n",
       " '    1.608',\n",
       " ' 0.108',\n",
       " '   -0.010     0.098']"
      ]
     },
     "execution_count": 13,
     "metadata": {},
     "output_type": "execute_result"
    }
   ],
   "source": [
    "p.summary().as_csv().split(',')"
   ]
  },
  {
   "cell_type": "code",
   "execution_count": 14,
   "metadata": {
    "collapsed": false
   },
   "outputs": [
    {
     "name": "stdout",
     "output_type": "stream",
     "text": [
      "                          Probit Regression Results                           \n",
      "==============================================================================\n",
      "Dep. Variable:                      y   No. Observations:                   50\n",
      "Model:                         Probit   Df Residuals:                       48\n",
      "Method:                           MLE   Df Model:                            1\n",
      "Date:                Mon, 28 Mar 2016   Pseudo R-squ.:                 0.03342\n",
      "Time:                        20:10:34   Log-Likelihood:                -32.878\n",
      "converged:                       True   LL-Null:                       -34.015\n",
      "                                        LLR p-value:                    0.1316\n",
      "==============================================================================\n"
     ]
    }
   ],
   "source": [
    "print p.summary().tables[0]"
   ]
  },
  {
   "cell_type": "code",
   "execution_count": 18,
   "metadata": {
    "collapsed": false
   },
   "outputs": [
    {
     "data": {
      "text/plain": [
       "['__class__',\n",
       " '__delattr__',\n",
       " '__dict__',\n",
       " '__doc__',\n",
       " '__format__',\n",
       " '__getattribute__',\n",
       " '__getstate__',\n",
       " '__hash__',\n",
       " '__init__',\n",
       " '__module__',\n",
       " '__new__',\n",
       " '__reduce__',\n",
       " '__reduce_ex__',\n",
       " '__repr__',\n",
       " '__setattr__',\n",
       " '__sizeof__',\n",
       " '__str__',\n",
       " '__subclasshook__',\n",
       " '__weakref__',\n",
       " '_cache',\n",
       " '_data_attr',\n",
       " '_get_endog_name',\n",
       " '_get_robustcov_results',\n",
       " 'aic',\n",
       " 'bic',\n",
       " 'bse',\n",
       " 'conf_int',\n",
       " 'cov_kwds',\n",
       " 'cov_params',\n",
       " 'cov_type',\n",
       " 'df_model',\n",
       " 'df_resid',\n",
       " 'f_test',\n",
       " 'fittedvalues',\n",
       " 'get_margeff',\n",
       " 'initialize',\n",
       " 'k_constant',\n",
       " 'llf',\n",
       " 'llnull',\n",
       " 'llr',\n",
       " 'llr_pvalue',\n",
       " 'load',\n",
       " 'mle_retvals',\n",
       " 'mle_settings',\n",
       " 'model',\n",
       " 'nobs',\n",
       " 'normalized_cov_params',\n",
       " 'params',\n",
       " 'pred_table',\n",
       " 'predict',\n",
       " 'prsquared',\n",
       " 'pvalues',\n",
       " 'remove_data',\n",
       " 'resid_dev',\n",
       " 'resid_generalized',\n",
       " 'resid_pearson',\n",
       " 'resid_response',\n",
       " 'save',\n",
       " 'scale',\n",
       " 'summary',\n",
       " 'summary2',\n",
       " 't_test',\n",
       " 'tvalues',\n",
       " 'use_t',\n",
       " 'wald_test']"
      ]
     },
     "execution_count": 18,
     "metadata": {},
     "output_type": "execute_result"
    }
   ],
   "source": [
    "dir(p)"
   ]
  },
  {
   "cell_type": "code",
   "execution_count": 19,
   "metadata": {
    "collapsed": false
   },
   "outputs": [
    {
     "data": {
      "text/plain": [
       "-32.877934198062555"
      ]
     },
     "execution_count": 19,
     "metadata": {},
     "output_type": "execute_result"
    }
   ],
   "source": [
    "p.llf"
   ]
  },
  {
   "cell_type": "code",
   "execution_count": 21,
   "metadata": {
    "collapsed": false
   },
   "outputs": [
    {
     "data": {
      "text/plain": [
       "True"
      ]
     },
     "execution_count": 21,
     "metadata": {},
     "output_type": "execute_result"
    }
   ],
   "source": [
    "p.mle_retvals['converged']"
   ]
  },
  {
   "cell_type": "code",
   "execution_count": 25,
   "metadata": {
    "collapsed": false
   },
   "outputs": [
    {
     "data": {
      "text/plain": [
       "array([ 0.45727312,  0.10792699])"
      ]
     },
     "execution_count": 25,
     "metadata": {},
     "output_type": "execute_result"
    }
   ],
   "source": [
    "p.pvalues"
   ]
  },
  {
   "cell_type": "code",
   "execution_count": 35,
   "metadata": {
    "collapsed": false
   },
   "outputs": [
    {
     "data": {
      "text/plain": [
       "True"
      ]
     },
     "execution_count": 35,
     "metadata": {},
     "output_type": "execute_result"
    }
   ],
   "source": [
    "not np.isnan(p.pvalues).all()"
   ]
  },
  {
   "cell_type": "code",
   "execution_count": 27,
   "metadata": {
    "collapsed": false
   },
   "outputs": [
    {
     "data": {
      "text/html": [
       "<table class=\"simpletable\">\n",
       "<caption>Probit Regression Results</caption>\n",
       "<tr>\n",
       "  <th>Dep. Variable:</th>         <td>y</td>        <th>  No. Observations:  </th>  <td>    50</td> \n",
       "</tr>\n",
       "<tr>\n",
       "  <th>Model:</th>              <td>Probit</td>      <th>  Df Residuals:      </th>  <td>    48</td> \n",
       "</tr>\n",
       "<tr>\n",
       "  <th>Method:</th>               <td>MLE</td>       <th>  Df Model:          </th>  <td>     1</td> \n",
       "</tr>\n",
       "<tr>\n",
       "  <th>Date:</th>          <td>Mon, 28 Mar 2016</td> <th>  Pseudo R-squ.:     </th>  <td>0.03342</td>\n",
       "</tr>\n",
       "<tr>\n",
       "  <th>Time:</th>              <td>20:16:05</td>     <th>  Log-Likelihood:    </th> <td> -32.878</td>\n",
       "</tr>\n",
       "<tr>\n",
       "  <th>converged:</th>           <td>True</td>       <th>  LL-Null:           </th> <td> -34.015</td>\n",
       "</tr>\n",
       "<tr>\n",
       "  <th> </th>                      <td> </td>        <th>  LLR p-value:       </th>  <td>0.1316</td> \n",
       "</tr>\n",
       "</table>\n",
       "<table class=\"simpletable\">\n",
       "<tr>\n",
       "   <td></td>     <th>coef</th>     <th>std err</th>      <th>z</th>      <th>P>|z|</th> <th>[95.0% Conf. Int.]</th> \n",
       "</tr>\n",
       "<tr>\n",
       "  <th>x1</th> <td>   -0.0183</td> <td>    0.025</td> <td>   -0.743</td> <td> 0.457</td> <td>   -0.066     0.030</td>\n",
       "</tr>\n",
       "<tr>\n",
       "  <th>x2</th> <td>    0.0440</td> <td>    0.027</td> <td>    1.608</td> <td> 0.108</td> <td>   -0.010     0.098</td>\n",
       "</tr>\n",
       "</table>"
      ],
      "text/plain": [
       "<class 'statsmodels.iolib.summary.Summary'>\n",
       "\"\"\"\n",
       "                          Probit Regression Results                           \n",
       "==============================================================================\n",
       "Dep. Variable:                      y   No. Observations:                   50\n",
       "Model:                         Probit   Df Residuals:                       48\n",
       "Method:                           MLE   Df Model:                            1\n",
       "Date:                Mon, 28 Mar 2016   Pseudo R-squ.:                 0.03342\n",
       "Time:                        20:16:05   Log-Likelihood:                -32.878\n",
       "converged:                       True   LL-Null:                       -34.015\n",
       "                                        LLR p-value:                    0.1316\n",
       "==============================================================================\n",
       "                 coef    std err          z      P>|z|      [95.0% Conf. Int.]\n",
       "------------------------------------------------------------------------------\n",
       "x1            -0.0183      0.025     -0.743      0.457        -0.066     0.030\n",
       "x2             0.0440      0.027      1.608      0.108        -0.010     0.098\n",
       "==============================================================================\n",
       "\"\"\""
      ]
     },
     "execution_count": 27,
     "metadata": {},
     "output_type": "execute_result"
    }
   ],
   "source": [
    "p.summary()"
   ]
  }
 ],
 "metadata": {
  "kernelspec": {
   "display_name": "Python 2",
   "language": "python",
   "name": "python2"
  },
  "language_info": {
   "codemirror_mode": {
    "name": "ipython",
    "version": 2
   },
   "file_extension": ".py",
   "mimetype": "text/x-python",
   "name": "python",
   "nbconvert_exporter": "python",
   "pygments_lexer": "ipython2",
   "version": "2.7.11"
  }
 },
 "nbformat": 4,
 "nbformat_minor": 0
}
