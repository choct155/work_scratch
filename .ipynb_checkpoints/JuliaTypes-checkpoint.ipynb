{
 "cells": [
  {
   "cell_type": "markdown",
   "metadata": {},
   "source": [
    "![QE](https://avatars3.githubusercontent.com/u/8703060?v=3&s=400)"
   ]
  },
  {
   "cell_type": "markdown",
   "metadata": {},
   "source": [
    "# Julia Types"
   ]
  },
  {
   "cell_type": "markdown",
   "metadata": {},
   "source": [
    "New classes are initiated with the `Type` statement."
   ]
  },
  {
   "cell_type": "code",
   "execution_count": 6,
   "metadata": {
    "collapsed": false
   },
   "outputs": [
    {
     "data": {
      "text/plain": [
       "Foo (constructor with 1 method)"
      ]
     },
     "execution_count": 6,
     "metadata": {},
     "output_type": "execute_result"
    }
   ],
   "source": [
    "#Generate new class\n",
    "type Foo end\n",
    "\n",
    "#Instantiate foo object\n",
    "foo=Foo()\n",
    "\n",
    "#Query type of object\n",
    "typeof(foo)"
   ]
  },
  {
   "cell_type": "markdown",
   "metadata": {},
   "source": [
    "New methods are pretty easily constructed for our `Foo()` object."
   ]
  },
  {
   "cell_type": "code",
   "execution_count": 7,
   "metadata": {
    "collapsed": false
   },
   "outputs": [
    {
     "data": {
      "text/plain": [
       "\"The foofunc method is on\""
      ]
     },
     "execution_count": 7,
     "metadata": {},
     "output_type": "execute_result"
    }
   ],
   "source": [
    "#Generate new function\n",
    "foofunc(x::Foo)=\"The foofunc method is on\"\n",
    "\n",
    "foofunc(foo)"
   ]
  },
  {
   "cell_type": "markdown",
   "metadata": {},
   "source": [
    "I am more interested in composite objects which can hold more complex information.  The QE example of this capability uses the AR1 model:\n",
    "\n",
    "$X_{t+1} = aX_t + b + \\sigma W_{t+1}$  where $\\{ W_t \\}$ is an iid sequence of shocks with some distribution $\\phi$.\n",
    "\n",
    "Our object must hold the full parameter set, consisting of the scalar unknowns (a, b, $\\sigma$) and the distributional parameter $\\phi$."
   ]
  },
  {
   "cell_type": "code",
   "execution_count": 8,
   "metadata": {
    "collapsed": false
   },
   "outputs": [],
   "source": [
    "type AR1\n",
    "    a::Float64\n",
    "    b::Float64\n",
    "    σ::Float64\n",
    "    ϕ\n",
    "end"
   ]
  },
  {
   "cell_type": "markdown",
   "metadata": {},
   "source": [
    "The distributional parameter can be conveniently filled utilizing the [**`Distributions`**](https://github.com/JuliaStats/Distributions.jl) package."
   ]
  },
  {
   "cell_type": "code",
   "execution_count": 9,
   "metadata": {
    "collapsed": true
   },
   "outputs": [],
   "source": [
    "using Distributions"
   ]
  },
  {
   "cell_type": "markdown",
   "metadata": {},
   "source": [
    "Let's populate the as of yet useless object..."
   ]
  },
  {
   "cell_type": "code",
   "execution_count": 10,
   "metadata": {
    "collapsed": false
   },
   "outputs": [
    {
     "name": "stdout",
     "output_type": "stream",
     "text": [
      "***CLASS PARAMETERS***\n",
      "[:a,:b,:σ,:ϕ]\n",
      "a\n",
      "b\n",
      "σ\n",
      "ϕ\n",
      "Beta(α=5.0, β=5.0)\n"
     ]
    },
    {
     "data": {
      "text/plain": [
       "AR1(0.9,1.0,1.0,Beta(α=5.0, β=5.0))"
      ]
     },
     "execution_count": 10,
     "metadata": {},
     "output_type": "execute_result"
    }
   ],
   "source": [
    "m=AR1(0.9,1,1,Beta(5,5))\n",
    "\n",
    "#List parameters\n",
    "println(\"***CLASS PARAMETERS***\")\n",
    "println(names(m))\n",
    "\n",
    "#Access parameters a different way\n",
    "for prm in names(m)\n",
    "    println(prm)\n",
    "end\n",
    "\n",
    "#Access single parameter value\n",
    "println(m.ϕ)\n",
    "\n",
    "m"
   ]
  },
  {
   "cell_type": "markdown",
   "metadata": {},
   "source": [
    "Parameter values can be changed at will."
   ]
  },
  {
   "cell_type": "code",
   "execution_count": 11,
   "metadata": {
    "collapsed": false
   },
   "outputs": [
    {
     "data": {
      "text/plain": [
       "Exponential(β=0.5)"
      ]
     },
     "execution_count": 11,
     "metadata": {},
     "output_type": "execute_result"
    }
   ],
   "source": [
    "m.ϕ=Exponential(.5)\n",
    "\n",
    "m.ϕ"
   ]
  },
  {
   "cell_type": "markdown",
   "metadata": {},
   "source": [
    "Let's see if we can actually use the parameters in our AR1 object."
   ]
  },
  {
   "cell_type": "code",
   "execution_count": 29,
   "metadata": {
    "collapsed": false
   },
   "outputs": [
    {
     "data": {
      "text/plain": [
       "21-element Array{Float64,1}:\n",
       "  2.3    \n",
       "  3.2006 \n",
       "  3.98948\n",
       "  4.60922\n",
       "  5.43551\n",
       "  6.59104\n",
       "  6.93614\n",
       "  7.4955 \n",
       "  8.58115\n",
       "  9.2788 \n",
       "  9.84814\n",
       " 10.2461 \n",
       " 11.3668 \n",
       " 11.43   \n",
       " 11.7055 \n",
       " 11.8756 \n",
       " 11.8236 \n",
       " 11.6698 \n",
       " 12.1268 \n",
       " 12.238  \n",
       " 12.764  "
      ]
     },
     "execution_count": 29,
     "metadata": {},
     "output_type": "execute_result"
    }
   ],
   "source": [
    "#Define function to generate an AR1 process\n",
    "function simulate(m::AR1, n::Integer, x0::Real)\n",
    "    #Set initial value\n",
    "    value=x0\n",
    "    #Create an empty array\n",
    "    vals=Float64[]\n",
    "    #Add the initial data point to the array\n",
    "    push!(vals,value)\n",
    "    #For each position in the array...\n",
    "    for i in 1:n\n",
    "        #...calculate the the next data point...\n",
    "        tmp_val=m.a*value + m.b + m.σ*rand(m.ϕ)\n",
    "        #...throw it in the list...\n",
    "        push!(vals,tmp_val)\n",
    "        #...and update x0\n",
    "        value=tmp_val\n",
    "    end\n",
    "    return vals\n",
    "end\n",
    "        \n",
    "#Generate AR1 process\n",
    "ar1_data=simulate(m,20,2.3)\n",
    "\n",
    "ar1_data"
   ]
  },
  {
   "cell_type": "markdown",
   "metadata": {},
   "source": [
    "Finally, user-defined functions are faster if the data types are specified."
   ]
  },
  {
   "cell_type": "code",
   "execution_count": 30,
   "metadata": {
    "collapsed": false
   },
   "outputs": [
    {
     "name": "stdout",
     "output_type": "stream",
     "text": [
      "elapsed time: 0.025746825 seconds (644800 bytes allocated)\n"
     ]
    },
    {
     "data": {
      "text/plain": [
       "2550.0"
      ]
     },
     "execution_count": 30,
     "metadata": {},
     "output_type": "execute_result"
    }
   ],
   "source": [
    "function sum_float_array(x::Array{Float64, 1})\n",
    "    sum = 0.0\n",
    "    for i in 1:length(x)\n",
    "        sum += x[i]\n",
    "    end\n",
    "    return sum\n",
    "end\n",
    "\n",
    "@time sum_float_array(linspace(1,50))"
   ]
  }
 ],
 "metadata": {
  "kernelspec": {
   "display_name": "Julia 0.3.7",
   "language": "julia",
   "name": "julia-0.3"
  },
  "language_info": {
   "name": "julia",
   "version": "0.3.7"
  }
 },
 "nbformat": 4,
 "nbformat_minor": 0
}
