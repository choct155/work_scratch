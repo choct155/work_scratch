{
 "cells": [
  {
   "cell_type": "markdown",
   "metadata": {},
   "source": [
    "# Infrastructure for Simulation Based Inference"
   ]
  },
  {
   "cell_type": "markdown",
   "metadata": {},
   "source": [
    "One of my primary research goals is to explore the implications of the spatial and population-based distribution of resources for economic growth.  While growth is unequivocally not an end in and of itself, it is an important means to an end.  By making more resources available to a population, we can materially increase their option set, which *we assume monotonically increases their welfare*.  If a person currently enjoys a choice of consumption among all goods $i \\in X$ and $X \\in Y$, the utility from choosing among $i \\in Y$ must exceed the utility from choosing $i \\in X$.  There are behavioral studies that suggest this may not be strictly true, but my prior is that methods of conveyence of information may be able to mitigate some of this.\n",
    "\n",
    "In any event, I need a solid construct upon which to base these simulations.  I am fairly new to the simulation game, but I am not new to either programming or inference.  Consequently, the plan will be to build what I can independently, and then explore the literature to see how folks have dealt with the challenges that will inevitably arise.  This Notebook is intended to capture the basic objects I will use for the incredibly simplistic simulations I will generate.  The hope is that, initially unburdened by the weight of prior literature, I will be free to view this problem from a fresh perspective.  Should I end up in the same place, that just reinforces what has come before.  If I don't, however, the differences wll be instructive.  With any luck, they will also be important.\n",
    "\n",
    "The platform that I will use for development is [Julia](http://julialang.org/).  Since I am such a [Python](http://julialang.org/) advocate, this may seem strange.  The syntax of Julia, however, is appears to me to be a blend of aspects of Python, [R](https://cran.r-project.org/), and even [Fortran](http://www.fortran90.org/).  In other words, it's not entirely foreign territory.  Julia is a new language, so it is not as developed in terms of pre-existing packages and methods as R or Python.  In this context, this is not all that critical since I will endeavor to build these simulation objects from scratch anyway.  This affords customization opportunities that may important efficiency enhancers at runtime, but mostly I am just a nerd that feels like it will help me understand things better (if slower).  Finally, and most importantly, Julia is fast.  I mean, way faster than R or Python.  To the extent that simulation is computationally intensive, this seems to be an important characteristic.\n",
    "\n",
    "It should also be noted that my comprehension model is heavily spatial and visual in nature.  If I can see how data points and/or simulation agents relate to one another, it makes it easier to wrap my head around what is happening.  Consequently, I will also use this space to generate visualizations of the phenomena I intend to capture in my models.  One of the beautiful things about the Jupyter Notebook is that it's just a web page.  This opens up the full range of javascript capability.  I intend to leverage [d3](http://d3js.org/) in particular to help my cause."
   ]
  },
  {
   "cell_type": "code",
   "execution_count": 1,
   "metadata": {
    "collapsed": true
   },
   "outputs": [],
   "source": [
    "using StatsBase\n",
    "using Gadfly\n",
    "using Distributions"
   ]
  },
  {
   "cell_type": "code",
   "execution_count": null,
   "metadata": {
    "collapsed": true
   },
   "outputs": [],
   "source": []
  }
 ],
 "metadata": {
  "kernelspec": {
   "display_name": "Julia 0.3.7",
   "language": "julia",
   "name": "julia-0.3"
  },
  "language_info": {
   "name": "julia",
   "version": "0.3.7"
  }
 },
 "nbformat": 4,
 "nbformat_minor": 0
}
