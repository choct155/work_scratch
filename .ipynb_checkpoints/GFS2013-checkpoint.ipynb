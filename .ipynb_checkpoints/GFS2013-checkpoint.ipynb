{
 "cells": [
  {
   "cell_type": "markdown",
   "metadata": {},
   "source": [
    "# Distribution of Federal Dollars by State"
   ]
  },
  {
   "cell_type": "markdown",
   "metadata": {},
   "source": [
    "A question has arisen regarding the relationship between the state and local tax deduction and the distribution of federal expenditure by state.  This notebook seeks to probe this question a bit by way of the [Government Finance Statistics](http://www.census.gov/govs/local/) provided by the Census."
   ]
  },
  {
   "cell_type": "code",
   "execution_count": 1,
   "metadata": {
    "collapsed": true
   },
   "outputs": [],
   "source": [
    "import numpy as np\n",
    "import pandas as pd\n",
    "from pandas import Series, DataFrame\n",
    "import seaborn as sb"
   ]
  },
  {
   "cell_type": "markdown",
   "metadata": {},
   "source": [
    "## Data Input"
   ]
  },
  {
   "cell_type": "markdown",
   "metadata": {},
   "source": [
    "The first thing we need to do is capture both the GFS data, and population data needed to generate a view of per capita dollars.  The former is taken from a conveniently [aggregated state table](http://factfinder.census.gov/faces/tableservices/jsf/pages/productview.xhtml?src=bkmk) housed on American FactFinder.  The latter are 3-year ACS estimates we have also grabbed from American FactFinder.  Both data sets come from 2013."
   ]
  },
  {
   "cell_type": "code",
   "execution_count": 9,
   "metadata": {
    "collapsed": false
   },
   "outputs": [
    {
     "name": "stdout",
     "output_type": "stream",
     "text": [
      "        GEO.id  GEO.id2 GEO.display-label  HD01_VD01  HD02_VD01\n",
      "0  0400000US01        1           Alabama    4817624        NaN\n",
      "1  0400000US02        2            Alaska     729603        NaN\n",
      "2  0400000US04        4           Arizona    6548856        NaN\n",
      "3  0400000US05        5          Arkansas    2949238        NaN\n",
      "4  0400000US06        6        California   38000360        NaN\n",
      "        GEO.id  GEO.id2 GEO.display-label    Amt1_REV  CV1_REV      A2_REV  \\\n",
      "0    0100000US      NaN     United States  3419868195     0.07  2193443291   \n",
      "1  0400000US01        1           Alabama    44644352     0.53    29092950   \n",
      "2  0400000US02        2            Alaska    17371758     0.16    14020580   \n",
      "3  0400000US04        4           Arizona    57247325     0.33    36947686   \n",
      "4  0400000US05        5          Arkansas    26683523     0.36    21541707   \n",
      "\n",
      "     Amt2_REV  CV2_REV  Amt1_GENREV  CV1_GENREV   ...     Amt1_BONDFUN  \\\n",
      "0  1709268981     0.16   2690426735        0.08   ...        183698004   \n",
      "1    21180567     1.15     34986527        0.54   ...          2171168   \n",
      "2     5267139     1.21     15229098        0.18   ...           501155   \n",
      "3    28079502     0.72     44336527        0.37   ...          4709724   \n",
      "4     9820237     1.00     21407512        0.42   ...          1356792   \n",
      "\n",
      "   CV1_BONDFUN  A2_BONDFUN  Amt2_BONDFUN  CV2_BONDFUN    Amt1_OTH  CV1_OTH  \\\n",
      "0         0.58    38548777     145149227         0.74  1360041729     0.26   \n",
      "1         2.42      633989       1537179         3.42    18283964     1.37   \n",
      "2         1.79       63454        437701         2.05    69925973     0.06   \n",
      "3         0.75      734796       3974928         0.89    21855385     1.50   \n",
      "4         4.07      323162       1033630         5.34     8440555     2.38   \n",
      "\n",
      "      A2_OTH   Amt2_OTH  CV2_OTH  \n",
      "0  695517390  664524339     0.54  \n",
      "1   10584151    7699813     3.26  \n",
      "2   66484059    3441914     1.30  \n",
      "3    9229436   12625949     2.60  \n",
      "4    5027342    3413213     5.88  \n",
      "\n",
      "[5 rows x 698 columns]\n"
     ]
    }
   ],
   "source": [
    "#Establish working directory\n",
    "workdir='O:/Analyst/Marvin/BudgetOptions/GFS2013/'\n",
    "\n",
    "#Read in mapping of variable names for both sets\n",
    "var_map_gfs_df=pd.read_csv(workdir+'SLF_2013_SLF003_metadata.csv',names=['var','desc'])\n",
    "var_map_gfs=dict(zip(var_map_gfs_df['var'],var_map_gfs_df['desc']))\n",
    "var_map_pop_df=pd.read_csv(workdir+'ACS_13_3YR_B01003_metadata.csv',names=['var','desc'])\n",
    "var_map_pop=dict(zip(var_map_pop_df['var'],var_map_pop_df['desc']))\n",
    "\n",
    "#Read in data\n",
    "gfs=pd.read_csv(workdir+'SLF_2013_SLF003.csv')\n",
    "pop=pd.read_csv(workdir+'ACS_13_3YR_B01003.csv')\n",
    "\n",
    "print pop.head()\n",
    "print gfs.head()"
   ]
  },
  {
   "cell_type": "markdown",
   "metadata": {},
   "source": [
    "As we can see, the ID info matches well, so we have a good merge key.  We clearly do not need all of these variables, so let's cut down to a few key concepts:\n",
    "\n",
    "+ State and Local Own Source Revenue\n",
    "+ Federal Transfers to the State\n",
    "+ Federal Taxes Paid"
   ]
  }
 ],
 "metadata": {
  "kernelspec": {
   "display_name": "Python 2",
   "language": "python",
   "name": "python2"
  },
  "language_info": {
   "codemirror_mode": {
    "name": "ipython",
    "version": 2
   },
   "file_extension": ".py",
   "mimetype": "text/x-python",
   "name": "python",
   "nbconvert_exporter": "python",
   "pygments_lexer": "ipython2",
   "version": "2.7.6"
  }
 },
 "nbformat": 4,
 "nbformat_minor": 0
}
