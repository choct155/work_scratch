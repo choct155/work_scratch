{
 "cells": [
  {
   "cell_type": "markdown",
   "metadata": {},
   "source": [
    "![QE](https://avatars3.githubusercontent.com/u/8703060?v=3&s=400)"
   ]
  },
  {
   "cell_type": "markdown",
   "metadata": {},
   "source": [
    "# Linear Algebra in Julia "
   ]
  },
  {
   "cell_type": "markdown",
   "metadata": {},
   "source": [
    "This is just an intro to the linear algebra tools that will be used later in the QE tutorials.  There is overlap with some of the preceding intro to Julia walkthroughs.  Some this material will be skipped.\n",
    "\n",
    "To start, the inner (or dot) product is defined as follows:\n",
    "\n",
    "$x'y := \\sum_{i=1}^n x_i y_i$"
   ]
  },
  {
   "cell_type": "code",
   "execution_count": 1,
   "metadata": {
    "collapsed": true
   },
   "outputs": [],
   "source": [
    "using Distributions"
   ]
  },
  {
   "cell_type": "code",
   "execution_count": 11,
   "metadata": {
    "collapsed": false
   },
   "outputs": [
    {
     "name": "stdout",
     "output_type": "stream",
     "text": [
      "x: [3,4,2,10,9,4,9,10,8,6]\n",
      "y: [10,9,3,9,4,6,10,8,2,2]\n",
      "x ̇⋅ y: 420\n"
     ]
    }
   ],
   "source": [
    "#Define two arrays\n",
    "x=rand(1:10,10)\n",
    "y=rand(1:10,10)\n",
    "\n",
    "println(string(\"x: \",x))\n",
    "println(string(\"y: \",y))\n",
    "println(string(\"x ̇⋅ y: \",dot(x,y)))"
   ]
  },
  {
   "cell_type": "markdown",
   "metadata": {},
   "source": [
    "The *norm* of the vector is just the distance from the origin.  It can be found easily with the aid of the Pythagorean Theorem.\n",
    "\n",
    "$||x|| := \\sqrt{x'x} := (\\sum_{i=1}^n x_i^2)^{\\frac{1}{2}}$\n",
    "\n",
    "The distance between to point $x$ and $y$ is just $||x-y||$"
   ]
  },
  {
   "cell_type": "code",
   "execution_count": 13,
   "metadata": {
    "collapsed": false
   },
   "outputs": [
    {
     "name": "stdout",
     "output_type": "stream",
     "text": [
      "22.516660498395407\n",
      "22.516660498395403\n"
     ]
    }
   ],
   "source": [
    "#Use intrinsic norm function\n",
    "println(norm(x))\n",
    "\n",
    "#Check with manual calculation\n",
    "println(sqrt(sum(x.^2)))"
   ]
  },
  {
   "cell_type": "markdown",
   "metadata": {},
   "source": [
    "Given a set of vectors $A$, the span of $A$ is the set of all linear combinations of the vectors in $A$.  One may think of it as the infinite hyperplane in the given dimensions.  For example, observe the span of $A = \\{a_1,a_2\\}$ in $\\mathbb{R}^3$..."
   ]
  },
  {
   "cell_type": "markdown",
   "metadata": {},
   "source": [
    "![2Dspan](http://quant-econ.net/_images/3dvec.png)"
   ]
  },
  {
   "cell_type": "markdown",
   "metadata": {},
   "source": [
    "If we instead defined $A$ as $A = \\{e_1,e_2,e_3\\}$ where the three vectors are the *canonical basis vectors* of $\\mathbb{R}^3$, the span would be all of three dimensional space.  However, if $A = \\{e_1,e_2,e_1+e_2\\}$, the third dimension is unused.  Therefore, the span is again just a plane.  To see why this is true analytically, consider the following vectors:\n",
    "\n",
    "$e_1 = \\begin{bmatrix}1\\\\0\\\\0\\end{bmatrix},$\n",
    "$e_2 = \\begin{bmatrix}0\\\\1\\\\0\\end{bmatrix},$\n",
    "$e_1 + e_2 = \\begin{bmatrix}1\\\\1\\\\0\\end{bmatrix}$\n",
    "\n",
    "With these inputs, we have the following matrix...\n",
    "\n",
    "$A = \\begin{bmatrix}\n",
    "     1 & 0 & 1\\\\\n",
    "     0 & 1 & 1\\\\\n",
    "     0 & 0 & 0\\\\\n",
    "     \\end{bmatrix}$  \n",
    "  \n",
    "...and we must solve for $y = (y_1, y_2, y_3)$.  The span is all of the vectors of the following form: $[x_1+x_3, x_2+x_3,0]$"
   ]
  },
  {
   "cell_type": "markdown",
   "metadata": {},
   "source": [
    "$$\n",
    "  \\left[\\begin{array}{rrr|r}\n",
    "    1 & 2 & 4 & 8 \\\\\n",
    "    16 & 32 & 64 & 128 \\\\\n",
    "    256 & 512 & 1024 & 2048\n",
    "  \\end{array}\\right]\n",
    "$$\n"
   ]
  },
  {
   "cell_type": "code",
   "execution_count": null,
   "metadata": {
    "collapsed": true
   },
   "outputs": [],
   "source": []
  }
 ],
 "metadata": {
  "kernelspec": {
   "display_name": "Julia 0.3.7",
   "language": "julia",
   "name": "julia-0.3"
  },
  "language_info": {
   "name": "julia",
   "version": "0.3.7"
  }
 },
 "nbformat": 4,
 "nbformat_minor": 0
}
